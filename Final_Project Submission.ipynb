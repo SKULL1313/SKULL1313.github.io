{
  "nbformat": 4,
  "nbformat_minor": 0,
  "metadata": {
    "colab": {
      "provenance": []
    },
    "kernelspec": {
      "name": "python3",
      "display_name": "Python 3"
    },
    "language_info": {
      "name": "python"
    }
  },
  "cells": [
    {
      "cell_type": "markdown",
      "source": [
        "#**Basketball's Hidden Playbook: Deciphering the Game with Data**\n",
        "\n",
        "## **Spring 2024 Data Science Project**\n"
      ],
      "metadata": {
        "id": "Eqa5y0oAudpw"
      }
    },
    {
      "cell_type": "markdown",
      "source": [
        "Collaborators: Adiah Amadou, Ryan Kemajou"
      ],
      "metadata": {
        "id": "8e5Tbg2mvseJ"
      }
    },
    {
      "cell_type": "markdown",
      "source": [
        "## **Group Members and Contributions**"
      ],
      "metadata": {
        "id": "RQuXMUwCrUTI"
      }
    },
    {
      "cell_type": "markdown",
      "source": [
        "### **Contribution Checkpoints**\n",
        "\n",
        "A: Project idea - 5%<br>\n",
        "B: Dataset Curation and Preprocessing - 10%<br>\n",
        "C: Data Exploration and Summary Statistics - 10%<br>\n",
        "D: ML Algorithm Design/Development - 25%<br>\n",
        "E: ML Algorithm Training and Test Data Analysis - 20%<br>\n",
        "F: Visualization, Result Analysis, Conclusion - 15%<br>\n",
        "G: Final Tutorial Report Creation - 10%<br>\n",
        "H: Additional (not listed above, if any) - 5%\n",
        "\n",
        "Member 1: Adiah Amadou, Contribution: 100%.\n",
        "\n",
        "Member 2: Ryan Kemajou, Contribution: 100%.\n",
        "\n"
      ],
      "metadata": {
        "id": "Q6CuXZVxv-oQ"
      }
    },
    {
      "cell_type": "markdown",
      "source": [
        "\n",
        "### **Detailed contribution**\n",
        "\n",
        "Adiah Amadou: Throughout the project, my contributions spanned various crucial aspects. Firstly, I collaborated on crafting the introduction, ensuring clarity and relevance to set the stage for our work. Subsequently, I delved into data cleaning and exploratory analysis, employing techniques such as linear regression and mean mode median calculations to derive insights. My involvement extended to the meticulous formatting, layout, and typing of the final project, ensuring its presentation was professional and cohesive. Additionally, I played a pivotal role in refining the machine learning model, troubleshooting bugs, and incorporating features to enhance accuracy. Prior to implementation, I participated in researching the project idea and curated valuable sources to underpin our work. Furthermore, my contributions extended beyond technical tasks; I facilitated insightful conclusions and insights at each juncture, leveraging my understanding of the project's nuances. Moreover, I actively engaged in fostering a conducive workflow by posing pertinent questions aimed at optimizing outcomes. Overall, my multifaceted involvement contributed significantly to the project's success, amalgamating technical proficiency with strategic thinking.\n",
        "\n",
        "\n",
        "Ryan Kemajou: In the recent data science project, I assisted in every stage of the project lifecycle. I contributed to the identification of the project theme, ensuring it was relevant and impactful. I conducted extensive research to locate valuable datasets that would serve as the backbone of our analysis. I meticulously cleaned a portion of the data before integrating it into our shared OneDrive. Once the datasets were distributed among the team, I further cleaned my assigned portion, preparing it for analysis. I proposed insightful questions for analysis post data cleaning and suggested effective ways to visualize our findings. I joined in brainstorming sessions to determine the most suitable statistical tests for our project. I assisted in exploring the data, uncovering patterns and insights that could guide our project. I actively participated in discussions on selecting the most appropriate model for our project and provided supplementary materials such as articles and youtube videos to enhance the team's understanding of the task more specifically the use of random forest classification. Lastly, I helped ensure our final tutorial was well-documented with clear and concise comments, enhancing its readability and understandability."
      ],
      "metadata": {
        "id": "xXGmTH2S-ChM"
      }
    },
    {
      "cell_type": "markdown",
      "source": [
        "## **I- Introduction**\n",
        "\n",
        "  In the competitive world of professional basketball, the ability to predict future outcomes isn't\n",
        "    just about entertainment; it's about gaining a strategic advantage. Imagine coaches being able\n",
        "    to forecast which NBA team(s) will dominate the next season. With such insights, coaches can\n",
        "    fine-tune their training regimes, refine game strategies, and make informed decisions about\n",
        "    player acquisitions. Players themselves can set more targeted performance goals, aiming for the\n",
        "    stats that truly matter. Fans and bettors, too, can benefit greatly from such predictions,\n",
        "    knowing which teams to support and why.\n",
        "\n",
        "  Harnessing the power of advanced analytics and historical data, we aim to develop predictive\n",
        "    models that not only forecast the outcomes of the NBA season but also empower coaches,\n",
        "    players, fans, and bettors alike. Through comprehensive analysis of diverse datasets\n",
        "    encompassing team and player statistics, awards, opponent performance, and injury reports, we\n",
        "    seek to uncover hidden patterns and insights that illuminate the path to success in the NBA."
      ],
      "metadata": {
        "id": "ktzTQ4s8xORZ"
      }
    },
    {
      "cell_type": "markdown",
      "source": [
        "## **II- Data Collection**\n",
        "\n",
        "  For this project, datasets chosen englobe NBA data from 1947 to present. These datasets were\n",
        "    obtained from Kaggle, and Basketball-Reference.com, reliable websites for [basketball](https://www.britannica.com/sports/basketball)data\n",
        "    \n",
        "\n",
        "*   [2023 NBA Playoffs Summary | Basketball-Reference.com](https://www.basketball-reference.com/playoffs/NBA_2023.html)\n",
        "*   [NBA Database (kaggle.com)](https://www.kaggle.com/datasets/wyattowalsh/basketball)\n",
        "\n",
        "\n",
        "*   [NBA games data (kaggle.com)](https://www.kaggle.com/datasets/nathanlauga/nba-games)\n",
        "*   [Data.org NBA Playoffs Datasets](https://data.world/etocco/nba-player-stats/workspace/file?filename=NBA_Player_Stats_2.csv)\n",
        "\n",
        "\n",
        "*   [NBA Stats (1947-present) (kaggle.com)](https://www.kaggle.com/datasets/sumitrodatta/nba-aba-baa-stats)\n",
        "*   [NBA Injuries from 2010-2020 (kaggle.com)](https://www.kaggle.com/datasets/ghopkins/nba-injuries-2010-2018)\n",
        "\n",
        "\n",
        "\n",
        "  Our datasets contains more than 30,000 rows and over 30 columns with statistics\n",
        "    encompassing the following;\n",
        "\n",
        "   \n",
        "\n",
        "1.   Team Season Stats: Detailed statistics capturing team performance metrics such as points scored, rebounds, assists, field goal percentages, and defensive statistics.\n",
        "2.   Player Season Stats: Individual player statistics including points per game, rebounds, assists,\n",
        "      steals, blocks, shooting percentages, and other relevant metrics.\n",
        "\n",
        "3.   Awards (Players) Stats: Historical data on awards won by players, such as MVP awards, Defensive Player of the Year, Rookie of the Year, and other accolades.\n",
        "4.   Opponent Team Stats: Statistics related to opponents faced by each team, including their performance metrics, strength of schedule, and head-to-head matchups.\n",
        "\n",
        "5.   Player Injuries: Information on player injuries and their impact on team performance throughout the season.\n",
        "\n",
        "\n",
        "\n",
        "  By assembling these datasets from trusted sources, we ensure the reliability and accuracy of the data used in our predictive models. This comprehensive approach allows us to analyze a wide range of factors that contribute to NBA team performance, enabling us to develop robust and insightful predictions for the upcoming season."
      ],
      "metadata": {
        "id": "K_QKJ3EZ1d4U"
      }
    },
    {
      "cell_type": "markdown",
      "source": [
        "We decided to keep all of the files (mainly CSVs) relevant to this project in a drive so we mounted here."
      ],
      "metadata": {
        "id": "EPmqNiIZ2qrC"
      }
    },
    {
      "cell_type": "code",
      "source": [
        "from google.colab import drive\n",
        "drive.mount('/content/drive')"
      ],
      "metadata": {
        "id": "Ux2_WD4uHNae",
        "colab": {
          "base_uri": "https://localhost:8080/"
        },
        "outputId": "d6fb6c3f-e04f-4eae-f59b-e47ba5bb5d1b"
      },
      "execution_count": null,
      "outputs": [
        {
          "output_type": "stream",
          "name": "stdout",
          "text": [
            "Drive already mounted at /content/drive; to attempt to forcibly remount, call drive.mount(\"/content/drive\", force_remount=True).\n"
          ]
        }
      ]
    },
    {
      "cell_type": "markdown",
      "source": [
        "It's essential to bring in certain libraries so below are the libraries that will accompany us on our journey through this project."
      ],
      "metadata": {
        "id": "XhHtiod6LLOM"
      }
    },
    {
      "cell_type": "code",
      "source": [
        "import pandas as pd\n",
        "import numpy as np\n",
        "import matplotlib.pyplot as plt\n",
        "import seaborn as sns\n",
        "import matplotlib.pyplot as plt\n",
        "from sklearn.impute import SimpleImputer\n",
        "import scipy.stats as stats\n",
        "import statsmodels.api as sm\n",
        "import math\n",
        "\n",
        "from sklearn.ensemble import RandomForestClassifier\n",
        "from sklearn.model_selection import train_test_split\n",
        "from sklearn.metrics import accuracy_score, confusion_matrix\n",
        "from sklearn.preprocessing import LabelEncoder\n"
      ],
      "metadata": {
        "id": "sa_X5HQxNhnY"
      },
      "execution_count": null,
      "outputs": []
    },
    {
      "cell_type": "markdown",
      "source": [
        "<h2 style=\"text-align: center\"><strong>III - Data cleaning & Insights</strong></h2>"
      ],
      "metadata": {
        "id": "YxQcn8t-pAMD"
      }
    },
    {
      "cell_type": "markdown",
      "source": [
        "<img src=\"https://i.pinimg.com/originals/20/b9/8f/20b98fc9873e0f19ad6bcc1d80dac57e.jpg\" alt=\"ready to scrub man\">"
      ],
      "metadata": {
        "id": "VqpT6SEjppzY"
      }
    },
    {
      "cell_type": "markdown",
      "source": [
        "We opted for a step-by-step approach in handling our dataframes. Below, we began by examining the CSV files related to players from each NBA team. Additionally, we consolidated the dataframes into a single one, named \"player_df.\""
      ],
      "metadata": {
        "id": "6b4fYKCGL1mF"
      }
    },
    {
      "cell_type": "code",
      "source": [
        "df_totals = pd.read_csv('/content/drive/MyDrive/FINAL PROJECT CSVs/Player Totals.csv')\n",
        "df_shooting = pd.read_csv('/content/drive/MyDrive/FINAL PROJECT CSVs/Player Shooting.csv')\n",
        "df_play_by_play = pd.read_csv('/content/drive/MyDrive/FINAL PROJECT CSVs/Player Play By Play.csv')\n",
        "df_per_game = pd.read_csv('/content/drive/MyDrive/FINAL PROJECT CSVs/Player Per Game.csv')\n",
        "df_per_100_poss = pd.read_csv('/content/drive/MyDrive/FINAL PROJECT CSVs/Per 100 Poss.csv')\n",
        "df_per_36_minutes = pd.read_csv('/content/drive/MyDrive/FINAL PROJECT CSVs/Per 36 Minutes.csv')\n",
        "\n",
        "\n",
        "m1 = pd.merge(df_totals, df_shooting, on =['SEASON_ID', 'SEASON', 'PLAYER_ID', 'PLAYER', 'POSITION', 'AGE',  'LEAGUE', 'TEAM_ABBREVIATION', 'MINUTES_PLAYED'], how ='left')\n",
        "m2 = pd.merge(m1, df_play_by_play, on =['SEASON_ID', 'SEASON',  'PLAYER', 'POSITION', 'AGE', 'EXPERIENCE', 'LEAGUE','GAMES', 'MINUTES_PLAYED'], how ='left')\n",
        "m3 = pd.merge(m2, df_per_game, on =['SEASON_ID', 'SEASON', 'PLAYER_ID', 'PLAYER', 'POSITION', 'AGE', 'EXPERIENCE', 'LEAGUE', 'TEAM_ABBREVIATION', 'GAMES',  'FREE_THROW_PERCENTAGE',  'FIELD_GOAL_PERCENT'], how ='left')\n",
        "m4 = pd.merge(m3, df_per_100_poss, on =['SEASON_ID', 'SEASON', 'PLAYER_ID', 'PLAYER', 'AGE', 'LEAGUE', 'TEAM_ABBREVIATION', 'GAMES', 'GAMES_STARTED', 'MINUTES_PLAYED', 'THREE_POINTERS_PERCENTAGE', 'TWO_POINTERS_PERCENTAGE', 'FREE_THROW_PERCENTAGE', 'YEARS_OF_EXPERIENCE'], how ='left')\n",
        "player_df = pd.merge(m4, df_per_36_minutes, on =['SEASON_ID','POSITION', 'AGE', 'LEAGUE',  'GAMES', 'GAMES_STARTED', 'MINUTES_PLAYED', 'THREE_POINTERS_PERCENTAGE', 'TWO_POINTERS_PERCENTAGE', 'FREE_THROW_PERCENTAGE', 'YEARS_OF_EXPERIENCE', 'TEAM'], how ='left')\n",
        "\n",
        "player_df.describe()\n"
      ],
      "metadata": {
        "id": "Aqn6FrdwH3EQ",
        "colab": {
          "base_uri": "https://localhost:8080/",
          "height": 350
        },
        "outputId": "19d84726-aba0-4740-d5df-91e3996ee47c"
      },
      "execution_count": null,
      "outputs": [
        {
          "output_type": "execute_result",
          "data": {
            "text/plain": [
              "         SEASON_ID        SEASON     PLAYER_ID   BIRTH_YEAR           AGE  \\\n",
              "count  31787.00000  31787.000000  31787.000000  2870.000000  31765.000000   \n",
              "mean   15894.00000   1994.973008   2646.740114  1944.139721     26.486164   \n",
              "std     9176.26084     20.403059   1301.138515    15.162153      3.844564   \n",
              "min        1.00000   1947.000000      1.000000  1914.000000     18.000000   \n",
              "25%     7947.50000   1979.000000   1625.000000  1938.000000     24.000000   \n",
              "50%    15894.00000   1998.000000   2733.000000  1946.000000     26.000000   \n",
              "75%    23840.50000   2012.000000   3718.000000  1951.000000     29.000000   \n",
              "max    31787.00000   2024.000000   5197.000000  2002.000000     46.000000   \n",
              "\n",
              "         EXPERIENCE         GAMES  GAMES_STARTED  MINUTES_PLAYED  \\\n",
              "count  31787.000000  31787.000000   23150.000000    30704.000000   \n",
              "mean       4.967691     48.607796      22.406177     1158.959386   \n",
              "std        3.723561     26.616961      27.814887      926.420014   \n",
              "min        1.000000      1.000000       0.000000        0.000000   \n",
              "25%        2.000000     25.000000       0.000000      308.000000   \n",
              "50%        4.000000     53.000000       7.000000      986.000000   \n",
              "75%        7.000000     74.000000      42.000000     1882.000000   \n",
              "max       22.000000     90.000000      83.000000     3882.000000   \n",
              "\n",
              "       FIELD_GOALS_MADE  ...  FREETHROW_ATTEMPTED_PER_36_MIN  \\\n",
              "count      31787.000000  ...                    16697.000000   \n",
              "mean         187.590965  ...                        3.182793   \n",
              "std          184.565391  ...                        2.184569   \n",
              "min            0.000000  ...                        0.000000   \n",
              "25%           37.000000  ...                        1.800000   \n",
              "50%          132.000000  ...                        2.900000   \n",
              "75%          286.000000  ...                        4.200000   \n",
              "max         1597.000000  ...                       36.000000   \n",
              "\n",
              "       OFFENSIVE_REBOUND_PER_36_MIN  DEFENSIVE_REBOUND_PER_36_MIN  \\\n",
              "count                  16697.000000                  16697.000000   \n",
              "mean                       1.779745                      4.587794   \n",
              "std                        1.633455                      2.274799   \n",
              "min                        0.000000                      0.000000   \n",
              "25%                        0.700000                      3.100000   \n",
              "50%                        1.300000                      4.200000   \n",
              "75%                        2.600000                      5.800000   \n",
              "max                       36.000000                     72.000000   \n",
              "\n",
              "       TOTAL_REBOUND_PER_36_MIN  ASSIST_PER_36_MIN  STEALS_PER_36_MIN  \\\n",
              "count              16697.000000       16697.000000       16697.000000   \n",
              "mean                   6.367036           2.965131           1.124837   \n",
              "std                    3.304136           2.144295           0.776187   \n",
              "min                    0.000000           0.000000           0.000000   \n",
              "25%                    3.900000           1.500000           0.700000   \n",
              "50%                    5.700000           2.300000           1.000000   \n",
              "75%                    8.400000           4.000000           1.400000   \n",
              "max                   72.000000          36.000000          18.000000   \n",
              "\n",
              "       BLOCKS_PER_36_MIN  TURNOVER_PER_36_MIN  PERSONAL_FOULS_PER_36_MIN  \\\n",
              "count       16697.000000         16697.000000               16697.000000   \n",
              "mean            0.730017             2.064868                   3.598341   \n",
              "std             0.872100             1.305920                   1.894635   \n",
              "min             0.000000             0.000000                   0.000000   \n",
              "25%             0.200000             1.400000                   2.500000   \n",
              "50%             0.500000             1.900000                   3.300000   \n",
              "75%             1.000000             2.500000                   4.300000   \n",
              "max            36.000000            36.000000                  72.000000   \n",
              "\n",
              "       POINTS_PER_36_MIN  \n",
              "count       16697.000000  \n",
              "mean           13.326556  \n",
              "std             5.179310  \n",
              "min             0.000000  \n",
              "25%            10.200000  \n",
              "50%            13.100000  \n",
              "75%            16.200000  \n",
              "max           108.000000  \n",
              "\n",
              "[8 rows x 126 columns]"
            ],
            "text/html": [
              "\n",
              "  <div id=\"df-363590ae-0dd3-45c2-a9c2-2027975e81eb\" class=\"colab-df-container\">\n",
              "    <div>\n",
              "<style scoped>\n",
              "    .dataframe tbody tr th:only-of-type {\n",
              "        vertical-align: middle;\n",
              "    }\n",
              "\n",
              "    .dataframe tbody tr th {\n",
              "        vertical-align: top;\n",
              "    }\n",
              "\n",
              "    .dataframe thead th {\n",
              "        text-align: right;\n",
              "    }\n",
              "</style>\n",
              "<table border=\"1\" class=\"dataframe\">\n",
              "  <thead>\n",
              "    <tr style=\"text-align: right;\">\n",
              "      <th></th>\n",
              "      <th>SEASON_ID</th>\n",
              "      <th>SEASON</th>\n",
              "      <th>PLAYER_ID</th>\n",
              "      <th>BIRTH_YEAR</th>\n",
              "      <th>AGE</th>\n",
              "      <th>EXPERIENCE</th>\n",
              "      <th>GAMES</th>\n",
              "      <th>GAMES_STARTED</th>\n",
              "      <th>MINUTES_PLAYED</th>\n",
              "      <th>FIELD_GOALS_MADE</th>\n",
              "      <th>...</th>\n",
              "      <th>FREETHROW_ATTEMPTED_PER_36_MIN</th>\n",
              "      <th>OFFENSIVE_REBOUND_PER_36_MIN</th>\n",
              "      <th>DEFENSIVE_REBOUND_PER_36_MIN</th>\n",
              "      <th>TOTAL_REBOUND_PER_36_MIN</th>\n",
              "      <th>ASSIST_PER_36_MIN</th>\n",
              "      <th>STEALS_PER_36_MIN</th>\n",
              "      <th>BLOCKS_PER_36_MIN</th>\n",
              "      <th>TURNOVER_PER_36_MIN</th>\n",
              "      <th>PERSONAL_FOULS_PER_36_MIN</th>\n",
              "      <th>POINTS_PER_36_MIN</th>\n",
              "    </tr>\n",
              "  </thead>\n",
              "  <tbody>\n",
              "    <tr>\n",
              "      <th>count</th>\n",
              "      <td>31787.00000</td>\n",
              "      <td>31787.000000</td>\n",
              "      <td>31787.000000</td>\n",
              "      <td>2870.000000</td>\n",
              "      <td>31765.000000</td>\n",
              "      <td>31787.000000</td>\n",
              "      <td>31787.000000</td>\n",
              "      <td>23150.000000</td>\n",
              "      <td>30704.000000</td>\n",
              "      <td>31787.000000</td>\n",
              "      <td>...</td>\n",
              "      <td>16697.000000</td>\n",
              "      <td>16697.000000</td>\n",
              "      <td>16697.000000</td>\n",
              "      <td>16697.000000</td>\n",
              "      <td>16697.000000</td>\n",
              "      <td>16697.000000</td>\n",
              "      <td>16697.000000</td>\n",
              "      <td>16697.000000</td>\n",
              "      <td>16697.000000</td>\n",
              "      <td>16697.000000</td>\n",
              "    </tr>\n",
              "    <tr>\n",
              "      <th>mean</th>\n",
              "      <td>15894.00000</td>\n",
              "      <td>1994.973008</td>\n",
              "      <td>2646.740114</td>\n",
              "      <td>1944.139721</td>\n",
              "      <td>26.486164</td>\n",
              "      <td>4.967691</td>\n",
              "      <td>48.607796</td>\n",
              "      <td>22.406177</td>\n",
              "      <td>1158.959386</td>\n",
              "      <td>187.590965</td>\n",
              "      <td>...</td>\n",
              "      <td>3.182793</td>\n",
              "      <td>1.779745</td>\n",
              "      <td>4.587794</td>\n",
              "      <td>6.367036</td>\n",
              "      <td>2.965131</td>\n",
              "      <td>1.124837</td>\n",
              "      <td>0.730017</td>\n",
              "      <td>2.064868</td>\n",
              "      <td>3.598341</td>\n",
              "      <td>13.326556</td>\n",
              "    </tr>\n",
              "    <tr>\n",
              "      <th>std</th>\n",
              "      <td>9176.26084</td>\n",
              "      <td>20.403059</td>\n",
              "      <td>1301.138515</td>\n",
              "      <td>15.162153</td>\n",
              "      <td>3.844564</td>\n",
              "      <td>3.723561</td>\n",
              "      <td>26.616961</td>\n",
              "      <td>27.814887</td>\n",
              "      <td>926.420014</td>\n",
              "      <td>184.565391</td>\n",
              "      <td>...</td>\n",
              "      <td>2.184569</td>\n",
              "      <td>1.633455</td>\n",
              "      <td>2.274799</td>\n",
              "      <td>3.304136</td>\n",
              "      <td>2.144295</td>\n",
              "      <td>0.776187</td>\n",
              "      <td>0.872100</td>\n",
              "      <td>1.305920</td>\n",
              "      <td>1.894635</td>\n",
              "      <td>5.179310</td>\n",
              "    </tr>\n",
              "    <tr>\n",
              "      <th>min</th>\n",
              "      <td>1.00000</td>\n",
              "      <td>1947.000000</td>\n",
              "      <td>1.000000</td>\n",
              "      <td>1914.000000</td>\n",
              "      <td>18.000000</td>\n",
              "      <td>1.000000</td>\n",
              "      <td>1.000000</td>\n",
              "      <td>0.000000</td>\n",
              "      <td>0.000000</td>\n",
              "      <td>0.000000</td>\n",
              "      <td>...</td>\n",
              "      <td>0.000000</td>\n",
              "      <td>0.000000</td>\n",
              "      <td>0.000000</td>\n",
              "      <td>0.000000</td>\n",
              "      <td>0.000000</td>\n",
              "      <td>0.000000</td>\n",
              "      <td>0.000000</td>\n",
              "      <td>0.000000</td>\n",
              "      <td>0.000000</td>\n",
              "      <td>0.000000</td>\n",
              "    </tr>\n",
              "    <tr>\n",
              "      <th>25%</th>\n",
              "      <td>7947.50000</td>\n",
              "      <td>1979.000000</td>\n",
              "      <td>1625.000000</td>\n",
              "      <td>1938.000000</td>\n",
              "      <td>24.000000</td>\n",
              "      <td>2.000000</td>\n",
              "      <td>25.000000</td>\n",
              "      <td>0.000000</td>\n",
              "      <td>308.000000</td>\n",
              "      <td>37.000000</td>\n",
              "      <td>...</td>\n",
              "      <td>1.800000</td>\n",
              "      <td>0.700000</td>\n",
              "      <td>3.100000</td>\n",
              "      <td>3.900000</td>\n",
              "      <td>1.500000</td>\n",
              "      <td>0.700000</td>\n",
              "      <td>0.200000</td>\n",
              "      <td>1.400000</td>\n",
              "      <td>2.500000</td>\n",
              "      <td>10.200000</td>\n",
              "    </tr>\n",
              "    <tr>\n",
              "      <th>50%</th>\n",
              "      <td>15894.00000</td>\n",
              "      <td>1998.000000</td>\n",
              "      <td>2733.000000</td>\n",
              "      <td>1946.000000</td>\n",
              "      <td>26.000000</td>\n",
              "      <td>4.000000</td>\n",
              "      <td>53.000000</td>\n",
              "      <td>7.000000</td>\n",
              "      <td>986.000000</td>\n",
              "      <td>132.000000</td>\n",
              "      <td>...</td>\n",
              "      <td>2.900000</td>\n",
              "      <td>1.300000</td>\n",
              "      <td>4.200000</td>\n",
              "      <td>5.700000</td>\n",
              "      <td>2.300000</td>\n",
              "      <td>1.000000</td>\n",
              "      <td>0.500000</td>\n",
              "      <td>1.900000</td>\n",
              "      <td>3.300000</td>\n",
              "      <td>13.100000</td>\n",
              "    </tr>\n",
              "    <tr>\n",
              "      <th>75%</th>\n",
              "      <td>23840.50000</td>\n",
              "      <td>2012.000000</td>\n",
              "      <td>3718.000000</td>\n",
              "      <td>1951.000000</td>\n",
              "      <td>29.000000</td>\n",
              "      <td>7.000000</td>\n",
              "      <td>74.000000</td>\n",
              "      <td>42.000000</td>\n",
              "      <td>1882.000000</td>\n",
              "      <td>286.000000</td>\n",
              "      <td>...</td>\n",
              "      <td>4.200000</td>\n",
              "      <td>2.600000</td>\n",
              "      <td>5.800000</td>\n",
              "      <td>8.400000</td>\n",
              "      <td>4.000000</td>\n",
              "      <td>1.400000</td>\n",
              "      <td>1.000000</td>\n",
              "      <td>2.500000</td>\n",
              "      <td>4.300000</td>\n",
              "      <td>16.200000</td>\n",
              "    </tr>\n",
              "    <tr>\n",
              "      <th>max</th>\n",
              "      <td>31787.00000</td>\n",
              "      <td>2024.000000</td>\n",
              "      <td>5197.000000</td>\n",
              "      <td>2002.000000</td>\n",
              "      <td>46.000000</td>\n",
              "      <td>22.000000</td>\n",
              "      <td>90.000000</td>\n",
              "      <td>83.000000</td>\n",
              "      <td>3882.000000</td>\n",
              "      <td>1597.000000</td>\n",
              "      <td>...</td>\n",
              "      <td>36.000000</td>\n",
              "      <td>36.000000</td>\n",
              "      <td>72.000000</td>\n",
              "      <td>72.000000</td>\n",
              "      <td>36.000000</td>\n",
              "      <td>18.000000</td>\n",
              "      <td>36.000000</td>\n",
              "      <td>36.000000</td>\n",
              "      <td>72.000000</td>\n",
              "      <td>108.000000</td>\n",
              "    </tr>\n",
              "  </tbody>\n",
              "</table>\n",
              "<p>8 rows × 126 columns</p>\n",
              "</div>\n",
              "    <div class=\"colab-df-buttons\">\n",
              "\n",
              "  <div class=\"colab-df-container\">\n",
              "    <button class=\"colab-df-convert\" onclick=\"convertToInteractive('df-363590ae-0dd3-45c2-a9c2-2027975e81eb')\"\n",
              "            title=\"Convert this dataframe to an interactive table.\"\n",
              "            style=\"display:none;\">\n",
              "\n",
              "  <svg xmlns=\"http://www.w3.org/2000/svg\" height=\"24px\" viewBox=\"0 -960 960 960\">\n",
              "    <path d=\"M120-120v-720h720v720H120Zm60-500h600v-160H180v160Zm220 220h160v-160H400v160Zm0 220h160v-160H400v160ZM180-400h160v-160H180v160Zm440 0h160v-160H620v160ZM180-180h160v-160H180v160Zm440 0h160v-160H620v160Z\"/>\n",
              "  </svg>\n",
              "    </button>\n",
              "\n",
              "  <style>\n",
              "    .colab-df-container {\n",
              "      display:flex;\n",
              "      gap: 12px;\n",
              "    }\n",
              "\n",
              "    .colab-df-convert {\n",
              "      background-color: #E8F0FE;\n",
              "      border: none;\n",
              "      border-radius: 50%;\n",
              "      cursor: pointer;\n",
              "      display: none;\n",
              "      fill: #1967D2;\n",
              "      height: 32px;\n",
              "      padding: 0 0 0 0;\n",
              "      width: 32px;\n",
              "    }\n",
              "\n",
              "    .colab-df-convert:hover {\n",
              "      background-color: #E2EBFA;\n",
              "      box-shadow: 0px 1px 2px rgba(60, 64, 67, 0.3), 0px 1px 3px 1px rgba(60, 64, 67, 0.15);\n",
              "      fill: #174EA6;\n",
              "    }\n",
              "\n",
              "    .colab-df-buttons div {\n",
              "      margin-bottom: 4px;\n",
              "    }\n",
              "\n",
              "    [theme=dark] .colab-df-convert {\n",
              "      background-color: #3B4455;\n",
              "      fill: #D2E3FC;\n",
              "    }\n",
              "\n",
              "    [theme=dark] .colab-df-convert:hover {\n",
              "      background-color: #434B5C;\n",
              "      box-shadow: 0px 1px 3px 1px rgba(0, 0, 0, 0.15);\n",
              "      filter: drop-shadow(0px 1px 2px rgba(0, 0, 0, 0.3));\n",
              "      fill: #FFFFFF;\n",
              "    }\n",
              "  </style>\n",
              "\n",
              "    <script>\n",
              "      const buttonEl =\n",
              "        document.querySelector('#df-363590ae-0dd3-45c2-a9c2-2027975e81eb button.colab-df-convert');\n",
              "      buttonEl.style.display =\n",
              "        google.colab.kernel.accessAllowed ? 'block' : 'none';\n",
              "\n",
              "      async function convertToInteractive(key) {\n",
              "        const element = document.querySelector('#df-363590ae-0dd3-45c2-a9c2-2027975e81eb');\n",
              "        const dataTable =\n",
              "          await google.colab.kernel.invokeFunction('convertToInteractive',\n",
              "                                                    [key], {});\n",
              "        if (!dataTable) return;\n",
              "\n",
              "        const docLinkHtml = 'Like what you see? Visit the ' +\n",
              "          '<a target=\"_blank\" href=https://colab.research.google.com/notebooks/data_table.ipynb>data table notebook</a>'\n",
              "          + ' to learn more about interactive tables.';\n",
              "        element.innerHTML = '';\n",
              "        dataTable['output_type'] = 'display_data';\n",
              "        await google.colab.output.renderOutput(dataTable, element);\n",
              "        const docLink = document.createElement('div');\n",
              "        docLink.innerHTML = docLinkHtml;\n",
              "        element.appendChild(docLink);\n",
              "      }\n",
              "    </script>\n",
              "  </div>\n",
              "\n",
              "\n",
              "<div id=\"df-adf8da0f-2ca2-44ef-93fc-5642f0de4044\">\n",
              "  <button class=\"colab-df-quickchart\" onclick=\"quickchart('df-adf8da0f-2ca2-44ef-93fc-5642f0de4044')\"\n",
              "            title=\"Suggest charts\"\n",
              "            style=\"display:none;\">\n",
              "\n",
              "<svg xmlns=\"http://www.w3.org/2000/svg\" height=\"24px\"viewBox=\"0 0 24 24\"\n",
              "     width=\"24px\">\n",
              "    <g>\n",
              "        <path d=\"M19 3H5c-1.1 0-2 .9-2 2v14c0 1.1.9 2 2 2h14c1.1 0 2-.9 2-2V5c0-1.1-.9-2-2-2zM9 17H7v-7h2v7zm4 0h-2V7h2v10zm4 0h-2v-4h2v4z\"/>\n",
              "    </g>\n",
              "</svg>\n",
              "  </button>\n",
              "\n",
              "<style>\n",
              "  .colab-df-quickchart {\n",
              "      --bg-color: #E8F0FE;\n",
              "      --fill-color: #1967D2;\n",
              "      --hover-bg-color: #E2EBFA;\n",
              "      --hover-fill-color: #174EA6;\n",
              "      --disabled-fill-color: #AAA;\n",
              "      --disabled-bg-color: #DDD;\n",
              "  }\n",
              "\n",
              "  [theme=dark] .colab-df-quickchart {\n",
              "      --bg-color: #3B4455;\n",
              "      --fill-color: #D2E3FC;\n",
              "      --hover-bg-color: #434B5C;\n",
              "      --hover-fill-color: #FFFFFF;\n",
              "      --disabled-bg-color: #3B4455;\n",
              "      --disabled-fill-color: #666;\n",
              "  }\n",
              "\n",
              "  .colab-df-quickchart {\n",
              "    background-color: var(--bg-color);\n",
              "    border: none;\n",
              "    border-radius: 50%;\n",
              "    cursor: pointer;\n",
              "    display: none;\n",
              "    fill: var(--fill-color);\n",
              "    height: 32px;\n",
              "    padding: 0;\n",
              "    width: 32px;\n",
              "  }\n",
              "\n",
              "  .colab-df-quickchart:hover {\n",
              "    background-color: var(--hover-bg-color);\n",
              "    box-shadow: 0 1px 2px rgba(60, 64, 67, 0.3), 0 1px 3px 1px rgba(60, 64, 67, 0.15);\n",
              "    fill: var(--button-hover-fill-color);\n",
              "  }\n",
              "\n",
              "  .colab-df-quickchart-complete:disabled,\n",
              "  .colab-df-quickchart-complete:disabled:hover {\n",
              "    background-color: var(--disabled-bg-color);\n",
              "    fill: var(--disabled-fill-color);\n",
              "    box-shadow: none;\n",
              "  }\n",
              "\n",
              "  .colab-df-spinner {\n",
              "    border: 2px solid var(--fill-color);\n",
              "    border-color: transparent;\n",
              "    border-bottom-color: var(--fill-color);\n",
              "    animation:\n",
              "      spin 1s steps(1) infinite;\n",
              "  }\n",
              "\n",
              "  @keyframes spin {\n",
              "    0% {\n",
              "      border-color: transparent;\n",
              "      border-bottom-color: var(--fill-color);\n",
              "      border-left-color: var(--fill-color);\n",
              "    }\n",
              "    20% {\n",
              "      border-color: transparent;\n",
              "      border-left-color: var(--fill-color);\n",
              "      border-top-color: var(--fill-color);\n",
              "    }\n",
              "    30% {\n",
              "      border-color: transparent;\n",
              "      border-left-color: var(--fill-color);\n",
              "      border-top-color: var(--fill-color);\n",
              "      border-right-color: var(--fill-color);\n",
              "    }\n",
              "    40% {\n",
              "      border-color: transparent;\n",
              "      border-right-color: var(--fill-color);\n",
              "      border-top-color: var(--fill-color);\n",
              "    }\n",
              "    60% {\n",
              "      border-color: transparent;\n",
              "      border-right-color: var(--fill-color);\n",
              "    }\n",
              "    80% {\n",
              "      border-color: transparent;\n",
              "      border-right-color: var(--fill-color);\n",
              "      border-bottom-color: var(--fill-color);\n",
              "    }\n",
              "    90% {\n",
              "      border-color: transparent;\n",
              "      border-bottom-color: var(--fill-color);\n",
              "    }\n",
              "  }\n",
              "</style>\n",
              "\n",
              "  <script>\n",
              "    async function quickchart(key) {\n",
              "      const quickchartButtonEl =\n",
              "        document.querySelector('#' + key + ' button');\n",
              "      quickchartButtonEl.disabled = true;  // To prevent multiple clicks.\n",
              "      quickchartButtonEl.classList.add('colab-df-spinner');\n",
              "      try {\n",
              "        const charts = await google.colab.kernel.invokeFunction(\n",
              "            'suggestCharts', [key], {});\n",
              "      } catch (error) {\n",
              "        console.error('Error during call to suggestCharts:', error);\n",
              "      }\n",
              "      quickchartButtonEl.classList.remove('colab-df-spinner');\n",
              "      quickchartButtonEl.classList.add('colab-df-quickchart-complete');\n",
              "    }\n",
              "    (() => {\n",
              "      let quickchartButtonEl =\n",
              "        document.querySelector('#df-adf8da0f-2ca2-44ef-93fc-5642f0de4044 button');\n",
              "      quickchartButtonEl.style.display =\n",
              "        google.colab.kernel.accessAllowed ? 'block' : 'none';\n",
              "    })();\n",
              "  </script>\n",
              "</div>\n",
              "    </div>\n",
              "  </div>\n"
            ],
            "application/vnd.google.colaboratory.intrinsic+json": {
              "type": "dataframe"
            }
          },
          "metadata": {},
          "execution_count": 211
        }
      ]
    },
    {
      "cell_type": "code",
      "source": [
        "player_df.columns.tolist()"
      ],
      "metadata": {
        "id": "tojC1SF6Pl-G",
        "colab": {
          "base_uri": "https://localhost:8080/"
        },
        "outputId": "5d044bb5-c3be-4baa-8114-94d177c58a66"
      },
      "execution_count": null,
      "outputs": [
        {
          "output_type": "execute_result",
          "data": {
            "text/plain": [
              "['SEASON_ID',\n",
              " 'SEASON',\n",
              " 'PLAYER_ID',\n",
              " 'PLAYER',\n",
              " 'BIRTH_YEAR',\n",
              " 'POSITION',\n",
              " 'AGE',\n",
              " 'EXPERIENCE',\n",
              " 'LEAGUE',\n",
              " 'TEAM_ABBREVIATION',\n",
              " 'GAMES',\n",
              " 'GAMES_STARTED',\n",
              " 'MINUTES_PLAYED',\n",
              " 'FIELD_GOALS_MADE',\n",
              " 'FIELD_GOALS_AGAINST',\n",
              " 'FIELD_GOAL_PERCENTAGE_x',\n",
              " 'THREE_POINTERS_MADE',\n",
              " 'THREE_POINTERS_ATTEMPTED',\n",
              " 'THREE_POINTERS_PERCENTAGE',\n",
              " 'TWO_POINTERS_MADE',\n",
              " 'TWO_POINTERS_ATTEMPTED',\n",
              " 'TWO_POINTERS_PERCENTAGE',\n",
              " 'EFFECTIVE_FIELD_GOAL_PERCENTAGE',\n",
              " 'FREE_THROWS_MADE',\n",
              " 'FREE_THROW_ATTEMPTED',\n",
              " 'FREE_THROW_PERCENTAGE',\n",
              " 'OFFENSIVE_REBOUND',\n",
              " 'DEFENSIVE_REBOUND',\n",
              " 'TOTAL_REBOUND',\n",
              " 'ASSISTS',\n",
              " 'STEALS',\n",
              " 'BLOCK',\n",
              " 'TURNOVER',\n",
              " 'PERSONAL_FOUL',\n",
              " 'TOTAL_POINTS',\n",
              " 'YEARS_OF_EXPERIENCE',\n",
              " 'GAMES_PLAYED',\n",
              " 'FIELD_GOAL_PERCENT',\n",
              " 'AVERAGE_DISTANCE_OF_FIELD_GOALS_ATTEMPTED',\n",
              " 'PERCENTAGE_FIELD_GOAL_ATTEMPTED_FROM_TWO_POINT_RANGE',\n",
              " 'PERCENTAGE_FIELD_GOAL_ATTEMPTED_FROM_THREE_POINT_RANGE',\n",
              " 'FIELD_GOAL_PERCENTAGE_FROM_TWO_POINT_RANGE',\n",
              " 'FIELD_GOAL_PERCENTAGE_FROM_THREE_POINT_RANGE',\n",
              " 'PERCENT_ASSISTED_TWO_POINT_FIELD_GOAL',\n",
              " 'PERCENT_ASSISTED_THREE_POINT_FIELD_GOAL',\n",
              " 'PERCENTAGE_DUNKS_OF_FIELD_GOAL_ATTEMPTED',\n",
              " 'NUMBER_OF_DUNKS',\n",
              " 'PERCENTAGE_CORNER_THREE_OF_THREE_POINTER_ATTEMPTED',\n",
              " 'CORNER_THREE_POINT_PERCENT',\n",
              " 'NUMBER_HEAVES_ATTEMPTED',\n",
              " 'NUMBER_HEAVES_MADE',\n",
              " 'PLAYED_ID',\n",
              " 'TEAM',\n",
              " 'POINTS_PER_GAME_PERCENT',\n",
              " 'SHOOTING_GUARD_PERCENT',\n",
              " 'SMALL_FORWARD_PERCENT',\n",
              " 'POWER_FORWARD_PERCENT',\n",
              " 'CENTER_PERCENT',\n",
              " 'ON_COURT_PLUS_MINUES_PER_100_POSSESION',\n",
              " 'NET_PLUS_MINUES_PER_100_POSSESION',\n",
              " 'BAD_PASS_TURNOVER',\n",
              " 'LOST_BALL_TURNOVER',\n",
              " 'SHOOTING_FOUL_COMMITTED',\n",
              " 'OFFENSIVE_FOUL_COMMITTED',\n",
              " 'SHOOTING_FOUL_DRAWN',\n",
              " 'OFFENSIVE_FOUL_DRAWN',\n",
              " 'POINTS_GENERATED_BY_ASSISTS',\n",
              " 'AND1S',\n",
              " 'FIELD_GOAL_ATTEMPTED_BLOCKED',\n",
              " 'gs',\n",
              " 'MINUTES_PLAYED_PER_GAME',\n",
              " 'FIELD_GOAL_PER_GAME',\n",
              " 'FIELD_GOAL_ATTEMPTED_PER_GAME',\n",
              " 'THREE_POINTERS_PER_GAME',\n",
              " 'THREE_POINT_ATTEMPTED_PER_GAME',\n",
              " 'THREE_POINT_PERCENTAGE',\n",
              " 'TWO_POINTER_PER_GAME',\n",
              " 'TWO_POINTER_ATTEMPTED_PER_GAME',\n",
              " 'TWO_POINT_PERCENTAGE',\n",
              " 'e_fg_percent',\n",
              " 'FREE_THROW_PER_GAME',\n",
              " 'FREE_THROW_ATTEMPTED_PER_GAME',\n",
              " 'OFFENSIVE_REBOUND_PER_GAME',\n",
              " 'DEFENSIVE_REBOUND_PER_GAME',\n",
              " 'TOTAL_REBOUND_PER_GAME',\n",
              " 'ASSIST_PER_GAME',\n",
              " 'STEAL_PER_GAME',\n",
              " 'BLOCKS_PER_GAME',\n",
              " 'TURNOVERS_PER_GAME',\n",
              " 'PERSONAL_FOUL_PER_GAME',\n",
              " 'POINTS_PER_GAME',\n",
              " 'POSITINON',\n",
              " 'FIELD_GOALS_PER_100_POSSESION',\n",
              " 'FIELD_GOALS_ATTEMPTED_PER_100_POSSESION',\n",
              " 'FIELD_GOALS_PERCENTAGE',\n",
              " 'THREE_POINTERS_PER_100_POSSESION',\n",
              " 'THREE_POINTERS_ATTEMPTED_PER_100_POSSESION',\n",
              " 'TWO_POINTERS_PER_100_POSSESION',\n",
              " 'TWO_POINTERS_ATTEMPTED_PER_100_POSSESION',\n",
              " 'FREE_THROWS_PER_100_POSSESION',\n",
              " 'FREE_THROWS_ATTEMPTED_PER_100_POSSESION',\n",
              " 'OFFENSIVE_REBOUND_PER_100_POSSESION',\n",
              " 'DEFENSIVE_REBOUND_PER_100_POSSESION',\n",
              " 'TOTAL_REBOUNDS_PER_100_POSSESION',\n",
              " 'ASSIST_PER_100_POSSESION',\n",
              " 'STEALS_PER_100_POSSESION',\n",
              " 'BLOCKS_PER_100_POSSESION',\n",
              " 'TURNOVER_PER_100_POSSESION',\n",
              " 'PERSONAL_FOULS_PER_100_POSSESION',\n",
              " 'POINTS_PER_100_POSSESION',\n",
              " 'OFFESNIVE_Rating',\n",
              " 'DEFENSIVE RATING',\n",
              " 'SEAONS',\n",
              " 'PLAYR_ID',\n",
              " 'PLAYER_NAME',\n",
              " 'FIELD_GOALS_PER_36_MINUTES',\n",
              " 'FIELD_GOALS_ATTEMPTED_PER_GAME',\n",
              " 'FIELD_GOAL_PERCENTAGE_y',\n",
              " 'THREE_POINTERS_PER_36_MIN',\n",
              " 'THREE_POINTERS_ATTEMPTED_PER_36_MIN',\n",
              " 'TWO_POINTERS_PER_36_MIN',\n",
              " 'TWO_POINTERS_ATTEMPTED_PER_36_MIN',\n",
              " 'FREETHROW_PER_36_MIN',\n",
              " 'FREETHROW_ATTEMPTED_PER_36_MIN',\n",
              " 'OFFENSIVE_REBOUND_PER_36_MIN',\n",
              " 'DEFENSIVE_REBOUND_PER_36_MIN',\n",
              " 'TOTAL_REBOUND_PER_36_MIN',\n",
              " 'ASSIST_PER_36_MIN',\n",
              " 'STEALS_PER_36_MIN',\n",
              " 'BLOCKS_PER_36_MIN',\n",
              " 'TURNOVER_PER_36_MIN',\n",
              " 'PERSONAL_FOULS_PER_36_MIN',\n",
              " 'POINTS_PER_36_MIN']"
            ]
          },
          "metadata": {},
          "execution_count": 212
        }
      ]
    },
    {
      "cell_type": "markdown",
      "source": [
        "This function will help us identify any columns that are duplicated in our unified player dataframe"
      ],
      "metadata": {
        "id": "MEAYkNiRNKY3"
      }
    },
    {
      "cell_type": "code",
      "source": [
        "def common_columns(dataframes):\n",
        "    # Create a dictionary to count the occurrences of each column\n",
        "    column_counts = {}\n",
        "\n",
        "    # Iterate over all dataframes\n",
        "    for df in dataframes:\n",
        "        # Iterate over all columns in the current dataframe\n",
        "        for col in df.columns:\n",
        "            # If the column is already in the dictionary, increment its count\n",
        "            if col in column_counts:\n",
        "                column_counts[col] += 1\n",
        "            # Otherwise, add the column to the dictionary with a count of 1\n",
        "            else:\n",
        "                column_counts[col] = 1\n",
        "\n",
        "    # Return a list of columns that appear at least twice\n",
        "    return [col for col, count in column_counts.items() if count >= 2]\n"
      ],
      "metadata": {
        "id": "BZNCcg75Ksiu"
      },
      "execution_count": null,
      "outputs": []
    },
    {
      "cell_type": "code",
      "source": [
        "dfs=[df_totals,\n",
        "df_shooting ,\n",
        "df_play_by_play,\n",
        "df_per_game,\n",
        "df_per_100_poss,\n",
        "df_per_36_minutes]\n",
        "# dfs is your list of dataframes\n",
        "common_cols = common_columns(dfs)\n",
        "print(common_cols)\n"
      ],
      "metadata": {
        "id": "51HXq9jYZUTD",
        "colab": {
          "base_uri": "https://localhost:8080/"
        },
        "outputId": "b5a5e88a-8b7b-4d18-8b6e-65fd1e969dab"
      },
      "execution_count": null,
      "outputs": [
        {
          "output_type": "stream",
          "name": "stdout",
          "text": [
            "['SEASON_ID', 'SEASON', 'PLAYER_ID', 'PLAYER', 'POSITION', 'AGE', 'EXPERIENCE', 'LEAGUE', 'TEAM_ABBREVIATION', 'GAMES', 'GAMES_STARTED', 'MINUTES_PLAYED', 'FIELD_GOAL_PERCENTAGE', 'THREE_POINTERS_PERCENTAGE', 'TWO_POINTERS_PERCENTAGE', 'FREE_THROW_PERCENTAGE', 'YEARS_OF_EXPERIENCE', 'FIELD_GOAL_PERCENT', 'TEAM']\n"
          ]
        }
      ]
    },
    {
      "cell_type": "code",
      "source": [
        "player_df =player_df.drop([\n",
        "'PLAYER_NAME','POSITINON','PLAYED_ID','GAMES_PLAYED', 'SEASON_ID',\n",
        " 'BIRTH_YEAR',\n",
        " 'POSITION',\n",
        " 'LEAGUE',\n",
        " 'THREE_POINTERS_ATTEMPTED',\n",
        " 'TWO_POINTERS_ATTEMPTED',\n",
        " 'YEARS_OF_EXPERIENCE',\n",
        " 'GAMES_PLAYED',\n",
        " 'FIELD_GOAL_PERCENT',\n",
        " 'AVERAGE_DISTANCE_OF_FIELD_GOALS_ATTEMPTED',\n",
        " 'PERCENTAGE_FIELD_GOAL_ATTEMPTED_FROM_TWO_POINT_RANGE',\n",
        " 'PERCENTAGE_FIELD_GOAL_ATTEMPTED_FROM_THREE_POINT_RANGE',\n",
        " 'FIELD_GOAL_PERCENTAGE_FROM_TWO_POINT_RANGE',\n",
        " 'FIELD_GOAL_PERCENTAGE_FROM_THREE_POINT_RANGE',\n",
        " 'PERCENT_ASSISTED_TWO_POINT_FIELD_GOAL',\n",
        " 'PERCENT_ASSISTED_THREE_POINT_FIELD_GOAL',\n",
        " 'PERCENTAGE_DUNKS_OF_FIELD_GOAL_ATTEMPTED',\n",
        " 'NUMBER_OF_DUNKS',\n",
        " 'PERCENTAGE_CORNER_THREE_OF_THREE_POINTER_ATTEMPTED',\n",
        " 'CORNER_THREE_POINT_PERCENT',\n",
        " 'NUMBER_HEAVES_ATTEMPTED',\n",
        " 'NUMBER_HEAVES_MADE',\n",
        " 'PLAYED_ID',\n",
        " 'POINTS_PER_GAME_PERCENT',\n",
        " 'SHOOTING_GUARD_PERCENT',\n",
        " 'SMALL_FORWARD_PERCENT',\n",
        " 'POWER_FORWARD_PERCENT',\n",
        " 'CENTER_PERCENT',\n",
        " 'ON_COURT_PLUS_MINUES_PER_100_POSSESION',\n",
        " 'NET_PLUS_MINUES_PER_100_POSSESION',\n",
        " 'BAD_PASS_TURNOVER',\n",
        " 'LOST_BALL_TURNOVER',\n",
        " 'SHOOTING_FOUL_COMMITTED',\n",
        " 'OFFENSIVE_FOUL_COMMITTED',\n",
        " 'SHOOTING_FOUL_DRAWN',\n",
        " 'OFFENSIVE_FOUL_DRAWN',\n",
        " 'POINTS_GENERATED_BY_ASSISTS',\n",
        " 'AND1S',\n",
        " 'FIELD_GOAL_ATTEMPTED_BLOCKED',\n",
        " 'gs',\n",
        " 'MINUTES_PLAYED_PER_GAME',\n",
        " 'FIELD_GOAL_PER_GAME',\n",
        " 'FIELD_GOAL_ATTEMPTED_PER_GAME',\n",
        " 'THREE_POINTERS_PER_GAME',\n",
        " 'THREE_POINT_ATTEMPTED_PER_GAME',\n",
        " 'THREE_POINT_PERCENTAGE',\n",
        " 'TWO_POINTER_PER_GAME',\n",
        " 'TWO_POINTER_ATTEMPTED_PER_GAME',\n",
        " 'TWO_POINT_PERCENTAGE',\n",
        " 'e_fg_percent',\n",
        " 'FREE_THROW_PER_GAME',\n",
        " 'FREE_THROW_ATTEMPTED_PER_GAME',\n",
        " 'OFFENSIVE_REBOUND_PER_GAME',\n",
        " 'DEFENSIVE_REBOUND_PER_GAME',\n",
        " 'TOTAL_REBOUND_PER_GAME',\n",
        " 'ASSIST_PER_GAME',\n",
        " 'STEAL_PER_GAME',\n",
        " 'BLOCKS_PER_GAME',\n",
        " 'TURNOVERS_PER_GAME',\n",
        " 'PERSONAL_FOUL_PER_GAME',\n",
        " 'POINTS_PER_GAME',\n",
        " 'POSITINON',\n",
        " 'FIELD_GOALS_PER_100_POSSESION',\n",
        " 'FIELD_GOALS_ATTEMPTED_PER_100_POSSESION',\n",
        " 'FIELD_GOALS_PERCENTAGE',\n",
        " 'THREE_POINTERS_PER_100_POSSESION',\n",
        " 'THREE_POINTERS_ATTEMPTED_PER_100_POSSESION',\n",
        " 'TWO_POINTERS_PER_100_POSSESION',\n",
        " 'TWO_POINTERS_ATTEMPTED_PER_100_POSSESION',\n",
        " 'FREE_THROWS_PER_100_POSSESION',\n",
        " 'FREE_THROWS_ATTEMPTED_PER_100_POSSESION',\n",
        " 'OFFENSIVE_REBOUND_PER_100_POSSESION',\n",
        " 'DEFENSIVE_REBOUND_PER_100_POSSESION',\n",
        " 'TOTAL_REBOUNDS_PER_100_POSSESION',\n",
        " 'ASSIST_PER_100_POSSESION',\n",
        " 'STEALS_PER_100_POSSESION',\n",
        " 'BLOCKS_PER_100_POSSESION',\n",
        " 'TURNOVER_PER_100_POSSESION',\n",
        " 'PERSONAL_FOULS_PER_100_POSSESION',\n",
        " 'POINTS_PER_100_POSSESION',\n",
        " 'SEAONS',\n",
        " 'PLAYR_ID',\n",
        " 'PLAYER_NAME',\n",
        " 'FIELD_GOALS_PER_36_MINUTES',\n",
        " 'FIELD_GOALS_ATTEMPTED_PER_GAME',\n",
        " 'FIELD_GOAL_PERCENTAGE_y',\n",
        " 'THREE_POINTERS_PER_36_MIN',\n",
        " 'THREE_POINTERS_ATTEMPTED_PER_36_MIN',\n",
        " 'TWO_POINTERS_PER_36_MIN',\n",
        " 'TWO_POINTERS_ATTEMPTED_PER_36_MIN',\n",
        " 'FREETHROW_PER_36_MIN',\n",
        " 'FREETHROW_ATTEMPTED_PER_36_MIN',\n",
        " 'OFFENSIVE_REBOUND_PER_36_MIN',\n",
        " 'DEFENSIVE_REBOUND_PER_36_MIN',\n",
        " 'TOTAL_REBOUND_PER_36_MIN',\n",
        " 'ASSIST_PER_36_MIN',\n",
        " 'STEALS_PER_36_MIN',\n",
        " 'BLOCKS_PER_36_MIN',\n",
        " 'TURNOVER_PER_36_MIN',\n",
        " 'PERSONAL_FOULS_PER_36_MIN',\n",
        " 'POINTS_PER_36_MIN'], axis =1)\n"
      ],
      "metadata": {
        "id": "e9EvRNXZZjQB"
      },
      "execution_count": null,
      "outputs": []
    },
    {
      "cell_type": "code",
      "source": [
        "player_df.describe()"
      ],
      "metadata": {
        "id": "VTzRBmk-iUAM",
        "colab": {
          "base_uri": "https://localhost:8080/",
          "height": 367
        },
        "outputId": "8d30b19f-6585-41ea-e1d7-7bb2d91c4241"
      },
      "execution_count": null,
      "outputs": [
        {
          "output_type": "execute_result",
          "data": {
            "text/plain": [
              "             SEASON     PLAYER_ID           AGE    EXPERIENCE         GAMES  \\\n",
              "count  31787.000000  31787.000000  31765.000000  31787.000000  31787.000000   \n",
              "mean    1994.973008   2646.740114     26.486164      4.967691     48.607796   \n",
              "std       20.403059   1301.138515      3.844564      3.723561     26.616961   \n",
              "min     1947.000000      1.000000     18.000000      1.000000      1.000000   \n",
              "25%     1979.000000   1625.000000     24.000000      2.000000     25.000000   \n",
              "50%     1998.000000   2733.000000     26.000000      4.000000     53.000000   \n",
              "75%     2012.000000   3718.000000     29.000000      7.000000     74.000000   \n",
              "max     2024.000000   5197.000000     46.000000     22.000000     90.000000   \n",
              "\n",
              "       GAMES_STARTED  MINUTES_PLAYED  FIELD_GOALS_MADE  FIELD_GOALS_AGAINST  \\\n",
              "count   23150.000000    30704.000000      31787.000000         31787.000000   \n",
              "mean       22.406177     1158.959386        187.590965           414.794035   \n",
              "std        27.814887      926.420014        184.565391           391.133337   \n",
              "min         0.000000        0.000000          0.000000             0.000000   \n",
              "25%         0.000000      308.000000         37.000000            90.000000   \n",
              "50%         7.000000      986.000000        132.000000           302.000000   \n",
              "75%        42.000000     1882.000000        286.000000           637.000000   \n",
              "max        83.000000     3882.000000       1597.000000          3159.000000   \n",
              "\n",
              "       FIELD_GOAL_PERCENTAGE_x  ...  DEFENSIVE_REBOUND  TOTAL_REBOUND  \\\n",
              "count             31628.000000  ...       27130.000000   30893.000000   \n",
              "mean                  0.429751  ...         144.706377     216.707345   \n",
              "std                   0.101668  ...         146.348383     224.381109   \n",
              "min                   0.000000  ...           0.000000       0.000000   \n",
              "25%                   0.390000  ...          32.000000      48.000000   \n",
              "50%                   0.438000  ...         103.000000     152.000000   \n",
              "75%                   0.481000  ...         209.000000     308.000000   \n",
              "max                   1.000000  ...        1111.000000    2149.000000   \n",
              "\n",
              "            ASSISTS        STEALS         BLOCK      TURNOVER  PERSONAL_FOUL  \\\n",
              "count  31787.000000  26161.000000  26162.000000  26152.000000   31787.000000   \n",
              "mean     109.247711     37.799014     23.282547     70.743691     109.857961   \n",
              "std      130.954467     37.430130     35.281323     67.437942      83.664565   \n",
              "min        0.000000      0.000000      0.000000      0.000000       0.000000   \n",
              "25%       17.000000      8.000000      3.000000     16.000000      34.000000   \n",
              "50%       64.000000     27.000000     11.000000     51.000000      98.000000   \n",
              "75%      152.000000     56.000000     28.000000    107.000000     173.000000   \n",
              "max     1164.000000    346.000000    456.000000    464.000000     386.000000   \n",
              "\n",
              "       TOTAL_POINTS  OFFESNIVE_Rating  DEFENSIVE RATING  \n",
              "count  31787.000000      16635.000000      16697.000000  \n",
              "mean     492.135433        103.039615        107.991316  \n",
              "std      485.470475         18.632958          5.670590  \n",
              "min        0.000000          0.000000         33.000000  \n",
              "25%       98.000000         97.000000        104.000000  \n",
              "50%      343.000000        105.000000        108.000000  \n",
              "75%      750.000000        112.000000        112.000000  \n",
              "max     4029.000000        300.000000        130.000000  \n",
              "\n",
              "[8 rows x 29 columns]"
            ],
            "text/html": [
              "\n",
              "  <div id=\"df-47540aee-dedf-4f57-9afc-78641920b66d\" class=\"colab-df-container\">\n",
              "    <div>\n",
              "<style scoped>\n",
              "    .dataframe tbody tr th:only-of-type {\n",
              "        vertical-align: middle;\n",
              "    }\n",
              "\n",
              "    .dataframe tbody tr th {\n",
              "        vertical-align: top;\n",
              "    }\n",
              "\n",
              "    .dataframe thead th {\n",
              "        text-align: right;\n",
              "    }\n",
              "</style>\n",
              "<table border=\"1\" class=\"dataframe\">\n",
              "  <thead>\n",
              "    <tr style=\"text-align: right;\">\n",
              "      <th></th>\n",
              "      <th>SEASON</th>\n",
              "      <th>PLAYER_ID</th>\n",
              "      <th>AGE</th>\n",
              "      <th>EXPERIENCE</th>\n",
              "      <th>GAMES</th>\n",
              "      <th>GAMES_STARTED</th>\n",
              "      <th>MINUTES_PLAYED</th>\n",
              "      <th>FIELD_GOALS_MADE</th>\n",
              "      <th>FIELD_GOALS_AGAINST</th>\n",
              "      <th>FIELD_GOAL_PERCENTAGE_x</th>\n",
              "      <th>...</th>\n",
              "      <th>DEFENSIVE_REBOUND</th>\n",
              "      <th>TOTAL_REBOUND</th>\n",
              "      <th>ASSISTS</th>\n",
              "      <th>STEALS</th>\n",
              "      <th>BLOCK</th>\n",
              "      <th>TURNOVER</th>\n",
              "      <th>PERSONAL_FOUL</th>\n",
              "      <th>TOTAL_POINTS</th>\n",
              "      <th>OFFESNIVE_Rating</th>\n",
              "      <th>DEFENSIVE RATING</th>\n",
              "    </tr>\n",
              "  </thead>\n",
              "  <tbody>\n",
              "    <tr>\n",
              "      <th>count</th>\n",
              "      <td>31787.000000</td>\n",
              "      <td>31787.000000</td>\n",
              "      <td>31765.000000</td>\n",
              "      <td>31787.000000</td>\n",
              "      <td>31787.000000</td>\n",
              "      <td>23150.000000</td>\n",
              "      <td>30704.000000</td>\n",
              "      <td>31787.000000</td>\n",
              "      <td>31787.000000</td>\n",
              "      <td>31628.000000</td>\n",
              "      <td>...</td>\n",
              "      <td>27130.000000</td>\n",
              "      <td>30893.000000</td>\n",
              "      <td>31787.000000</td>\n",
              "      <td>26161.000000</td>\n",
              "      <td>26162.000000</td>\n",
              "      <td>26152.000000</td>\n",
              "      <td>31787.000000</td>\n",
              "      <td>31787.000000</td>\n",
              "      <td>16635.000000</td>\n",
              "      <td>16697.000000</td>\n",
              "    </tr>\n",
              "    <tr>\n",
              "      <th>mean</th>\n",
              "      <td>1994.973008</td>\n",
              "      <td>2646.740114</td>\n",
              "      <td>26.486164</td>\n",
              "      <td>4.967691</td>\n",
              "      <td>48.607796</td>\n",
              "      <td>22.406177</td>\n",
              "      <td>1158.959386</td>\n",
              "      <td>187.590965</td>\n",
              "      <td>414.794035</td>\n",
              "      <td>0.429751</td>\n",
              "      <td>...</td>\n",
              "      <td>144.706377</td>\n",
              "      <td>216.707345</td>\n",
              "      <td>109.247711</td>\n",
              "      <td>37.799014</td>\n",
              "      <td>23.282547</td>\n",
              "      <td>70.743691</td>\n",
              "      <td>109.857961</td>\n",
              "      <td>492.135433</td>\n",
              "      <td>103.039615</td>\n",
              "      <td>107.991316</td>\n",
              "    </tr>\n",
              "    <tr>\n",
              "      <th>std</th>\n",
              "      <td>20.403059</td>\n",
              "      <td>1301.138515</td>\n",
              "      <td>3.844564</td>\n",
              "      <td>3.723561</td>\n",
              "      <td>26.616961</td>\n",
              "      <td>27.814887</td>\n",
              "      <td>926.420014</td>\n",
              "      <td>184.565391</td>\n",
              "      <td>391.133337</td>\n",
              "      <td>0.101668</td>\n",
              "      <td>...</td>\n",
              "      <td>146.348383</td>\n",
              "      <td>224.381109</td>\n",
              "      <td>130.954467</td>\n",
              "      <td>37.430130</td>\n",
              "      <td>35.281323</td>\n",
              "      <td>67.437942</td>\n",
              "      <td>83.664565</td>\n",
              "      <td>485.470475</td>\n",
              "      <td>18.632958</td>\n",
              "      <td>5.670590</td>\n",
              "    </tr>\n",
              "    <tr>\n",
              "      <th>min</th>\n",
              "      <td>1947.000000</td>\n",
              "      <td>1.000000</td>\n",
              "      <td>18.000000</td>\n",
              "      <td>1.000000</td>\n",
              "      <td>1.000000</td>\n",
              "      <td>0.000000</td>\n",
              "      <td>0.000000</td>\n",
              "      <td>0.000000</td>\n",
              "      <td>0.000000</td>\n",
              "      <td>0.000000</td>\n",
              "      <td>...</td>\n",
              "      <td>0.000000</td>\n",
              "      <td>0.000000</td>\n",
              "      <td>0.000000</td>\n",
              "      <td>0.000000</td>\n",
              "      <td>0.000000</td>\n",
              "      <td>0.000000</td>\n",
              "      <td>0.000000</td>\n",
              "      <td>0.000000</td>\n",
              "      <td>0.000000</td>\n",
              "      <td>33.000000</td>\n",
              "    </tr>\n",
              "    <tr>\n",
              "      <th>25%</th>\n",
              "      <td>1979.000000</td>\n",
              "      <td>1625.000000</td>\n",
              "      <td>24.000000</td>\n",
              "      <td>2.000000</td>\n",
              "      <td>25.000000</td>\n",
              "      <td>0.000000</td>\n",
              "      <td>308.000000</td>\n",
              "      <td>37.000000</td>\n",
              "      <td>90.000000</td>\n",
              "      <td>0.390000</td>\n",
              "      <td>...</td>\n",
              "      <td>32.000000</td>\n",
              "      <td>48.000000</td>\n",
              "      <td>17.000000</td>\n",
              "      <td>8.000000</td>\n",
              "      <td>3.000000</td>\n",
              "      <td>16.000000</td>\n",
              "      <td>34.000000</td>\n",
              "      <td>98.000000</td>\n",
              "      <td>97.000000</td>\n",
              "      <td>104.000000</td>\n",
              "    </tr>\n",
              "    <tr>\n",
              "      <th>50%</th>\n",
              "      <td>1998.000000</td>\n",
              "      <td>2733.000000</td>\n",
              "      <td>26.000000</td>\n",
              "      <td>4.000000</td>\n",
              "      <td>53.000000</td>\n",
              "      <td>7.000000</td>\n",
              "      <td>986.000000</td>\n",
              "      <td>132.000000</td>\n",
              "      <td>302.000000</td>\n",
              "      <td>0.438000</td>\n",
              "      <td>...</td>\n",
              "      <td>103.000000</td>\n",
              "      <td>152.000000</td>\n",
              "      <td>64.000000</td>\n",
              "      <td>27.000000</td>\n",
              "      <td>11.000000</td>\n",
              "      <td>51.000000</td>\n",
              "      <td>98.000000</td>\n",
              "      <td>343.000000</td>\n",
              "      <td>105.000000</td>\n",
              "      <td>108.000000</td>\n",
              "    </tr>\n",
              "    <tr>\n",
              "      <th>75%</th>\n",
              "      <td>2012.000000</td>\n",
              "      <td>3718.000000</td>\n",
              "      <td>29.000000</td>\n",
              "      <td>7.000000</td>\n",
              "      <td>74.000000</td>\n",
              "      <td>42.000000</td>\n",
              "      <td>1882.000000</td>\n",
              "      <td>286.000000</td>\n",
              "      <td>637.000000</td>\n",
              "      <td>0.481000</td>\n",
              "      <td>...</td>\n",
              "      <td>209.000000</td>\n",
              "      <td>308.000000</td>\n",
              "      <td>152.000000</td>\n",
              "      <td>56.000000</td>\n",
              "      <td>28.000000</td>\n",
              "      <td>107.000000</td>\n",
              "      <td>173.000000</td>\n",
              "      <td>750.000000</td>\n",
              "      <td>112.000000</td>\n",
              "      <td>112.000000</td>\n",
              "    </tr>\n",
              "    <tr>\n",
              "      <th>max</th>\n",
              "      <td>2024.000000</td>\n",
              "      <td>5197.000000</td>\n",
              "      <td>46.000000</td>\n",
              "      <td>22.000000</td>\n",
              "      <td>90.000000</td>\n",
              "      <td>83.000000</td>\n",
              "      <td>3882.000000</td>\n",
              "      <td>1597.000000</td>\n",
              "      <td>3159.000000</td>\n",
              "      <td>1.000000</td>\n",
              "      <td>...</td>\n",
              "      <td>1111.000000</td>\n",
              "      <td>2149.000000</td>\n",
              "      <td>1164.000000</td>\n",
              "      <td>346.000000</td>\n",
              "      <td>456.000000</td>\n",
              "      <td>464.000000</td>\n",
              "      <td>386.000000</td>\n",
              "      <td>4029.000000</td>\n",
              "      <td>300.000000</td>\n",
              "      <td>130.000000</td>\n",
              "    </tr>\n",
              "  </tbody>\n",
              "</table>\n",
              "<p>8 rows × 29 columns</p>\n",
              "</div>\n",
              "    <div class=\"colab-df-buttons\">\n",
              "\n",
              "  <div class=\"colab-df-container\">\n",
              "    <button class=\"colab-df-convert\" onclick=\"convertToInteractive('df-47540aee-dedf-4f57-9afc-78641920b66d')\"\n",
              "            title=\"Convert this dataframe to an interactive table.\"\n",
              "            style=\"display:none;\">\n",
              "\n",
              "  <svg xmlns=\"http://www.w3.org/2000/svg\" height=\"24px\" viewBox=\"0 -960 960 960\">\n",
              "    <path d=\"M120-120v-720h720v720H120Zm60-500h600v-160H180v160Zm220 220h160v-160H400v160Zm0 220h160v-160H400v160ZM180-400h160v-160H180v160Zm440 0h160v-160H620v160ZM180-180h160v-160H180v160Zm440 0h160v-160H620v160Z\"/>\n",
              "  </svg>\n",
              "    </button>\n",
              "\n",
              "  <style>\n",
              "    .colab-df-container {\n",
              "      display:flex;\n",
              "      gap: 12px;\n",
              "    }\n",
              "\n",
              "    .colab-df-convert {\n",
              "      background-color: #E8F0FE;\n",
              "      border: none;\n",
              "      border-radius: 50%;\n",
              "      cursor: pointer;\n",
              "      display: none;\n",
              "      fill: #1967D2;\n",
              "      height: 32px;\n",
              "      padding: 0 0 0 0;\n",
              "      width: 32px;\n",
              "    }\n",
              "\n",
              "    .colab-df-convert:hover {\n",
              "      background-color: #E2EBFA;\n",
              "      box-shadow: 0px 1px 2px rgba(60, 64, 67, 0.3), 0px 1px 3px 1px rgba(60, 64, 67, 0.15);\n",
              "      fill: #174EA6;\n",
              "    }\n",
              "\n",
              "    .colab-df-buttons div {\n",
              "      margin-bottom: 4px;\n",
              "    }\n",
              "\n",
              "    [theme=dark] .colab-df-convert {\n",
              "      background-color: #3B4455;\n",
              "      fill: #D2E3FC;\n",
              "    }\n",
              "\n",
              "    [theme=dark] .colab-df-convert:hover {\n",
              "      background-color: #434B5C;\n",
              "      box-shadow: 0px 1px 3px 1px rgba(0, 0, 0, 0.15);\n",
              "      filter: drop-shadow(0px 1px 2px rgba(0, 0, 0, 0.3));\n",
              "      fill: #FFFFFF;\n",
              "    }\n",
              "  </style>\n",
              "\n",
              "    <script>\n",
              "      const buttonEl =\n",
              "        document.querySelector('#df-47540aee-dedf-4f57-9afc-78641920b66d button.colab-df-convert');\n",
              "      buttonEl.style.display =\n",
              "        google.colab.kernel.accessAllowed ? 'block' : 'none';\n",
              "\n",
              "      async function convertToInteractive(key) {\n",
              "        const element = document.querySelector('#df-47540aee-dedf-4f57-9afc-78641920b66d');\n",
              "        const dataTable =\n",
              "          await google.colab.kernel.invokeFunction('convertToInteractive',\n",
              "                                                    [key], {});\n",
              "        if (!dataTable) return;\n",
              "\n",
              "        const docLinkHtml = 'Like what you see? Visit the ' +\n",
              "          '<a target=\"_blank\" href=https://colab.research.google.com/notebooks/data_table.ipynb>data table notebook</a>'\n",
              "          + ' to learn more about interactive tables.';\n",
              "        element.innerHTML = '';\n",
              "        dataTable['output_type'] = 'display_data';\n",
              "        await google.colab.output.renderOutput(dataTable, element);\n",
              "        const docLink = document.createElement('div');\n",
              "        docLink.innerHTML = docLinkHtml;\n",
              "        element.appendChild(docLink);\n",
              "      }\n",
              "    </script>\n",
              "  </div>\n",
              "\n",
              "\n",
              "<div id=\"df-f1dcb9c3-1bd3-4957-98a8-fe9b6ff9b0bb\">\n",
              "  <button class=\"colab-df-quickchart\" onclick=\"quickchart('df-f1dcb9c3-1bd3-4957-98a8-fe9b6ff9b0bb')\"\n",
              "            title=\"Suggest charts\"\n",
              "            style=\"display:none;\">\n",
              "\n",
              "<svg xmlns=\"http://www.w3.org/2000/svg\" height=\"24px\"viewBox=\"0 0 24 24\"\n",
              "     width=\"24px\">\n",
              "    <g>\n",
              "        <path d=\"M19 3H5c-1.1 0-2 .9-2 2v14c0 1.1.9 2 2 2h14c1.1 0 2-.9 2-2V5c0-1.1-.9-2-2-2zM9 17H7v-7h2v7zm4 0h-2V7h2v10zm4 0h-2v-4h2v4z\"/>\n",
              "    </g>\n",
              "</svg>\n",
              "  </button>\n",
              "\n",
              "<style>\n",
              "  .colab-df-quickchart {\n",
              "      --bg-color: #E8F0FE;\n",
              "      --fill-color: #1967D2;\n",
              "      --hover-bg-color: #E2EBFA;\n",
              "      --hover-fill-color: #174EA6;\n",
              "      --disabled-fill-color: #AAA;\n",
              "      --disabled-bg-color: #DDD;\n",
              "  }\n",
              "\n",
              "  [theme=dark] .colab-df-quickchart {\n",
              "      --bg-color: #3B4455;\n",
              "      --fill-color: #D2E3FC;\n",
              "      --hover-bg-color: #434B5C;\n",
              "      --hover-fill-color: #FFFFFF;\n",
              "      --disabled-bg-color: #3B4455;\n",
              "      --disabled-fill-color: #666;\n",
              "  }\n",
              "\n",
              "  .colab-df-quickchart {\n",
              "    background-color: var(--bg-color);\n",
              "    border: none;\n",
              "    border-radius: 50%;\n",
              "    cursor: pointer;\n",
              "    display: none;\n",
              "    fill: var(--fill-color);\n",
              "    height: 32px;\n",
              "    padding: 0;\n",
              "    width: 32px;\n",
              "  }\n",
              "\n",
              "  .colab-df-quickchart:hover {\n",
              "    background-color: var(--hover-bg-color);\n",
              "    box-shadow: 0 1px 2px rgba(60, 64, 67, 0.3), 0 1px 3px 1px rgba(60, 64, 67, 0.15);\n",
              "    fill: var(--button-hover-fill-color);\n",
              "  }\n",
              "\n",
              "  .colab-df-quickchart-complete:disabled,\n",
              "  .colab-df-quickchart-complete:disabled:hover {\n",
              "    background-color: var(--disabled-bg-color);\n",
              "    fill: var(--disabled-fill-color);\n",
              "    box-shadow: none;\n",
              "  }\n",
              "\n",
              "  .colab-df-spinner {\n",
              "    border: 2px solid var(--fill-color);\n",
              "    border-color: transparent;\n",
              "    border-bottom-color: var(--fill-color);\n",
              "    animation:\n",
              "      spin 1s steps(1) infinite;\n",
              "  }\n",
              "\n",
              "  @keyframes spin {\n",
              "    0% {\n",
              "      border-color: transparent;\n",
              "      border-bottom-color: var(--fill-color);\n",
              "      border-left-color: var(--fill-color);\n",
              "    }\n",
              "    20% {\n",
              "      border-color: transparent;\n",
              "      border-left-color: var(--fill-color);\n",
              "      border-top-color: var(--fill-color);\n",
              "    }\n",
              "    30% {\n",
              "      border-color: transparent;\n",
              "      border-left-color: var(--fill-color);\n",
              "      border-top-color: var(--fill-color);\n",
              "      border-right-color: var(--fill-color);\n",
              "    }\n",
              "    40% {\n",
              "      border-color: transparent;\n",
              "      border-right-color: var(--fill-color);\n",
              "      border-top-color: var(--fill-color);\n",
              "    }\n",
              "    60% {\n",
              "      border-color: transparent;\n",
              "      border-right-color: var(--fill-color);\n",
              "    }\n",
              "    80% {\n",
              "      border-color: transparent;\n",
              "      border-right-color: var(--fill-color);\n",
              "      border-bottom-color: var(--fill-color);\n",
              "    }\n",
              "    90% {\n",
              "      border-color: transparent;\n",
              "      border-bottom-color: var(--fill-color);\n",
              "    }\n",
              "  }\n",
              "</style>\n",
              "\n",
              "  <script>\n",
              "    async function quickchart(key) {\n",
              "      const quickchartButtonEl =\n",
              "        document.querySelector('#' + key + ' button');\n",
              "      quickchartButtonEl.disabled = true;  // To prevent multiple clicks.\n",
              "      quickchartButtonEl.classList.add('colab-df-spinner');\n",
              "      try {\n",
              "        const charts = await google.colab.kernel.invokeFunction(\n",
              "            'suggestCharts', [key], {});\n",
              "      } catch (error) {\n",
              "        console.error('Error during call to suggestCharts:', error);\n",
              "      }\n",
              "      quickchartButtonEl.classList.remove('colab-df-spinner');\n",
              "      quickchartButtonEl.classList.add('colab-df-quickchart-complete');\n",
              "    }\n",
              "    (() => {\n",
              "      let quickchartButtonEl =\n",
              "        document.querySelector('#df-f1dcb9c3-1bd3-4957-98a8-fe9b6ff9b0bb button');\n",
              "      quickchartButtonEl.style.display =\n",
              "        google.colab.kernel.accessAllowed ? 'block' : 'none';\n",
              "    })();\n",
              "  </script>\n",
              "</div>\n",
              "    </div>\n",
              "  </div>\n"
            ],
            "application/vnd.google.colaboratory.intrinsic+json": {
              "type": "dataframe"
            }
          },
          "metadata": {},
          "execution_count": 216
        }
      ]
    },
    {
      "cell_type": "code",
      "source": [
        "player_df.shape"
      ],
      "metadata": {
        "id": "gnZ5ZZ2eiX3u",
        "colab": {
          "base_uri": "https://localhost:8080/"
        },
        "outputId": "f675f2d2-b704-414b-f5ff-d2af06028a92"
      },
      "execution_count": null,
      "outputs": [
        {
          "output_type": "execute_result",
          "data": {
            "text/plain": [
              "(31787, 32)"
            ]
          },
          "metadata": {},
          "execution_count": 217
        }
      ]
    },
    {
      "cell_type": "code",
      "source": [
        "player_df.info()"
      ],
      "metadata": {
        "id": "khFelXONi1Kk",
        "colab": {
          "base_uri": "https://localhost:8080/"
        },
        "outputId": "9f49b366-bcbb-47da-f9e8-b0daa560ff9e"
      },
      "execution_count": null,
      "outputs": [
        {
          "output_type": "stream",
          "name": "stdout",
          "text": [
            "<class 'pandas.core.frame.DataFrame'>\n",
            "RangeIndex: 31787 entries, 0 to 31786\n",
            "Data columns (total 32 columns):\n",
            " #   Column                           Non-Null Count  Dtype  \n",
            "---  ------                           --------------  -----  \n",
            " 0   SEASON                           31787 non-null  int64  \n",
            " 1   PLAYER_ID                        31787 non-null  int64  \n",
            " 2   PLAYER                           31787 non-null  object \n",
            " 3   AGE                              31765 non-null  float64\n",
            " 4   EXPERIENCE                       31787 non-null  int64  \n",
            " 5   TEAM_ABBREVIATION                31787 non-null  object \n",
            " 6   GAMES                            31787 non-null  int64  \n",
            " 7   GAMES_STARTED                    23150 non-null  float64\n",
            " 8   MINUTES_PLAYED                   30704 non-null  float64\n",
            " 9   FIELD_GOALS_MADE                 31787 non-null  int64  \n",
            " 10  FIELD_GOALS_AGAINST              31787 non-null  int64  \n",
            " 11  FIELD_GOAL_PERCENTAGE_x          31628 non-null  float64\n",
            " 12  THREE_POINTERS_MADE              25435 non-null  float64\n",
            " 13  THREE_POINTERS_PERCENTAGE        21250 non-null  float64\n",
            " 14  TWO_POINTERS_MADE                31787 non-null  int64  \n",
            " 15  TWO_POINTERS_PERCENTAGE          31540 non-null  float64\n",
            " 16  EFFECTIVE_FIELD_GOAL_PERCENTAGE  31628 non-null  float64\n",
            " 17  FREE_THROWS_MADE                 31787 non-null  int64  \n",
            " 18  FREE_THROW_ATTEMPTED             31787 non-null  int64  \n",
            " 19  FREE_THROW_PERCENTAGE            30488 non-null  float64\n",
            " 20  OFFENSIVE_REBOUND                27130 non-null  float64\n",
            " 21  DEFENSIVE_REBOUND                27130 non-null  float64\n",
            " 22  TOTAL_REBOUND                    30893 non-null  float64\n",
            " 23  ASSISTS                          31787 non-null  int64  \n",
            " 24  STEALS                           26161 non-null  float64\n",
            " 25  BLOCK                            26162 non-null  float64\n",
            " 26  TURNOVER                         26152 non-null  float64\n",
            " 27  PERSONAL_FOUL                    31787 non-null  int64  \n",
            " 28  TOTAL_POINTS                     31787 non-null  int64  \n",
            " 29  TEAM                             16702 non-null  object \n",
            " 30  OFFESNIVE_Rating                 16635 non-null  float64\n",
            " 31  DEFENSIVE RATING                 16697 non-null  float64\n",
            "dtypes: float64(17), int64(12), object(3)\n",
            "memory usage: 7.8+ MB\n"
          ]
        }
      ]
    },
    {
      "cell_type": "code",
      "source": [
        "player_df.head()"
      ],
      "metadata": {
        "id": "3rBtgvKOjFzD",
        "colab": {
          "base_uri": "https://localhost:8080/",
          "height": 360
        },
        "outputId": "c2cee4af-f40d-446c-aec9-6c78ec2387b0"
      },
      "execution_count": null,
      "outputs": [
        {
          "output_type": "execute_result",
          "data": {
            "text/plain": [
              "   SEASON  PLAYER_ID         PLAYER   AGE  EXPERIENCE TEAM_ABBREVIATION  \\\n",
              "0    2024       5025     A.J. Green  24.0           2               MIL   \n",
              "1    2024       5026    A.J. Lawson  23.0           2               DAL   \n",
              "2    2024       5027     AJ Griffin  20.0           2               ATL   \n",
              "3    2024       4219   Aaron Gordon  28.0          10               DEN   \n",
              "4    2024       4582  Aaron Holiday  27.0           6               HOU   \n",
              "\n",
              "   GAMES  GAMES_STARTED  MINUTES_PLAYED  FIELD_GOALS_MADE  ...  TOTAL_REBOUND  \\\n",
              "0     36            0.0           335.0                52  ...           38.0   \n",
              "1     27            0.0           230.0                39  ...           32.0   \n",
              "2     18            0.0           132.0                13  ...           14.0   \n",
              "3     49           49.0          1555.0               266  ...          327.0   \n",
              "4     51            1.0           913.0               134  ...           95.0   \n",
              "\n",
              "   ASSISTS  STEALS  BLOCK  TURNOVER  PERSONAL_FOUL  TOTAL_POINTS  TEAM  \\\n",
              "0       21     3.0    2.0       4.0             34           156   MIL   \n",
              "1       13     9.0    3.0      10.0             19           103   DAL   \n",
              "2        4     1.0    1.0       6.0              6            37   ATL   \n",
              "3      150    37.0   34.0      68.0             90           677   DEN   \n",
              "4       96    28.0    4.0      40.0             83           370   HOU   \n",
              "\n",
              "   OFFESNIVE_Rating  DEFENSIVE RATING  \n",
              "0             128.0             121.0  \n",
              "1             110.0             117.0  \n",
              "2              82.0             126.0  \n",
              "3             123.0             116.0  \n",
              "4             118.0             115.0  \n",
              "\n",
              "[5 rows x 32 columns]"
            ],
            "text/html": [
              "\n",
              "  <div id=\"df-e3deba11-f964-4556-a574-b9925e164e6d\" class=\"colab-df-container\">\n",
              "    <div>\n",
              "<style scoped>\n",
              "    .dataframe tbody tr th:only-of-type {\n",
              "        vertical-align: middle;\n",
              "    }\n",
              "\n",
              "    .dataframe tbody tr th {\n",
              "        vertical-align: top;\n",
              "    }\n",
              "\n",
              "    .dataframe thead th {\n",
              "        text-align: right;\n",
              "    }\n",
              "</style>\n",
              "<table border=\"1\" class=\"dataframe\">\n",
              "  <thead>\n",
              "    <tr style=\"text-align: right;\">\n",
              "      <th></th>\n",
              "      <th>SEASON</th>\n",
              "      <th>PLAYER_ID</th>\n",
              "      <th>PLAYER</th>\n",
              "      <th>AGE</th>\n",
              "      <th>EXPERIENCE</th>\n",
              "      <th>TEAM_ABBREVIATION</th>\n",
              "      <th>GAMES</th>\n",
              "      <th>GAMES_STARTED</th>\n",
              "      <th>MINUTES_PLAYED</th>\n",
              "      <th>FIELD_GOALS_MADE</th>\n",
              "      <th>...</th>\n",
              "      <th>TOTAL_REBOUND</th>\n",
              "      <th>ASSISTS</th>\n",
              "      <th>STEALS</th>\n",
              "      <th>BLOCK</th>\n",
              "      <th>TURNOVER</th>\n",
              "      <th>PERSONAL_FOUL</th>\n",
              "      <th>TOTAL_POINTS</th>\n",
              "      <th>TEAM</th>\n",
              "      <th>OFFESNIVE_Rating</th>\n",
              "      <th>DEFENSIVE RATING</th>\n",
              "    </tr>\n",
              "  </thead>\n",
              "  <tbody>\n",
              "    <tr>\n",
              "      <th>0</th>\n",
              "      <td>2024</td>\n",
              "      <td>5025</td>\n",
              "      <td>A.J. Green</td>\n",
              "      <td>24.0</td>\n",
              "      <td>2</td>\n",
              "      <td>MIL</td>\n",
              "      <td>36</td>\n",
              "      <td>0.0</td>\n",
              "      <td>335.0</td>\n",
              "      <td>52</td>\n",
              "      <td>...</td>\n",
              "      <td>38.0</td>\n",
              "      <td>21</td>\n",
              "      <td>3.0</td>\n",
              "      <td>2.0</td>\n",
              "      <td>4.0</td>\n",
              "      <td>34</td>\n",
              "      <td>156</td>\n",
              "      <td>MIL</td>\n",
              "      <td>128.0</td>\n",
              "      <td>121.0</td>\n",
              "    </tr>\n",
              "    <tr>\n",
              "      <th>1</th>\n",
              "      <td>2024</td>\n",
              "      <td>5026</td>\n",
              "      <td>A.J. Lawson</td>\n",
              "      <td>23.0</td>\n",
              "      <td>2</td>\n",
              "      <td>DAL</td>\n",
              "      <td>27</td>\n",
              "      <td>0.0</td>\n",
              "      <td>230.0</td>\n",
              "      <td>39</td>\n",
              "      <td>...</td>\n",
              "      <td>32.0</td>\n",
              "      <td>13</td>\n",
              "      <td>9.0</td>\n",
              "      <td>3.0</td>\n",
              "      <td>10.0</td>\n",
              "      <td>19</td>\n",
              "      <td>103</td>\n",
              "      <td>DAL</td>\n",
              "      <td>110.0</td>\n",
              "      <td>117.0</td>\n",
              "    </tr>\n",
              "    <tr>\n",
              "      <th>2</th>\n",
              "      <td>2024</td>\n",
              "      <td>5027</td>\n",
              "      <td>AJ Griffin</td>\n",
              "      <td>20.0</td>\n",
              "      <td>2</td>\n",
              "      <td>ATL</td>\n",
              "      <td>18</td>\n",
              "      <td>0.0</td>\n",
              "      <td>132.0</td>\n",
              "      <td>13</td>\n",
              "      <td>...</td>\n",
              "      <td>14.0</td>\n",
              "      <td>4</td>\n",
              "      <td>1.0</td>\n",
              "      <td>1.0</td>\n",
              "      <td>6.0</td>\n",
              "      <td>6</td>\n",
              "      <td>37</td>\n",
              "      <td>ATL</td>\n",
              "      <td>82.0</td>\n",
              "      <td>126.0</td>\n",
              "    </tr>\n",
              "    <tr>\n",
              "      <th>3</th>\n",
              "      <td>2024</td>\n",
              "      <td>4219</td>\n",
              "      <td>Aaron Gordon</td>\n",
              "      <td>28.0</td>\n",
              "      <td>10</td>\n",
              "      <td>DEN</td>\n",
              "      <td>49</td>\n",
              "      <td>49.0</td>\n",
              "      <td>1555.0</td>\n",
              "      <td>266</td>\n",
              "      <td>...</td>\n",
              "      <td>327.0</td>\n",
              "      <td>150</td>\n",
              "      <td>37.0</td>\n",
              "      <td>34.0</td>\n",
              "      <td>68.0</td>\n",
              "      <td>90</td>\n",
              "      <td>677</td>\n",
              "      <td>DEN</td>\n",
              "      <td>123.0</td>\n",
              "      <td>116.0</td>\n",
              "    </tr>\n",
              "    <tr>\n",
              "      <th>4</th>\n",
              "      <td>2024</td>\n",
              "      <td>4582</td>\n",
              "      <td>Aaron Holiday</td>\n",
              "      <td>27.0</td>\n",
              "      <td>6</td>\n",
              "      <td>HOU</td>\n",
              "      <td>51</td>\n",
              "      <td>1.0</td>\n",
              "      <td>913.0</td>\n",
              "      <td>134</td>\n",
              "      <td>...</td>\n",
              "      <td>95.0</td>\n",
              "      <td>96</td>\n",
              "      <td>28.0</td>\n",
              "      <td>4.0</td>\n",
              "      <td>40.0</td>\n",
              "      <td>83</td>\n",
              "      <td>370</td>\n",
              "      <td>HOU</td>\n",
              "      <td>118.0</td>\n",
              "      <td>115.0</td>\n",
              "    </tr>\n",
              "  </tbody>\n",
              "</table>\n",
              "<p>5 rows × 32 columns</p>\n",
              "</div>\n",
              "    <div class=\"colab-df-buttons\">\n",
              "\n",
              "  <div class=\"colab-df-container\">\n",
              "    <button class=\"colab-df-convert\" onclick=\"convertToInteractive('df-e3deba11-f964-4556-a574-b9925e164e6d')\"\n",
              "            title=\"Convert this dataframe to an interactive table.\"\n",
              "            style=\"display:none;\">\n",
              "\n",
              "  <svg xmlns=\"http://www.w3.org/2000/svg\" height=\"24px\" viewBox=\"0 -960 960 960\">\n",
              "    <path d=\"M120-120v-720h720v720H120Zm60-500h600v-160H180v160Zm220 220h160v-160H400v160Zm0 220h160v-160H400v160ZM180-400h160v-160H180v160Zm440 0h160v-160H620v160ZM180-180h160v-160H180v160Zm440 0h160v-160H620v160Z\"/>\n",
              "  </svg>\n",
              "    </button>\n",
              "\n",
              "  <style>\n",
              "    .colab-df-container {\n",
              "      display:flex;\n",
              "      gap: 12px;\n",
              "    }\n",
              "\n",
              "    .colab-df-convert {\n",
              "      background-color: #E8F0FE;\n",
              "      border: none;\n",
              "      border-radius: 50%;\n",
              "      cursor: pointer;\n",
              "      display: none;\n",
              "      fill: #1967D2;\n",
              "      height: 32px;\n",
              "      padding: 0 0 0 0;\n",
              "      width: 32px;\n",
              "    }\n",
              "\n",
              "    .colab-df-convert:hover {\n",
              "      background-color: #E2EBFA;\n",
              "      box-shadow: 0px 1px 2px rgba(60, 64, 67, 0.3), 0px 1px 3px 1px rgba(60, 64, 67, 0.15);\n",
              "      fill: #174EA6;\n",
              "    }\n",
              "\n",
              "    .colab-df-buttons div {\n",
              "      margin-bottom: 4px;\n",
              "    }\n",
              "\n",
              "    [theme=dark] .colab-df-convert {\n",
              "      background-color: #3B4455;\n",
              "      fill: #D2E3FC;\n",
              "    }\n",
              "\n",
              "    [theme=dark] .colab-df-convert:hover {\n",
              "      background-color: #434B5C;\n",
              "      box-shadow: 0px 1px 3px 1px rgba(0, 0, 0, 0.15);\n",
              "      filter: drop-shadow(0px 1px 2px rgba(0, 0, 0, 0.3));\n",
              "      fill: #FFFFFF;\n",
              "    }\n",
              "  </style>\n",
              "\n",
              "    <script>\n",
              "      const buttonEl =\n",
              "        document.querySelector('#df-e3deba11-f964-4556-a574-b9925e164e6d button.colab-df-convert');\n",
              "      buttonEl.style.display =\n",
              "        google.colab.kernel.accessAllowed ? 'block' : 'none';\n",
              "\n",
              "      async function convertToInteractive(key) {\n",
              "        const element = document.querySelector('#df-e3deba11-f964-4556-a574-b9925e164e6d');\n",
              "        const dataTable =\n",
              "          await google.colab.kernel.invokeFunction('convertToInteractive',\n",
              "                                                    [key], {});\n",
              "        if (!dataTable) return;\n",
              "\n",
              "        const docLinkHtml = 'Like what you see? Visit the ' +\n",
              "          '<a target=\"_blank\" href=https://colab.research.google.com/notebooks/data_table.ipynb>data table notebook</a>'\n",
              "          + ' to learn more about interactive tables.';\n",
              "        element.innerHTML = '';\n",
              "        dataTable['output_type'] = 'display_data';\n",
              "        await google.colab.output.renderOutput(dataTable, element);\n",
              "        const docLink = document.createElement('div');\n",
              "        docLink.innerHTML = docLinkHtml;\n",
              "        element.appendChild(docLink);\n",
              "      }\n",
              "    </script>\n",
              "  </div>\n",
              "\n",
              "\n",
              "<div id=\"df-1e4a9d40-734e-4763-b8bb-e14447d44760\">\n",
              "  <button class=\"colab-df-quickchart\" onclick=\"quickchart('df-1e4a9d40-734e-4763-b8bb-e14447d44760')\"\n",
              "            title=\"Suggest charts\"\n",
              "            style=\"display:none;\">\n",
              "\n",
              "<svg xmlns=\"http://www.w3.org/2000/svg\" height=\"24px\"viewBox=\"0 0 24 24\"\n",
              "     width=\"24px\">\n",
              "    <g>\n",
              "        <path d=\"M19 3H5c-1.1 0-2 .9-2 2v14c0 1.1.9 2 2 2h14c1.1 0 2-.9 2-2V5c0-1.1-.9-2-2-2zM9 17H7v-7h2v7zm4 0h-2V7h2v10zm4 0h-2v-4h2v4z\"/>\n",
              "    </g>\n",
              "</svg>\n",
              "  </button>\n",
              "\n",
              "<style>\n",
              "  .colab-df-quickchart {\n",
              "      --bg-color: #E8F0FE;\n",
              "      --fill-color: #1967D2;\n",
              "      --hover-bg-color: #E2EBFA;\n",
              "      --hover-fill-color: #174EA6;\n",
              "      --disabled-fill-color: #AAA;\n",
              "      --disabled-bg-color: #DDD;\n",
              "  }\n",
              "\n",
              "  [theme=dark] .colab-df-quickchart {\n",
              "      --bg-color: #3B4455;\n",
              "      --fill-color: #D2E3FC;\n",
              "      --hover-bg-color: #434B5C;\n",
              "      --hover-fill-color: #FFFFFF;\n",
              "      --disabled-bg-color: #3B4455;\n",
              "      --disabled-fill-color: #666;\n",
              "  }\n",
              "\n",
              "  .colab-df-quickchart {\n",
              "    background-color: var(--bg-color);\n",
              "    border: none;\n",
              "    border-radius: 50%;\n",
              "    cursor: pointer;\n",
              "    display: none;\n",
              "    fill: var(--fill-color);\n",
              "    height: 32px;\n",
              "    padding: 0;\n",
              "    width: 32px;\n",
              "  }\n",
              "\n",
              "  .colab-df-quickchart:hover {\n",
              "    background-color: var(--hover-bg-color);\n",
              "    box-shadow: 0 1px 2px rgba(60, 64, 67, 0.3), 0 1px 3px 1px rgba(60, 64, 67, 0.15);\n",
              "    fill: var(--button-hover-fill-color);\n",
              "  }\n",
              "\n",
              "  .colab-df-quickchart-complete:disabled,\n",
              "  .colab-df-quickchart-complete:disabled:hover {\n",
              "    background-color: var(--disabled-bg-color);\n",
              "    fill: var(--disabled-fill-color);\n",
              "    box-shadow: none;\n",
              "  }\n",
              "\n",
              "  .colab-df-spinner {\n",
              "    border: 2px solid var(--fill-color);\n",
              "    border-color: transparent;\n",
              "    border-bottom-color: var(--fill-color);\n",
              "    animation:\n",
              "      spin 1s steps(1) infinite;\n",
              "  }\n",
              "\n",
              "  @keyframes spin {\n",
              "    0% {\n",
              "      border-color: transparent;\n",
              "      border-bottom-color: var(--fill-color);\n",
              "      border-left-color: var(--fill-color);\n",
              "    }\n",
              "    20% {\n",
              "      border-color: transparent;\n",
              "      border-left-color: var(--fill-color);\n",
              "      border-top-color: var(--fill-color);\n",
              "    }\n",
              "    30% {\n",
              "      border-color: transparent;\n",
              "      border-left-color: var(--fill-color);\n",
              "      border-top-color: var(--fill-color);\n",
              "      border-right-color: var(--fill-color);\n",
              "    }\n",
              "    40% {\n",
              "      border-color: transparent;\n",
              "      border-right-color: var(--fill-color);\n",
              "      border-top-color: var(--fill-color);\n",
              "    }\n",
              "    60% {\n",
              "      border-color: transparent;\n",
              "      border-right-color: var(--fill-color);\n",
              "    }\n",
              "    80% {\n",
              "      border-color: transparent;\n",
              "      border-right-color: var(--fill-color);\n",
              "      border-bottom-color: var(--fill-color);\n",
              "    }\n",
              "    90% {\n",
              "      border-color: transparent;\n",
              "      border-bottom-color: var(--fill-color);\n",
              "    }\n",
              "  }\n",
              "</style>\n",
              "\n",
              "  <script>\n",
              "    async function quickchart(key) {\n",
              "      const quickchartButtonEl =\n",
              "        document.querySelector('#' + key + ' button');\n",
              "      quickchartButtonEl.disabled = true;  // To prevent multiple clicks.\n",
              "      quickchartButtonEl.classList.add('colab-df-spinner');\n",
              "      try {\n",
              "        const charts = await google.colab.kernel.invokeFunction(\n",
              "            'suggestCharts', [key], {});\n",
              "      } catch (error) {\n",
              "        console.error('Error during call to suggestCharts:', error);\n",
              "      }\n",
              "      quickchartButtonEl.classList.remove('colab-df-spinner');\n",
              "      quickchartButtonEl.classList.add('colab-df-quickchart-complete');\n",
              "    }\n",
              "    (() => {\n",
              "      let quickchartButtonEl =\n",
              "        document.querySelector('#df-1e4a9d40-734e-4763-b8bb-e14447d44760 button');\n",
              "      quickchartButtonEl.style.display =\n",
              "        google.colab.kernel.accessAllowed ? 'block' : 'none';\n",
              "    })();\n",
              "  </script>\n",
              "</div>\n",
              "    </div>\n",
              "  </div>\n"
            ],
            "application/vnd.google.colaboratory.intrinsic+json": {
              "type": "dataframe",
              "variable_name": "player_df"
            }
          },
          "metadata": {},
          "execution_count": 219
        }
      ]
    },
    {
      "cell_type": "code",
      "source": [
        "player_df.isnull().sum().tolist()\n"
      ],
      "metadata": {
        "id": "SUMQrvVbpdlC",
        "colab": {
          "base_uri": "https://localhost:8080/"
        },
        "outputId": "b949ae2a-1aa6-4fe0-a91e-cb17cdae8cd0"
      },
      "execution_count": null,
      "outputs": [
        {
          "output_type": "execute_result",
          "data": {
            "text/plain": [
              "[0,\n",
              " 0,\n",
              " 0,\n",
              " 22,\n",
              " 0,\n",
              " 0,\n",
              " 0,\n",
              " 8637,\n",
              " 1083,\n",
              " 0,\n",
              " 0,\n",
              " 159,\n",
              " 6352,\n",
              " 10537,\n",
              " 0,\n",
              " 247,\n",
              " 159,\n",
              " 0,\n",
              " 0,\n",
              " 1299,\n",
              " 4657,\n",
              " 4657,\n",
              " 894,\n",
              " 0,\n",
              " 5626,\n",
              " 5625,\n",
              " 5635,\n",
              " 0,\n",
              " 0,\n",
              " 15085,\n",
              " 15152,\n",
              " 15090]"
            ]
          },
          "metadata": {},
          "execution_count": 220
        }
      ]
    },
    {
      "cell_type": "code",
      "source": [
        "player_df['SEASON'].nunique()\n"
      ],
      "metadata": {
        "id": "xRpjTK15qXoV",
        "colab": {
          "base_uri": "https://localhost:8080/"
        },
        "outputId": "d520581c-9219-4942-a5b0-86ae88253154"
      },
      "execution_count": null,
      "outputs": [
        {
          "output_type": "execute_result",
          "data": {
            "text/plain": [
              "78"
            ]
          },
          "metadata": {},
          "execution_count": 221
        }
      ]
    },
    {
      "cell_type": "code",
      "source": [
        "player_df['PLAYER_ID'].nunique()"
      ],
      "metadata": {
        "id": "TbSqxbN0qvo2",
        "colab": {
          "base_uri": "https://localhost:8080/"
        },
        "outputId": "8732428a-17cd-4cb4-9331-83abb000f60a"
      },
      "execution_count": null,
      "outputs": [
        {
          "output_type": "execute_result",
          "data": {
            "text/plain": [
              "5197"
            ]
          },
          "metadata": {},
          "execution_count": 222
        }
      ]
    },
    {
      "cell_type": "code",
      "source": [
        "player_df = player_df.rename(columns={'FIELD_GOAL_PERCENTAGE_x': 'FIELD_GOAL_PERCENTAGE'})\n",
        "player_df = player_df.rename(columns={'FIELD_GOALS_AGAINST': 'FIELD_GOAL_ATTEMPTED'})\n",
        "player_df = player_df.rename(columns={'OFFESNIVE_Rating': 'OFFENSIVE_RATING'})"
      ],
      "metadata": {
        "id": "fhbzqjkNl9_z"
      },
      "execution_count": null,
      "outputs": []
    },
    {
      "cell_type": "code",
      "source": [
        "player_df.describe()"
      ],
      "metadata": {
        "id": "jXErjqe5s6fc",
        "colab": {
          "base_uri": "https://localhost:8080/",
          "height": 367
        },
        "outputId": "a5fd37b6-2ffd-4e50-dfe5-f082cc53c1cf"
      },
      "execution_count": null,
      "outputs": [
        {
          "output_type": "execute_result",
          "data": {
            "text/plain": [
              "             SEASON     PLAYER_ID           AGE    EXPERIENCE         GAMES  \\\n",
              "count  31787.000000  31787.000000  31765.000000  31787.000000  31787.000000   \n",
              "mean    1994.973008   2646.740114     26.486164      4.967691     48.607796   \n",
              "std       20.403059   1301.138515      3.844564      3.723561     26.616961   \n",
              "min     1947.000000      1.000000     18.000000      1.000000      1.000000   \n",
              "25%     1979.000000   1625.000000     24.000000      2.000000     25.000000   \n",
              "50%     1998.000000   2733.000000     26.000000      4.000000     53.000000   \n",
              "75%     2012.000000   3718.000000     29.000000      7.000000     74.000000   \n",
              "max     2024.000000   5197.000000     46.000000     22.000000     90.000000   \n",
              "\n",
              "       GAMES_STARTED  MINUTES_PLAYED  FIELD_GOALS_MADE  FIELD_GOAL_ATTEMPTED  \\\n",
              "count   23150.000000    30704.000000      31787.000000          31787.000000   \n",
              "mean       22.406177     1158.959386        187.590965            414.794035   \n",
              "std        27.814887      926.420014        184.565391            391.133337   \n",
              "min         0.000000        0.000000          0.000000              0.000000   \n",
              "25%         0.000000      308.000000         37.000000             90.000000   \n",
              "50%         7.000000      986.000000        132.000000            302.000000   \n",
              "75%        42.000000     1882.000000        286.000000            637.000000   \n",
              "max        83.000000     3882.000000       1597.000000           3159.000000   \n",
              "\n",
              "       FIELD_GOAL_PERCENTAGE  ...  DEFENSIVE_REBOUND  TOTAL_REBOUND  \\\n",
              "count           31628.000000  ...       27130.000000   30893.000000   \n",
              "mean                0.429751  ...         144.706377     216.707345   \n",
              "std                 0.101668  ...         146.348383     224.381109   \n",
              "min                 0.000000  ...           0.000000       0.000000   \n",
              "25%                 0.390000  ...          32.000000      48.000000   \n",
              "50%                 0.438000  ...         103.000000     152.000000   \n",
              "75%                 0.481000  ...         209.000000     308.000000   \n",
              "max                 1.000000  ...        1111.000000    2149.000000   \n",
              "\n",
              "            ASSISTS        STEALS         BLOCK      TURNOVER  PERSONAL_FOUL  \\\n",
              "count  31787.000000  26161.000000  26162.000000  26152.000000   31787.000000   \n",
              "mean     109.247711     37.799014     23.282547     70.743691     109.857961   \n",
              "std      130.954467     37.430130     35.281323     67.437942      83.664565   \n",
              "min        0.000000      0.000000      0.000000      0.000000       0.000000   \n",
              "25%       17.000000      8.000000      3.000000     16.000000      34.000000   \n",
              "50%       64.000000     27.000000     11.000000     51.000000      98.000000   \n",
              "75%      152.000000     56.000000     28.000000    107.000000     173.000000   \n",
              "max     1164.000000    346.000000    456.000000    464.000000     386.000000   \n",
              "\n",
              "       TOTAL_POINTS  OFFENSIVE_RATING  DEFENSIVE RATING  \n",
              "count  31787.000000      16635.000000      16697.000000  \n",
              "mean     492.135433        103.039615        107.991316  \n",
              "std      485.470475         18.632958          5.670590  \n",
              "min        0.000000          0.000000         33.000000  \n",
              "25%       98.000000         97.000000        104.000000  \n",
              "50%      343.000000        105.000000        108.000000  \n",
              "75%      750.000000        112.000000        112.000000  \n",
              "max     4029.000000        300.000000        130.000000  \n",
              "\n",
              "[8 rows x 29 columns]"
            ],
            "text/html": [
              "\n",
              "  <div id=\"df-66cadf59-1413-470a-8f26-83135bfadad6\" class=\"colab-df-container\">\n",
              "    <div>\n",
              "<style scoped>\n",
              "    .dataframe tbody tr th:only-of-type {\n",
              "        vertical-align: middle;\n",
              "    }\n",
              "\n",
              "    .dataframe tbody tr th {\n",
              "        vertical-align: top;\n",
              "    }\n",
              "\n",
              "    .dataframe thead th {\n",
              "        text-align: right;\n",
              "    }\n",
              "</style>\n",
              "<table border=\"1\" class=\"dataframe\">\n",
              "  <thead>\n",
              "    <tr style=\"text-align: right;\">\n",
              "      <th></th>\n",
              "      <th>SEASON</th>\n",
              "      <th>PLAYER_ID</th>\n",
              "      <th>AGE</th>\n",
              "      <th>EXPERIENCE</th>\n",
              "      <th>GAMES</th>\n",
              "      <th>GAMES_STARTED</th>\n",
              "      <th>MINUTES_PLAYED</th>\n",
              "      <th>FIELD_GOALS_MADE</th>\n",
              "      <th>FIELD_GOAL_ATTEMPTED</th>\n",
              "      <th>FIELD_GOAL_PERCENTAGE</th>\n",
              "      <th>...</th>\n",
              "      <th>DEFENSIVE_REBOUND</th>\n",
              "      <th>TOTAL_REBOUND</th>\n",
              "      <th>ASSISTS</th>\n",
              "      <th>STEALS</th>\n",
              "      <th>BLOCK</th>\n",
              "      <th>TURNOVER</th>\n",
              "      <th>PERSONAL_FOUL</th>\n",
              "      <th>TOTAL_POINTS</th>\n",
              "      <th>OFFENSIVE_RATING</th>\n",
              "      <th>DEFENSIVE RATING</th>\n",
              "    </tr>\n",
              "  </thead>\n",
              "  <tbody>\n",
              "    <tr>\n",
              "      <th>count</th>\n",
              "      <td>31787.000000</td>\n",
              "      <td>31787.000000</td>\n",
              "      <td>31765.000000</td>\n",
              "      <td>31787.000000</td>\n",
              "      <td>31787.000000</td>\n",
              "      <td>23150.000000</td>\n",
              "      <td>30704.000000</td>\n",
              "      <td>31787.000000</td>\n",
              "      <td>31787.000000</td>\n",
              "      <td>31628.000000</td>\n",
              "      <td>...</td>\n",
              "      <td>27130.000000</td>\n",
              "      <td>30893.000000</td>\n",
              "      <td>31787.000000</td>\n",
              "      <td>26161.000000</td>\n",
              "      <td>26162.000000</td>\n",
              "      <td>26152.000000</td>\n",
              "      <td>31787.000000</td>\n",
              "      <td>31787.000000</td>\n",
              "      <td>16635.000000</td>\n",
              "      <td>16697.000000</td>\n",
              "    </tr>\n",
              "    <tr>\n",
              "      <th>mean</th>\n",
              "      <td>1994.973008</td>\n",
              "      <td>2646.740114</td>\n",
              "      <td>26.486164</td>\n",
              "      <td>4.967691</td>\n",
              "      <td>48.607796</td>\n",
              "      <td>22.406177</td>\n",
              "      <td>1158.959386</td>\n",
              "      <td>187.590965</td>\n",
              "      <td>414.794035</td>\n",
              "      <td>0.429751</td>\n",
              "      <td>...</td>\n",
              "      <td>144.706377</td>\n",
              "      <td>216.707345</td>\n",
              "      <td>109.247711</td>\n",
              "      <td>37.799014</td>\n",
              "      <td>23.282547</td>\n",
              "      <td>70.743691</td>\n",
              "      <td>109.857961</td>\n",
              "      <td>492.135433</td>\n",
              "      <td>103.039615</td>\n",
              "      <td>107.991316</td>\n",
              "    </tr>\n",
              "    <tr>\n",
              "      <th>std</th>\n",
              "      <td>20.403059</td>\n",
              "      <td>1301.138515</td>\n",
              "      <td>3.844564</td>\n",
              "      <td>3.723561</td>\n",
              "      <td>26.616961</td>\n",
              "      <td>27.814887</td>\n",
              "      <td>926.420014</td>\n",
              "      <td>184.565391</td>\n",
              "      <td>391.133337</td>\n",
              "      <td>0.101668</td>\n",
              "      <td>...</td>\n",
              "      <td>146.348383</td>\n",
              "      <td>224.381109</td>\n",
              "      <td>130.954467</td>\n",
              "      <td>37.430130</td>\n",
              "      <td>35.281323</td>\n",
              "      <td>67.437942</td>\n",
              "      <td>83.664565</td>\n",
              "      <td>485.470475</td>\n",
              "      <td>18.632958</td>\n",
              "      <td>5.670590</td>\n",
              "    </tr>\n",
              "    <tr>\n",
              "      <th>min</th>\n",
              "      <td>1947.000000</td>\n",
              "      <td>1.000000</td>\n",
              "      <td>18.000000</td>\n",
              "      <td>1.000000</td>\n",
              "      <td>1.000000</td>\n",
              "      <td>0.000000</td>\n",
              "      <td>0.000000</td>\n",
              "      <td>0.000000</td>\n",
              "      <td>0.000000</td>\n",
              "      <td>0.000000</td>\n",
              "      <td>...</td>\n",
              "      <td>0.000000</td>\n",
              "      <td>0.000000</td>\n",
              "      <td>0.000000</td>\n",
              "      <td>0.000000</td>\n",
              "      <td>0.000000</td>\n",
              "      <td>0.000000</td>\n",
              "      <td>0.000000</td>\n",
              "      <td>0.000000</td>\n",
              "      <td>0.000000</td>\n",
              "      <td>33.000000</td>\n",
              "    </tr>\n",
              "    <tr>\n",
              "      <th>25%</th>\n",
              "      <td>1979.000000</td>\n",
              "      <td>1625.000000</td>\n",
              "      <td>24.000000</td>\n",
              "      <td>2.000000</td>\n",
              "      <td>25.000000</td>\n",
              "      <td>0.000000</td>\n",
              "      <td>308.000000</td>\n",
              "      <td>37.000000</td>\n",
              "      <td>90.000000</td>\n",
              "      <td>0.390000</td>\n",
              "      <td>...</td>\n",
              "      <td>32.000000</td>\n",
              "      <td>48.000000</td>\n",
              "      <td>17.000000</td>\n",
              "      <td>8.000000</td>\n",
              "      <td>3.000000</td>\n",
              "      <td>16.000000</td>\n",
              "      <td>34.000000</td>\n",
              "      <td>98.000000</td>\n",
              "      <td>97.000000</td>\n",
              "      <td>104.000000</td>\n",
              "    </tr>\n",
              "    <tr>\n",
              "      <th>50%</th>\n",
              "      <td>1998.000000</td>\n",
              "      <td>2733.000000</td>\n",
              "      <td>26.000000</td>\n",
              "      <td>4.000000</td>\n",
              "      <td>53.000000</td>\n",
              "      <td>7.000000</td>\n",
              "      <td>986.000000</td>\n",
              "      <td>132.000000</td>\n",
              "      <td>302.000000</td>\n",
              "      <td>0.438000</td>\n",
              "      <td>...</td>\n",
              "      <td>103.000000</td>\n",
              "      <td>152.000000</td>\n",
              "      <td>64.000000</td>\n",
              "      <td>27.000000</td>\n",
              "      <td>11.000000</td>\n",
              "      <td>51.000000</td>\n",
              "      <td>98.000000</td>\n",
              "      <td>343.000000</td>\n",
              "      <td>105.000000</td>\n",
              "      <td>108.000000</td>\n",
              "    </tr>\n",
              "    <tr>\n",
              "      <th>75%</th>\n",
              "      <td>2012.000000</td>\n",
              "      <td>3718.000000</td>\n",
              "      <td>29.000000</td>\n",
              "      <td>7.000000</td>\n",
              "      <td>74.000000</td>\n",
              "      <td>42.000000</td>\n",
              "      <td>1882.000000</td>\n",
              "      <td>286.000000</td>\n",
              "      <td>637.000000</td>\n",
              "      <td>0.481000</td>\n",
              "      <td>...</td>\n",
              "      <td>209.000000</td>\n",
              "      <td>308.000000</td>\n",
              "      <td>152.000000</td>\n",
              "      <td>56.000000</td>\n",
              "      <td>28.000000</td>\n",
              "      <td>107.000000</td>\n",
              "      <td>173.000000</td>\n",
              "      <td>750.000000</td>\n",
              "      <td>112.000000</td>\n",
              "      <td>112.000000</td>\n",
              "    </tr>\n",
              "    <tr>\n",
              "      <th>max</th>\n",
              "      <td>2024.000000</td>\n",
              "      <td>5197.000000</td>\n",
              "      <td>46.000000</td>\n",
              "      <td>22.000000</td>\n",
              "      <td>90.000000</td>\n",
              "      <td>83.000000</td>\n",
              "      <td>3882.000000</td>\n",
              "      <td>1597.000000</td>\n",
              "      <td>3159.000000</td>\n",
              "      <td>1.000000</td>\n",
              "      <td>...</td>\n",
              "      <td>1111.000000</td>\n",
              "      <td>2149.000000</td>\n",
              "      <td>1164.000000</td>\n",
              "      <td>346.000000</td>\n",
              "      <td>456.000000</td>\n",
              "      <td>464.000000</td>\n",
              "      <td>386.000000</td>\n",
              "      <td>4029.000000</td>\n",
              "      <td>300.000000</td>\n",
              "      <td>130.000000</td>\n",
              "    </tr>\n",
              "  </tbody>\n",
              "</table>\n",
              "<p>8 rows × 29 columns</p>\n",
              "</div>\n",
              "    <div class=\"colab-df-buttons\">\n",
              "\n",
              "  <div class=\"colab-df-container\">\n",
              "    <button class=\"colab-df-convert\" onclick=\"convertToInteractive('df-66cadf59-1413-470a-8f26-83135bfadad6')\"\n",
              "            title=\"Convert this dataframe to an interactive table.\"\n",
              "            style=\"display:none;\">\n",
              "\n",
              "  <svg xmlns=\"http://www.w3.org/2000/svg\" height=\"24px\" viewBox=\"0 -960 960 960\">\n",
              "    <path d=\"M120-120v-720h720v720H120Zm60-500h600v-160H180v160Zm220 220h160v-160H400v160Zm0 220h160v-160H400v160ZM180-400h160v-160H180v160Zm440 0h160v-160H620v160ZM180-180h160v-160H180v160Zm440 0h160v-160H620v160Z\"/>\n",
              "  </svg>\n",
              "    </button>\n",
              "\n",
              "  <style>\n",
              "    .colab-df-container {\n",
              "      display:flex;\n",
              "      gap: 12px;\n",
              "    }\n",
              "\n",
              "    .colab-df-convert {\n",
              "      background-color: #E8F0FE;\n",
              "      border: none;\n",
              "      border-radius: 50%;\n",
              "      cursor: pointer;\n",
              "      display: none;\n",
              "      fill: #1967D2;\n",
              "      height: 32px;\n",
              "      padding: 0 0 0 0;\n",
              "      width: 32px;\n",
              "    }\n",
              "\n",
              "    .colab-df-convert:hover {\n",
              "      background-color: #E2EBFA;\n",
              "      box-shadow: 0px 1px 2px rgba(60, 64, 67, 0.3), 0px 1px 3px 1px rgba(60, 64, 67, 0.15);\n",
              "      fill: #174EA6;\n",
              "    }\n",
              "\n",
              "    .colab-df-buttons div {\n",
              "      margin-bottom: 4px;\n",
              "    }\n",
              "\n",
              "    [theme=dark] .colab-df-convert {\n",
              "      background-color: #3B4455;\n",
              "      fill: #D2E3FC;\n",
              "    }\n",
              "\n",
              "    [theme=dark] .colab-df-convert:hover {\n",
              "      background-color: #434B5C;\n",
              "      box-shadow: 0px 1px 3px 1px rgba(0, 0, 0, 0.15);\n",
              "      filter: drop-shadow(0px 1px 2px rgba(0, 0, 0, 0.3));\n",
              "      fill: #FFFFFF;\n",
              "    }\n",
              "  </style>\n",
              "\n",
              "    <script>\n",
              "      const buttonEl =\n",
              "        document.querySelector('#df-66cadf59-1413-470a-8f26-83135bfadad6 button.colab-df-convert');\n",
              "      buttonEl.style.display =\n",
              "        google.colab.kernel.accessAllowed ? 'block' : 'none';\n",
              "\n",
              "      async function convertToInteractive(key) {\n",
              "        const element = document.querySelector('#df-66cadf59-1413-470a-8f26-83135bfadad6');\n",
              "        const dataTable =\n",
              "          await google.colab.kernel.invokeFunction('convertToInteractive',\n",
              "                                                    [key], {});\n",
              "        if (!dataTable) return;\n",
              "\n",
              "        const docLinkHtml = 'Like what you see? Visit the ' +\n",
              "          '<a target=\"_blank\" href=https://colab.research.google.com/notebooks/data_table.ipynb>data table notebook</a>'\n",
              "          + ' to learn more about interactive tables.';\n",
              "        element.innerHTML = '';\n",
              "        dataTable['output_type'] = 'display_data';\n",
              "        await google.colab.output.renderOutput(dataTable, element);\n",
              "        const docLink = document.createElement('div');\n",
              "        docLink.innerHTML = docLinkHtml;\n",
              "        element.appendChild(docLink);\n",
              "      }\n",
              "    </script>\n",
              "  </div>\n",
              "\n",
              "\n",
              "<div id=\"df-50ec7dc2-7622-48d1-b3b2-610a39bb9d7a\">\n",
              "  <button class=\"colab-df-quickchart\" onclick=\"quickchart('df-50ec7dc2-7622-48d1-b3b2-610a39bb9d7a')\"\n",
              "            title=\"Suggest charts\"\n",
              "            style=\"display:none;\">\n",
              "\n",
              "<svg xmlns=\"http://www.w3.org/2000/svg\" height=\"24px\"viewBox=\"0 0 24 24\"\n",
              "     width=\"24px\">\n",
              "    <g>\n",
              "        <path d=\"M19 3H5c-1.1 0-2 .9-2 2v14c0 1.1.9 2 2 2h14c1.1 0 2-.9 2-2V5c0-1.1-.9-2-2-2zM9 17H7v-7h2v7zm4 0h-2V7h2v10zm4 0h-2v-4h2v4z\"/>\n",
              "    </g>\n",
              "</svg>\n",
              "  </button>\n",
              "\n",
              "<style>\n",
              "  .colab-df-quickchart {\n",
              "      --bg-color: #E8F0FE;\n",
              "      --fill-color: #1967D2;\n",
              "      --hover-bg-color: #E2EBFA;\n",
              "      --hover-fill-color: #174EA6;\n",
              "      --disabled-fill-color: #AAA;\n",
              "      --disabled-bg-color: #DDD;\n",
              "  }\n",
              "\n",
              "  [theme=dark] .colab-df-quickchart {\n",
              "      --bg-color: #3B4455;\n",
              "      --fill-color: #D2E3FC;\n",
              "      --hover-bg-color: #434B5C;\n",
              "      --hover-fill-color: #FFFFFF;\n",
              "      --disabled-bg-color: #3B4455;\n",
              "      --disabled-fill-color: #666;\n",
              "  }\n",
              "\n",
              "  .colab-df-quickchart {\n",
              "    background-color: var(--bg-color);\n",
              "    border: none;\n",
              "    border-radius: 50%;\n",
              "    cursor: pointer;\n",
              "    display: none;\n",
              "    fill: var(--fill-color);\n",
              "    height: 32px;\n",
              "    padding: 0;\n",
              "    width: 32px;\n",
              "  }\n",
              "\n",
              "  .colab-df-quickchart:hover {\n",
              "    background-color: var(--hover-bg-color);\n",
              "    box-shadow: 0 1px 2px rgba(60, 64, 67, 0.3), 0 1px 3px 1px rgba(60, 64, 67, 0.15);\n",
              "    fill: var(--button-hover-fill-color);\n",
              "  }\n",
              "\n",
              "  .colab-df-quickchart-complete:disabled,\n",
              "  .colab-df-quickchart-complete:disabled:hover {\n",
              "    background-color: var(--disabled-bg-color);\n",
              "    fill: var(--disabled-fill-color);\n",
              "    box-shadow: none;\n",
              "  }\n",
              "\n",
              "  .colab-df-spinner {\n",
              "    border: 2px solid var(--fill-color);\n",
              "    border-color: transparent;\n",
              "    border-bottom-color: var(--fill-color);\n",
              "    animation:\n",
              "      spin 1s steps(1) infinite;\n",
              "  }\n",
              "\n",
              "  @keyframes spin {\n",
              "    0% {\n",
              "      border-color: transparent;\n",
              "      border-bottom-color: var(--fill-color);\n",
              "      border-left-color: var(--fill-color);\n",
              "    }\n",
              "    20% {\n",
              "      border-color: transparent;\n",
              "      border-left-color: var(--fill-color);\n",
              "      border-top-color: var(--fill-color);\n",
              "    }\n",
              "    30% {\n",
              "      border-color: transparent;\n",
              "      border-left-color: var(--fill-color);\n",
              "      border-top-color: var(--fill-color);\n",
              "      border-right-color: var(--fill-color);\n",
              "    }\n",
              "    40% {\n",
              "      border-color: transparent;\n",
              "      border-right-color: var(--fill-color);\n",
              "      border-top-color: var(--fill-color);\n",
              "    }\n",
              "    60% {\n",
              "      border-color: transparent;\n",
              "      border-right-color: var(--fill-color);\n",
              "    }\n",
              "    80% {\n",
              "      border-color: transparent;\n",
              "      border-right-color: var(--fill-color);\n",
              "      border-bottom-color: var(--fill-color);\n",
              "    }\n",
              "    90% {\n",
              "      border-color: transparent;\n",
              "      border-bottom-color: var(--fill-color);\n",
              "    }\n",
              "  }\n",
              "</style>\n",
              "\n",
              "  <script>\n",
              "    async function quickchart(key) {\n",
              "      const quickchartButtonEl =\n",
              "        document.querySelector('#' + key + ' button');\n",
              "      quickchartButtonEl.disabled = true;  // To prevent multiple clicks.\n",
              "      quickchartButtonEl.classList.add('colab-df-spinner');\n",
              "      try {\n",
              "        const charts = await google.colab.kernel.invokeFunction(\n",
              "            'suggestCharts', [key], {});\n",
              "      } catch (error) {\n",
              "        console.error('Error during call to suggestCharts:', error);\n",
              "      }\n",
              "      quickchartButtonEl.classList.remove('colab-df-spinner');\n",
              "      quickchartButtonEl.classList.add('colab-df-quickchart-complete');\n",
              "    }\n",
              "    (() => {\n",
              "      let quickchartButtonEl =\n",
              "        document.querySelector('#df-50ec7dc2-7622-48d1-b3b2-610a39bb9d7a button');\n",
              "      quickchartButtonEl.style.display =\n",
              "        google.colab.kernel.accessAllowed ? 'block' : 'none';\n",
              "    })();\n",
              "  </script>\n",
              "</div>\n",
              "    </div>\n",
              "  </div>\n"
            ],
            "application/vnd.google.colaboratory.intrinsic+json": {
              "type": "dataframe"
            }
          },
          "metadata": {},
          "execution_count": 224
        }
      ]
    },
    {
      "cell_type": "markdown",
      "source": [
        "Given that some of data from different columns was absent, we decided to fill them with teh mean. Using just teh mean of the whole dataframe would not be fit as we would in that case, be assigning the mean of players from different teams to players of other teams. So we decided to assign use the mean of other players within the same team and teh same year."
      ],
      "metadata": {
        "id": "Qd9XnwVBq9kO"
      }
    },
    {
      "cell_type": "code",
      "source": [
        "cols_to_fill = ['THREE_POINTERS_MADE','THREE_POINTERS_PERCENTAGE','STEALS','BLOCK','TURNOVER','DEFENSIVE_REBOUND','OFFENSIVE_REBOUND']\n",
        "for col in cols_to_fill:\n",
        "    player_df[col] = player_df.groupby(['TEAM_ABBREVIATION', 'SEASON'])[col].transform(lambda x: x.fillna(x.mean()))\n"
      ],
      "metadata": {
        "id": "1ySXUwosA8lM"
      },
      "execution_count": null,
      "outputs": []
    },
    {
      "cell_type": "code",
      "source": [],
      "metadata": {
        "id": "Q-OTkFGbrGoi"
      },
      "execution_count": null,
      "outputs": []
    },
    {
      "cell_type": "code",
      "source": [
        "player_df['AGE'].hist()"
      ],
      "metadata": {
        "id": "q400BsoVs9zy",
        "colab": {
          "base_uri": "https://localhost:8080/",
          "height": 447
        },
        "outputId": "4f648c88-f251-493e-c176-98117f2f7074"
      },
      "execution_count": null,
      "outputs": [
        {
          "output_type": "execute_result",
          "data": {
            "text/plain": [
              "<Axes: >"
            ]
          },
          "metadata": {},
          "execution_count": 226
        },
        {
          "output_type": "display_data",
          "data": {
            "text/plain": [
              "<Figure size 640x480 with 1 Axes>"
            ],
            "image/png": "[encoded data removed]"
          },
          "metadata": {}
        }
      ]
    },
    {
      "cell_type": "markdown",
      "source": [
        "How many teams do we even have?"
      ],
      "metadata": {
        "id": "2crq1zCOqxvp"
      }
    },
    {
      "cell_type": "code",
      "source": [
        "player_df['TEAM'].unique().tolist()"
      ],
      "metadata": {
        "id": "6mM_CmSNthwS",
        "colab": {
          "base_uri": "https://localhost:8080/"
        },
        "outputId": "64fdd23e-d6b4-4d16-f474-88ec30cbb797"
      },
      "execution_count": null,
      "outputs": [
        {
          "output_type": "execute_result",
          "data": {
            "text/plain": [
              "['MIL',\n",
              " 'DAL',\n",
              " 'ATL',\n",
              " 'DEN',\n",
              " 'HOU',\n",
              " 'IND',\n",
              " 'OKC',\n",
              " 'CHI',\n",
              " 'ORL',\n",
              " 'BOS',\n",
              " 'TOT',\n",
              " 'DET',\n",
              " 'NYK',\n",
              " 'LAL',\n",
              " 'SAC',\n",
              " 'MIA',\n",
              " 'CHO',\n",
              " 'LAC',\n",
              " 'GSW',\n",
              " 'POR',\n",
              " 'MIN',\n",
              " 'WAS',\n",
              " 'BRK',\n",
              " 'MEM',\n",
              " 'SAS',\n",
              " 'PHO',\n",
              " 'NOP',\n",
              " 'UTA',\n",
              " 'TOR',\n",
              " 'PHI',\n",
              " 'CLE',\n",
              " 'CHA',\n",
              " 'NOH',\n",
              " 'NJN',\n",
              " 'SEA',\n",
              " 'NOK',\n",
              " 'CHH',\n",
              " 'VAN',\n",
              " 'WSB',\n",
              " nan]"
            ]
          },
          "metadata": {},
          "execution_count": 227
        }
      ]
    },
    {
      "cell_type": "markdown",
      "source": [
        "There's a rumour going round that younger players perform better. We just wanted to test it..."
      ],
      "metadata": {
        "id": "9LGCQb4aq3KZ"
      }
    },
    {
      "cell_type": "code",
      "source": [
        "correlation = player_df['AGE'].corr(player_df['FIELD_GOALS_MADE'])\n",
        "print(correlation)"
      ],
      "metadata": {
        "id": "YJTLV3GBCcIT",
        "colab": {
          "base_uri": "https://localhost:8080/"
        },
        "outputId": "92144f14-4369-408c-f561-d83724de6905"
      },
      "execution_count": null,
      "outputs": [
        {
          "output_type": "stream",
          "name": "stdout",
          "text": [
            "0.027280815763253866\n"
          ]
        }
      ]
    },
    {
      "cell_type": "code",
      "source": [
        "plt.figure(figsize=(10,8))\n",
        "sns.heatmap(player_df[['AGE', 'FIELD_GOALS_MADE']].corr(), annot=True, cmap='coolwarm')\n",
        "plt.show()"
      ],
      "metadata": {
        "id": "_4tFAvFRD0xl",
        "colab": {
          "base_uri": "https://localhost:8080/",
          "height": 682
        },
        "outputId": "9f932161-188b-41ff-8f95-1462a3c6b85f"
      },
      "execution_count": null,
      "outputs": [
        {
          "output_type": "display_data",
          "data": {
            "text/plain": [
              "<Figure size 1000x800 with 2 Axes>"
            ],
            "image/png": "[encoded data removed]"
          },
          "metadata": {}
        }
      ]
    },
    {
      "cell_type": "code",
      "source": [
        "df_opponent_stats_100=pd.read_csv('/content/drive/MyDrive/FINAL PROJECT CSVs/Opponent Stats Per 100 Poss.csv')\n",
        "df_opponents_s_per_game=pd.read_csv('/content/drive/MyDrive/FINAL PROJECT CSVs/Opponent Stats Per Game.csv')\n",
        "df_opponent_totals = pd.read_csv('/content/drive/MyDrive/FINAL PROJECT CSVs/Opponent Totals.csv')\n",
        "\n"
      ],
      "metadata": {
        "id": "q1rD_3eAuCKk"
      },
      "execution_count": null,
      "outputs": []
    },
    {
      "cell_type": "code",
      "source": [
        "df_opponent_stats_100.shape"
      ],
      "metadata": {
        "id": "bxaZv4W3S1dG",
        "colab": {
          "base_uri": "https://localhost:8080/"
        },
        "outputId": "7220acab-0f85-4516-836d-0fb4ced152eb"
      },
      "execution_count": null,
      "outputs": [
        {
          "output_type": "execute_result",
          "data": {
            "text/plain": [
              "(1402, 28)"
            ]
          },
          "metadata": {},
          "execution_count": 231
        }
      ]
    },
    {
      "cell_type": "code",
      "source": [
        "df_opponents_s_per_game.shape"
      ],
      "metadata": {
        "id": "4aamWAEhTSj5",
        "colab": {
          "base_uri": "https://localhost:8080/"
        },
        "outputId": "90033b10-8bba-4f0c-8e6b-7ca5a9ff259f"
      },
      "execution_count": null,
      "outputs": [
        {
          "output_type": "execute_result",
          "data": {
            "text/plain": [
              "(1845, 28)"
            ]
          },
          "metadata": {},
          "execution_count": 232
        }
      ]
    },
    {
      "cell_type": "code",
      "source": [
        "df_opponent_totals.shape"
      ],
      "metadata": {
        "id": "aIwYw91aTpj0",
        "colab": {
          "base_uri": "https://localhost:8080/"
        },
        "outputId": "551af2c1-190d-4d01-a3af-912c3c6fda28"
      },
      "execution_count": null,
      "outputs": [
        {
          "output_type": "execute_result",
          "data": {
            "text/plain": [
              "(1845, 28)"
            ]
          },
          "metadata": {},
          "execution_count": 233
        }
      ]
    },
    {
      "cell_type": "code",
      "source": [
        "df_opponent_stats_100.info()"
      ],
      "metadata": {
        "id": "qOtfV-X5TtK6",
        "colab": {
          "base_uri": "https://localhost:8080/"
        },
        "outputId": "fbb37769-f7df-4238-9209-10c63afb51a3"
      },
      "execution_count": null,
      "outputs": [
        {
          "output_type": "stream",
          "name": "stdout",
          "text": [
            "<class 'pandas.core.frame.DataFrame'>\n",
            "RangeIndex: 1402 entries, 0 to 1401\n",
            "Data columns (total 28 columns):\n",
            " #   Column                                               Non-Null Count  Dtype  \n",
            "---  ------                                               --------------  -----  \n",
            " 0   SEASON                                               1402 non-null   int64  \n",
            " 1   LEAGUE                                               1402 non-null   object \n",
            " 2   TEAM_NAME                                            1402 non-null   object \n",
            " 3   TEAM_ABBREVIATION                                    1402 non-null   object \n",
            " 4   PLAYOFFS                                             1402 non-null   bool   \n",
            " 5   GAMES                                                1402 non-null   int64  \n",
            " 6   MINUTES_PLAYED                                       1402 non-null   int64  \n",
            " 7   OPPONENT_FIELD_GOALS_PER_100_POSSESION               1402 non-null   float64\n",
            " 8   OPPONENT_FIELD_GOALS_ATTEMPTED_PER_100_POSSESION     1402 non-null   float64\n",
            " 9   OPPONENT_FIELD_GOALS_PERCENTAGE                      1402 non-null   float64\n",
            " 10  OPPONENT_THREE_POINTERS_PER_100_POSSESION            1283 non-null   float64\n",
            " 11  OPPONENT_THREE_POINTERS_ATTEMPTED_PER_100_POSSESION  1283 non-null   float64\n",
            " 12  OPPONENT_THREE_POINTERS_PERCENTAGE                   1283 non-null   float64\n",
            " 13  OPPONENT_TWO_POINTER_PER_100_POSSESION               1402 non-null   float64\n",
            " 14  OPPONENT_TWO_POINTERS_ATTEMPTED_PER_100_POSSESION    1402 non-null   float64\n",
            " 15  OPPONENT_TWO_POINTERS_PERCENTAGE                     1402 non-null   float64\n",
            " 16  OPPONENT_FREE_THROWS_PER_100_POSSESION               1402 non-null   float64\n",
            " 17  OPPONENT_FREE_THROWS_ATTEMPTED_PER_100_POSSESION     1402 non-null   float64\n",
            " 18  OPPONENT_FREE_THROWS_PERCENTAGE                      1402 non-null   float64\n",
            " 19  OPPONENT_OFFENSIVE_REBOUND_PER_100_POSSESION         1402 non-null   float64\n",
            " 20  OPPONENT_DEFENSIVE_REBOUND_PER_100_POSSESION         1402 non-null   float64\n",
            " 21  OPPONENT_TOTAL_REBOUND_PER_100_POSSESION             1402 non-null   float64\n",
            " 22  OPPONENT_ASSIST_PER_100_POSSESION                    1402 non-null   float64\n",
            " 23  OPPONENT_STEAL_PER_100_POSSESION                     1402 non-null   float64\n",
            " 24  OPPONENT_STEAL_PER_100_POSSESION.1                   1402 non-null   float64\n",
            " 25  OPPONENT_TURNOVER_PER_100_POSSESION                  1402 non-null   float64\n",
            " 26  OPPONENT_PERSONAL_FOUL_PER_100_POSSESION             1402 non-null   float64\n",
            " 27  OPPONENT_POINTS_PER_100_POSSESION                    1402 non-null   float64\n",
            "dtypes: bool(1), float64(21), int64(3), object(3)\n",
            "memory usage: 297.2+ KB\n"
          ]
        }
      ]
    },
    {
      "cell_type": "code",
      "source": [
        "df_opponents_s_per_game.info()"
      ],
      "metadata": {
        "id": "i2g733R9TwmY",
        "colab": {
          "base_uri": "https://localhost:8080/"
        },
        "outputId": "e258ab88-68a0-4b22-a299-baf1fe3d942e"
      },
      "execution_count": null,
      "outputs": [
        {
          "output_type": "stream",
          "name": "stdout",
          "text": [
            "<class 'pandas.core.frame.DataFrame'>\n",
            "RangeIndex: 1845 entries, 0 to 1844\n",
            "Data columns (total 28 columns):\n",
            " #   Column                                      Non-Null Count  Dtype  \n",
            "---  ------                                      --------------  -----  \n",
            " 0   SEASON                                      1845 non-null   int64  \n",
            " 1   LEAGUE                                      1845 non-null   object \n",
            " 2   TEAM                                        1845 non-null   object \n",
            " 3   TEAM_ABBREAVIATION                          1758 non-null   object \n",
            " 4   PLAYOFFS                                    1845 non-null   bool   \n",
            " 5   GAMES                                       1844 non-null   float64\n",
            " 6   MINUTES_PLAYED_PER_GAME                     1655 non-null   float64\n",
            " 7   OPPONENTS_FIELD_GOALS_PER_GAME              1605 non-null   float64\n",
            " 8   OPPONENTS_FIELD_GOALS_Attempted_per_game    1605 non-null   float64\n",
            " 9   OPPONENT_FIELD_GOALS_PERCENTAGE             1605 non-null   float64\n",
            " 10  OPPONENTS_THREE_POINTERS_PER_GAME           1402 non-null   float64\n",
            " 11  PPONENTS_THREE_POINTERS_ATTEMPTED_PER_GAME  1402 non-null   float64\n",
            " 12  OPPONENTS_THREE_POINTERS_PERCENTAGE         1402 non-null   float64\n",
            " 13  OPPONENTS_TWO_POINTERS_PER_GAME             1605 non-null   float64\n",
            " 14  OPPONENTS_TWO_POINTERS_ATTEMPTED_PER_GAME   1605 non-null   float64\n",
            " 15  OPPONENTS_TWO_POINTERS_PERCENTAGE           1605 non-null   float64\n",
            " 16  OPPONENTS_FREE_THROWS_PER_GAME              1605 non-null   float64\n",
            " 17  OPPONENTS_FREE_THROWS_ATTEMPTED_PER_GAME    1605 non-null   float64\n",
            " 18  OPPONENTS_FREE_THROWS_PERCENTAGE            1605 non-null   float64\n",
            " 19  OPPONENTS_OFFENSIVE_REBOUND_PER_GAME        1482 non-null   float64\n",
            " 20  OPPONENTS_DEFENSIVE_REBOUND_PER_GAME        1482 non-null   float64\n",
            " 21  OPPONENTS_TOTAL_REBOUND_PER_GAME            1601 non-null   float64\n",
            " 22  OPPONENTS_ASSIST_PER_GAME                   1605 non-null   float64\n",
            " 23  OPPONENTS_STEAL_PER_GAME                    1456 non-null   float64\n",
            " 24  OPPONENTSBLOCKS_PER_GAME                    1456 non-null   float64\n",
            " 25  OPPONENTS_TURNOVER_PER_GAME                 1527 non-null   float64\n",
            " 26  OPPONENTS_PERSONAL_FOUL_PER_GAME            1605 non-null   float64\n",
            " 27  OPPONENTS_POINTS_PER_GAME                   1844 non-null   float64\n",
            "dtypes: bool(1), float64(23), int64(1), object(3)\n",
            "memory usage: 391.1+ KB\n"
          ]
        }
      ]
    },
    {
      "cell_type": "code",
      "source": [
        "df_opponent_totals.info()"
      ],
      "metadata": {
        "id": "_WX0x617T0_W",
        "colab": {
          "base_uri": "https://localhost:8080/"
        },
        "outputId": "d25cbf04-0d78-4cb9-ba85-25dff1367737"
      },
      "execution_count": null,
      "outputs": [
        {
          "output_type": "stream",
          "name": "stdout",
          "text": [
            "<class 'pandas.core.frame.DataFrame'>\n",
            "RangeIndex: 1845 entries, 0 to 1844\n",
            "Data columns (total 28 columns):\n",
            " #   Column                              Non-Null Count  Dtype  \n",
            "---  ------                              --------------  -----  \n",
            " 0   SEASON                              1845 non-null   int64  \n",
            " 1   LEAGUE                              1845 non-null   object \n",
            " 2   TEAM                                1845 non-null   object \n",
            " 3   ABBREVIATION                        1758 non-null   object \n",
            " 4   PLAYOFFS                            1845 non-null   bool   \n",
            " 5   GAMES                               1844 non-null   float64\n",
            " 6   MINUTES_PLAYED                      1655 non-null   float64\n",
            " 7   OPPONENT_FIELD_GOALS                1605 non-null   float64\n",
            " 8   OPPONENT_FIELD_GOALS_ATTEMPTED      1605 non-null   float64\n",
            " 9   OPPPONENT_FIELD_GOALS_PERCENTAGE    1605 non-null   float64\n",
            " 10  OPPONENT_THREE_POINTERS             1402 non-null   float64\n",
            " 11  OPPONENT_THREE_POINTERS_ATTEMPTED   1402 non-null   float64\n",
            " 12  OPPONENT_THREE_POINTERS_PERCENTAGE  1402 non-null   float64\n",
            " 13  OPPONENT_TWO_POINTERS               1605 non-null   float64\n",
            " 14  OPPONENT_TWO_POINTERS_ATTEMPTED     1605 non-null   float64\n",
            " 15  OPPONENT_TWO_POINTERS_PERCENTAGE    1605 non-null   float64\n",
            " 16  OPPONENT_FREE_THROWS                1605 non-null   float64\n",
            " 17  OPPONENT_FREE_THROWS_ATTEMPTED      1605 non-null   float64\n",
            " 18  OPPONENT_FREE_THROW_PERCENTAGE      1605 non-null   float64\n",
            " 19  OPPONENTS_OFFENSIVE_REBOUND         1482 non-null   float64\n",
            " 20  OPPONENTS_DEFENSIVE_REBOUND         1482 non-null   float64\n",
            " 21  OPPONENTS_TOTAL_REBOUND             1601 non-null   float64\n",
            " 22  OPPONENTS_ASSIST                    1605 non-null   float64\n",
            " 23  OPPONENTS_STEALS                    1456 non-null   float64\n",
            " 24  OPPONENTS_BLOCKS                    1456 non-null   float64\n",
            " 25  OPPONENTS_TURNOVERS                 1527 non-null   float64\n",
            " 26  OPPONENTS_PERSONAL_FOUL             1605 non-null   float64\n",
            " 27  OPPONENTS_POINTS                    1844 non-null   float64\n",
            "dtypes: bool(1), float64(23), int64(1), object(3)\n",
            "memory usage: 391.1+ KB\n"
          ]
        }
      ]
    },
    {
      "cell_type": "code",
      "source": [
        "del df_opponent_stats_100['TEAM_NAME']"
      ],
      "metadata": {
        "id": "cAYNxrIET7sF"
      },
      "execution_count": null,
      "outputs": []
    },
    {
      "cell_type": "code",
      "source": [
        "del df_opponent_totals['ABBREVIATION']"
      ],
      "metadata": {
        "id": "i7UG_yaHU2uz"
      },
      "execution_count": null,
      "outputs": []
    },
    {
      "cell_type": "code",
      "source": [
        "def common_columns(dataframes):\n",
        "    # Create a dictionary to count the occurrences of each column\n",
        "    column_counts = {}\n",
        "\n",
        "    # Iterate over all dataframes\n",
        "    for df in dataframes:\n",
        "        # Iterate over all columns in the current dataframe\n",
        "        for col in df.columns:\n",
        "            # If the column is already in the dictionary, increment its count\n",
        "            if col in column_counts:\n",
        "                column_counts[col] += 1\n",
        "            # Otherwise, add the column to the dictionary with a count of 1\n",
        "            else:\n",
        "                column_counts[col] = 1\n",
        "\n",
        "    # Return a list of columns that appear at least twice\n",
        "    return [col for col, count in column_counts.items() if count >= 2]"
      ],
      "metadata": {
        "id": "c5E3zUSaVI3A"
      },
      "execution_count": null,
      "outputs": []
    },
    {
      "cell_type": "code",
      "source": [
        "dfs2=[df_opponent_stats_100,df_opponents_s_per_game,df_opponent_totals]\n",
        "# dfs is your list of dataframes\n",
        "common_cols2 = common_columns(dfs2)\n",
        "print(common_cols2)"
      ],
      "metadata": {
        "id": "FZNOEk_MVXIj",
        "colab": {
          "base_uri": "https://localhost:8080/"
        },
        "outputId": "7306f776-3497-4b24-84c6-1ea5fbaa05e2"
      },
      "execution_count": null,
      "outputs": [
        {
          "output_type": "stream",
          "name": "stdout",
          "text": [
            "['SEASON', 'LEAGUE', 'PLAYOFFS', 'GAMES', 'MINUTES_PLAYED', 'OPPONENT_FIELD_GOALS_PERCENTAGE', 'OPPONENT_THREE_POINTERS_PERCENTAGE', 'OPPONENT_TWO_POINTERS_PERCENTAGE', 'TEAM']\n"
          ]
        }
      ]
    },
    {
      "cell_type": "code",
      "source": [
        "m1 = pd.merge(df_opponent_stats_100, df_opponents_s_per_game, on =['SEASON', 'LEAGUE', 'PLAYOFFS', 'GAMES', 'OPPONENT_FIELD_GOALS_PERCENTAGE'], how ='left')\n",
        "opponent_team_df = pd.merge(m1, df_opponent_totals, on =['SEASON', 'LEAGUE', 'PLAYOFFS', 'GAMES', 'MINUTES_PLAYED',  'OPPONENT_THREE_POINTERS_PERCENTAGE', 'OPPONENT_TWO_POINTERS_PERCENTAGE', 'TEAM'], how ='left')\n",
        "\n",
        "opponent_team_df.describe()\n"
      ],
      "metadata": {
        "id": "HX5lYDfdVyZd",
        "colab": {
          "base_uri": "https://localhost:8080/",
          "height": 350
        },
        "outputId": "f074e9d6-bfab-4794-e72b-cb31ba0058d5"
      },
      "execution_count": null,
      "outputs": [
        {
          "output_type": "execute_result",
          "data": {
            "text/plain": [
              "            SEASON        GAMES  MINUTES_PLAYED  \\\n",
              "count  1817.000000  1817.000000     1817.000000   \n",
              "mean   2000.765548    80.104568    19360.209136   \n",
              "std      14.414455     6.636741     1605.170296   \n",
              "min    1974.000000    11.000000     2640.000000   \n",
              "25%    1989.000000    82.000000    19755.000000   \n",
              "50%    2002.000000    82.000000    19805.000000   \n",
              "75%    2013.000000    82.000000    19855.000000   \n",
              "max    2024.000000    84.000000    20460.000000   \n",
              "\n",
              "       OPPONENT_FIELD_GOALS_PER_100_POSSESION  \\\n",
              "count                             1817.000000   \n",
              "mean                                40.553990   \n",
              "std                                  1.894964   \n",
              "min                                 34.900000   \n",
              "25%                                 39.200000   \n",
              "50%                                 40.600000   \n",
              "75%                                 41.800000   \n",
              "max                                 47.000000   \n",
              "\n",
              "       OPPONENT_FIELD_GOALS_ATTEMPTED_PER_100_POSSESION  \\\n",
              "count                                       1817.000000   \n",
              "mean                                          87.672262   \n",
              "std                                            2.328820   \n",
              "min                                           78.000000   \n",
              "25%                                           86.200000   \n",
              "50%                                           87.800000   \n",
              "75%                                           89.200000   \n",
              "max                                           95.500000   \n",
              "\n",
              "       OPPONENT_FIELD_GOALS_PERCENTAGE  \\\n",
              "count                      1817.000000   \n",
              "mean                          0.462651   \n",
              "std                           0.019595   \n",
              "min                           0.402000   \n",
              "25%                           0.450000   \n",
              "50%                           0.462000   \n",
              "75%                           0.475000   \n",
              "max                           0.536000   \n",
              "\n",
              "       OPPONENT_THREE_POINTERS_PER_100_POSSESION  \\\n",
              "count                                1673.000000   \n",
              "mean                                    6.096533   \n",
              "std                                     3.698137   \n",
              "min                                     0.200000   \n",
              "25%                                     2.800000   \n",
              "50%                                     6.100000   \n",
              "75%                                     8.200000   \n",
              "max                                    14.700000   \n",
              "\n",
              "       OPPONENT_THREE_POINTERS_ATTEMPTED_PER_100_POSSESION  \\\n",
              "count                                        1673.000000     \n",
              "mean                                           17.246742     \n",
              "std                                             9.985400     \n",
              "min                                             1.500000     \n",
              "25%                                             8.400000     \n",
              "50%                                            17.300000     \n",
              "75%                                            22.800000     \n",
              "max                                            40.500000     \n",
              "\n",
              "       OPPONENT_THREE_POINTERS_PERCENTAGE  \\\n",
              "count                         1673.000000   \n",
              "mean                             0.338803   \n",
              "std                              0.038049   \n",
              "min                              0.115000   \n",
              "25%                              0.329000   \n",
              "50%                              0.349000   \n",
              "75%                              0.363000   \n",
              "max                              0.411000   \n",
              "\n",
              "       OPPONENT_TWO_POINTER_PER_100_POSSESION  ...  \\\n",
              "count                             1817.000000  ...   \n",
              "mean                                34.940451  ...   \n",
              "std                                  4.564443  ...   \n",
              "min                                 23.700000  ...   \n",
              "25%                                 31.300000  ...   \n",
              "50%                                 33.900000  ...   \n",
              "75%                                 39.300000  ...   \n",
              "max                                 46.300000  ...   \n",
              "\n",
              "       OPPONENT_FREE_THROW_PERCENTAGE  OPPONENTS_OFFENSIVE_REBOUND  \\\n",
              "count                     1406.000000                  1406.000000   \n",
              "mean                         0.757070                   999.862020   \n",
              "std                          0.017028                   195.102932   \n",
              "min                          0.694000                   176.000000   \n",
              "25%                          0.746000                   868.000000   \n",
              "50%                          0.757000                  1000.500000   \n",
              "75%                          0.768000                  1146.000000   \n",
              "max                          0.816000                  1662.000000   \n",
              "\n",
              "       OPPONENTS_DEFENSIVE_REBOUND  OPPONENTS_TOTAL_REBOUND  OPPONENTS_ASSIST  \\\n",
              "count                  1406.000000              1406.000000       1406.000000   \n",
              "mean                   2463.342817              3463.204836       1871.770270   \n",
              "std                     277.961134               381.363989        256.438149   \n",
              "min                     360.000000               536.000000        255.000000   \n",
              "25%                    2345.000000              3350.000000       1736.250000   \n",
              "50%                    2479.500000              3497.000000       1892.000000   \n",
              "75%                    2631.750000              3661.750000       2046.750000   \n",
              "max                    3154.000000              4750.000000       2537.000000   \n",
              "\n",
              "       OPPONENTS_STEALS  OPPONENTS_BLOCKS  OPPONENTS_TURNOVERS  \\\n",
              "count       1406.000000       1406.000000          1406.000000   \n",
              "mean         649.174964        401.936700          1268.086771   \n",
              "std          103.089005         70.476009           233.622830   \n",
              "min          100.000000         53.000000           185.000000   \n",
              "25%          589.250000        357.000000          1130.000000   \n",
              "50%          648.000000        403.000000          1246.000000   \n",
              "75%          714.000000        446.750000          1404.000000   \n",
              "max          955.000000        654.000000          1980.000000   \n",
              "\n",
              "       OPPONENTS_PERSONAL_FOUL  OPPONENTS_POINTS  \n",
              "count              1406.000000       1406.000000  \n",
              "mean               1786.110953       8281.305121  \n",
              "std                 264.816083        927.387201  \n",
              "min                 273.000000       1138.000000  \n",
              "25%                1653.000000       7942.000000  \n",
              "50%                1808.000000       8421.500000  \n",
              "75%                1965.750000       8821.000000  \n",
              "max                2453.000000      10723.000000  \n",
              "\n",
              "[8 rows x 64 columns]"
            ],
            "text/html": [
              "\n",
              "  <div id=\"df-28aa3563-de09-476b-a65b-5887679fdfe9\" class=\"colab-df-container\">\n",
              "    <div>\n",
              "<style scoped>\n",
              "    .dataframe tbody tr th:only-of-type {\n",
              "        vertical-align: middle;\n",
              "    }\n",
              "\n",
              "    .dataframe tbody tr th {\n",
              "        vertical-align: top;\n",
              "    }\n",
              "\n",
              "    .dataframe thead th {\n",
              "        text-align: right;\n",
              "    }\n",
              "</style>\n",
              "<table border=\"1\" class=\"dataframe\">\n",
              "  <thead>\n",
              "    <tr style=\"text-align: right;\">\n",
              "      <th></th>\n",
              "      <th>SEASON</th>\n",
              "      <th>GAMES</th>\n",
              "      <th>MINUTES_PLAYED</th>\n",
              "      <th>OPPONENT_FIELD_GOALS_PER_100_POSSESION</th>\n",
              "      <th>OPPONENT_FIELD_GOALS_ATTEMPTED_PER_100_POSSESION</th>\n",
              "      <th>OPPONENT_FIELD_GOALS_PERCENTAGE</th>\n",
              "      <th>OPPONENT_THREE_POINTERS_PER_100_POSSESION</th>\n",
              "      <th>OPPONENT_THREE_POINTERS_ATTEMPTED_PER_100_POSSESION</th>\n",
              "      <th>OPPONENT_THREE_POINTERS_PERCENTAGE</th>\n",
              "      <th>OPPONENT_TWO_POINTER_PER_100_POSSESION</th>\n",
              "      <th>...</th>\n",
              "      <th>OPPONENT_FREE_THROW_PERCENTAGE</th>\n",
              "      <th>OPPONENTS_OFFENSIVE_REBOUND</th>\n",
              "      <th>OPPONENTS_DEFENSIVE_REBOUND</th>\n",
              "      <th>OPPONENTS_TOTAL_REBOUND</th>\n",
              "      <th>OPPONENTS_ASSIST</th>\n",
              "      <th>OPPONENTS_STEALS</th>\n",
              "      <th>OPPONENTS_BLOCKS</th>\n",
              "      <th>OPPONENTS_TURNOVERS</th>\n",
              "      <th>OPPONENTS_PERSONAL_FOUL</th>\n",
              "      <th>OPPONENTS_POINTS</th>\n",
              "    </tr>\n",
              "  </thead>\n",
              "  <tbody>\n",
              "    <tr>\n",
              "      <th>count</th>\n",
              "      <td>1817.000000</td>\n",
              "      <td>1817.000000</td>\n",
              "      <td>1817.000000</td>\n",
              "      <td>1817.000000</td>\n",
              "      <td>1817.000000</td>\n",
              "      <td>1817.000000</td>\n",
              "      <td>1673.000000</td>\n",
              "      <td>1673.000000</td>\n",
              "      <td>1673.000000</td>\n",
              "      <td>1817.000000</td>\n",
              "      <td>...</td>\n",
              "      <td>1406.000000</td>\n",
              "      <td>1406.000000</td>\n",
              "      <td>1406.000000</td>\n",
              "      <td>1406.000000</td>\n",
              "      <td>1406.000000</td>\n",
              "      <td>1406.000000</td>\n",
              "      <td>1406.000000</td>\n",
              "      <td>1406.000000</td>\n",
              "      <td>1406.000000</td>\n",
              "      <td>1406.000000</td>\n",
              "    </tr>\n",
              "    <tr>\n",
              "      <th>mean</th>\n",
              "      <td>2000.765548</td>\n",
              "      <td>80.104568</td>\n",
              "      <td>19360.209136</td>\n",
              "      <td>40.553990</td>\n",
              "      <td>87.672262</td>\n",
              "      <td>0.462651</td>\n",
              "      <td>6.096533</td>\n",
              "      <td>17.246742</td>\n",
              "      <td>0.338803</td>\n",
              "      <td>34.940451</td>\n",
              "      <td>...</td>\n",
              "      <td>0.757070</td>\n",
              "      <td>999.862020</td>\n",
              "      <td>2463.342817</td>\n",
              "      <td>3463.204836</td>\n",
              "      <td>1871.770270</td>\n",
              "      <td>649.174964</td>\n",
              "      <td>401.936700</td>\n",
              "      <td>1268.086771</td>\n",
              "      <td>1786.110953</td>\n",
              "      <td>8281.305121</td>\n",
              "    </tr>\n",
              "    <tr>\n",
              "      <th>std</th>\n",
              "      <td>14.414455</td>\n",
              "      <td>6.636741</td>\n",
              "      <td>1605.170296</td>\n",
              "      <td>1.894964</td>\n",
              "      <td>2.328820</td>\n",
              "      <td>0.019595</td>\n",
              "      <td>3.698137</td>\n",
              "      <td>9.985400</td>\n",
              "      <td>0.038049</td>\n",
              "      <td>4.564443</td>\n",
              "      <td>...</td>\n",
              "      <td>0.017028</td>\n",
              "      <td>195.102932</td>\n",
              "      <td>277.961134</td>\n",
              "      <td>381.363989</td>\n",
              "      <td>256.438149</td>\n",
              "      <td>103.089005</td>\n",
              "      <td>70.476009</td>\n",
              "      <td>233.622830</td>\n",
              "      <td>264.816083</td>\n",
              "      <td>927.387201</td>\n",
              "    </tr>\n",
              "    <tr>\n",
              "      <th>min</th>\n",
              "      <td>1974.000000</td>\n",
              "      <td>11.000000</td>\n",
              "      <td>2640.000000</td>\n",
              "      <td>34.900000</td>\n",
              "      <td>78.000000</td>\n",
              "      <td>0.402000</td>\n",
              "      <td>0.200000</td>\n",
              "      <td>1.500000</td>\n",
              "      <td>0.115000</td>\n",
              "      <td>23.700000</td>\n",
              "      <td>...</td>\n",
              "      <td>0.694000</td>\n",
              "      <td>176.000000</td>\n",
              "      <td>360.000000</td>\n",
              "      <td>536.000000</td>\n",
              "      <td>255.000000</td>\n",
              "      <td>100.000000</td>\n",
              "      <td>53.000000</td>\n",
              "      <td>185.000000</td>\n",
              "      <td>273.000000</td>\n",
              "      <td>1138.000000</td>\n",
              "    </tr>\n",
              "    <tr>\n",
              "      <th>25%</th>\n",
              "      <td>1989.000000</td>\n",
              "      <td>82.000000</td>\n",
              "      <td>19755.000000</td>\n",
              "      <td>39.200000</td>\n",
              "      <td>86.200000</td>\n",
              "      <td>0.450000</td>\n",
              "      <td>2.800000</td>\n",
              "      <td>8.400000</td>\n",
              "      <td>0.329000</td>\n",
              "      <td>31.300000</td>\n",
              "      <td>...</td>\n",
              "      <td>0.746000</td>\n",
              "      <td>868.000000</td>\n",
              "      <td>2345.000000</td>\n",
              "      <td>3350.000000</td>\n",
              "      <td>1736.250000</td>\n",
              "      <td>589.250000</td>\n",
              "      <td>357.000000</td>\n",
              "      <td>1130.000000</td>\n",
              "      <td>1653.000000</td>\n",
              "      <td>7942.000000</td>\n",
              "    </tr>\n",
              "    <tr>\n",
              "      <th>50%</th>\n",
              "      <td>2002.000000</td>\n",
              "      <td>82.000000</td>\n",
              "      <td>19805.000000</td>\n",
              "      <td>40.600000</td>\n",
              "      <td>87.800000</td>\n",
              "      <td>0.462000</td>\n",
              "      <td>6.100000</td>\n",
              "      <td>17.300000</td>\n",
              "      <td>0.349000</td>\n",
              "      <td>33.900000</td>\n",
              "      <td>...</td>\n",
              "      <td>0.757000</td>\n",
              "      <td>1000.500000</td>\n",
              "      <td>2479.500000</td>\n",
              "      <td>3497.000000</td>\n",
              "      <td>1892.000000</td>\n",
              "      <td>648.000000</td>\n",
              "      <td>403.000000</td>\n",
              "      <td>1246.000000</td>\n",
              "      <td>1808.000000</td>\n",
              "      <td>8421.500000</td>\n",
              "    </tr>\n",
              "    <tr>\n",
              "      <th>75%</th>\n",
              "      <td>2013.000000</td>\n",
              "      <td>82.000000</td>\n",
              "      <td>19855.000000</td>\n",
              "      <td>41.800000</td>\n",
              "      <td>89.200000</td>\n",
              "      <td>0.475000</td>\n",
              "      <td>8.200000</td>\n",
              "      <td>22.800000</td>\n",
              "      <td>0.363000</td>\n",
              "      <td>39.300000</td>\n",
              "      <td>...</td>\n",
              "      <td>0.768000</td>\n",
              "      <td>1146.000000</td>\n",
              "      <td>2631.750000</td>\n",
              "      <td>3661.750000</td>\n",
              "      <td>2046.750000</td>\n",
              "      <td>714.000000</td>\n",
              "      <td>446.750000</td>\n",
              "      <td>1404.000000</td>\n",
              "      <td>1965.750000</td>\n",
              "      <td>8821.000000</td>\n",
              "    </tr>\n",
              "    <tr>\n",
              "      <th>max</th>\n",
              "      <td>2024.000000</td>\n",
              "      <td>84.000000</td>\n",
              "      <td>20460.000000</td>\n",
              "      <td>47.000000</td>\n",
              "      <td>95.500000</td>\n",
              "      <td>0.536000</td>\n",
              "      <td>14.700000</td>\n",
              "      <td>40.500000</td>\n",
              "      <td>0.411000</td>\n",
              "      <td>46.300000</td>\n",
              "      <td>...</td>\n",
              "      <td>0.816000</td>\n",
              "      <td>1662.000000</td>\n",
              "      <td>3154.000000</td>\n",
              "      <td>4750.000000</td>\n",
              "      <td>2537.000000</td>\n",
              "      <td>955.000000</td>\n",
              "      <td>654.000000</td>\n",
              "      <td>1980.000000</td>\n",
              "      <td>2453.000000</td>\n",
              "      <td>10723.000000</td>\n",
              "    </tr>\n",
              "  </tbody>\n",
              "</table>\n",
              "<p>8 rows × 64 columns</p>\n",
              "</div>\n",
              "    <div class=\"colab-df-buttons\">\n",
              "\n",
              "  <div class=\"colab-df-container\">\n",
              "    <button class=\"colab-df-convert\" onclick=\"convertToInteractive('df-28aa3563-de09-476b-a65b-5887679fdfe9')\"\n",
              "            title=\"Convert this dataframe to an interactive table.\"\n",
              "            style=\"display:none;\">\n",
              "\n",
              "  <svg xmlns=\"http://www.w3.org/2000/svg\" height=\"24px\" viewBox=\"0 -960 960 960\">\n",
              "    <path d=\"M120-120v-720h720v720H120Zm60-500h600v-160H180v160Zm220 220h160v-160H400v160Zm0 220h160v-160H400v160ZM180-400h160v-160H180v160Zm440 0h160v-160H620v160ZM180-180h160v-160H180v160Zm440 0h160v-160H620v160Z\"/>\n",
              "  </svg>\n",
              "    </button>\n",
              "\n",
              "  <style>\n",
              "    .colab-df-container {\n",
              "      display:flex;\n",
              "      gap: 12px;\n",
              "    }\n",
              "\n",
              "    .colab-df-convert {\n",
              "      background-color: #E8F0FE;\n",
              "      border: none;\n",
              "      border-radius: 50%;\n",
              "      cursor: pointer;\n",
              "      display: none;\n",
              "      fill: #1967D2;\n",
              "      height: 32px;\n",
              "      padding: 0 0 0 0;\n",
              "      width: 32px;\n",
              "    }\n",
              "\n",
              "    .colab-df-convert:hover {\n",
              "      background-color: #E2EBFA;\n",
              "      box-shadow: 0px 1px 2px rgba(60, 64, 67, 0.3), 0px 1px 3px 1px rgba(60, 64, 67, 0.15);\n",
              "      fill: #174EA6;\n",
              "    }\n",
              "\n",
              "    .colab-df-buttons div {\n",
              "      margin-bottom: 4px;\n",
              "    }\n",
              "\n",
              "    [theme=dark] .colab-df-convert {\n",
              "      background-color: #3B4455;\n",
              "      fill: #D2E3FC;\n",
              "    }\n",
              "\n",
              "    [theme=dark] .colab-df-convert:hover {\n",
              "      background-color: #434B5C;\n",
              "      box-shadow: 0px 1px 3px 1px rgba(0, 0, 0, 0.15);\n",
              "      filter: drop-shadow(0px 1px 2px rgba(0, 0, 0, 0.3));\n",
              "      fill: #FFFFFF;\n",
              "    }\n",
              "  </style>\n",
              "\n",
              "    <script>\n",
              "      const buttonEl =\n",
              "        document.querySelector('#df-28aa3563-de09-476b-a65b-5887679fdfe9 button.colab-df-convert');\n",
              "      buttonEl.style.display =\n",
              "        google.colab.kernel.accessAllowed ? 'block' : 'none';\n",
              "\n",
              "      async function convertToInteractive(key) {\n",
              "        const element = document.querySelector('#df-28aa3563-de09-476b-a65b-5887679fdfe9');\n",
              "        const dataTable =\n",
              "          await google.colab.kernel.invokeFunction('convertToInteractive',\n",
              "                                                    [key], {});\n",
              "        if (!dataTable) return;\n",
              "\n",
              "        const docLinkHtml = 'Like what you see? Visit the ' +\n",
              "          '<a target=\"_blank\" href=https://colab.research.google.com/notebooks/data_table.ipynb>data table notebook</a>'\n",
              "          + ' to learn more about interactive tables.';\n",
              "        element.innerHTML = '';\n",
              "        dataTable['output_type'] = 'display_data';\n",
              "        await google.colab.output.renderOutput(dataTable, element);\n",
              "        const docLink = document.createElement('div');\n",
              "        docLink.innerHTML = docLinkHtml;\n",
              "        element.appendChild(docLink);\n",
              "      }\n",
              "    </script>\n",
              "  </div>\n",
              "\n",
              "\n",
              "<div id=\"df-2932e160-0052-4661-af95-efd68576b44e\">\n",
              "  <button class=\"colab-df-quickchart\" onclick=\"quickchart('df-2932e160-0052-4661-af95-efd68576b44e')\"\n",
              "            title=\"Suggest charts\"\n",
              "            style=\"display:none;\">\n",
              "\n",
              "<svg xmlns=\"http://www.w3.org/2000/svg\" height=\"24px\"viewBox=\"0 0 24 24\"\n",
              "     width=\"24px\">\n",
              "    <g>\n",
              "        <path d=\"M19 3H5c-1.1 0-2 .9-2 2v14c0 1.1.9 2 2 2h14c1.1 0 2-.9 2-2V5c0-1.1-.9-2-2-2zM9 17H7v-7h2v7zm4 0h-2V7h2v10zm4 0h-2v-4h2v4z\"/>\n",
              "    </g>\n",
              "</svg>\n",
              "  </button>\n",
              "\n",
              "<style>\n",
              "  .colab-df-quickchart {\n",
              "      --bg-color: #E8F0FE;\n",
              "      --fill-color: #1967D2;\n",
              "      --hover-bg-color: #E2EBFA;\n",
              "      --hover-fill-color: #174EA6;\n",
              "      --disabled-fill-color: #AAA;\n",
              "      --disabled-bg-color: #DDD;\n",
              "  }\n",
              "\n",
              "  [theme=dark] .colab-df-quickchart {\n",
              "      --bg-color: #3B4455;\n",
              "      --fill-color: #D2E3FC;\n",
              "      --hover-bg-color: #434B5C;\n",
              "      --hover-fill-color: #FFFFFF;\n",
              "      --disabled-bg-color: #3B4455;\n",
              "      --disabled-fill-color: #666;\n",
              "  }\n",
              "\n",
              "  .colab-df-quickchart {\n",
              "    background-color: var(--bg-color);\n",
              "    border: none;\n",
              "    border-radius: 50%;\n",
              "    cursor: pointer;\n",
              "    display: none;\n",
              "    fill: var(--fill-color);\n",
              "    height: 32px;\n",
              "    padding: 0;\n",
              "    width: 32px;\n",
              "  }\n",
              "\n",
              "  .colab-df-quickchart:hover {\n",
              "    background-color: var(--hover-bg-color);\n",
              "    box-shadow: 0 1px 2px rgba(60, 64, 67, 0.3), 0 1px 3px 1px rgba(60, 64, 67, 0.15);\n",
              "    fill: var(--button-hover-fill-color);\n",
              "  }\n",
              "\n",
              "  .colab-df-quickchart-complete:disabled,\n",
              "  .colab-df-quickchart-complete:disabled:hover {\n",
              "    background-color: var(--disabled-bg-color);\n",
              "    fill: var(--disabled-fill-color);\n",
              "    box-shadow: none;\n",
              "  }\n",
              "\n",
              "  .colab-df-spinner {\n",
              "    border: 2px solid var(--fill-color);\n",
              "    border-color: transparent;\n",
              "    border-bottom-color: var(--fill-color);\n",
              "    animation:\n",
              "      spin 1s steps(1) infinite;\n",
              "  }\n",
              "\n",
              "  @keyframes spin {\n",
              "    0% {\n",
              "      border-color: transparent;\n",
              "      border-bottom-color: var(--fill-color);\n",
              "      border-left-color: var(--fill-color);\n",
              "    }\n",
              "    20% {\n",
              "      border-color: transparent;\n",
              "      border-left-color: var(--fill-color);\n",
              "      border-top-color: var(--fill-color);\n",
              "    }\n",
              "    30% {\n",
              "      border-color: transparent;\n",
              "      border-left-color: var(--fill-color);\n",
              "      border-top-color: var(--fill-color);\n",
              "      border-right-color: var(--fill-color);\n",
              "    }\n",
              "    40% {\n",
              "      border-color: transparent;\n",
              "      border-right-color: var(--fill-color);\n",
              "      border-top-color: var(--fill-color);\n",
              "    }\n",
              "    60% {\n",
              "      border-color: transparent;\n",
              "      border-right-color: var(--fill-color);\n",
              "    }\n",
              "    80% {\n",
              "      border-color: transparent;\n",
              "      border-right-color: var(--fill-color);\n",
              "      border-bottom-color: var(--fill-color);\n",
              "    }\n",
              "    90% {\n",
              "      border-color: transparent;\n",
              "      border-bottom-color: var(--fill-color);\n",
              "    }\n",
              "  }\n",
              "</style>\n",
              "\n",
              "  <script>\n",
              "    async function quickchart(key) {\n",
              "      const quickchartButtonEl =\n",
              "        document.querySelector('#' + key + ' button');\n",
              "      quickchartButtonEl.disabled = true;  // To prevent multiple clicks.\n",
              "      quickchartButtonEl.classList.add('colab-df-spinner');\n",
              "      try {\n",
              "        const charts = await google.colab.kernel.invokeFunction(\n",
              "            'suggestCharts', [key], {});\n",
              "      } catch (error) {\n",
              "        console.error('Error during call to suggestCharts:', error);\n",
              "      }\n",
              "      quickchartButtonEl.classList.remove('colab-df-spinner');\n",
              "      quickchartButtonEl.classList.add('colab-df-quickchart-complete');\n",
              "    }\n",
              "    (() => {\n",
              "      let quickchartButtonEl =\n",
              "        document.querySelector('#df-2932e160-0052-4661-af95-efd68576b44e button');\n",
              "      quickchartButtonEl.style.display =\n",
              "        google.colab.kernel.accessAllowed ? 'block' : 'none';\n",
              "    })();\n",
              "  </script>\n",
              "</div>\n",
              "    </div>\n",
              "  </div>\n"
            ],
            "application/vnd.google.colaboratory.intrinsic+json": {
              "type": "dataframe"
            }
          },
          "metadata": {},
          "execution_count": 241
        }
      ]
    },
    {
      "cell_type": "code",
      "source": [
        "opponent_team_df.shape"
      ],
      "metadata": {
        "id": "E4SXPod4WmXi",
        "colab": {
          "base_uri": "https://localhost:8080/"
        },
        "outputId": "c44aa591-c542-4b76-e9c6-7966f6031d73"
      },
      "execution_count": null,
      "outputs": [
        {
          "output_type": "execute_result",
          "data": {
            "text/plain": [
              "(1817, 69)"
            ]
          },
          "metadata": {},
          "execution_count": 242
        }
      ]
    },
    {
      "cell_type": "code",
      "source": [
        "opponent_team_df.info()"
      ],
      "metadata": {
        "id": "MLMNaw2dWP2E",
        "colab": {
          "base_uri": "https://localhost:8080/"
        },
        "outputId": "98a66489-7ee4-4b12-e478-46110d5c958a"
      },
      "execution_count": null,
      "outputs": [
        {
          "output_type": "stream",
          "name": "stdout",
          "text": [
            "<class 'pandas.core.frame.DataFrame'>\n",
            "RangeIndex: 1817 entries, 0 to 1816\n",
            "Data columns (total 69 columns):\n",
            " #   Column                                               Non-Null Count  Dtype  \n",
            "---  ------                                               --------------  -----  \n",
            " 0   SEASON                                               1817 non-null   int64  \n",
            " 1   LEAGUE                                               1817 non-null   object \n",
            " 2   TEAM_ABBREVIATION                                    1817 non-null   object \n",
            " 3   PLAYOFFS                                             1817 non-null   bool   \n",
            " 4   GAMES                                                1817 non-null   int64  \n",
            " 5   MINUTES_PLAYED                                       1817 non-null   int64  \n",
            " 6   OPPONENT_FIELD_GOALS_PER_100_POSSESION               1817 non-null   float64\n",
            " 7   OPPONENT_FIELD_GOALS_ATTEMPTED_PER_100_POSSESION     1817 non-null   float64\n",
            " 8   OPPONENT_FIELD_GOALS_PERCENTAGE                      1817 non-null   float64\n",
            " 9   OPPONENT_THREE_POINTERS_PER_100_POSSESION            1673 non-null   float64\n",
            " 10  OPPONENT_THREE_POINTERS_ATTEMPTED_PER_100_POSSESION  1673 non-null   float64\n",
            " 11  OPPONENT_THREE_POINTERS_PERCENTAGE                   1673 non-null   float64\n",
            " 12  OPPONENT_TWO_POINTER_PER_100_POSSESION               1817 non-null   float64\n",
            " 13  OPPONENT_TWO_POINTERS_ATTEMPTED_PER_100_POSSESION    1817 non-null   float64\n",
            " 14  OPPONENT_TWO_POINTERS_PERCENTAGE                     1817 non-null   float64\n",
            " 15  OPPONENT_FREE_THROWS_PER_100_POSSESION               1817 non-null   float64\n",
            " 16  OPPONENT_FREE_THROWS_ATTEMPTED_PER_100_POSSESION     1817 non-null   float64\n",
            " 17  OPPONENT_FREE_THROWS_PERCENTAGE                      1817 non-null   float64\n",
            " 18  OPPONENT_OFFENSIVE_REBOUND_PER_100_POSSESION         1817 non-null   float64\n",
            " 19  OPPONENT_DEFENSIVE_REBOUND_PER_100_POSSESION         1817 non-null   float64\n",
            " 20  OPPONENT_TOTAL_REBOUND_PER_100_POSSESION             1817 non-null   float64\n",
            " 21  OPPONENT_ASSIST_PER_100_POSSESION                    1817 non-null   float64\n",
            " 22  OPPONENT_STEAL_PER_100_POSSESION                     1817 non-null   float64\n",
            " 23  OPPONENT_STEAL_PER_100_POSSESION.1                   1817 non-null   float64\n",
            " 24  OPPONENT_TURNOVER_PER_100_POSSESION                  1817 non-null   float64\n",
            " 25  OPPONENT_PERSONAL_FOUL_PER_100_POSSESION             1817 non-null   float64\n",
            " 26  OPPONENT_POINTS_PER_100_POSSESION                    1817 non-null   float64\n",
            " 27  TEAM                                                 1817 non-null   object \n",
            " 28  TEAM_ABBREAVIATION                                   1806 non-null   object \n",
            " 29  MINUTES_PLAYED_PER_GAME                              1817 non-null   float64\n",
            " 30  OPPONENTS_FIELD_GOALS_PER_GAME                       1817 non-null   float64\n",
            " 31  OPPONENTS_FIELD_GOALS_Attempted_per_game             1817 non-null   float64\n",
            " 32  OPPONENTS_THREE_POINTERS_PER_GAME                    1673 non-null   float64\n",
            " 33  PPONENTS_THREE_POINTERS_ATTEMPTED_PER_GAME           1673 non-null   float64\n",
            " 34  OPPONENTS_THREE_POINTERS_PERCENTAGE                  1673 non-null   float64\n",
            " 35  OPPONENTS_TWO_POINTERS_PER_GAME                      1817 non-null   float64\n",
            " 36  OPPONENTS_TWO_POINTERS_ATTEMPTED_PER_GAME            1817 non-null   float64\n",
            " 37  OPPONENTS_TWO_POINTERS_PERCENTAGE                    1817 non-null   float64\n",
            " 38  OPPONENTS_FREE_THROWS_PER_GAME                       1817 non-null   float64\n",
            " 39  OPPONENTS_FREE_THROWS_ATTEMPTED_PER_GAME             1817 non-null   float64\n",
            " 40  OPPONENTS_FREE_THROWS_PERCENTAGE                     1817 non-null   float64\n",
            " 41  OPPONENTS_OFFENSIVE_REBOUND_PER_GAME                 1817 non-null   float64\n",
            " 42  OPPONENTS_DEFENSIVE_REBOUND_PER_GAME                 1817 non-null   float64\n",
            " 43  OPPONENTS_TOTAL_REBOUND_PER_GAME                     1817 non-null   float64\n",
            " 44  OPPONENTS_ASSIST_PER_GAME                            1817 non-null   float64\n",
            " 45  OPPONENTS_STEAL_PER_GAME                             1817 non-null   float64\n",
            " 46  OPPONENTSBLOCKS_PER_GAME                             1817 non-null   float64\n",
            " 47  OPPONENTS_TURNOVER_PER_GAME                          1817 non-null   float64\n",
            " 48  OPPONENTS_PERSONAL_FOUL_PER_GAME                     1817 non-null   float64\n",
            " 49  OPPONENTS_POINTS_PER_GAME                            1817 non-null   float64\n",
            " 50  OPPONENT_FIELD_GOALS                                 1406 non-null   float64\n",
            " 51  OPPONENT_FIELD_GOALS_ATTEMPTED                       1406 non-null   float64\n",
            " 52  OPPPONENT_FIELD_GOALS_PERCENTAGE                     1406 non-null   float64\n",
            " 53  OPPONENT_THREE_POINTERS                              1283 non-null   float64\n",
            " 54  OPPONENT_THREE_POINTERS_ATTEMPTED                    1283 non-null   float64\n",
            " 55  OPPONENT_TWO_POINTERS                                1406 non-null   float64\n",
            " 56  OPPONENT_TWO_POINTERS_ATTEMPTED                      1406 non-null   float64\n",
            " 57  OPPONENT_FREE_THROWS                                 1406 non-null   float64\n",
            " 58  OPPONENT_FREE_THROWS_ATTEMPTED                       1406 non-null   float64\n",
            " 59  OPPONENT_FREE_THROW_PERCENTAGE                       1406 non-null   float64\n",
            " 60  OPPONENTS_OFFENSIVE_REBOUND                          1406 non-null   float64\n",
            " 61  OPPONENTS_DEFENSIVE_REBOUND                          1406 non-null   float64\n",
            " 62  OPPONENTS_TOTAL_REBOUND                              1406 non-null   float64\n",
            " 63  OPPONENTS_ASSIST                                     1406 non-null   float64\n",
            " 64  OPPONENTS_STEALS                                     1406 non-null   float64\n",
            " 65  OPPONENTS_BLOCKS                                     1406 non-null   float64\n",
            " 66  OPPONENTS_TURNOVERS                                  1406 non-null   float64\n",
            " 67  OPPONENTS_PERSONAL_FOUL                              1406 non-null   float64\n",
            " 68  OPPONENTS_POINTS                                     1406 non-null   float64\n",
            "dtypes: bool(1), float64(61), int64(3), object(4)\n",
            "memory usage: 967.2+ KB\n"
          ]
        }
      ]
    },
    {
      "cell_type": "code",
      "source": [
        "del opponent_team_df['TEAM_ABBREAVIATION']"
      ],
      "metadata": {
        "id": "D2vcK0seWjxS"
      },
      "execution_count": null,
      "outputs": []
    },
    {
      "cell_type": "code",
      "source": [
        "opponent_team_df.columns.tolist()"
      ],
      "metadata": {
        "id": "tAnhjYdwWoRN",
        "colab": {
          "base_uri": "https://localhost:8080/"
        },
        "outputId": "55ed5105-3eba-4c78-8bc7-ef0763996c4d"
      },
      "execution_count": null,
      "outputs": [
        {
          "output_type": "execute_result",
          "data": {
            "text/plain": [
              "['SEASON',\n",
              " 'LEAGUE',\n",
              " 'TEAM_ABBREVIATION',\n",
              " 'PLAYOFFS',\n",
              " 'GAMES',\n",
              " 'MINUTES_PLAYED',\n",
              " 'OPPONENT_FIELD_GOALS_PER_100_POSSESION',\n",
              " 'OPPONENT_FIELD_GOALS_ATTEMPTED_PER_100_POSSESION',\n",
              " 'OPPONENT_FIELD_GOALS_PERCENTAGE',\n",
              " 'OPPONENT_THREE_POINTERS_PER_100_POSSESION',\n",
              " 'OPPONENT_THREE_POINTERS_ATTEMPTED_PER_100_POSSESION',\n",
              " 'OPPONENT_THREE_POINTERS_PERCENTAGE',\n",
              " 'OPPONENT_TWO_POINTER_PER_100_POSSESION',\n",
              " 'OPPONENT_TWO_POINTERS_ATTEMPTED_PER_100_POSSESION',\n",
              " 'OPPONENT_TWO_POINTERS_PERCENTAGE',\n",
              " 'OPPONENT_FREE_THROWS_PER_100_POSSESION',\n",
              " 'OPPONENT_FREE_THROWS_ATTEMPTED_PER_100_POSSESION',\n",
              " 'OPPONENT_FREE_THROWS_PERCENTAGE',\n",
              " 'OPPONENT_OFFENSIVE_REBOUND_PER_100_POSSESION',\n",
              " 'OPPONENT_DEFENSIVE_REBOUND_PER_100_POSSESION',\n",
              " 'OPPONENT_TOTAL_REBOUND_PER_100_POSSESION',\n",
              " 'OPPONENT_ASSIST_PER_100_POSSESION',\n",
              " 'OPPONENT_STEAL_PER_100_POSSESION',\n",
              " 'OPPONENT_STEAL_PER_100_POSSESION.1',\n",
              " 'OPPONENT_TURNOVER_PER_100_POSSESION',\n",
              " 'OPPONENT_PERSONAL_FOUL_PER_100_POSSESION',\n",
              " 'OPPONENT_POINTS_PER_100_POSSESION',\n",
              " 'TEAM',\n",
              " 'MINUTES_PLAYED_PER_GAME',\n",
              " 'OPPONENTS_FIELD_GOALS_PER_GAME',\n",
              " 'OPPONENTS_FIELD_GOALS_Attempted_per_game',\n",
              " 'OPPONENTS_THREE_POINTERS_PER_GAME',\n",
              " 'PPONENTS_THREE_POINTERS_ATTEMPTED_PER_GAME',\n",
              " 'OPPONENTS_THREE_POINTERS_PERCENTAGE',\n",
              " 'OPPONENTS_TWO_POINTERS_PER_GAME',\n",
              " 'OPPONENTS_TWO_POINTERS_ATTEMPTED_PER_GAME',\n",
              " 'OPPONENTS_TWO_POINTERS_PERCENTAGE',\n",
              " 'OPPONENTS_FREE_THROWS_PER_GAME',\n",
              " 'OPPONENTS_FREE_THROWS_ATTEMPTED_PER_GAME',\n",
              " 'OPPONENTS_FREE_THROWS_PERCENTAGE',\n",
              " 'OPPONENTS_OFFENSIVE_REBOUND_PER_GAME',\n",
              " 'OPPONENTS_DEFENSIVE_REBOUND_PER_GAME',\n",
              " 'OPPONENTS_TOTAL_REBOUND_PER_GAME',\n",
              " 'OPPONENTS_ASSIST_PER_GAME',\n",
              " 'OPPONENTS_STEAL_PER_GAME',\n",
              " 'OPPONENTSBLOCKS_PER_GAME',\n",
              " 'OPPONENTS_TURNOVER_PER_GAME',\n",
              " 'OPPONENTS_PERSONAL_FOUL_PER_GAME',\n",
              " 'OPPONENTS_POINTS_PER_GAME',\n",
              " 'OPPONENT_FIELD_GOALS',\n",
              " 'OPPONENT_FIELD_GOALS_ATTEMPTED',\n",
              " 'OPPPONENT_FIELD_GOALS_PERCENTAGE',\n",
              " 'OPPONENT_THREE_POINTERS',\n",
              " 'OPPONENT_THREE_POINTERS_ATTEMPTED',\n",
              " 'OPPONENT_TWO_POINTERS',\n",
              " 'OPPONENT_TWO_POINTERS_ATTEMPTED',\n",
              " 'OPPONENT_FREE_THROWS',\n",
              " 'OPPONENT_FREE_THROWS_ATTEMPTED',\n",
              " 'OPPONENT_FREE_THROW_PERCENTAGE',\n",
              " 'OPPONENTS_OFFENSIVE_REBOUND',\n",
              " 'OPPONENTS_DEFENSIVE_REBOUND',\n",
              " 'OPPONENTS_TOTAL_REBOUND',\n",
              " 'OPPONENTS_ASSIST',\n",
              " 'OPPONENTS_STEALS',\n",
              " 'OPPONENTS_BLOCKS',\n",
              " 'OPPONENTS_TURNOVERS',\n",
              " 'OPPONENTS_PERSONAL_FOUL',\n",
              " 'OPPONENTS_POINTS']"
            ]
          },
          "metadata": {},
          "execution_count": 245
        }
      ]
    },
    {
      "cell_type": "code",
      "source": [
        "opponent_team_df = opponent_team_df.drop([\n",
        " 'LEAGUE',\n",
        " 'OPPONENT_FIELD_GOALS_PER_100_POSSESION',\n",
        " 'OPPONENT_FIELD_GOALS_ATTEMPTED_PER_100_POSSESION',\n",
        " 'OPPONENT_FIELD_GOALS_PERCENTAGE',\n",
        " 'OPPONENT_THREE_POINTERS_PER_100_POSSESION',\n",
        " 'OPPONENT_THREE_POINTERS_ATTEMPTED_PER_100_POSSESION',\n",
        " 'OPPONENT_THREE_POINTERS_PERCENTAGE',\n",
        " 'OPPONENT_TWO_POINTER_PER_100_POSSESION',\n",
        " 'OPPONENT_TWO_POINTERS_ATTEMPTED_PER_100_POSSESION',\n",
        " 'OPPONENT_TWO_POINTERS_PERCENTAGE',\n",
        " 'OPPONENT_FREE_THROWS_PER_100_POSSESION',\n",
        " 'OPPONENT_FREE_THROWS_ATTEMPTED_PER_100_POSSESION',\n",
        " 'OPPONENT_FREE_THROWS_PERCENTAGE',\n",
        " 'OPPONENT_OFFENSIVE_REBOUND_PER_100_POSSESION',\n",
        " 'OPPONENT_DEFENSIVE_REBOUND_PER_100_POSSESION',\n",
        " 'OPPONENT_TOTAL_REBOUND_PER_100_POSSESION',\n",
        " 'OPPONENT_ASSIST_PER_100_POSSESION',\n",
        " 'OPPONENT_STEAL_PER_100_POSSESION',\n",
        " 'OPPONENT_STEAL_PER_100_POSSESION.1',\n",
        " 'OPPONENT_TURNOVER_PER_100_POSSESION',\n",
        " 'OPPONENT_PERSONAL_FOUL_PER_100_POSSESION',\n",
        " 'OPPONENT_POINTS_PER_100_POSSESION',\n",
        " 'MINUTES_PLAYED_PER_GAME',\n",
        " 'PPONENTS_THREE_POINTERS_ATTEMPTED_PER_GAME',\n",
        " 'OPPONENTS_TWO_POINTERS_ATTEMPTED_PER_GAME',\n",
        " 'OPPONENTS_FREE_THROWS_ATTEMPTED_PER_GAME',\n",
        " 'OPPONENTS_OFFENSIVE_REBOUND_PER_GAME',\n",
        " 'OPPONENTS_DEFENSIVE_REBOUND_PER_GAME',\n",
        " 'OPPONENT_THREE_POINTERS_ATTEMPTED',\n",
        " 'OPPONENT_TWO_POINTERS_ATTEMPTED',\n",
        " 'OPPONENT_FREE_THROW_PERCENTAGE',\n",
        " ], axis=1)"
      ],
      "metadata": {
        "id": "-TYHZYbYXEU0"
      },
      "execution_count": null,
      "outputs": []
    },
    {
      "cell_type": "code",
      "source": [
        "opponent_team_df.fillna(0, inplace=True)"
      ],
      "metadata": {
        "id": "uw0DynFeW-cZ"
      },
      "execution_count": null,
      "outputs": []
    },
    {
      "cell_type": "code",
      "source": [
        "opponent_team_df.info()"
      ],
      "metadata": {
        "id": "f3LN38yXaZIh",
        "colab": {
          "base_uri": "https://localhost:8080/"
        },
        "outputId": "626dd824-4dfd-4f8e-ceb2-394ed4a4fd7c"
      },
      "execution_count": null,
      "outputs": [
        {
          "output_type": "stream",
          "name": "stdout",
          "text": [
            "<class 'pandas.core.frame.DataFrame'>\n",
            "RangeIndex: 1817 entries, 0 to 1816\n",
            "Data columns (total 37 columns):\n",
            " #   Column                                    Non-Null Count  Dtype  \n",
            "---  ------                                    --------------  -----  \n",
            " 0   SEASON                                    1817 non-null   int64  \n",
            " 1   TEAM_ABBREVIATION                         1817 non-null   object \n",
            " 2   PLAYOFFS                                  1817 non-null   bool   \n",
            " 3   GAMES                                     1817 non-null   int64  \n",
            " 4   MINUTES_PLAYED                            1817 non-null   int64  \n",
            " 5   TEAM                                      1817 non-null   object \n",
            " 6   OPPONENTS_FIELD_GOALS_PER_GAME            1817 non-null   float64\n",
            " 7   OPPONENTS_FIELD_GOALS_Attempted_per_game  1817 non-null   float64\n",
            " 8   OPPONENTS_THREE_POINTERS_PER_GAME         1817 non-null   float64\n",
            " 9   OPPONENTS_THREE_POINTERS_PERCENTAGE       1817 non-null   float64\n",
            " 10  OPPONENTS_TWO_POINTERS_PER_GAME           1817 non-null   float64\n",
            " 11  OPPONENTS_TWO_POINTERS_PERCENTAGE         1817 non-null   float64\n",
            " 12  OPPONENTS_FREE_THROWS_PER_GAME            1817 non-null   float64\n",
            " 13  OPPONENTS_FREE_THROWS_PERCENTAGE          1817 non-null   float64\n",
            " 14  OPPONENTS_TOTAL_REBOUND_PER_GAME          1817 non-null   float64\n",
            " 15  OPPONENTS_ASSIST_PER_GAME                 1817 non-null   float64\n",
            " 16  OPPONENTS_STEAL_PER_GAME                  1817 non-null   float64\n",
            " 17  OPPONENTSBLOCKS_PER_GAME                  1817 non-null   float64\n",
            " 18  OPPONENTS_TURNOVER_PER_GAME               1817 non-null   float64\n",
            " 19  OPPONENTS_PERSONAL_FOUL_PER_GAME          1817 non-null   float64\n",
            " 20  OPPONENTS_POINTS_PER_GAME                 1817 non-null   float64\n",
            " 21  OPPONENT_FIELD_GOALS                      1817 non-null   float64\n",
            " 22  OPPONENT_FIELD_GOALS_ATTEMPTED            1817 non-null   float64\n",
            " 23  OPPPONENT_FIELD_GOALS_PERCENTAGE          1817 non-null   float64\n",
            " 24  OPPONENT_THREE_POINTERS                   1817 non-null   float64\n",
            " 25  OPPONENT_TWO_POINTERS                     1817 non-null   float64\n",
            " 26  OPPONENT_FREE_THROWS                      1817 non-null   float64\n",
            " 27  OPPONENT_FREE_THROWS_ATTEMPTED            1817 non-null   float64\n",
            " 28  OPPONENTS_OFFENSIVE_REBOUND               1817 non-null   float64\n",
            " 29  OPPONENTS_DEFENSIVE_REBOUND               1817 non-null   float64\n",
            " 30  OPPONENTS_TOTAL_REBOUND                   1817 non-null   float64\n",
            " 31  OPPONENTS_ASSIST                          1817 non-null   float64\n",
            " 32  OPPONENTS_STEALS                          1817 non-null   float64\n",
            " 33  OPPONENTS_BLOCKS                          1817 non-null   float64\n",
            " 34  OPPONENTS_TURNOVERS                       1817 non-null   float64\n",
            " 35  OPPONENTS_PERSONAL_FOUL                   1817 non-null   float64\n",
            " 36  OPPONENTS_POINTS                          1817 non-null   float64\n",
            "dtypes: bool(1), float64(31), int64(3), object(2)\n",
            "memory usage: 512.9+ KB\n"
          ]
        }
      ]
    },
    {
      "cell_type": "code",
      "source": [
        "opponent_team_df = opponent_team_df.rename(columns={'OPPONENTSBLOCKS_PER_GAME': 'OPPONENTS_BLOCKS_PER_GAME'})"
      ],
      "metadata": {
        "id": "jnbNTqXxvLZW"
      },
      "execution_count": null,
      "outputs": []
    },
    {
      "cell_type": "code",
      "source": [
        "opponent_team_df.info()"
      ],
      "metadata": {
        "id": "ZbIMg4YavaOk",
        "colab": {
          "base_uri": "https://localhost:8080/"
        },
        "outputId": "a4e3fd98-d1ee-4cdf-a076-1aca38bf6cb2"
      },
      "execution_count": null,
      "outputs": [
        {
          "output_type": "stream",
          "name": "stdout",
          "text": [
            "<class 'pandas.core.frame.DataFrame'>\n",
            "RangeIndex: 1817 entries, 0 to 1816\n",
            "Data columns (total 37 columns):\n",
            " #   Column                                    Non-Null Count  Dtype  \n",
            "---  ------                                    --------------  -----  \n",
            " 0   SEASON                                    1817 non-null   int64  \n",
            " 1   TEAM_ABBREVIATION                         1817 non-null   object \n",
            " 2   PLAYOFFS                                  1817 non-null   bool   \n",
            " 3   GAMES                                     1817 non-null   int64  \n",
            " 4   MINUTES_PLAYED                            1817 non-null   int64  \n",
            " 5   TEAM                                      1817 non-null   object \n",
            " 6   OPPONENTS_FIELD_GOALS_PER_GAME            1817 non-null   float64\n",
            " 7   OPPONENTS_FIELD_GOALS_Attempted_per_game  1817 non-null   float64\n",
            " 8   OPPONENTS_THREE_POINTERS_PER_GAME         1817 non-null   float64\n",
            " 9   OPPONENTS_THREE_POINTERS_PERCENTAGE       1817 non-null   float64\n",
            " 10  OPPONENTS_TWO_POINTERS_PER_GAME           1817 non-null   float64\n",
            " 11  OPPONENTS_TWO_POINTERS_PERCENTAGE         1817 non-null   float64\n",
            " 12  OPPONENTS_FREE_THROWS_PER_GAME            1817 non-null   float64\n",
            " 13  OPPONENTS_FREE_THROWS_PERCENTAGE          1817 non-null   float64\n",
            " 14  OPPONENTS_TOTAL_REBOUND_PER_GAME          1817 non-null   float64\n",
            " 15  OPPONENTS_ASSIST_PER_GAME                 1817 non-null   float64\n",
            " 16  OPPONENTS_STEAL_PER_GAME                  1817 non-null   float64\n",
            " 17  OPPONENTS_BLOCKS_PER_GAME                 1817 non-null   float64\n",
            " 18  OPPONENTS_TURNOVER_PER_GAME               1817 non-null   float64\n",
            " 19  OPPONENTS_PERSONAL_FOUL_PER_GAME          1817 non-null   float64\n",
            " 20  OPPONENTS_POINTS_PER_GAME                 1817 non-null   float64\n",
            " 21  OPPONENT_FIELD_GOALS                      1817 non-null   float64\n",
            " 22  OPPONENT_FIELD_GOALS_ATTEMPTED            1817 non-null   float64\n",
            " 23  OPPPONENT_FIELD_GOALS_PERCENTAGE          1817 non-null   float64\n",
            " 24  OPPONENT_THREE_POINTERS                   1817 non-null   float64\n",
            " 25  OPPONENT_TWO_POINTERS                     1817 non-null   float64\n",
            " 26  OPPONENT_FREE_THROWS                      1817 non-null   float64\n",
            " 27  OPPONENT_FREE_THROWS_ATTEMPTED            1817 non-null   float64\n",
            " 28  OPPONENTS_OFFENSIVE_REBOUND               1817 non-null   float64\n",
            " 29  OPPONENTS_DEFENSIVE_REBOUND               1817 non-null   float64\n",
            " 30  OPPONENTS_TOTAL_REBOUND                   1817 non-null   float64\n",
            " 31  OPPONENTS_ASSIST                          1817 non-null   float64\n",
            " 32  OPPONENTS_STEALS                          1817 non-null   float64\n",
            " 33  OPPONENTS_BLOCKS                          1817 non-null   float64\n",
            " 34  OPPONENTS_TURNOVERS                       1817 non-null   float64\n",
            " 35  OPPONENTS_PERSONAL_FOUL                   1817 non-null   float64\n",
            " 36  OPPONENTS_POINTS                          1817 non-null   float64\n",
            "dtypes: bool(1), float64(31), int64(3), object(2)\n",
            "memory usage: 512.9+ KB\n"
          ]
        }
      ]
    },
    {
      "cell_type": "code",
      "source": [
        "opponent_team_df['SEASON'].unique()"
      ],
      "metadata": {
        "id": "1veiMXNxacwL",
        "colab": {
          "base_uri": "https://localhost:8080/"
        },
        "outputId": "8199d195-05fd-4a5d-8d6e-562b1f187770"
      },
      "execution_count": null,
      "outputs": [
        {
          "output_type": "execute_result",
          "data": {
            "text/plain": [
              "array([2024, 2023, 2022, 2021, 2020, 2019, 2018, 2017, 2016, 2015, 2014,\n",
              "       2013, 2012, 2011, 2010, 2009, 2008, 2007, 2006, 2005, 2004, 2003,\n",
              "       2002, 2001, 2000, 1999, 1998, 1997, 1996, 1995, 1994, 1993, 1992,\n",
              "       1991, 1990, 1989, 1988, 1987, 1986, 1985, 1984, 1983, 1982, 1981,\n",
              "       1980, 1979, 1978, 1977, 1976, 1975, 1974])"
            ]
          },
          "metadata": {},
          "execution_count": 251
        }
      ]
    },
    {
      "cell_type": "code",
      "source": [
        "opponent_team_df['TEAM'].unique()"
      ],
      "metadata": {
        "id": "8QiItnqVasIQ",
        "colab": {
          "base_uri": "https://localhost:8080/"
        },
        "outputId": "6dd283a2-5e4c-4a7e-97e9-164d9ced6088"
      },
      "execution_count": null,
      "outputs": [
        {
          "output_type": "execute_result",
          "data": {
            "text/plain": [
              "array(['Atlanta Hawks', 'Boston Celtics', 'Brooklyn Nets',\n",
              "       'Chicago Bulls', 'Charlotte Hornets', 'Cleveland Cavaliers',\n",
              "       'Dallas Mavericks', 'Denver Nuggets', 'Detroit Pistons',\n",
              "       'Portland Trail Blazers', 'Golden State Warriors',\n",
              "       'Houston Rockets', 'Indiana Pacers', 'Los Angeles Clippers',\n",
              "       'Los Angeles Lakers', 'Memphis Grizzlies', 'Miami Heat',\n",
              "       'Milwaukee Bucks', 'Minnesota Timberwolves',\n",
              "       'New Orleans Pelicans', 'New York Knicks', 'Oklahoma City Thunder',\n",
              "       'Orlando Magic', 'Philadelphia 76ers', 'Phoenix Suns',\n",
              "       'Sacramento Kings', 'San Antonio Spurs', 'Toronto Raptors',\n",
              "       'Utah Jazz', 'Washington Wizards', 'League Average',\n",
              "       'Charlotte Bobcats', 'New Orleans Hornets', 'New Jersey Nets',\n",
              "       'Seattle SuperSonics', 'New Orleans/Oklahoma City Hornets',\n",
              "       'Vancouver Grizzlies', 'Washington Bullets', 'Kansas City Kings',\n",
              "       'San Diego Clippers', 'New Orleans Jazz', 'Buffalo Braves',\n",
              "       'New York Nets', 'Kentucky Colonels', 'San Diego Sails',\n",
              "       'Spirits of St. Louis', 'Utah Stars', 'Virginia Squires',\n",
              "       'Kansas City-Omaha Kings', 'Memphis Sounds',\n",
              "       'San Diego Conquistadors', 'Capital Bullets', 'Carolina Cougars',\n",
              "       'Denver Rockets', 'Memphis Tams'], dtype=object)"
            ]
          },
          "metadata": {},
          "execution_count": 252
        }
      ]
    },
    {
      "cell_type": "markdown",
      "source": [
        "Although this DataFrame didn't significantly influence our final model, we took a moment to investigate whether there was a substantial variance in the number of injured players per team. We hypothesized that this might impact a team's overall performance and, consequently, their likelihood of winning. It's worth noting that the available data only covers a decade (2010-2020)."
      ],
      "metadata": {
        "id": "9FhA3THcsxwe"
      }
    },
    {
      "cell_type": "code",
      "source": [
        "injuries_df = pd.read_csv('/content/drive/MyDrive/FINAL PROJECT CSVs/injuries_2010-2020.csv')"
      ],
      "metadata": {
        "id": "Kq12nXnweuJq"
      },
      "execution_count": null,
      "outputs": []
    },
    {
      "cell_type": "code",
      "source": [
        "injuries_df.shape"
      ],
      "metadata": {
        "id": "d_cRLJzle2Gi",
        "colab": {
          "base_uri": "https://localhost:8080/"
        },
        "outputId": "f1b48a9c-8268-44aa-94e5-415f1bfaae9f"
      },
      "execution_count": null,
      "outputs": [
        {
          "output_type": "execute_result",
          "data": {
            "text/plain": [
              "(27105, 5)"
            ]
          },
          "metadata": {},
          "execution_count": 254
        }
      ]
    },
    {
      "cell_type": "code",
      "source": [
        "injuries_df.info()"
      ],
      "metadata": {
        "id": "u6KIjV4pe4cL",
        "colab": {
          "base_uri": "https://localhost:8080/"
        },
        "outputId": "4318117b-1eb1-4071-a3d6-b4db6e34d4a7"
      },
      "execution_count": null,
      "outputs": [
        {
          "output_type": "stream",
          "name": "stdout",
          "text": [
            "<class 'pandas.core.frame.DataFrame'>\n",
            "RangeIndex: 27105 entries, 0 to 27104\n",
            "Data columns (total 5 columns):\n",
            " #   Column        Non-Null Count  Dtype \n",
            "---  ------        --------------  ----- \n",
            " 0   DATE          27105 non-null  object\n",
            " 1   TEAM          27103 non-null  object\n",
            " 2   ACQUIRED      9542 non-null   object\n",
            " 3   RELINQUISHED  17560 non-null  object\n",
            " 4   NOTES         27105 non-null  object\n",
            "dtypes: object(5)\n",
            "memory usage: 1.0+ MB\n"
          ]
        }
      ]
    },
    {
      "cell_type": "code",
      "source": [
        "injuries_df['TEAM'].unique()"
      ],
      "metadata": {
        "id": "67fjLOdAfLz-",
        "colab": {
          "base_uri": "https://localhost:8080/"
        },
        "outputId": "d0a1c272-d8c8-4405-b82b-53d0de085395"
      },
      "execution_count": null,
      "outputs": [
        {
          "output_type": "execute_result",
          "data": {
            "text/plain": [
              "array(['Bulls', 'Pistons', 'Blazers', 'Nets', 'Nuggets', 'Bucks', 'Kings',\n",
              "       'Bobcats', 'Warriors', 'Suns', 'Heat', 'Thunder', 'Timberwolves',\n",
              "       'Celtics', 'Lakers', 'Rockets', '76ers', 'Cavaliers', 'Clippers',\n",
              "       'Grizzlies', 'Hawks', 'Hornets', 'Jazz', 'Knicks', 'Mavericks',\n",
              "       'Pacers', 'Raptors', 'Spurs', 'Magic', 'Wizards', 'Pelicans', nan,\n",
              "       'Bullets'], dtype=object)"
            ]
          },
          "metadata": {},
          "execution_count": 256
        }
      ]
    },
    {
      "cell_type": "code",
      "source": [
        "injuries_df['TEAM'].value_counts()"
      ],
      "metadata": {
        "id": "qv5ps0e1f2nA",
        "colab": {
          "base_uri": "https://localhost:8080/"
        },
        "outputId": "c87be47d-376b-4abc-c2e6-14b6f89f3e67"
      },
      "execution_count": null,
      "outputs": [
        {
          "output_type": "execute_result",
          "data": {
            "text/plain": [
              "TEAM\n",
              "Spurs           1163\n",
              "Bucks           1068\n",
              "Warriors        1060\n",
              "Rockets         1058\n",
              "Raptors         1044\n",
              "Celtics         1040\n",
              "Nets            1024\n",
              "Heat            1023\n",
              "Cavaliers       1001\n",
              "Mavericks        992\n",
              "Hawks            975\n",
              "Nuggets          966\n",
              "Lakers           959\n",
              "Knicks           943\n",
              "76ers            910\n",
              "Wizards          875\n",
              "Grizzlies        875\n",
              "Timberwolves     860\n",
              "Jazz             841\n",
              "Magic            834\n",
              "Pacers           831\n",
              "Bulls            791\n",
              "Suns             733\n",
              "Kings            728\n",
              "Hornets          719\n",
              "Clippers         718\n",
              "Thunder          717\n",
              "Pistons          714\n",
              "Blazers          695\n",
              "Pelicans         576\n",
              "Bobcats          369\n",
              "Bullets            1\n",
              "Name: count, dtype: int64"
            ]
          },
          "metadata": {},
          "execution_count": 257
        }
      ]
    },
    {
      "cell_type": "code",
      "source": [
        "pd.crosstab(index=injuries_df['TEAM'], columns=\"count\")"
      ],
      "metadata": {
        "id": "yYqt7CKRhbuK",
        "colab": {
          "base_uri": "https://localhost:8080/",
          "height": 1000
        },
        "outputId": "b9c43383-d485-4a92-8c14-4f25ddb4076b"
      },
      "execution_count": null,
      "outputs": [
        {
          "output_type": "execute_result",
          "data": {
            "text/plain": [
              "col_0         count\n",
              "TEAM               \n",
              "76ers           910\n",
              "Blazers         695\n",
              "Bobcats         369\n",
              "Bucks          1068\n",
              "Bullets           1\n",
              "Bulls           791\n",
              "Cavaliers      1001\n",
              "Celtics        1040\n",
              "Clippers        718\n",
              "Grizzlies       875\n",
              "Hawks           975\n",
              "Heat           1023\n",
              "Hornets         719\n",
              "Jazz            841\n",
              "Kings           728\n",
              "Knicks          943\n",
              "Lakers          959\n",
              "Magic           834\n",
              "Mavericks       992\n",
              "Nets           1024\n",
              "Nuggets         966\n",
              "Pacers          831\n",
              "Pelicans        576\n",
              "Pistons         714\n",
              "Raptors        1044\n",
              "Rockets        1058\n",
              "Spurs          1163\n",
              "Suns            733\n",
              "Thunder         717\n",
              "Timberwolves    860\n",
              "Warriors       1060\n",
              "Wizards         875"
            ],
            "text/html": [
              "\n",
              "  <div id=\"df-da92604d-3a8e-4557-97c9-257f2d747731\" class=\"colab-df-container\">\n",
              "    <div>\n",
              "<style scoped>\n",
              "    .dataframe tbody tr th:only-of-type {\n",
              "        vertical-align: middle;\n",
              "    }\n",
              "\n",
              "    .dataframe tbody tr th {\n",
              "        vertical-align: top;\n",
              "    }\n",
              "\n",
              "    .dataframe thead th {\n",
              "        text-align: right;\n",
              "    }\n",
              "</style>\n",
              "<table border=\"1\" class=\"dataframe\">\n",
              "  <thead>\n",
              "    <tr style=\"text-align: right;\">\n",
              "      <th>col_0</th>\n",
              "      <th>count</th>\n",
              "    </tr>\n",
              "    <tr>\n",
              "      <th>TEAM</th>\n",
              "      <th></th>\n",
              "    </tr>\n",
              "  </thead>\n",
              "  <tbody>\n",
              "    <tr>\n",
              "      <th>76ers</th>\n",
              "      <td>910</td>\n",
              "    </tr>\n",
              "    <tr>\n",
              "      <th>Blazers</th>\n",
              "      <td>695</td>\n",
              "    </tr>\n",
              "    <tr>\n",
              "      <th>Bobcats</th>\n",
              "      <td>369</td>\n",
              "    </tr>\n",
              "    <tr>\n",
              "      <th>Bucks</th>\n",
              "      <td>1068</td>\n",
              "    </tr>\n",
              "    <tr>\n",
              "      <th>Bullets</th>\n",
              "      <td>1</td>\n",
              "    </tr>\n",
              "    <tr>\n",
              "      <th>Bulls</th>\n",
              "      <td>791</td>\n",
              "    </tr>\n",
              "    <tr>\n",
              "      <th>Cavaliers</th>\n",
              "      <td>1001</td>\n",
              "    </tr>\n",
              "    <tr>\n",
              "      <th>Celtics</th>\n",
              "      <td>1040</td>\n",
              "    </tr>\n",
              "    <tr>\n",
              "      <th>Clippers</th>\n",
              "      <td>718</td>\n",
              "    </tr>\n",
              "    <tr>\n",
              "      <th>Grizzlies</th>\n",
              "      <td>875</td>\n",
              "    </tr>\n",
              "    <tr>\n",
              "      <th>Hawks</th>\n",
              "      <td>975</td>\n",
              "    </tr>\n",
              "    <tr>\n",
              "      <th>Heat</th>\n",
              "      <td>1023</td>\n",
              "    </tr>\n",
              "    <tr>\n",
              "      <th>Hornets</th>\n",
              "      <td>719</td>\n",
              "    </tr>\n",
              "    <tr>\n",
              "      <th>Jazz</th>\n",
              "      <td>841</td>\n",
              "    </tr>\n",
              "    <tr>\n",
              "      <th>Kings</th>\n",
              "      <td>728</td>\n",
              "    </tr>\n",
              "    <tr>\n",
              "      <th>Knicks</th>\n",
              "      <td>943</td>\n",
              "    </tr>\n",
              "    <tr>\n",
              "      <th>Lakers</th>\n",
              "      <td>959</td>\n",
              "    </tr>\n",
              "    <tr>\n",
              "      <th>Magic</th>\n",
              "      <td>834</td>\n",
              "    </tr>\n",
              "    <tr>\n",
              "      <th>Mavericks</th>\n",
              "      <td>992</td>\n",
              "    </tr>\n",
              "    <tr>\n",
              "      <th>Nets</th>\n",
              "      <td>1024</td>\n",
              "    </tr>\n",
              "    <tr>\n",
              "      <th>Nuggets</th>\n",
              "      <td>966</td>\n",
              "    </tr>\n",
              "    <tr>\n",
              "      <th>Pacers</th>\n",
              "      <td>831</td>\n",
              "    </tr>\n",
              "    <tr>\n",
              "      <th>Pelicans</th>\n",
              "      <td>576</td>\n",
              "    </tr>\n",
              "    <tr>\n",
              "      <th>Pistons</th>\n",
              "      <td>714</td>\n",
              "    </tr>\n",
              "    <tr>\n",
              "      <th>Raptors</th>\n",
              "      <td>1044</td>\n",
              "    </tr>\n",
              "    <tr>\n",
              "      <th>Rockets</th>\n",
              "      <td>1058</td>\n",
              "    </tr>\n",
              "    <tr>\n",
              "      <th>Spurs</th>\n",
              "      <td>1163</td>\n",
              "    </tr>\n",
              "    <tr>\n",
              "      <th>Suns</th>\n",
              "      <td>733</td>\n",
              "    </tr>\n",
              "    <tr>\n",
              "      <th>Thunder</th>\n",
              "      <td>717</td>\n",
              "    </tr>\n",
              "    <tr>\n",
              "      <th>Timberwolves</th>\n",
              "      <td>860</td>\n",
              "    </tr>\n",
              "    <tr>\n",
              "      <th>Warriors</th>\n",
              "      <td>1060</td>\n",
              "    </tr>\n",
              "    <tr>\n",
              "      <th>Wizards</th>\n",
              "      <td>875</td>\n",
              "    </tr>\n",
              "  </tbody>\n",
              "</table>\n",
              "</div>\n",
              "    <div class=\"colab-df-buttons\">\n",
              "\n",
              "  <div class=\"colab-df-container\">\n",
              "    <button class=\"colab-df-convert\" onclick=\"convertToInteractive('df-da92604d-3a8e-4557-97c9-257f2d747731')\"\n",
              "            title=\"Convert this dataframe to an interactive table.\"\n",
              "            style=\"display:none;\">\n",
              "\n",
              "  <svg xmlns=\"http://www.w3.org/2000/svg\" height=\"24px\" viewBox=\"0 -960 960 960\">\n",
              "    <path d=\"M120-120v-720h720v720H120Zm60-500h600v-160H180v160Zm220 220h160v-160H400v160Zm0 220h160v-160H400v160ZM180-400h160v-160H180v160Zm440 0h160v-160H620v160ZM180-180h160v-160H180v160Zm440 0h160v-160H620v160Z\"/>\n",
              "  </svg>\n",
              "    </button>\n",
              "\n",
              "  <style>\n",
              "    .colab-df-container {\n",
              "      display:flex;\n",
              "      gap: 12px;\n",
              "    }\n",
              "\n",
              "    .colab-df-convert {\n",
              "      background-color: #E8F0FE;\n",
              "      border: none;\n",
              "      border-radius: 50%;\n",
              "      cursor: pointer;\n",
              "      display: none;\n",
              "      fill: #1967D2;\n",
              "      height: 32px;\n",
              "      padding: 0 0 0 0;\n",
              "      width: 32px;\n",
              "    }\n",
              "\n",
              "    .colab-df-convert:hover {\n",
              "      background-color: #E2EBFA;\n",
              "      box-shadow: 0px 1px 2px rgba(60, 64, 67, 0.3), 0px 1px 3px 1px rgba(60, 64, 67, 0.15);\n",
              "      fill: #174EA6;\n",
              "    }\n",
              "\n",
              "    .colab-df-buttons div {\n",
              "      margin-bottom: 4px;\n",
              "    }\n",
              "\n",
              "    [theme=dark] .colab-df-convert {\n",
              "      background-color: #3B4455;\n",
              "      fill: #D2E3FC;\n",
              "    }\n",
              "\n",
              "    [theme=dark] .colab-df-convert:hover {\n",
              "      background-color: #434B5C;\n",
              "      box-shadow: 0px 1px 3px 1px rgba(0, 0, 0, 0.15);\n",
              "      filter: drop-shadow(0px 1px 2px rgba(0, 0, 0, 0.3));\n",
              "      fill: #FFFFFF;\n",
              "    }\n",
              "  </style>\n",
              "\n",
              "    <script>\n",
              "      const buttonEl =\n",
              "        document.querySelector('#df-da92604d-3a8e-4557-97c9-257f2d747731 button.colab-df-convert');\n",
              "      buttonEl.style.display =\n",
              "        google.colab.kernel.accessAllowed ? 'block' : 'none';\n",
              "\n",
              "      async function convertToInteractive(key) {\n",
              "        const element = document.querySelector('#df-da92604d-3a8e-4557-97c9-257f2d747731');\n",
              "        const dataTable =\n",
              "          await google.colab.kernel.invokeFunction('convertToInteractive',\n",
              "                                                    [key], {});\n",
              "        if (!dataTable) return;\n",
              "\n",
              "        const docLinkHtml = 'Like what you see? Visit the ' +\n",
              "          '<a target=\"_blank\" href=https://colab.research.google.com/notebooks/data_table.ipynb>data table notebook</a>'\n",
              "          + ' to learn more about interactive tables.';\n",
              "        element.innerHTML = '';\n",
              "        dataTable['output_type'] = 'display_data';\n",
              "        await google.colab.output.renderOutput(dataTable, element);\n",
              "        const docLink = document.createElement('div');\n",
              "        docLink.innerHTML = docLinkHtml;\n",
              "        element.appendChild(docLink);\n",
              "      }\n",
              "    </script>\n",
              "  </div>\n",
              "\n",
              "\n",
              "<div id=\"df-99484e24-6c3d-4cc0-8e5a-af7b95b39a47\">\n",
              "  <button class=\"colab-df-quickchart\" onclick=\"quickchart('df-99484e24-6c3d-4cc0-8e5a-af7b95b39a47')\"\n",
              "            title=\"Suggest charts\"\n",
              "            style=\"display:none;\">\n",
              "\n",
              "<svg xmlns=\"http://www.w3.org/2000/svg\" height=\"24px\"viewBox=\"0 0 24 24\"\n",
              "     width=\"24px\">\n",
              "    <g>\n",
              "        <path d=\"M19 3H5c-1.1 0-2 .9-2 2v14c0 1.1.9 2 2 2h14c1.1 0 2-.9 2-2V5c0-1.1-.9-2-2-2zM9 17H7v-7h2v7zm4 0h-2V7h2v10zm4 0h-2v-4h2v4z\"/>\n",
              "    </g>\n",
              "</svg>\n",
              "  </button>\n",
              "\n",
              "<style>\n",
              "  .colab-df-quickchart {\n",
              "      --bg-color: #E8F0FE;\n",
              "      --fill-color: #1967D2;\n",
              "      --hover-bg-color: #E2EBFA;\n",
              "      --hover-fill-color: #174EA6;\n",
              "      --disabled-fill-color: #AAA;\n",
              "      --disabled-bg-color: #DDD;\n",
              "  }\n",
              "\n",
              "  [theme=dark] .colab-df-quickchart {\n",
              "      --bg-color: #3B4455;\n",
              "      --fill-color: #D2E3FC;\n",
              "      --hover-bg-color: #434B5C;\n",
              "      --hover-fill-color: #FFFFFF;\n",
              "      --disabled-bg-color: #3B4455;\n",
              "      --disabled-fill-color: #666;\n",
              "  }\n",
              "\n",
              "  .colab-df-quickchart {\n",
              "    background-color: var(--bg-color);\n",
              "    border: none;\n",
              "    border-radius: 50%;\n",
              "    cursor: pointer;\n",
              "    display: none;\n",
              "    fill: var(--fill-color);\n",
              "    height: 32px;\n",
              "    padding: 0;\n",
              "    width: 32px;\n",
              "  }\n",
              "\n",
              "  .colab-df-quickchart:hover {\n",
              "    background-color: var(--hover-bg-color);\n",
              "    box-shadow: 0 1px 2px rgba(60, 64, 67, 0.3), 0 1px 3px 1px rgba(60, 64, 67, 0.15);\n",
              "    fill: var(--button-hover-fill-color);\n",
              "  }\n",
              "\n",
              "  .colab-df-quickchart-complete:disabled,\n",
              "  .colab-df-quickchart-complete:disabled:hover {\n",
              "    background-color: var(--disabled-bg-color);\n",
              "    fill: var(--disabled-fill-color);\n",
              "    box-shadow: none;\n",
              "  }\n",
              "\n",
              "  .colab-df-spinner {\n",
              "    border: 2px solid var(--fill-color);\n",
              "    border-color: transparent;\n",
              "    border-bottom-color: var(--fill-color);\n",
              "    animation:\n",
              "      spin 1s steps(1) infinite;\n",
              "  }\n",
              "\n",
              "  @keyframes spin {\n",
              "    0% {\n",
              "      border-color: transparent;\n",
              "      border-bottom-color: var(--fill-color);\n",
              "      border-left-color: var(--fill-color);\n",
              "    }\n",
              "    20% {\n",
              "      border-color: transparent;\n",
              "      border-left-color: var(--fill-color);\n",
              "      border-top-color: var(--fill-color);\n",
              "    }\n",
              "    30% {\n",
              "      border-color: transparent;\n",
              "      border-left-color: var(--fill-color);\n",
              "      border-top-color: var(--fill-color);\n",
              "      border-right-color: var(--fill-color);\n",
              "    }\n",
              "    40% {\n",
              "      border-color: transparent;\n",
              "      border-right-color: var(--fill-color);\n",
              "      border-top-color: var(--fill-color);\n",
              "    }\n",
              "    60% {\n",
              "      border-color: transparent;\n",
              "      border-right-color: var(--fill-color);\n",
              "    }\n",
              "    80% {\n",
              "      border-color: transparent;\n",
              "      border-right-color: var(--fill-color);\n",
              "      border-bottom-color: var(--fill-color);\n",
              "    }\n",
              "    90% {\n",
              "      border-color: transparent;\n",
              "      border-bottom-color: var(--fill-color);\n",
              "    }\n",
              "  }\n",
              "</style>\n",
              "\n",
              "  <script>\n",
              "    async function quickchart(key) {\n",
              "      const quickchartButtonEl =\n",
              "        document.querySelector('#' + key + ' button');\n",
              "      quickchartButtonEl.disabled = true;  // To prevent multiple clicks.\n",
              "      quickchartButtonEl.classList.add('colab-df-spinner');\n",
              "      try {\n",
              "        const charts = await google.colab.kernel.invokeFunction(\n",
              "            'suggestCharts', [key], {});\n",
              "      } catch (error) {\n",
              "        console.error('Error during call to suggestCharts:', error);\n",
              "      }\n",
              "      quickchartButtonEl.classList.remove('colab-df-spinner');\n",
              "      quickchartButtonEl.classList.add('colab-df-quickchart-complete');\n",
              "    }\n",
              "    (() => {\n",
              "      let quickchartButtonEl =\n",
              "        document.querySelector('#df-99484e24-6c3d-4cc0-8e5a-af7b95b39a47 button');\n",
              "      quickchartButtonEl.style.display =\n",
              "        google.colab.kernel.accessAllowed ? 'block' : 'none';\n",
              "    })();\n",
              "  </script>\n",
              "</div>\n",
              "    </div>\n",
              "  </div>\n"
            ],
            "application/vnd.google.colaboratory.intrinsic+json": {
              "type": "dataframe",
              "summary": "{\n  \"name\": \"pd\",\n  \"rows\": 32,\n  \"fields\": [\n    {\n      \"column\": \"TEAM\",\n      \"properties\": {\n        \"dtype\": \"string\",\n        \"num_unique_values\": 32,\n        \"samples\": [\n          \"Timberwolves\",\n          \"Knicks\",\n          \"Raptors\"\n        ],\n        \"semantic_type\": \"\",\n        \"description\": \"\"\n      }\n    },\n    {\n      \"column\": \"count\",\n      \"properties\": {\n        \"dtype\": \"number\",\n        \"std\": 228,\n        \"min\": 1,\n        \"max\": 1163,\n        \"num_unique_values\": 31,\n        \"samples\": [\n          733,\n          943,\n          714\n        ],\n        \"semantic_type\": \"\",\n        \"description\": \"\"\n      }\n    }\n  ]\n}"
            }
          },
          "metadata": {},
          "execution_count": 258
        }
      ]
    },
    {
      "cell_type": "markdown",
      "source": [
        "A visual representation of the distribution of wounded players across teams."
      ],
      "metadata": {
        "id": "DGIRx40ltFub"
      }
    },
    {
      "cell_type": "code",
      "source": [
        "injuries_df['TEAM'].hist()\n",
        "plt.xlabel('Team Name')\n",
        "plt.ylabel('Number of Injuries')\n",
        "plt.title('Histogram of Number of Injuries by Team')\n",
        "plt.xticks(rotation='vertical')\n",
        "plt.show()"
      ],
      "metadata": {
        "id": "DsefCi-zh1Mw",
        "colab": {
          "base_uri": "https://localhost:8080/",
          "height": 554
        },
        "outputId": "0543b44c-5eeb-41eb-dfb0-8631d4cfc29f"
      },
      "execution_count": null,
      "outputs": [
        {
          "output_type": "display_data",
          "data": {
            "text/plain": [
              "<Figure size 640x480 with 1 Axes>"
            ],
            "image/png": "[encoded data removed]"
          },
          "metadata": {}
        }
      ]
    },
    {
      "cell_type": "markdown",
      "source": [
        "As we delve into the draft_history dataset with df_draft_history.info(), we’re getting a glimpse of the different chapters of this story. Each column represents a different aspect of the draft history,including the number of non-null entries in each column and the data type of each column.\n",
        "The df_draft_history.head()  It gives us a sneak peek into the data."
      ],
      "metadata": {
        "id": "DrPQ0tJgtkSe"
      }
    },
    {
      "cell_type": "code",
      "source": [
        "df_draft_history = pd.read_csv('/content/drive/MyDrive/FINAL PROJECT CSVs/draft_history.csv')\n",
        "df_draft_combine_stats =pd.read_csv('/content/drive/MyDrive/FINAL PROJECT CSVs/draft_combine_stats.csv')"
      ],
      "metadata": {
        "id": "hvy5HRvQisYA"
      },
      "execution_count": null,
      "outputs": []
    },
    {
      "cell_type": "code",
      "source": [
        "df_draft_history.info()"
      ],
      "metadata": {
        "id": "vqp6fWMqjyuF",
        "colab": {
          "base_uri": "https://localhost:8080/"
        },
        "outputId": "a433f025-8b8e-4f27-c598-62edce608336"
      },
      "execution_count": null,
      "outputs": [
        {
          "output_type": "stream",
          "name": "stdout",
          "text": [
            "<class 'pandas.core.frame.DataFrame'>\n",
            "RangeIndex: 7990 entries, 0 to 7989\n",
            "Data columns (total 14 columns):\n",
            " #   Column               Non-Null Count  Dtype \n",
            "---  ------               --------------  ----- \n",
            " 0   PERSON_ID            7990 non-null   int64 \n",
            " 1   PLAYER_NAME          7990 non-null   object\n",
            " 2   SEASON               7990 non-null   int64 \n",
            " 3   ROUND_NUMBER         7990 non-null   int64 \n",
            " 4   ROUND_PICK           7990 non-null   int64 \n",
            " 5   OVERALL_PICK         7990 non-null   int64 \n",
            " 6   DRAFT_TYPE           7990 non-null   object\n",
            " 7   TEAM_ID              7990 non-null   int64 \n",
            " 8   TEAM_CITY            7990 non-null   object\n",
            " 9   TEAM_NAME            7990 non-null   object\n",
            " 10  TEAM_ABBREVIATION    7990 non-null   object\n",
            " 11  ORGANIZATION         7971 non-null   object\n",
            " 12  ORGANIZATION_TYPE    7971 non-null   object\n",
            " 13  PLAYER_PROFILE_FLAG  7990 non-null   int64 \n",
            "dtypes: int64(7), object(7)\n",
            "memory usage: 874.0+ KB\n"
          ]
        }
      ]
    },
    {
      "cell_type": "code",
      "source": [
        "df_draft_combine_stats.info()"
      ],
      "metadata": {
        "id": "fr8hJHjRkzu3",
        "colab": {
          "base_uri": "https://localhost:8080/"
        },
        "outputId": "b59af176-03fb-49ac-af15-2b2adf22e119"
      },
      "execution_count": null,
      "outputs": [
        {
          "output_type": "stream",
          "name": "stdout",
          "text": [
            "<class 'pandas.core.frame.DataFrame'>\n",
            "RangeIndex: 1202 entries, 0 to 1201\n",
            "Data columns (total 47 columns):\n",
            " #   Column                            Non-Null Count  Dtype  \n",
            "---  ------                            --------------  -----  \n",
            " 0   SEASON                            1202 non-null   int64  \n",
            " 1   PLAYER_ID                         1202 non-null   int64  \n",
            " 2   FIRST_NAME                        1202 non-null   object \n",
            " 3   LAST_NAME                         1202 non-null   object \n",
            " 4   PLAYER_NAME                       1202 non-null   object \n",
            " 5   POSITION                          1197 non-null   object \n",
            " 6   HEIGHT_WITHOUT_SHOEAS             1153 non-null   float64\n",
            " 7   HEIGHT_WITHOUT_SHOES_FEET_INCHES  1153 non-null   object \n",
            " 8   HEIGHT_WITH_SHOES                 1008 non-null   float64\n",
            " 9   HEIGHT_WITH_SHOES_FEET_INCHES     1008 non-null   object \n",
            " 10  WEIGHT                            1152 non-null   float64\n",
            " 11  WINGSPAN                          1153 non-null   float64\n",
            " 12  WINGSPAN_FEET_INCHES              1153 non-null   object \n",
            " 13  STANDING_REACH                    1152 non-null   float64\n",
            " 14  STANDING_REACH_FT_INCHES          1152 non-null   object \n",
            " 15  BODY_FAT_PERCENTAGE               1003 non-null   float64\n",
            " 16  HAND_LENGHT                       719 non-null    float64\n",
            " 17  HAND_WIDTH                        719 non-null    float64\n",
            " 18  STANDING_VERTICAL_LEAP            1017 non-null   float64\n",
            " 19  MAX_VERTICAL_LEAP                 1017 non-null   float64\n",
            " 20  LANE_AGILITY_TIME                 1008 non-null   float64\n",
            " 21  MODIFIED_LANE_AGILITY_TIME        411 non-null    float64\n",
            " 22  THREE_QUARTER_SPRINT              1012 non-null   float64\n",
            " 23  BENCH_PRESSES                     808 non-null    float64\n",
            " 24  SPOT_FIFTEEN_CORNER_LEFT          74 non-null     object \n",
            " 25  SPOT_FIFTEEN_BREAK_LEFT           76 non-null     object \n",
            " 26  SPOT_FIFTEEN_TOP_KEY              76 non-null     object \n",
            " 27  SPOT_FIFTEEN_BREAK_RIGHT          76 non-null     object \n",
            " 28  SPOT_FIFTEEN_CORNER_RIGHT         76 non-null     object \n",
            " 29  SPOT_COLLEGE_CORNER_LEFT          245 non-null    object \n",
            " 30  SPOT_COLLEGE_BREAK_LEFT           166 non-null    object \n",
            " 31  SPOT_COLLEGE_TOP_KEY              166 non-null    object \n",
            " 32  SPOT_COLLEGE_BREAK_RIGHT          166 non-null    object \n",
            " 33  SPOT_COLLEGE_CORNER_RIGHT         166 non-null    object \n",
            " 34  SPOT_NBA_CORNER_LEFT              217 non-null    object \n",
            " 35  SPOT_NBA_BREAK_LEFT               217 non-null    object \n",
            " 36  SPOT_NBA_TOP_KEY                  217 non-null    object \n",
            " 37  SPOT_NBA_BREAK_RIGHT              217 non-null    object \n",
            " 38  SPOT_NBA_CORNER_RIGHT             217 non-null    object \n",
            " 39  OFF_DRIBBLE_FIFTEEN_BREAK_LEFT    166 non-null    object \n",
            " 40  OFF_DRIBBLE_FIFTEEN_TOP_KEY       166 non-null    object \n",
            " 41  OFF_DRIBBLE_FIFTEEN_BREAK_RIGHT   166 non-null    object \n",
            " 42  OFF_DRIBBLE_COLLEGE_BREAK_LEFT    110 non-null    object \n",
            " 43  OFF_DRIBBLE_COLLEGE_TOP-KEY       31 non-null     object \n",
            " 44  OFF_DRIBBLE_COLLEGE_BREAK_RIGHT   31 non-null     object \n",
            " 45  ON_MOVE_FIFTEEN                   148 non-null    object \n",
            " 46  ON_MOVE_COLLEGE                   116 non-null    object \n",
            "dtypes: float64(14), int64(2), object(31)\n",
            "memory usage: 441.5+ KB\n"
          ]
        }
      ]
    },
    {
      "cell_type": "code",
      "source": [
        "df_draft_history.head()"
      ],
      "metadata": {
        "id": "kzmkUQTQk8Ne",
        "colab": {
          "base_uri": "https://localhost:8080/",
          "height": 261
        },
        "outputId": "52342ee0-0d48-4ac6-ec8b-30177c3a603b"
      },
      "execution_count": null,
      "outputs": [
        {
          "output_type": "execute_result",
          "data": {
            "text/plain": [
              "   PERSON_ID       PLAYER_NAME  SEASON  ROUND_NUMBER  ROUND_PICK  \\\n",
              "0      79299  Clifton McNeeley    1947             1           1   \n",
              "1      78109        Glen Selbo    1947             1           2   \n",
              "2      76649      Eddie Ehlers    1947             1           3   \n",
              "3      79302        Walt Dropo    1947             1           4   \n",
              "4      77048        Dick Holub    1947             1           5   \n",
              "\n",
              "   OVERALL_PICK DRAFT_TYPE     TEAM_ID   TEAM_CITY     TEAM_NAME  \\\n",
              "0             1      Draft  1610610031  Pittsburgh       Ironmen   \n",
              "1             2      Draft  1610610035     Toronto       Huskies   \n",
              "2             3      Draft  1610612738      Boston       Celtics   \n",
              "3             4      Draft  1610610032  Providence  Steamrollers   \n",
              "4             5      Draft  1610612752    New York        Knicks   \n",
              "\n",
              "  TEAM_ABBREVIATION          ORGANIZATION   ORGANIZATION_TYPE  \\\n",
              "0               PIT         Texas-El Paso  College/University   \n",
              "1               HUS             Wisconsin  College/University   \n",
              "2               BOS                Purdue  College/University   \n",
              "3               PRO           Connecticut  College/University   \n",
              "4               NYK  Long Island-Brooklyn  College/University   \n",
              "\n",
              "   PLAYER_PROFILE_FLAG  \n",
              "0                    0  \n",
              "1                    1  \n",
              "2                    1  \n",
              "3                    0  \n",
              "4                    1  "
            ],
            "text/html": [
              "\n",
              "  <div id=\"df-e8dc3b5f-282f-45bc-ad6f-4248f0e89b9d\" class=\"colab-df-container\">\n",
              "    <div>\n",
              "<style scoped>\n",
              "    .dataframe tbody tr th:only-of-type {\n",
              "        vertical-align: middle;\n",
              "    }\n",
              "\n",
              "    .dataframe tbody tr th {\n",
              "        vertical-align: top;\n",
              "    }\n",
              "\n",
              "    .dataframe thead th {\n",
              "        text-align: right;\n",
              "    }\n",
              "</style>\n",
              "<table border=\"1\" class=\"dataframe\">\n",
              "  <thead>\n",
              "    <tr style=\"text-align: right;\">\n",
              "      <th></th>\n",
              "      <th>PERSON_ID</th>\n",
              "      <th>PLAYER_NAME</th>\n",
              "      <th>SEASON</th>\n",
              "      <th>ROUND_NUMBER</th>\n",
              "      <th>ROUND_PICK</th>\n",
              "      <th>OVERALL_PICK</th>\n",
              "      <th>DRAFT_TYPE</th>\n",
              "      <th>TEAM_ID</th>\n",
              "      <th>TEAM_CITY</th>\n",
              "      <th>TEAM_NAME</th>\n",
              "      <th>TEAM_ABBREVIATION</th>\n",
              "      <th>ORGANIZATION</th>\n",
              "      <th>ORGANIZATION_TYPE</th>\n",
              "      <th>PLAYER_PROFILE_FLAG</th>\n",
              "    </tr>\n",
              "  </thead>\n",
              "  <tbody>\n",
              "    <tr>\n",
              "      <th>0</th>\n",
              "      <td>79299</td>\n",
              "      <td>Clifton McNeeley</td>\n",
              "      <td>1947</td>\n",
              "      <td>1</td>\n",
              "      <td>1</td>\n",
              "      <td>1</td>\n",
              "      <td>Draft</td>\n",
              "      <td>1610610031</td>\n",
              "      <td>Pittsburgh</td>\n",
              "      <td>Ironmen</td>\n",
              "      <td>PIT</td>\n",
              "      <td>Texas-El Paso</td>\n",
              "      <td>College/University</td>\n",
              "      <td>0</td>\n",
              "    </tr>\n",
              "    <tr>\n",
              "      <th>1</th>\n",
              "      <td>78109</td>\n",
              "      <td>Glen Selbo</td>\n",
              "      <td>1947</td>\n",
              "      <td>1</td>\n",
              "      <td>2</td>\n",
              "      <td>2</td>\n",
              "      <td>Draft</td>\n",
              "      <td>1610610035</td>\n",
              "      <td>Toronto</td>\n",
              "      <td>Huskies</td>\n",
              "      <td>HUS</td>\n",
              "      <td>Wisconsin</td>\n",
              "      <td>College/University</td>\n",
              "      <td>1</td>\n",
              "    </tr>\n",
              "    <tr>\n",
              "      <th>2</th>\n",
              "      <td>76649</td>\n",
              "      <td>Eddie Ehlers</td>\n",
              "      <td>1947</td>\n",
              "      <td>1</td>\n",
              "      <td>3</td>\n",
              "      <td>3</td>\n",
              "      <td>Draft</td>\n",
              "      <td>1610612738</td>\n",
              "      <td>Boston</td>\n",
              "      <td>Celtics</td>\n",
              "      <td>BOS</td>\n",
              "      <td>Purdue</td>\n",
              "      <td>College/University</td>\n",
              "      <td>1</td>\n",
              "    </tr>\n",
              "    <tr>\n",
              "      <th>3</th>\n",
              "      <td>79302</td>\n",
              "      <td>Walt Dropo</td>\n",
              "      <td>1947</td>\n",
              "      <td>1</td>\n",
              "      <td>4</td>\n",
              "      <td>4</td>\n",
              "      <td>Draft</td>\n",
              "      <td>1610610032</td>\n",
              "      <td>Providence</td>\n",
              "      <td>Steamrollers</td>\n",
              "      <td>PRO</td>\n",
              "      <td>Connecticut</td>\n",
              "      <td>College/University</td>\n",
              "      <td>0</td>\n",
              "    </tr>\n",
              "    <tr>\n",
              "      <th>4</th>\n",
              "      <td>77048</td>\n",
              "      <td>Dick Holub</td>\n",
              "      <td>1947</td>\n",
              "      <td>1</td>\n",
              "      <td>5</td>\n",
              "      <td>5</td>\n",
              "      <td>Draft</td>\n",
              "      <td>1610612752</td>\n",
              "      <td>New York</td>\n",
              "      <td>Knicks</td>\n",
              "      <td>NYK</td>\n",
              "      <td>Long Island-Brooklyn</td>\n",
              "      <td>College/University</td>\n",
              "      <td>1</td>\n",
              "    </tr>\n",
              "  </tbody>\n",
              "</table>\n",
              "</div>\n",
              "    <div class=\"colab-df-buttons\">\n",
              "\n",
              "  <div class=\"colab-df-container\">\n",
              "    <button class=\"colab-df-convert\" onclick=\"convertToInteractive('df-e8dc3b5f-282f-45bc-ad6f-4248f0e89b9d')\"\n",
              "            title=\"Convert this dataframe to an interactive table.\"\n",
              "            style=\"display:none;\">\n",
              "\n",
              "  <svg xmlns=\"http://www.w3.org/2000/svg\" height=\"24px\" viewBox=\"0 -960 960 960\">\n",
              "    <path d=\"M120-120v-720h720v720H120Zm60-500h600v-160H180v160Zm220 220h160v-160H400v160Zm0 220h160v-160H400v160ZM180-400h160v-160H180v160Zm440 0h160v-160H620v160ZM180-180h160v-160H180v160Zm440 0h160v-160H620v160Z\"/>\n",
              "  </svg>\n",
              "    </button>\n",
              "\n",
              "  <style>\n",
              "    .colab-df-container {\n",
              "      display:flex;\n",
              "      gap: 12px;\n",
              "    }\n",
              "\n",
              "    .colab-df-convert {\n",
              "      background-color: #E8F0FE;\n",
              "      border: none;\n",
              "      border-radius: 50%;\n",
              "      cursor: pointer;\n",
              "      display: none;\n",
              "      fill: #1967D2;\n",
              "      height: 32px;\n",
              "      padding: 0 0 0 0;\n",
              "      width: 32px;\n",
              "    }\n",
              "\n",
              "    .colab-df-convert:hover {\n",
              "      background-color: #E2EBFA;\n",
              "      box-shadow: 0px 1px 2px rgba(60, 64, 67, 0.3), 0px 1px 3px 1px rgba(60, 64, 67, 0.15);\n",
              "      fill: #174EA6;\n",
              "    }\n",
              "\n",
              "    .colab-df-buttons div {\n",
              "      margin-bottom: 4px;\n",
              "    }\n",
              "\n",
              "    [theme=dark] .colab-df-convert {\n",
              "      background-color: #3B4455;\n",
              "      fill: #D2E3FC;\n",
              "    }\n",
              "\n",
              "    [theme=dark] .colab-df-convert:hover {\n",
              "      background-color: #434B5C;\n",
              "      box-shadow: 0px 1px 3px 1px rgba(0, 0, 0, 0.15);\n",
              "      filter: drop-shadow(0px 1px 2px rgba(0, 0, 0, 0.3));\n",
              "      fill: #FFFFFF;\n",
              "    }\n",
              "  </style>\n",
              "\n",
              "    <script>\n",
              "      const buttonEl =\n",
              "        document.querySelector('#df-e8dc3b5f-282f-45bc-ad6f-4248f0e89b9d button.colab-df-convert');\n",
              "      buttonEl.style.display =\n",
              "        google.colab.kernel.accessAllowed ? 'block' : 'none';\n",
              "\n",
              "      async function convertToInteractive(key) {\n",
              "        const element = document.querySelector('#df-e8dc3b5f-282f-45bc-ad6f-4248f0e89b9d');\n",
              "        const dataTable =\n",
              "          await google.colab.kernel.invokeFunction('convertToInteractive',\n",
              "                                                    [key], {});\n",
              "        if (!dataTable) return;\n",
              "\n",
              "        const docLinkHtml = 'Like what you see? Visit the ' +\n",
              "          '<a target=\"_blank\" href=https://colab.research.google.com/notebooks/data_table.ipynb>data table notebook</a>'\n",
              "          + ' to learn more about interactive tables.';\n",
              "        element.innerHTML = '';\n",
              "        dataTable['output_type'] = 'display_data';\n",
              "        await google.colab.output.renderOutput(dataTable, element);\n",
              "        const docLink = document.createElement('div');\n",
              "        docLink.innerHTML = docLinkHtml;\n",
              "        element.appendChild(docLink);\n",
              "      }\n",
              "    </script>\n",
              "  </div>\n",
              "\n",
              "\n",
              "<div id=\"df-0169a9cc-63d2-4df3-8237-896480626ca8\">\n",
              "  <button class=\"colab-df-quickchart\" onclick=\"quickchart('df-0169a9cc-63d2-4df3-8237-896480626ca8')\"\n",
              "            title=\"Suggest charts\"\n",
              "            style=\"display:none;\">\n",
              "\n",
              "<svg xmlns=\"http://www.w3.org/2000/svg\" height=\"24px\"viewBox=\"0 0 24 24\"\n",
              "     width=\"24px\">\n",
              "    <g>\n",
              "        <path d=\"M19 3H5c-1.1 0-2 .9-2 2v14c0 1.1.9 2 2 2h14c1.1 0 2-.9 2-2V5c0-1.1-.9-2-2-2zM9 17H7v-7h2v7zm4 0h-2V7h2v10zm4 0h-2v-4h2v4z\"/>\n",
              "    </g>\n",
              "</svg>\n",
              "  </button>\n",
              "\n",
              "<style>\n",
              "  .colab-df-quickchart {\n",
              "      --bg-color: #E8F0FE;\n",
              "      --fill-color: #1967D2;\n",
              "      --hover-bg-color: #E2EBFA;\n",
              "      --hover-fill-color: #174EA6;\n",
              "      --disabled-fill-color: #AAA;\n",
              "      --disabled-bg-color: #DDD;\n",
              "  }\n",
              "\n",
              "  [theme=dark] .colab-df-quickchart {\n",
              "      --bg-color: #3B4455;\n",
              "      --fill-color: #D2E3FC;\n",
              "      --hover-bg-color: #434B5C;\n",
              "      --hover-fill-color: #FFFFFF;\n",
              "      --disabled-bg-color: #3B4455;\n",
              "      --disabled-fill-color: #666;\n",
              "  }\n",
              "\n",
              "  .colab-df-quickchart {\n",
              "    background-color: var(--bg-color);\n",
              "    border: none;\n",
              "    border-radius: 50%;\n",
              "    cursor: pointer;\n",
              "    display: none;\n",
              "    fill: var(--fill-color);\n",
              "    height: 32px;\n",
              "    padding: 0;\n",
              "    width: 32px;\n",
              "  }\n",
              "\n",
              "  .colab-df-quickchart:hover {\n",
              "    background-color: var(--hover-bg-color);\n",
              "    box-shadow: 0 1px 2px rgba(60, 64, 67, 0.3), 0 1px 3px 1px rgba(60, 64, 67, 0.15);\n",
              "    fill: var(--button-hover-fill-color);\n",
              "  }\n",
              "\n",
              "  .colab-df-quickchart-complete:disabled,\n",
              "  .colab-df-quickchart-complete:disabled:hover {\n",
              "    background-color: var(--disabled-bg-color);\n",
              "    fill: var(--disabled-fill-color);\n",
              "    box-shadow: none;\n",
              "  }\n",
              "\n",
              "  .colab-df-spinner {\n",
              "    border: 2px solid var(--fill-color);\n",
              "    border-color: transparent;\n",
              "    border-bottom-color: var(--fill-color);\n",
              "    animation:\n",
              "      spin 1s steps(1) infinite;\n",
              "  }\n",
              "\n",
              "  @keyframes spin {\n",
              "    0% {\n",
              "      border-color: transparent;\n",
              "      border-bottom-color: var(--fill-color);\n",
              "      border-left-color: var(--fill-color);\n",
              "    }\n",
              "    20% {\n",
              "      border-color: transparent;\n",
              "      border-left-color: var(--fill-color);\n",
              "      border-top-color: var(--fill-color);\n",
              "    }\n",
              "    30% {\n",
              "      border-color: transparent;\n",
              "      border-left-color: var(--fill-color);\n",
              "      border-top-color: var(--fill-color);\n",
              "      border-right-color: var(--fill-color);\n",
              "    }\n",
              "    40% {\n",
              "      border-color: transparent;\n",
              "      border-right-color: var(--fill-color);\n",
              "      border-top-color: var(--fill-color);\n",
              "    }\n",
              "    60% {\n",
              "      border-color: transparent;\n",
              "      border-right-color: var(--fill-color);\n",
              "    }\n",
              "    80% {\n",
              "      border-color: transparent;\n",
              "      border-right-color: var(--fill-color);\n",
              "      border-bottom-color: var(--fill-color);\n",
              "    }\n",
              "    90% {\n",
              "      border-color: transparent;\n",
              "      border-bottom-color: var(--fill-color);\n",
              "    }\n",
              "  }\n",
              "</style>\n",
              "\n",
              "  <script>\n",
              "    async function quickchart(key) {\n",
              "      const quickchartButtonEl =\n",
              "        document.querySelector('#' + key + ' button');\n",
              "      quickchartButtonEl.disabled = true;  // To prevent multiple clicks.\n",
              "      quickchartButtonEl.classList.add('colab-df-spinner');\n",
              "      try {\n",
              "        const charts = await google.colab.kernel.invokeFunction(\n",
              "            'suggestCharts', [key], {});\n",
              "      } catch (error) {\n",
              "        console.error('Error during call to suggestCharts:', error);\n",
              "      }\n",
              "      quickchartButtonEl.classList.remove('colab-df-spinner');\n",
              "      quickchartButtonEl.classList.add('colab-df-quickchart-complete');\n",
              "    }\n",
              "    (() => {\n",
              "      let quickchartButtonEl =\n",
              "        document.querySelector('#df-0169a9cc-63d2-4df3-8237-896480626ca8 button');\n",
              "      quickchartButtonEl.style.display =\n",
              "        google.colab.kernel.accessAllowed ? 'block' : 'none';\n",
              "    })();\n",
              "  </script>\n",
              "</div>\n",
              "    </div>\n",
              "  </div>\n"
            ],
            "application/vnd.google.colaboratory.intrinsic+json": {
              "type": "dataframe",
              "variable_name": "df_draft_history",
              "summary": "{\n  \"name\": \"df_draft_history\",\n  \"rows\": 7990,\n  \"fields\": [\n    {\n      \"column\": \"PERSON_ID\",\n      \"properties\": {\n        \"dtype\": \"number\",\n        \"std\": 390297,\n        \"min\": 2,\n        \"max\": 1641844,\n        \"num_unique_values\": 7866,\n        \"samples\": [\n          82937,\n          82403,\n          80454\n        ],\n        \"semantic_type\": \"\",\n        \"description\": \"\"\n      }\n    },\n    {\n      \"column\": \"PLAYER_NAME\",\n      \"properties\": {\n        \"dtype\": \"string\",\n        \"num_unique_values\": 7700,\n        \"samples\": [\n          \"Greg Tynes\",\n          \"Matt Fish\",\n          \"Thomas Hill\"\n        ],\n        \"semantic_type\": \"\",\n        \"description\": \"\"\n      }\n    },\n    {\n      \"column\": \"SEASON\",\n      \"properties\": {\n        \"dtype\": \"number\",\n        \"std\": 18,\n        \"min\": 1947,\n        \"max\": 2023,\n        \"num_unique_values\": 74,\n        \"samples\": [\n          1951,\n          2012,\n          1967\n        ],\n        \"semantic_type\": \"\",\n        \"description\": \"\"\n      }\n    },\n    {\n      \"column\": \"ROUND_NUMBER\",\n      \"properties\": {\n        \"dtype\": \"number\",\n        \"std\": 3,\n        \"min\": 0,\n        \"max\": 21,\n        \"num_unique_values\": 22,\n        \"samples\": [\n          1,\n          13,\n          6\n        ],\n        \"semantic_type\": \"\",\n        \"description\": \"\"\n      }\n    },\n    {\n      \"column\": \"ROUND_PICK\",\n      \"properties\": {\n        \"dtype\": \"number\",\n        \"std\": 7,\n        \"min\": 0,\n        \"max\": 30,\n        \"num_unique_values\": 31,\n        \"samples\": [\n          27,\n          15,\n          23\n        ],\n        \"semantic_type\": \"\",\n        \"description\": \"\"\n      }\n    },\n    {\n      \"column\": \"OVERALL_PICK\",\n      \"properties\": {\n        \"dtype\": \"number\",\n        \"std\": 59,\n        \"min\": 0,\n        \"max\": 239,\n        \"num_unique_values\": 240,\n        \"samples\": [\n          24,\n          7,\n          93\n        ],\n        \"semantic_type\": \"\",\n        \"description\": \"\"\n      }\n    },\n    {\n      \"column\": \"DRAFT_TYPE\",\n      \"properties\": {\n        \"dtype\": \"category\",\n        \"num_unique_values\": 2,\n        \"samples\": [\n          \"Territorial\",\n          \"Draft\"\n        ],\n        \"semantic_type\": \"\",\n        \"description\": \"\"\n      }\n    },\n    {\n      \"column\": \"TEAM_ID\",\n      \"properties\": {\n        \"dtype\": \"number\",\n        \"std\": 487,\n        \"min\": 1610610024,\n        \"max\": 1610612766,\n        \"num_unique_values\": 39,\n        \"samples\": [\n          1610612748,\n          1610612763\n        ],\n        \"semantic_type\": \"\",\n        \"description\": \"\"\n      }\n    },\n    {\n      \"column\": \"TEAM_CITY\",\n      \"properties\": {\n        \"dtype\": \"category\",\n        \"num_unique_values\": 51,\n        \"samples\": [\n          \"Minnesota\",\n          \"Sacramento\"\n        ],\n        \"semantic_type\": \"\",\n        \"description\": \"\"\n      }\n    },\n    {\n      \"column\": \"TEAM_NAME\",\n      \"properties\": {\n        \"dtype\": \"category\",\n        \"num_unique_values\": 47,\n        \"samples\": [\n          \"Trail Blazers\",\n          \"Timberwolves\"\n        ],\n        \"semantic_type\": \"\",\n        \"description\": \"\"\n      }\n    },\n    {\n      \"column\": \"TEAM_ABBREVIATION\",\n      \"properties\": {\n        \"dtype\": \"category\",\n        \"num_unique_values\": 67,\n        \"samples\": [\n          \"HOU\",\n          \"SYR\"\n        ],\n        \"semantic_type\": \"\",\n        \"description\": \"\"\n      }\n    },\n    {\n      \"column\": \"ORGANIZATION\",\n      \"properties\": {\n        \"dtype\": \"category\",\n        \"num_unique_values\": 903,\n        \"samples\": [\n          \"Canisius\",\n          \"Austin Peay\"\n        ],\n        \"semantic_type\": \"\",\n        \"description\": \"\"\n      }\n    },\n    {\n      \"column\": \"ORGANIZATION_TYPE\",\n      \"properties\": {\n        \"dtype\": \"category\",\n        \"num_unique_values\": 3,\n        \"samples\": [\n          \"College/University\",\n          \"High School\"\n        ],\n        \"semantic_type\": \"\",\n        \"description\": \"\"\n      }\n    },\n    {\n      \"column\": \"PLAYER_PROFILE_FLAG\",\n      \"properties\": {\n        \"dtype\": \"number\",\n        \"std\": 0,\n        \"min\": 0,\n        \"max\": 1,\n        \"num_unique_values\": 2,\n        \"samples\": [\n          1,\n          0\n        ],\n        \"semantic_type\": \"\",\n        \"description\": \"\"\n      }\n    }\n  ]\n}"
            }
          },
          "metadata": {},
          "execution_count": 263
        }
      ]
    },
    {
      "cell_type": "code",
      "source": [
        "df_draft_combine_stats.head()"
      ],
      "metadata": {
        "id": "wy9m-LJalV4w",
        "colab": {
          "base_uri": "https://localhost:8080/",
          "height": 325
        },
        "outputId": "3623e042-3edd-4a74-f906-f672c70828be"
      },
      "execution_count": null,
      "outputs": [
        {
          "output_type": "execute_result",
          "data": {
            "text/plain": [
              "   SEASON  PLAYER_ID FIRST_NAME   LAST_NAME        PLAYER_NAME POSITION  \\\n",
              "0    2001      12033       Adam  Allenspach    Adam Allenspach        C   \n",
              "1    2001       2240    Gilbert      Arenas     Gilbert Arenas       SG   \n",
              "2    2001       2220    Brandon   Armstrong  Brandon Armstrong       SG   \n",
              "3    2001       2203      Shane     Battier      Shane Battier    SF-PF   \n",
              "4    2001      12034     Cookie     Belcher     Cookie Belcher    SG-PG   \n",
              "\n",
              "   HEIGHT_WITHOUT_SHOEAS HEIGHT_WITHOUT_SHOES_FEET_INCHES  HEIGHT_WITH_SHOES  \\\n",
              "0                  83.50                        6' 11.5''                NaN   \n",
              "1                  74.25                        6' 2.25''                NaN   \n",
              "2                  75.50                         6' 3.5''                NaN   \n",
              "3                  80.25                        6' 8.25''                NaN   \n",
              "4                  75.00                           6' 3''                NaN   \n",
              "\n",
              "  HEIGHT_WITH_SHOES_FEET_INCHES  ...  SPOT_NBA_BREAK_RIGHT  \\\n",
              "0                           NaN  ...                   NaN   \n",
              "1                           NaN  ...                   NaN   \n",
              "2                           NaN  ...                   NaN   \n",
              "3                           NaN  ...                   NaN   \n",
              "4                           NaN  ...                   NaN   \n",
              "\n",
              "   SPOT_NBA_CORNER_RIGHT OFF_DRIBBLE_FIFTEEN_BREAK_LEFT  \\\n",
              "0                    NaN                            NaN   \n",
              "1                    NaN                            NaN   \n",
              "2                    NaN                            NaN   \n",
              "3                    NaN                            NaN   \n",
              "4                    NaN                            NaN   \n",
              "\n",
              "   OFF_DRIBBLE_FIFTEEN_TOP_KEY OFF_DRIBBLE_FIFTEEN_BREAK_RIGHT  \\\n",
              "0                          NaN                             NaN   \n",
              "1                          NaN                             NaN   \n",
              "2                          NaN                             NaN   \n",
              "3                          NaN                             NaN   \n",
              "4                          NaN                             NaN   \n",
              "\n",
              "   OFF_DRIBBLE_COLLEGE_BREAK_LEFT  OFF_DRIBBLE_COLLEGE_TOP-KEY  \\\n",
              "0                             NaN                          NaN   \n",
              "1                             NaN                          NaN   \n",
              "2                             NaN                          NaN   \n",
              "3                             NaN                          NaN   \n",
              "4                             NaN                          NaN   \n",
              "\n",
              "   OFF_DRIBBLE_COLLEGE_BREAK_RIGHT  ON_MOVE_FIFTEEN  ON_MOVE_COLLEGE  \n",
              "0                              NaN              NaN              NaN  \n",
              "1                              NaN              NaN              NaN  \n",
              "2                              NaN              NaN              NaN  \n",
              "3                              NaN              NaN              NaN  \n",
              "4                              NaN              NaN              NaN  \n",
              "\n",
              "[5 rows x 47 columns]"
            ],
            "text/html": [
              "\n",
              "  <div id=\"df-1b989a73-2ab5-417b-a387-9f8649516cc8\" class=\"colab-df-container\">\n",
              "    <div>\n",
              "<style scoped>\n",
              "    .dataframe tbody tr th:only-of-type {\n",
              "        vertical-align: middle;\n",
              "    }\n",
              "\n",
              "    .dataframe tbody tr th {\n",
              "        vertical-align: top;\n",
              "    }\n",
              "\n",
              "    .dataframe thead th {\n",
              "        text-align: right;\n",
              "    }\n",
              "</style>\n",
              "<table border=\"1\" class=\"dataframe\">\n",
              "  <thead>\n",
              "    <tr style=\"text-align: right;\">\n",
              "      <th></th>\n",
              "      <th>SEASON</th>\n",
              "      <th>PLAYER_ID</th>\n",
              "      <th>FIRST_NAME</th>\n",
              "      <th>LAST_NAME</th>\n",
              "      <th>PLAYER_NAME</th>\n",
              "      <th>POSITION</th>\n",
              "      <th>HEIGHT_WITHOUT_SHOEAS</th>\n",
              "      <th>HEIGHT_WITHOUT_SHOES_FEET_INCHES</th>\n",
              "      <th>HEIGHT_WITH_SHOES</th>\n",
              "      <th>HEIGHT_WITH_SHOES_FEET_INCHES</th>\n",
              "      <th>...</th>\n",
              "      <th>SPOT_NBA_BREAK_RIGHT</th>\n",
              "      <th>SPOT_NBA_CORNER_RIGHT</th>\n",
              "      <th>OFF_DRIBBLE_FIFTEEN_BREAK_LEFT</th>\n",
              "      <th>OFF_DRIBBLE_FIFTEEN_TOP_KEY</th>\n",
              "      <th>OFF_DRIBBLE_FIFTEEN_BREAK_RIGHT</th>\n",
              "      <th>OFF_DRIBBLE_COLLEGE_BREAK_LEFT</th>\n",
              "      <th>OFF_DRIBBLE_COLLEGE_TOP-KEY</th>\n",
              "      <th>OFF_DRIBBLE_COLLEGE_BREAK_RIGHT</th>\n",
              "      <th>ON_MOVE_FIFTEEN</th>\n",
              "      <th>ON_MOVE_COLLEGE</th>\n",
              "    </tr>\n",
              "  </thead>\n",
              "  <tbody>\n",
              "    <tr>\n",
              "      <th>0</th>\n",
              "      <td>2001</td>\n",
              "      <td>12033</td>\n",
              "      <td>Adam</td>\n",
              "      <td>Allenspach</td>\n",
              "      <td>Adam Allenspach</td>\n",
              "      <td>C</td>\n",
              "      <td>83.50</td>\n",
              "      <td>6' 11.5''</td>\n",
              "      <td>NaN</td>\n",
              "      <td>NaN</td>\n",
              "      <td>...</td>\n",
              "      <td>NaN</td>\n",
              "      <td>NaN</td>\n",
              "      <td>NaN</td>\n",
              "      <td>NaN</td>\n",
              "      <td>NaN</td>\n",
              "      <td>NaN</td>\n",
              "      <td>NaN</td>\n",
              "      <td>NaN</td>\n",
              "      <td>NaN</td>\n",
              "      <td>NaN</td>\n",
              "    </tr>\n",
              "    <tr>\n",
              "      <th>1</th>\n",
              "      <td>2001</td>\n",
              "      <td>2240</td>\n",
              "      <td>Gilbert</td>\n",
              "      <td>Arenas</td>\n",
              "      <td>Gilbert Arenas</td>\n",
              "      <td>SG</td>\n",
              "      <td>74.25</td>\n",
              "      <td>6' 2.25''</td>\n",
              "      <td>NaN</td>\n",
              "      <td>NaN</td>\n",
              "      <td>...</td>\n",
              "      <td>NaN</td>\n",
              "      <td>NaN</td>\n",
              "      <td>NaN</td>\n",
              "      <td>NaN</td>\n",
              "      <td>NaN</td>\n",
              "      <td>NaN</td>\n",
              "      <td>NaN</td>\n",
              "      <td>NaN</td>\n",
              "      <td>NaN</td>\n",
              "      <td>NaN</td>\n",
              "    </tr>\n",
              "    <tr>\n",
              "      <th>2</th>\n",
              "      <td>2001</td>\n",
              "      <td>2220</td>\n",
              "      <td>Brandon</td>\n",
              "      <td>Armstrong</td>\n",
              "      <td>Brandon Armstrong</td>\n",
              "      <td>SG</td>\n",
              "      <td>75.50</td>\n",
              "      <td>6' 3.5''</td>\n",
              "      <td>NaN</td>\n",
              "      <td>NaN</td>\n",
              "      <td>...</td>\n",
              "      <td>NaN</td>\n",
              "      <td>NaN</td>\n",
              "      <td>NaN</td>\n",
              "      <td>NaN</td>\n",
              "      <td>NaN</td>\n",
              "      <td>NaN</td>\n",
              "      <td>NaN</td>\n",
              "      <td>NaN</td>\n",
              "      <td>NaN</td>\n",
              "      <td>NaN</td>\n",
              "    </tr>\n",
              "    <tr>\n",
              "      <th>3</th>\n",
              "      <td>2001</td>\n",
              "      <td>2203</td>\n",
              "      <td>Shane</td>\n",
              "      <td>Battier</td>\n",
              "      <td>Shane Battier</td>\n",
              "      <td>SF-PF</td>\n",
              "      <td>80.25</td>\n",
              "      <td>6' 8.25''</td>\n",
              "      <td>NaN</td>\n",
              "      <td>NaN</td>\n",
              "      <td>...</td>\n",
              "      <td>NaN</td>\n",
              "      <td>NaN</td>\n",
              "      <td>NaN</td>\n",
              "      <td>NaN</td>\n",
              "      <td>NaN</td>\n",
              "      <td>NaN</td>\n",
              "      <td>NaN</td>\n",
              "      <td>NaN</td>\n",
              "      <td>NaN</td>\n",
              "      <td>NaN</td>\n",
              "    </tr>\n",
              "    <tr>\n",
              "      <th>4</th>\n",
              "      <td>2001</td>\n",
              "      <td>12034</td>\n",
              "      <td>Cookie</td>\n",
              "      <td>Belcher</td>\n",
              "      <td>Cookie Belcher</td>\n",
              "      <td>SG-PG</td>\n",
              "      <td>75.00</td>\n",
              "      <td>6' 3''</td>\n",
              "      <td>NaN</td>\n",
              "      <td>NaN</td>\n",
              "      <td>...</td>\n",
              "      <td>NaN</td>\n",
              "      <td>NaN</td>\n",
              "      <td>NaN</td>\n",
              "      <td>NaN</td>\n",
              "      <td>NaN</td>\n",
              "      <td>NaN</td>\n",
              "      <td>NaN</td>\n",
              "      <td>NaN</td>\n",
              "      <td>NaN</td>\n",
              "      <td>NaN</td>\n",
              "    </tr>\n",
              "  </tbody>\n",
              "</table>\n",
              "<p>5 rows × 47 columns</p>\n",
              "</div>\n",
              "    <div class=\"colab-df-buttons\">\n",
              "\n",
              "  <div class=\"colab-df-container\">\n",
              "    <button class=\"colab-df-convert\" onclick=\"convertToInteractive('df-1b989a73-2ab5-417b-a387-9f8649516cc8')\"\n",
              "            title=\"Convert this dataframe to an interactive table.\"\n",
              "            style=\"display:none;\">\n",
              "\n",
              "  <svg xmlns=\"http://www.w3.org/2000/svg\" height=\"24px\" viewBox=\"0 -960 960 960\">\n",
              "    <path d=\"M120-120v-720h720v720H120Zm60-500h600v-160H180v160Zm220 220h160v-160H400v160Zm0 220h160v-160H400v160ZM180-400h160v-160H180v160Zm440 0h160v-160H620v160ZM180-180h160v-160H180v160Zm440 0h160v-160H620v160Z\"/>\n",
              "  </svg>\n",
              "    </button>\n",
              "\n",
              "  <style>\n",
              "    .colab-df-container {\n",
              "      display:flex;\n",
              "      gap: 12px;\n",
              "    }\n",
              "\n",
              "    .colab-df-convert {\n",
              "      background-color: #E8F0FE;\n",
              "      border: none;\n",
              "      border-radius: 50%;\n",
              "      cursor: pointer;\n",
              "      display: none;\n",
              "      fill: #1967D2;\n",
              "      height: 32px;\n",
              "      padding: 0 0 0 0;\n",
              "      width: 32px;\n",
              "    }\n",
              "\n",
              "    .colab-df-convert:hover {\n",
              "      background-color: #E2EBFA;\n",
              "      box-shadow: 0px 1px 2px rgba(60, 64, 67, 0.3), 0px 1px 3px 1px rgba(60, 64, 67, 0.15);\n",
              "      fill: #174EA6;\n",
              "    }\n",
              "\n",
              "    .colab-df-buttons div {\n",
              "      margin-bottom: 4px;\n",
              "    }\n",
              "\n",
              "    [theme=dark] .colab-df-convert {\n",
              "      background-color: #3B4455;\n",
              "      fill: #D2E3FC;\n",
              "    }\n",
              "\n",
              "    [theme=dark] .colab-df-convert:hover {\n",
              "      background-color: #434B5C;\n",
              "      box-shadow: 0px 1px 3px 1px rgba(0, 0, 0, 0.15);\n",
              "      filter: drop-shadow(0px 1px 2px rgba(0, 0, 0, 0.3));\n",
              "      fill: #FFFFFF;\n",
              "    }\n",
              "  </style>\n",
              "\n",
              "    <script>\n",
              "      const buttonEl =\n",
              "        document.querySelector('#df-1b989a73-2ab5-417b-a387-9f8649516cc8 button.colab-df-convert');\n",
              "      buttonEl.style.display =\n",
              "        google.colab.kernel.accessAllowed ? 'block' : 'none';\n",
              "\n",
              "      async function convertToInteractive(key) {\n",
              "        const element = document.querySelector('#df-1b989a73-2ab5-417b-a387-9f8649516cc8');\n",
              "        const dataTable =\n",
              "          await google.colab.kernel.invokeFunction('convertToInteractive',\n",
              "                                                    [key], {});\n",
              "        if (!dataTable) return;\n",
              "\n",
              "        const docLinkHtml = 'Like what you see? Visit the ' +\n",
              "          '<a target=\"_blank\" href=https://colab.research.google.com/notebooks/data_table.ipynb>data table notebook</a>'\n",
              "          + ' to learn more about interactive tables.';\n",
              "        element.innerHTML = '';\n",
              "        dataTable['output_type'] = 'display_data';\n",
              "        await google.colab.output.renderOutput(dataTable, element);\n",
              "        const docLink = document.createElement('div');\n",
              "        docLink.innerHTML = docLinkHtml;\n",
              "        element.appendChild(docLink);\n",
              "      }\n",
              "    </script>\n",
              "  </div>\n",
              "\n",
              "\n",
              "<div id=\"df-9c6272b3-114b-4c6e-b94b-6aca0d59c868\">\n",
              "  <button class=\"colab-df-quickchart\" onclick=\"quickchart('df-9c6272b3-114b-4c6e-b94b-6aca0d59c868')\"\n",
              "            title=\"Suggest charts\"\n",
              "            style=\"display:none;\">\n",
              "\n",
              "<svg xmlns=\"http://www.w3.org/2000/svg\" height=\"24px\"viewBox=\"0 0 24 24\"\n",
              "     width=\"24px\">\n",
              "    <g>\n",
              "        <path d=\"M19 3H5c-1.1 0-2 .9-2 2v14c0 1.1.9 2 2 2h14c1.1 0 2-.9 2-2V5c0-1.1-.9-2-2-2zM9 17H7v-7h2v7zm4 0h-2V7h2v10zm4 0h-2v-4h2v4z\"/>\n",
              "    </g>\n",
              "</svg>\n",
              "  </button>\n",
              "\n",
              "<style>\n",
              "  .colab-df-quickchart {\n",
              "      --bg-color: #E8F0FE;\n",
              "      --fill-color: #1967D2;\n",
              "      --hover-bg-color: #E2EBFA;\n",
              "      --hover-fill-color: #174EA6;\n",
              "      --disabled-fill-color: #AAA;\n",
              "      --disabled-bg-color: #DDD;\n",
              "  }\n",
              "\n",
              "  [theme=dark] .colab-df-quickchart {\n",
              "      --bg-color: #3B4455;\n",
              "      --fill-color: #D2E3FC;\n",
              "      --hover-bg-color: #434B5C;\n",
              "      --hover-fill-color: #FFFFFF;\n",
              "      --disabled-bg-color: #3B4455;\n",
              "      --disabled-fill-color: #666;\n",
              "  }\n",
              "\n",
              "  .colab-df-quickchart {\n",
              "    background-color: var(--bg-color);\n",
              "    border: none;\n",
              "    border-radius: 50%;\n",
              "    cursor: pointer;\n",
              "    display: none;\n",
              "    fill: var(--fill-color);\n",
              "    height: 32px;\n",
              "    padding: 0;\n",
              "    width: 32px;\n",
              "  }\n",
              "\n",
              "  .colab-df-quickchart:hover {\n",
              "    background-color: var(--hover-bg-color);\n",
              "    box-shadow: 0 1px 2px rgba(60, 64, 67, 0.3), 0 1px 3px 1px rgba(60, 64, 67, 0.15);\n",
              "    fill: var(--button-hover-fill-color);\n",
              "  }\n",
              "\n",
              "  .colab-df-quickchart-complete:disabled,\n",
              "  .colab-df-quickchart-complete:disabled:hover {\n",
              "    background-color: var(--disabled-bg-color);\n",
              "    fill: var(--disabled-fill-color);\n",
              "    box-shadow: none;\n",
              "  }\n",
              "\n",
              "  .colab-df-spinner {\n",
              "    border: 2px solid var(--fill-color);\n",
              "    border-color: transparent;\n",
              "    border-bottom-color: var(--fill-color);\n",
              "    animation:\n",
              "      spin 1s steps(1) infinite;\n",
              "  }\n",
              "\n",
              "  @keyframes spin {\n",
              "    0% {\n",
              "      border-color: transparent;\n",
              "      border-bottom-color: var(--fill-color);\n",
              "      border-left-color: var(--fill-color);\n",
              "    }\n",
              "    20% {\n",
              "      border-color: transparent;\n",
              "      border-left-color: var(--fill-color);\n",
              "      border-top-color: var(--fill-color);\n",
              "    }\n",
              "    30% {\n",
              "      border-color: transparent;\n",
              "      border-left-color: var(--fill-color);\n",
              "      border-top-color: var(--fill-color);\n",
              "      border-right-color: var(--fill-color);\n",
              "    }\n",
              "    40% {\n",
              "      border-color: transparent;\n",
              "      border-right-color: var(--fill-color);\n",
              "      border-top-color: var(--fill-color);\n",
              "    }\n",
              "    60% {\n",
              "      border-color: transparent;\n",
              "      border-right-color: var(--fill-color);\n",
              "    }\n",
              "    80% {\n",
              "      border-color: transparent;\n",
              "      border-right-color: var(--fill-color);\n",
              "      border-bottom-color: var(--fill-color);\n",
              "    }\n",
              "    90% {\n",
              "      border-color: transparent;\n",
              "      border-bottom-color: var(--fill-color);\n",
              "    }\n",
              "  }\n",
              "</style>\n",
              "\n",
              "  <script>\n",
              "    async function quickchart(key) {\n",
              "      const quickchartButtonEl =\n",
              "        document.querySelector('#' + key + ' button');\n",
              "      quickchartButtonEl.disabled = true;  // To prevent multiple clicks.\n",
              "      quickchartButtonEl.classList.add('colab-df-spinner');\n",
              "      try {\n",
              "        const charts = await google.colab.kernel.invokeFunction(\n",
              "            'suggestCharts', [key], {});\n",
              "      } catch (error) {\n",
              "        console.error('Error during call to suggestCharts:', error);\n",
              "      }\n",
              "      quickchartButtonEl.classList.remove('colab-df-spinner');\n",
              "      quickchartButtonEl.classList.add('colab-df-quickchart-complete');\n",
              "    }\n",
              "    (() => {\n",
              "      let quickchartButtonEl =\n",
              "        document.querySelector('#df-9c6272b3-114b-4c6e-b94b-6aca0d59c868 button');\n",
              "      quickchartButtonEl.style.display =\n",
              "        google.colab.kernel.accessAllowed ? 'block' : 'none';\n",
              "    })();\n",
              "  </script>\n",
              "</div>\n",
              "    </div>\n",
              "  </div>\n"
            ],
            "application/vnd.google.colaboratory.intrinsic+json": {
              "type": "dataframe",
              "variable_name": "df_draft_combine_stats"
            }
          },
          "metadata": {},
          "execution_count": 264
        }
      ]
    },
    {
      "cell_type": "markdown",
      "source": [
        "Now, the plot thickens. This line is like a leaderboard, ranking the top 20 organizations based on their frequency in the draft history. It’s a testament to their consistent presence and impact in the drafts.\n"
      ],
      "metadata": {
        "id": "Fy41NcGiuA9Q"
      }
    },
    {
      "cell_type": "code",
      "source": [
        "top_20_organizations = df_draft_history['ORGANIZATION'].value_counts().head(20)\n",
        "print(top_20_organizations)\n"
      ],
      "metadata": {
        "id": "hrvf6UBsQ9Mm",
        "colab": {
          "base_uri": "https://localhost:8080/"
        },
        "outputId": "a313c1c7-3ba9-4337-b9ba-d8bbc36bbf34"
      },
      "execution_count": null,
      "outputs": [
        {
          "output_type": "stream",
          "name": "stdout",
          "text": [
            "ORGANIZATION\n",
            "Kentucky                  137\n",
            "California-Los Angeles    120\n",
            "North Carolina            115\n",
            "Duke                      105\n",
            "Kansas                     87\n",
            "Indiana                    77\n",
            "Arizona                    74\n",
            "Louisville                 73\n",
            "Michigan                   73\n",
            "Maryland                   72\n",
            "Illinois                   71\n",
            "Syracuse                   69\n",
            "North Carolina State       66\n",
            "Notre Dame                 63\n",
            "Southern California        62\n",
            "Villanova                  61\n",
            "St. John's (NY)            61\n",
            "Washington                 60\n",
            "Michigan State             60\n",
            "Marquette                  58\n",
            "Name: count, dtype: int64\n"
          ]
        }
      ]
    },
    {
      "cell_type": "markdown",
      "source": [
        "But what about the underdogs? df_draft_history['ORGANIZATION'].value_counts().tail(20) gives us insight into the organizations that have had less representation in the drafts. This could be the beginning of their journey to rise through the ranks."
      ],
      "metadata": {
        "id": "aRVIyCDjuIi-"
      }
    },
    {
      "cell_type": "code",
      "source": [
        "df_draft_history['ORGANIZATION'].value_counts().tail(20)"
      ],
      "metadata": {
        "id": "bEU0a55aRJce",
        "colab": {
          "base_uri": "https://localhost:8080/"
        },
        "outputId": "73619f6c-d241-403c-cd8a-a2fa219a90b2"
      },
      "execution_count": null,
      "outputs": [
        {
          "output_type": "execute_result",
          "data": {
            "text/plain": [
              "ORGANIZATION\n",
              "West Alabama                  1\n",
              "Bloomsburg                    1\n",
              "Southern Utah                 1\n",
              "Juvecaserta Basket (Italy)    1\n",
              "Calgary (CAN)                 1\n",
              "Longwood                      1\n",
              "Eastern Oregon                1\n",
              "Florida International         1\n",
              "Massachusetts Boston          1\n",
              "California-Davis              1\n",
              "Hellenic                      1\n",
              "Lawrence                      1\n",
              "Alabama A&M                   1\n",
              "Pratt                         1\n",
              "Williams                      1\n",
              "Caltech                       1\n",
              "McMurry                       1\n",
              "York (CAN)                    1\n",
              "Indiana Wesleyan              1\n",
              "Belhaven                      1\n",
              "Name: count, dtype: int64"
            ]
          },
          "metadata": {},
          "execution_count": 266
        }
      ]
    },
    {
      "cell_type": "markdown",
      "source": [
        "The print(df_draft_history['OVERALL_PICK'].value_counts()) command is like a roll call, tallying up the frequency of each overall pick number. It’s a snapshot of the distribution of picks across the drafts.\n"
      ],
      "metadata": {
        "id": "elur4rXOuOdQ"
      }
    },
    {
      "cell_type": "code",
      "source": [
        "print(df_draft_history['OVERALL_PICK'].value_counts())"
      ],
      "metadata": {
        "id": "D7ZPklW5T1R4",
        "colab": {
          "base_uri": "https://localhost:8080/"
        },
        "outputId": "bfbe46a2-4733-40c2-ccd2-4b8ab758b2e5"
      },
      "execution_count": null,
      "outputs": [
        {
          "output_type": "stream",
          "name": "stdout",
          "text": [
            "OVERALL_PICK\n",
            "0      655\n",
            "1       74\n",
            "2       74\n",
            "3       74\n",
            "4       74\n",
            "      ... \n",
            "232      2\n",
            "231      2\n",
            "230      2\n",
            "238      1\n",
            "239      1\n",
            "Name: count, Length: 240, dtype: int64\n"
          ]
        }
      ]
    },
    {
      "cell_type": "markdown",
      "source": [
        "Next, we turn our attention to the top 20 organizations This line is calculating the average overall pick for each of these organizations, shedding light on their typical standing in the drafts.\n",
        "\n",
        "The bar graph that follows paints a vivid picture of this data. It’s a visual representation of the average overall pick by the top 20 organizations, allowing us to easily compare and contrast their performances."
      ],
      "metadata": {
        "id": "9uMiLbuquVE5"
      }
    },
    {
      "cell_type": "code",
      "source": [
        "top_20_orgs = df_draft_history['ORGANIZATION'].value_counts().index[:20]\n",
        "\n",
        "\n",
        "average_pick = df_draft_history[df_draft_history['ORGANIZATION'].isin(top_20_orgs)].groupby('ORGANIZATION')['OVERALL_PICK'].mean()\n",
        "\n",
        "plt.figure(figsize=(10,8))\n",
        "average_pick.plot(kind='bar')\n",
        "plt.xlabel('Organization')\n",
        "plt.ylabel('Average Overall Pick')\n",
        "plt.title('Bar Graph of Average Overall Pick by Top 20 Organizations')\n",
        "plt.xticks(rotation=90)\n",
        "plt.show()"
      ],
      "metadata": {
        "id": "ZrRFgMI9RMZu",
        "colab": {
          "base_uri": "https://localhost:8080/",
          "height": 858
        },
        "outputId": "2d0165af-43c1-4a0f-e30f-1c18f1b75680"
      },
      "execution_count": null,
      "outputs": [
        {
          "output_type": "display_data",
          "data": {
            "text/plain": [
              "<Figure size 1000x800 with 1 Axes>"
            ],
            "image/png": "[encoded data removed]"
          },
          "metadata": {}
        }
      ]
    },
    {
      "cell_type": "markdown",
      "source": [
        "Finally, we zoom in on the coveted first overall pick. This line is spotlighting the entries where the overall pick was 1, the pinnacle of achievement in the drafts.\n",
        "\n",
        "The pie chart at the end of your code is the grand finale. It showcases the top 10 organizations that have had the honor of the first overall pick the most times, with all other organizations grouped into an ‘Other’ category. It’s a tribute to their success and a testament to their dominance in the drafts.\n",
        "\n",
        "This could lead to further questions and investigations, such as looking into why those organizations have those patterns (e.g., more successful scouting, better player development, etc.)."
      ],
      "metadata": {
        "id": "qVgWz6sIuq84"
      }
    },
    {
      "cell_type": "code",
      "source": [
        "df_overall_pick_1 = df_draft_history[df_draft_history['OVERALL_PICK'] == 1]\n",
        "\n",
        "org_counts = df_overall_pick_1['ORGANIZATION'].value_counts()\n",
        "\n",
        "# Get the top 20 organizations\n",
        "top_20_orgs_counts = org_counts.nlargest(10)\n",
        "\n",
        "# Add a new category for all other organizations\n",
        "top_20_orgs_counts['Other'] = org_counts[10:].sum()\n",
        "\n",
        "plt.figure(figsize=(10,8))  # Adjust the size as necessary\n",
        "plt.pie(top_20_orgs_counts, labels=top_20_orgs_counts.index, autopct='%1.1f%%')\n",
        "plt.title('Pie Chart of Top 20 Organizations with Overall Pick #1 (and Others)')\n",
        "plt.show()"
      ],
      "metadata": {
        "id": "-iBzIURAVTFD",
        "colab": {
          "base_uri": "https://localhost:8080/",
          "height": 675
        },
        "outputId": "75a4ea0b-f62e-4bce-9c27-3bf05f4e53ee"
      },
      "execution_count": null,
      "outputs": [
        {
          "output_type": "display_data",
          "data": {
            "text/plain": [
              "<Figure size 1000x800 with 1 Axes>"
            ],
            "image/png": "[encoded data removed]"
          },
          "metadata": {}
        }
      ]
    },
    {
      "cell_type": "code",
      "source": [
        "all_star = pd.read_csv('/content/drive/MyDrive/FINAL PROJECT CSVs/All-Star Selections.csv')"
      ],
      "metadata": {
        "id": "Frau-nRfr8HH"
      },
      "execution_count": null,
      "outputs": []
    },
    {
      "cell_type": "code",
      "source": [
        "all_star.shape"
      ],
      "metadata": {
        "id": "_eFlcYdHsrn_",
        "colab": {
          "base_uri": "https://localhost:8080/"
        },
        "outputId": "4fefe2ec-3b03-42b0-f9bf-6126b8a1fa54"
      },
      "execution_count": null,
      "outputs": [
        {
          "output_type": "execute_result",
          "data": {
            "text/plain": [
              "(2000, 5)"
            ]
          },
          "metadata": {},
          "execution_count": 271
        }
      ]
    },
    {
      "cell_type": "code",
      "source": [
        "all_star.describe()"
      ],
      "metadata": {
        "id": "8Rb7eDMesvby",
        "colab": {
          "base_uri": "https://localhost:8080/",
          "height": 300
        },
        "outputId": "5d9ec1bd-c7cd-426d-e9c0-84b34eb1f885"
      },
      "execution_count": null,
      "outputs": [
        {
          "output_type": "execute_result",
          "data": {
            "text/plain": [
              "            SEASON\n",
              "count  2000.000000\n",
              "mean   1987.016000\n",
              "std      20.730307\n",
              "min    1951.000000\n",
              "25%    1970.000000\n",
              "50%    1985.000000\n",
              "75%    2005.250000\n",
              "max    2024.000000"
            ],
            "text/html": [
              "\n",
              "  <div id=\"df-92c11693-d96b-49fd-a817-b53323b5cd97\" class=\"colab-df-container\">\n",
              "    <div>\n",
              "<style scoped>\n",
              "    .dataframe tbody tr th:only-of-type {\n",
              "        vertical-align: middle;\n",
              "    }\n",
              "\n",
              "    .dataframe tbody tr th {\n",
              "        vertical-align: top;\n",
              "    }\n",
              "\n",
              "    .dataframe thead th {\n",
              "        text-align: right;\n",
              "    }\n",
              "</style>\n",
              "<table border=\"1\" class=\"dataframe\">\n",
              "  <thead>\n",
              "    <tr style=\"text-align: right;\">\n",
              "      <th></th>\n",
              "      <th>SEASON</th>\n",
              "    </tr>\n",
              "  </thead>\n",
              "  <tbody>\n",
              "    <tr>\n",
              "      <th>count</th>\n",
              "      <td>2000.000000</td>\n",
              "    </tr>\n",
              "    <tr>\n",
              "      <th>mean</th>\n",
              "      <td>1987.016000</td>\n",
              "    </tr>\n",
              "    <tr>\n",
              "      <th>std</th>\n",
              "      <td>20.730307</td>\n",
              "    </tr>\n",
              "    <tr>\n",
              "      <th>min</th>\n",
              "      <td>1951.000000</td>\n",
              "    </tr>\n",
              "    <tr>\n",
              "      <th>25%</th>\n",
              "      <td>1970.000000</td>\n",
              "    </tr>\n",
              "    <tr>\n",
              "      <th>50%</th>\n",
              "      <td>1985.000000</td>\n",
              "    </tr>\n",
              "    <tr>\n",
              "      <th>75%</th>\n",
              "      <td>2005.250000</td>\n",
              "    </tr>\n",
              "    <tr>\n",
              "      <th>max</th>\n",
              "      <td>2024.000000</td>\n",
              "    </tr>\n",
              "  </tbody>\n",
              "</table>\n",
              "</div>\n",
              "    <div class=\"colab-df-buttons\">\n",
              "\n",
              "  <div class=\"colab-df-container\">\n",
              "    <button class=\"colab-df-convert\" onclick=\"convertToInteractive('df-92c11693-d96b-49fd-a817-b53323b5cd97')\"\n",
              "            title=\"Convert this dataframe to an interactive table.\"\n",
              "            style=\"display:none;\">\n",
              "\n",
              "  <svg xmlns=\"http://www.w3.org/2000/svg\" height=\"24px\" viewBox=\"0 -960 960 960\">\n",
              "    <path d=\"M120-120v-720h720v720H120Zm60-500h600v-160H180v160Zm220 220h160v-160H400v160Zm0 220h160v-160H400v160ZM180-400h160v-160H180v160Zm440 0h160v-160H620v160ZM180-180h160v-160H180v160Zm440 0h160v-160H620v160Z\"/>\n",
              "  </svg>\n",
              "    </button>\n",
              "\n",
              "  <style>\n",
              "    .colab-df-container {\n",
              "      display:flex;\n",
              "      gap: 12px;\n",
              "    }\n",
              "\n",
              "    .colab-df-convert {\n",
              "      background-color: #E8F0FE;\n",
              "      border: none;\n",
              "      border-radius: 50%;\n",
              "      cursor: pointer;\n",
              "      display: none;\n",
              "      fill: #1967D2;\n",
              "      height: 32px;\n",
              "      padding: 0 0 0 0;\n",
              "      width: 32px;\n",
              "    }\n",
              "\n",
              "    .colab-df-convert:hover {\n",
              "      background-color: #E2EBFA;\n",
              "      box-shadow: 0px 1px 2px rgba(60, 64, 67, 0.3), 0px 1px 3px 1px rgba(60, 64, 67, 0.15);\n",
              "      fill: #174EA6;\n",
              "    }\n",
              "\n",
              "    .colab-df-buttons div {\n",
              "      margin-bottom: 4px;\n",
              "    }\n",
              "\n",
              "    [theme=dark] .colab-df-convert {\n",
              "      background-color: #3B4455;\n",
              "      fill: #D2E3FC;\n",
              "    }\n",
              "\n",
              "    [theme=dark] .colab-df-convert:hover {\n",
              "      background-color: #434B5C;\n",
              "      box-shadow: 0px 1px 3px 1px rgba(0, 0, 0, 0.15);\n",
              "      filter: drop-shadow(0px 1px 2px rgba(0, 0, 0, 0.3));\n",
              "      fill: #FFFFFF;\n",
              "    }\n",
              "  </style>\n",
              "\n",
              "    <script>\n",
              "      const buttonEl =\n",
              "        document.querySelector('#df-92c11693-d96b-49fd-a817-b53323b5cd97 button.colab-df-convert');\n",
              "      buttonEl.style.display =\n",
              "        google.colab.kernel.accessAllowed ? 'block' : 'none';\n",
              "\n",
              "      async function convertToInteractive(key) {\n",
              "        const element = document.querySelector('#df-92c11693-d96b-49fd-a817-b53323b5cd97');\n",
              "        const dataTable =\n",
              "          await google.colab.kernel.invokeFunction('convertToInteractive',\n",
              "                                                    [key], {});\n",
              "        if (!dataTable) return;\n",
              "\n",
              "        const docLinkHtml = 'Like what you see? Visit the ' +\n",
              "          '<a target=\"_blank\" href=https://colab.research.google.com/notebooks/data_table.ipynb>data table notebook</a>'\n",
              "          + ' to learn more about interactive tables.';\n",
              "        element.innerHTML = '';\n",
              "        dataTable['output_type'] = 'display_data';\n",
              "        await google.colab.output.renderOutput(dataTable, element);\n",
              "        const docLink = document.createElement('div');\n",
              "        docLink.innerHTML = docLinkHtml;\n",
              "        element.appendChild(docLink);\n",
              "      }\n",
              "    </script>\n",
              "  </div>\n",
              "\n",
              "\n",
              "<div id=\"df-dc30dc2b-2258-4259-bd7b-98a685662fb4\">\n",
              "  <button class=\"colab-df-quickchart\" onclick=\"quickchart('df-dc30dc2b-2258-4259-bd7b-98a685662fb4')\"\n",
              "            title=\"Suggest charts\"\n",
              "            style=\"display:none;\">\n",
              "\n",
              "<svg xmlns=\"http://www.w3.org/2000/svg\" height=\"24px\"viewBox=\"0 0 24 24\"\n",
              "     width=\"24px\">\n",
              "    <g>\n",
              "        <path d=\"M19 3H5c-1.1 0-2 .9-2 2v14c0 1.1.9 2 2 2h14c1.1 0 2-.9 2-2V5c0-1.1-.9-2-2-2zM9 17H7v-7h2v7zm4 0h-2V7h2v10zm4 0h-2v-4h2v4z\"/>\n",
              "    </g>\n",
              "</svg>\n",
              "  </button>\n",
              "\n",
              "<style>\n",
              "  .colab-df-quickchart {\n",
              "      --bg-color: #E8F0FE;\n",
              "      --fill-color: #1967D2;\n",
              "      --hover-bg-color: #E2EBFA;\n",
              "      --hover-fill-color: #174EA6;\n",
              "      --disabled-fill-color: #AAA;\n",
              "      --disabled-bg-color: #DDD;\n",
              "  }\n",
              "\n",
              "  [theme=dark] .colab-df-quickchart {\n",
              "      --bg-color: #3B4455;\n",
              "      --fill-color: #D2E3FC;\n",
              "      --hover-bg-color: #434B5C;\n",
              "      --hover-fill-color: #FFFFFF;\n",
              "      --disabled-bg-color: #3B4455;\n",
              "      --disabled-fill-color: #666;\n",
              "  }\n",
              "\n",
              "  .colab-df-quickchart {\n",
              "    background-color: var(--bg-color);\n",
              "    border: none;\n",
              "    border-radius: 50%;\n",
              "    cursor: pointer;\n",
              "    display: none;\n",
              "    fill: var(--fill-color);\n",
              "    height: 32px;\n",
              "    padding: 0;\n",
              "    width: 32px;\n",
              "  }\n",
              "\n",
              "  .colab-df-quickchart:hover {\n",
              "    background-color: var(--hover-bg-color);\n",
              "    box-shadow: 0 1px 2px rgba(60, 64, 67, 0.3), 0 1px 3px 1px rgba(60, 64, 67, 0.15);\n",
              "    fill: var(--button-hover-fill-color);\n",
              "  }\n",
              "\n",
              "  .colab-df-quickchart-complete:disabled,\n",
              "  .colab-df-quickchart-complete:disabled:hover {\n",
              "    background-color: var(--disabled-bg-color);\n",
              "    fill: var(--disabled-fill-color);\n",
              "    box-shadow: none;\n",
              "  }\n",
              "\n",
              "  .colab-df-spinner {\n",
              "    border: 2px solid var(--fill-color);\n",
              "    border-color: transparent;\n",
              "    border-bottom-color: var(--fill-color);\n",
              "    animation:\n",
              "      spin 1s steps(1) infinite;\n",
              "  }\n",
              "\n",
              "  @keyframes spin {\n",
              "    0% {\n",
              "      border-color: transparent;\n",
              "      border-bottom-color: var(--fill-color);\n",
              "      border-left-color: var(--fill-color);\n",
              "    }\n",
              "    20% {\n",
              "      border-color: transparent;\n",
              "      border-left-color: var(--fill-color);\n",
              "      border-top-color: var(--fill-color);\n",
              "    }\n",
              "    30% {\n",
              "      border-color: transparent;\n",
              "      border-left-color: var(--fill-color);\n",
              "      border-top-color: var(--fill-color);\n",
              "      border-right-color: var(--fill-color);\n",
              "    }\n",
              "    40% {\n",
              "      border-color: transparent;\n",
              "      border-right-color: var(--fill-color);\n",
              "      border-top-color: var(--fill-color);\n",
              "    }\n",
              "    60% {\n",
              "      border-color: transparent;\n",
              "      border-right-color: var(--fill-color);\n",
              "    }\n",
              "    80% {\n",
              "      border-color: transparent;\n",
              "      border-right-color: var(--fill-color);\n",
              "      border-bottom-color: var(--fill-color);\n",
              "    }\n",
              "    90% {\n",
              "      border-color: transparent;\n",
              "      border-bottom-color: var(--fill-color);\n",
              "    }\n",
              "  }\n",
              "</style>\n",
              "\n",
              "  <script>\n",
              "    async function quickchart(key) {\n",
              "      const quickchartButtonEl =\n",
              "        document.querySelector('#' + key + ' button');\n",
              "      quickchartButtonEl.disabled = true;  // To prevent multiple clicks.\n",
              "      quickchartButtonEl.classList.add('colab-df-spinner');\n",
              "      try {\n",
              "        const charts = await google.colab.kernel.invokeFunction(\n",
              "            'suggestCharts', [key], {});\n",
              "      } catch (error) {\n",
              "        console.error('Error during call to suggestCharts:', error);\n",
              "      }\n",
              "      quickchartButtonEl.classList.remove('colab-df-spinner');\n",
              "      quickchartButtonEl.classList.add('colab-df-quickchart-complete');\n",
              "    }\n",
              "    (() => {\n",
              "      let quickchartButtonEl =\n",
              "        document.querySelector('#df-dc30dc2b-2258-4259-bd7b-98a685662fb4 button');\n",
              "      quickchartButtonEl.style.display =\n",
              "        google.colab.kernel.accessAllowed ? 'block' : 'none';\n",
              "    })();\n",
              "  </script>\n",
              "</div>\n",
              "    </div>\n",
              "  </div>\n"
            ],
            "application/vnd.google.colaboratory.intrinsic+json": {
              "type": "dataframe",
              "summary": "{\n  \"name\": \"all_star\",\n  \"rows\": 8,\n  \"fields\": [\n    {\n      \"column\": \"SEASON\",\n      \"properties\": {\n        \"dtype\": \"number\",\n        \"std\": 696.2038536862598,\n        \"min\": 20.73030672248735,\n        \"max\": 2024.0,\n        \"num_unique_values\": 8,\n        \"samples\": [\n          1987.016,\n          1985.0,\n          2000.0\n        ],\n        \"semantic_type\": \"\",\n        \"description\": \"\"\n      }\n    }\n  ]\n}"
            }
          },
          "metadata": {},
          "execution_count": 272
        }
      ]
    },
    {
      "cell_type": "code",
      "source": [
        "all_star.info()"
      ],
      "metadata": {
        "id": "zk-RJuohsx7Y",
        "colab": {
          "base_uri": "https://localhost:8080/"
        },
        "outputId": "0739c9fc-5813-4304-8e28-b3393231183e"
      },
      "execution_count": null,
      "outputs": [
        {
          "output_type": "stream",
          "name": "stdout",
          "text": [
            "<class 'pandas.core.frame.DataFrame'>\n",
            "RangeIndex: 2000 entries, 0 to 1999\n",
            "Data columns (total 5 columns):\n",
            " #   Column    Non-Null Count  Dtype \n",
            "---  ------    --------------  ----- \n",
            " 0   PLAYER    2000 non-null   object\n",
            " 1   TEAM      2000 non-null   object\n",
            " 2   LEAGUE    2000 non-null   object\n",
            " 3   SEASON    2000 non-null   int64 \n",
            " 4   REPLACED  2000 non-null   bool  \n",
            "dtypes: bool(1), int64(1), object(3)\n",
            "memory usage: 64.6+ KB\n"
          ]
        }
      ]
    },
    {
      "cell_type": "code",
      "source": [
        "all_star.head()"
      ],
      "metadata": {
        "id": "neb_XxUQs16L",
        "colab": {
          "base_uri": "https://localhost:8080/",
          "height": 206
        },
        "outputId": "ade48d81-1567-4b3e-f4ee-35f95e19d092"
      },
      "execution_count": null,
      "outputs": [
        {
          "output_type": "execute_result",
          "data": {
            "text/plain": [
              "                  PLAYER  TEAM LEAGUE  SEASON  REPLACED\n",
              "0            Bam Adebayo  East    NBA    2024     False\n",
              "1  Giannis Antetokounmpo  East    NBA    2024     False\n",
              "2         Paolo Banchero  East    NBA    2024     False\n",
              "3         Scottie Barnes  East    NBA    2024     False\n",
              "4           Jaylen Brown  East    NBA    2024     False"
            ],
            "text/html": [
              "\n",
              "  <div id=\"df-cc338f65-1dd2-4187-8ac9-758f9853ec4e\" class=\"colab-df-container\">\n",
              "    <div>\n",
              "<style scoped>\n",
              "    .dataframe tbody tr th:only-of-type {\n",
              "        vertical-align: middle;\n",
              "    }\n",
              "\n",
              "    .dataframe tbody tr th {\n",
              "        vertical-align: top;\n",
              "    }\n",
              "\n",
              "    .dataframe thead th {\n",
              "        text-align: right;\n",
              "    }\n",
              "</style>\n",
              "<table border=\"1\" class=\"dataframe\">\n",
              "  <thead>\n",
              "    <tr style=\"text-align: right;\">\n",
              "      <th></th>\n",
              "      <th>PLAYER</th>\n",
              "      <th>TEAM</th>\n",
              "      <th>LEAGUE</th>\n",
              "      <th>SEASON</th>\n",
              "      <th>REPLACED</th>\n",
              "    </tr>\n",
              "  </thead>\n",
              "  <tbody>\n",
              "    <tr>\n",
              "      <th>0</th>\n",
              "      <td>Bam Adebayo</td>\n",
              "      <td>East</td>\n",
              "      <td>NBA</td>\n",
              "      <td>2024</td>\n",
              "      <td>False</td>\n",
              "    </tr>\n",
              "    <tr>\n",
              "      <th>1</th>\n",
              "      <td>Giannis Antetokounmpo</td>\n",
              "      <td>East</td>\n",
              "      <td>NBA</td>\n",
              "      <td>2024</td>\n",
              "      <td>False</td>\n",
              "    </tr>\n",
              "    <tr>\n",
              "      <th>2</th>\n",
              "      <td>Paolo Banchero</td>\n",
              "      <td>East</td>\n",
              "      <td>NBA</td>\n",
              "      <td>2024</td>\n",
              "      <td>False</td>\n",
              "    </tr>\n",
              "    <tr>\n",
              "      <th>3</th>\n",
              "      <td>Scottie Barnes</td>\n",
              "      <td>East</td>\n",
              "      <td>NBA</td>\n",
              "      <td>2024</td>\n",
              "      <td>False</td>\n",
              "    </tr>\n",
              "    <tr>\n",
              "      <th>4</th>\n",
              "      <td>Jaylen Brown</td>\n",
              "      <td>East</td>\n",
              "      <td>NBA</td>\n",
              "      <td>2024</td>\n",
              "      <td>False</td>\n",
              "    </tr>\n",
              "  </tbody>\n",
              "</table>\n",
              "</div>\n",
              "    <div class=\"colab-df-buttons\">\n",
              "\n",
              "  <div class=\"colab-df-container\">\n",
              "    <button class=\"colab-df-convert\" onclick=\"convertToInteractive('df-cc338f65-1dd2-4187-8ac9-758f9853ec4e')\"\n",
              "            title=\"Convert this dataframe to an interactive table.\"\n",
              "            style=\"display:none;\">\n",
              "\n",
              "  <svg xmlns=\"http://www.w3.org/2000/svg\" height=\"24px\" viewBox=\"0 -960 960 960\">\n",
              "    <path d=\"M120-120v-720h720v720H120Zm60-500h600v-160H180v160Zm220 220h160v-160H400v160Zm0 220h160v-160H400v160ZM180-400h160v-160H180v160Zm440 0h160v-160H620v160ZM180-180h160v-160H180v160Zm440 0h160v-160H620v160Z\"/>\n",
              "  </svg>\n",
              "    </button>\n",
              "\n",
              "  <style>\n",
              "    .colab-df-container {\n",
              "      display:flex;\n",
              "      gap: 12px;\n",
              "    }\n",
              "\n",
              "    .colab-df-convert {\n",
              "      background-color: #E8F0FE;\n",
              "      border: none;\n",
              "      border-radius: 50%;\n",
              "      cursor: pointer;\n",
              "      display: none;\n",
              "      fill: #1967D2;\n",
              "      height: 32px;\n",
              "      padding: 0 0 0 0;\n",
              "      width: 32px;\n",
              "    }\n",
              "\n",
              "    .colab-df-convert:hover {\n",
              "      background-color: #E2EBFA;\n",
              "      box-shadow: 0px 1px 2px rgba(60, 64, 67, 0.3), 0px 1px 3px 1px rgba(60, 64, 67, 0.15);\n",
              "      fill: #174EA6;\n",
              "    }\n",
              "\n",
              "    .colab-df-buttons div {\n",
              "      margin-bottom: 4px;\n",
              "    }\n",
              "\n",
              "    [theme=dark] .colab-df-convert {\n",
              "      background-color: #3B4455;\n",
              "      fill: #D2E3FC;\n",
              "    }\n",
              "\n",
              "    [theme=dark] .colab-df-convert:hover {\n",
              "      background-color: #434B5C;\n",
              "      box-shadow: 0px 1px 3px 1px rgba(0, 0, 0, 0.15);\n",
              "      filter: drop-shadow(0px 1px 2px rgba(0, 0, 0, 0.3));\n",
              "      fill: #FFFFFF;\n",
              "    }\n",
              "  </style>\n",
              "\n",
              "    <script>\n",
              "      const buttonEl =\n",
              "        document.querySelector('#df-cc338f65-1dd2-4187-8ac9-758f9853ec4e button.colab-df-convert');\n",
              "      buttonEl.style.display =\n",
              "        google.colab.kernel.accessAllowed ? 'block' : 'none';\n",
              "\n",
              "      async function convertToInteractive(key) {\n",
              "        const element = document.querySelector('#df-cc338f65-1dd2-4187-8ac9-758f9853ec4e');\n",
              "        const dataTable =\n",
              "          await google.colab.kernel.invokeFunction('convertToInteractive',\n",
              "                                                    [key], {});\n",
              "        if (!dataTable) return;\n",
              "\n",
              "        const docLinkHtml = 'Like what you see? Visit the ' +\n",
              "          '<a target=\"_blank\" href=https://colab.research.google.com/notebooks/data_table.ipynb>data table notebook</a>'\n",
              "          + ' to learn more about interactive tables.';\n",
              "        element.innerHTML = '';\n",
              "        dataTable['output_type'] = 'display_data';\n",
              "        await google.colab.output.renderOutput(dataTable, element);\n",
              "        const docLink = document.createElement('div');\n",
              "        docLink.innerHTML = docLinkHtml;\n",
              "        element.appendChild(docLink);\n",
              "      }\n",
              "    </script>\n",
              "  </div>\n",
              "\n",
              "\n",
              "<div id=\"df-ca39aba4-a3d9-4b48-938b-ef39f1a4d31c\">\n",
              "  <button class=\"colab-df-quickchart\" onclick=\"quickchart('df-ca39aba4-a3d9-4b48-938b-ef39f1a4d31c')\"\n",
              "            title=\"Suggest charts\"\n",
              "            style=\"display:none;\">\n",
              "\n",
              "<svg xmlns=\"http://www.w3.org/2000/svg\" height=\"24px\"viewBox=\"0 0 24 24\"\n",
              "     width=\"24px\">\n",
              "    <g>\n",
              "        <path d=\"M19 3H5c-1.1 0-2 .9-2 2v14c0 1.1.9 2 2 2h14c1.1 0 2-.9 2-2V5c0-1.1-.9-2-2-2zM9 17H7v-7h2v7zm4 0h-2V7h2v10zm4 0h-2v-4h2v4z\"/>\n",
              "    </g>\n",
              "</svg>\n",
              "  </button>\n",
              "\n",
              "<style>\n",
              "  .colab-df-quickchart {\n",
              "      --bg-color: #E8F0FE;\n",
              "      --fill-color: #1967D2;\n",
              "      --hover-bg-color: #E2EBFA;\n",
              "      --hover-fill-color: #174EA6;\n",
              "      --disabled-fill-color: #AAA;\n",
              "      --disabled-bg-color: #DDD;\n",
              "  }\n",
              "\n",
              "  [theme=dark] .colab-df-quickchart {\n",
              "      --bg-color: #3B4455;\n",
              "      --fill-color: #D2E3FC;\n",
              "      --hover-bg-color: #434B5C;\n",
              "      --hover-fill-color: #FFFFFF;\n",
              "      --disabled-bg-color: #3B4455;\n",
              "      --disabled-fill-color: #666;\n",
              "  }\n",
              "\n",
              "  .colab-df-quickchart {\n",
              "    background-color: var(--bg-color);\n",
              "    border: none;\n",
              "    border-radius: 50%;\n",
              "    cursor: pointer;\n",
              "    display: none;\n",
              "    fill: var(--fill-color);\n",
              "    height: 32px;\n",
              "    padding: 0;\n",
              "    width: 32px;\n",
              "  }\n",
              "\n",
              "  .colab-df-quickchart:hover {\n",
              "    background-color: var(--hover-bg-color);\n",
              "    box-shadow: 0 1px 2px rgba(60, 64, 67, 0.3), 0 1px 3px 1px rgba(60, 64, 67, 0.15);\n",
              "    fill: var(--button-hover-fill-color);\n",
              "  }\n",
              "\n",
              "  .colab-df-quickchart-complete:disabled,\n",
              "  .colab-df-quickchart-complete:disabled:hover {\n",
              "    background-color: var(--disabled-bg-color);\n",
              "    fill: var(--disabled-fill-color);\n",
              "    box-shadow: none;\n",
              "  }\n",
              "\n",
              "  .colab-df-spinner {\n",
              "    border: 2px solid var(--fill-color);\n",
              "    border-color: transparent;\n",
              "    border-bottom-color: var(--fill-color);\n",
              "    animation:\n",
              "      spin 1s steps(1) infinite;\n",
              "  }\n",
              "\n",
              "  @keyframes spin {\n",
              "    0% {\n",
              "      border-color: transparent;\n",
              "      border-bottom-color: var(--fill-color);\n",
              "      border-left-color: var(--fill-color);\n",
              "    }\n",
              "    20% {\n",
              "      border-color: transparent;\n",
              "      border-left-color: var(--fill-color);\n",
              "      border-top-color: var(--fill-color);\n",
              "    }\n",
              "    30% {\n",
              "      border-color: transparent;\n",
              "      border-left-color: var(--fill-color);\n",
              "      border-top-color: var(--fill-color);\n",
              "      border-right-color: var(--fill-color);\n",
              "    }\n",
              "    40% {\n",
              "      border-color: transparent;\n",
              "      border-right-color: var(--fill-color);\n",
              "      border-top-color: var(--fill-color);\n",
              "    }\n",
              "    60% {\n",
              "      border-color: transparent;\n",
              "      border-right-color: var(--fill-color);\n",
              "    }\n",
              "    80% {\n",
              "      border-color: transparent;\n",
              "      border-right-color: var(--fill-color);\n",
              "      border-bottom-color: var(--fill-color);\n",
              "    }\n",
              "    90% {\n",
              "      border-color: transparent;\n",
              "      border-bottom-color: var(--fill-color);\n",
              "    }\n",
              "  }\n",
              "</style>\n",
              "\n",
              "  <script>\n",
              "    async function quickchart(key) {\n",
              "      const quickchartButtonEl =\n",
              "        document.querySelector('#' + key + ' button');\n",
              "      quickchartButtonEl.disabled = true;  // To prevent multiple clicks.\n",
              "      quickchartButtonEl.classList.add('colab-df-spinner');\n",
              "      try {\n",
              "        const charts = await google.colab.kernel.invokeFunction(\n",
              "            'suggestCharts', [key], {});\n",
              "      } catch (error) {\n",
              "        console.error('Error during call to suggestCharts:', error);\n",
              "      }\n",
              "      quickchartButtonEl.classList.remove('colab-df-spinner');\n",
              "      quickchartButtonEl.classList.add('colab-df-quickchart-complete');\n",
              "    }\n",
              "    (() => {\n",
              "      let quickchartButtonEl =\n",
              "        document.querySelector('#df-ca39aba4-a3d9-4b48-938b-ef39f1a4d31c button');\n",
              "      quickchartButtonEl.style.display =\n",
              "        google.colab.kernel.accessAllowed ? 'block' : 'none';\n",
              "    })();\n",
              "  </script>\n",
              "</div>\n",
              "    </div>\n",
              "  </div>\n"
            ],
            "application/vnd.google.colaboratory.intrinsic+json": {
              "type": "dataframe",
              "variable_name": "all_star",
              "summary": "{\n  \"name\": \"all_star\",\n  \"rows\": 2000,\n  \"fields\": [\n    {\n      \"column\": \"PLAYER\",\n      \"properties\": {\n        \"dtype\": \"category\",\n        \"num_unique_values\": 524,\n        \"samples\": [\n          \"Brian Winters\",\n          \"Larry Bunce\",\n          \"Joel Embiid\"\n        ],\n        \"semantic_type\": \"\",\n        \"description\": \"\"\n      }\n    },\n    {\n      \"column\": \"TEAM\",\n      \"properties\": {\n        \"dtype\": \"category\",\n        \"num_unique_values\": 10,\n        \"samples\": [\n          \"All Stars\",\n          \"West\",\n          \"Team LeBron\"\n        ],\n        \"semantic_type\": \"\",\n        \"description\": \"\"\n      }\n    },\n    {\n      \"column\": \"LEAGUE\",\n      \"properties\": {\n        \"dtype\": \"category\",\n        \"num_unique_values\": 2,\n        \"samples\": [\n          \"ABA\",\n          \"NBA\"\n        ],\n        \"semantic_type\": \"\",\n        \"description\": \"\"\n      }\n    },\n    {\n      \"column\": \"SEASON\",\n      \"properties\": {\n        \"dtype\": \"number\",\n        \"std\": 20,\n        \"min\": 1951,\n        \"max\": 2024,\n        \"num_unique_values\": 73,\n        \"samples\": [\n          2020,\n          1960\n        ],\n        \"semantic_type\": \"\",\n        \"description\": \"\"\n      }\n    },\n    {\n      \"column\": \"REPLACED\",\n      \"properties\": {\n        \"dtype\": \"boolean\",\n        \"num_unique_values\": 2,\n        \"samples\": [\n          true,\n          false\n        ],\n        \"semantic_type\": \"\",\n        \"description\": \"\"\n      }\n    }\n  ]\n}"
            }
          },
          "metadata": {},
          "execution_count": 274
        }
      ]
    },
    {
      "cell_type": "code",
      "source": [
        "all_star.tail()"
      ],
      "metadata": {
        "id": "DIUe6_3Es_bV",
        "colab": {
          "base_uri": "https://localhost:8080/",
          "height": 206
        },
        "outputId": "f41672b6-d5de-4658-8afb-b3b64aec7ca6"
      },
      "execution_count": null,
      "outputs": [
        {
          "output_type": "execute_result",
          "data": {
            "text/plain": [
              "              PLAYER  TEAM LEAGUE  SEASON  REPLACED\n",
              "1995      Alex Groza  West    NBA    1951     False\n",
              "1996    George Mikan  West    NBA    1951     False\n",
              "1997  Vern Mikkelsen  West    NBA    1951     False\n",
              "1998     Jim Pollard  West    NBA    1951     False\n",
              "1999     Fred Schaus  West    NBA    1951     False"
            ],
            "text/html": [
              "\n",
              "  <div id=\"df-76c7ade2-50b3-450c-9a58-05546ca092f7\" class=\"colab-df-container\">\n",
              "    <div>\n",
              "<style scoped>\n",
              "    .dataframe tbody tr th:only-of-type {\n",
              "        vertical-align: middle;\n",
              "    }\n",
              "\n",
              "    .dataframe tbody tr th {\n",
              "        vertical-align: top;\n",
              "    }\n",
              "\n",
              "    .dataframe thead th {\n",
              "        text-align: right;\n",
              "    }\n",
              "</style>\n",
              "<table border=\"1\" class=\"dataframe\">\n",
              "  <thead>\n",
              "    <tr style=\"text-align: right;\">\n",
              "      <th></th>\n",
              "      <th>PLAYER</th>\n",
              "      <th>TEAM</th>\n",
              "      <th>LEAGUE</th>\n",
              "      <th>SEASON</th>\n",
              "      <th>REPLACED</th>\n",
              "    </tr>\n",
              "  </thead>\n",
              "  <tbody>\n",
              "    <tr>\n",
              "      <th>1995</th>\n",
              "      <td>Alex Groza</td>\n",
              "      <td>West</td>\n",
              "      <td>NBA</td>\n",
              "      <td>1951</td>\n",
              "      <td>False</td>\n",
              "    </tr>\n",
              "    <tr>\n",
              "      <th>1996</th>\n",
              "      <td>George Mikan</td>\n",
              "      <td>West</td>\n",
              "      <td>NBA</td>\n",
              "      <td>1951</td>\n",
              "      <td>False</td>\n",
              "    </tr>\n",
              "    <tr>\n",
              "      <th>1997</th>\n",
              "      <td>Vern Mikkelsen</td>\n",
              "      <td>West</td>\n",
              "      <td>NBA</td>\n",
              "      <td>1951</td>\n",
              "      <td>False</td>\n",
              "    </tr>\n",
              "    <tr>\n",
              "      <th>1998</th>\n",
              "      <td>Jim Pollard</td>\n",
              "      <td>West</td>\n",
              "      <td>NBA</td>\n",
              "      <td>1951</td>\n",
              "      <td>False</td>\n",
              "    </tr>\n",
              "    <tr>\n",
              "      <th>1999</th>\n",
              "      <td>Fred Schaus</td>\n",
              "      <td>West</td>\n",
              "      <td>NBA</td>\n",
              "      <td>1951</td>\n",
              "      <td>False</td>\n",
              "    </tr>\n",
              "  </tbody>\n",
              "</table>\n",
              "</div>\n",
              "    <div class=\"colab-df-buttons\">\n",
              "\n",
              "  <div class=\"colab-df-container\">\n",
              "    <button class=\"colab-df-convert\" onclick=\"convertToInteractive('df-76c7ade2-50b3-450c-9a58-05546ca092f7')\"\n",
              "            title=\"Convert this dataframe to an interactive table.\"\n",
              "            style=\"display:none;\">\n",
              "\n",
              "  <svg xmlns=\"http://www.w3.org/2000/svg\" height=\"24px\" viewBox=\"0 -960 960 960\">\n",
              "    <path d=\"M120-120v-720h720v720H120Zm60-500h600v-160H180v160Zm220 220h160v-160H400v160Zm0 220h160v-160H400v160ZM180-400h160v-160H180v160Zm440 0h160v-160H620v160ZM180-180h160v-160H180v160Zm440 0h160v-160H620v160Z\"/>\n",
              "  </svg>\n",
              "    </button>\n",
              "\n",
              "  <style>\n",
              "    .colab-df-container {\n",
              "      display:flex;\n",
              "      gap: 12px;\n",
              "    }\n",
              "\n",
              "    .colab-df-convert {\n",
              "      background-color: #E8F0FE;\n",
              "      border: none;\n",
              "      border-radius: 50%;\n",
              "      cursor: pointer;\n",
              "      display: none;\n",
              "      fill: #1967D2;\n",
              "      height: 32px;\n",
              "      padding: 0 0 0 0;\n",
              "      width: 32px;\n",
              "    }\n",
              "\n",
              "    .colab-df-convert:hover {\n",
              "      background-color: #E2EBFA;\n",
              "      box-shadow: 0px 1px 2px rgba(60, 64, 67, 0.3), 0px 1px 3px 1px rgba(60, 64, 67, 0.15);\n",
              "      fill: #174EA6;\n",
              "    }\n",
              "\n",
              "    .colab-df-buttons div {\n",
              "      margin-bottom: 4px;\n",
              "    }\n",
              "\n",
              "    [theme=dark] .colab-df-convert {\n",
              "      background-color: #3B4455;\n",
              "      fill: #D2E3FC;\n",
              "    }\n",
              "\n",
              "    [theme=dark] .colab-df-convert:hover {\n",
              "      background-color: #434B5C;\n",
              "      box-shadow: 0px 1px 3px 1px rgba(0, 0, 0, 0.15);\n",
              "      filter: drop-shadow(0px 1px 2px rgba(0, 0, 0, 0.3));\n",
              "      fill: #FFFFFF;\n",
              "    }\n",
              "  </style>\n",
              "\n",
              "    <script>\n",
              "      const buttonEl =\n",
              "        document.querySelector('#df-76c7ade2-50b3-450c-9a58-05546ca092f7 button.colab-df-convert');\n",
              "      buttonEl.style.display =\n",
              "        google.colab.kernel.accessAllowed ? 'block' : 'none';\n",
              "\n",
              "      async function convertToInteractive(key) {\n",
              "        const element = document.querySelector('#df-76c7ade2-50b3-450c-9a58-05546ca092f7');\n",
              "        const dataTable =\n",
              "          await google.colab.kernel.invokeFunction('convertToInteractive',\n",
              "                                                    [key], {});\n",
              "        if (!dataTable) return;\n",
              "\n",
              "        const docLinkHtml = 'Like what you see? Visit the ' +\n",
              "          '<a target=\"_blank\" href=https://colab.research.google.com/notebooks/data_table.ipynb>data table notebook</a>'\n",
              "          + ' to learn more about interactive tables.';\n",
              "        element.innerHTML = '';\n",
              "        dataTable['output_type'] = 'display_data';\n",
              "        await google.colab.output.renderOutput(dataTable, element);\n",
              "        const docLink = document.createElement('div');\n",
              "        docLink.innerHTML = docLinkHtml;\n",
              "        element.appendChild(docLink);\n",
              "      }\n",
              "    </script>\n",
              "  </div>\n",
              "\n",
              "\n",
              "<div id=\"df-b19f9a5d-0c7d-45f4-8d43-772a3ed42912\">\n",
              "  <button class=\"colab-df-quickchart\" onclick=\"quickchart('df-b19f9a5d-0c7d-45f4-8d43-772a3ed42912')\"\n",
              "            title=\"Suggest charts\"\n",
              "            style=\"display:none;\">\n",
              "\n",
              "<svg xmlns=\"http://www.w3.org/2000/svg\" height=\"24px\"viewBox=\"0 0 24 24\"\n",
              "     width=\"24px\">\n",
              "    <g>\n",
              "        <path d=\"M19 3H5c-1.1 0-2 .9-2 2v14c0 1.1.9 2 2 2h14c1.1 0 2-.9 2-2V5c0-1.1-.9-2-2-2zM9 17H7v-7h2v7zm4 0h-2V7h2v10zm4 0h-2v-4h2v4z\"/>\n",
              "    </g>\n",
              "</svg>\n",
              "  </button>\n",
              "\n",
              "<style>\n",
              "  .colab-df-quickchart {\n",
              "      --bg-color: #E8F0FE;\n",
              "      --fill-color: #1967D2;\n",
              "      --hover-bg-color: #E2EBFA;\n",
              "      --hover-fill-color: #174EA6;\n",
              "      --disabled-fill-color: #AAA;\n",
              "      --disabled-bg-color: #DDD;\n",
              "  }\n",
              "\n",
              "  [theme=dark] .colab-df-quickchart {\n",
              "      --bg-color: #3B4455;\n",
              "      --fill-color: #D2E3FC;\n",
              "      --hover-bg-color: #434B5C;\n",
              "      --hover-fill-color: #FFFFFF;\n",
              "      --disabled-bg-color: #3B4455;\n",
              "      --disabled-fill-color: #666;\n",
              "  }\n",
              "\n",
              "  .colab-df-quickchart {\n",
              "    background-color: var(--bg-color);\n",
              "    border: none;\n",
              "    border-radius: 50%;\n",
              "    cursor: pointer;\n",
              "    display: none;\n",
              "    fill: var(--fill-color);\n",
              "    height: 32px;\n",
              "    padding: 0;\n",
              "    width: 32px;\n",
              "  }\n",
              "\n",
              "  .colab-df-quickchart:hover {\n",
              "    background-color: var(--hover-bg-color);\n",
              "    box-shadow: 0 1px 2px rgba(60, 64, 67, 0.3), 0 1px 3px 1px rgba(60, 64, 67, 0.15);\n",
              "    fill: var(--button-hover-fill-color);\n",
              "  }\n",
              "\n",
              "  .colab-df-quickchart-complete:disabled,\n",
              "  .colab-df-quickchart-complete:disabled:hover {\n",
              "    background-color: var(--disabled-bg-color);\n",
              "    fill: var(--disabled-fill-color);\n",
              "    box-shadow: none;\n",
              "  }\n",
              "\n",
              "  .colab-df-spinner {\n",
              "    border: 2px solid var(--fill-color);\n",
              "    border-color: transparent;\n",
              "    border-bottom-color: var(--fill-color);\n",
              "    animation:\n",
              "      spin 1s steps(1) infinite;\n",
              "  }\n",
              "\n",
              "  @keyframes spin {\n",
              "    0% {\n",
              "      border-color: transparent;\n",
              "      border-bottom-color: var(--fill-color);\n",
              "      border-left-color: var(--fill-color);\n",
              "    }\n",
              "    20% {\n",
              "      border-color: transparent;\n",
              "      border-left-color: var(--fill-color);\n",
              "      border-top-color: var(--fill-color);\n",
              "    }\n",
              "    30% {\n",
              "      border-color: transparent;\n",
              "      border-left-color: var(--fill-color);\n",
              "      border-top-color: var(--fill-color);\n",
              "      border-right-color: var(--fill-color);\n",
              "    }\n",
              "    40% {\n",
              "      border-color: transparent;\n",
              "      border-right-color: var(--fill-color);\n",
              "      border-top-color: var(--fill-color);\n",
              "    }\n",
              "    60% {\n",
              "      border-color: transparent;\n",
              "      border-right-color: var(--fill-color);\n",
              "    }\n",
              "    80% {\n",
              "      border-color: transparent;\n",
              "      border-right-color: var(--fill-color);\n",
              "      border-bottom-color: var(--fill-color);\n",
              "    }\n",
              "    90% {\n",
              "      border-color: transparent;\n",
              "      border-bottom-color: var(--fill-color);\n",
              "    }\n",
              "  }\n",
              "</style>\n",
              "\n",
              "  <script>\n",
              "    async function quickchart(key) {\n",
              "      const quickchartButtonEl =\n",
              "        document.querySelector('#' + key + ' button');\n",
              "      quickchartButtonEl.disabled = true;  // To prevent multiple clicks.\n",
              "      quickchartButtonEl.classList.add('colab-df-spinner');\n",
              "      try {\n",
              "        const charts = await google.colab.kernel.invokeFunction(\n",
              "            'suggestCharts', [key], {});\n",
              "      } catch (error) {\n",
              "        console.error('Error during call to suggestCharts:', error);\n",
              "      }\n",
              "      quickchartButtonEl.classList.remove('colab-df-spinner');\n",
              "      quickchartButtonEl.classList.add('colab-df-quickchart-complete');\n",
              "    }\n",
              "    (() => {\n",
              "      let quickchartButtonEl =\n",
              "        document.querySelector('#df-b19f9a5d-0c7d-45f4-8d43-772a3ed42912 button');\n",
              "      quickchartButtonEl.style.display =\n",
              "        google.colab.kernel.accessAllowed ? 'block' : 'none';\n",
              "    })();\n",
              "  </script>\n",
              "</div>\n",
              "    </div>\n",
              "  </div>\n"
            ],
            "application/vnd.google.colaboratory.intrinsic+json": {
              "type": "dataframe",
              "summary": "{\n  \"name\": \"all_star\",\n  \"rows\": 5,\n  \"fields\": [\n    {\n      \"column\": \"PLAYER\",\n      \"properties\": {\n        \"dtype\": \"string\",\n        \"num_unique_values\": 5,\n        \"samples\": [\n          \"George Mikan\",\n          \"Fred Schaus\",\n          \"Vern Mikkelsen\"\n        ],\n        \"semantic_type\": \"\",\n        \"description\": \"\"\n      }\n    },\n    {\n      \"column\": \"TEAM\",\n      \"properties\": {\n        \"dtype\": \"category\",\n        \"num_unique_values\": 1,\n        \"samples\": [\n          \"West\"\n        ],\n        \"semantic_type\": \"\",\n        \"description\": \"\"\n      }\n    },\n    {\n      \"column\": \"LEAGUE\",\n      \"properties\": {\n        \"dtype\": \"category\",\n        \"num_unique_values\": 1,\n        \"samples\": [\n          \"NBA\"\n        ],\n        \"semantic_type\": \"\",\n        \"description\": \"\"\n      }\n    },\n    {\n      \"column\": \"SEASON\",\n      \"properties\": {\n        \"dtype\": \"number\",\n        \"std\": 0,\n        \"min\": 1951,\n        \"max\": 1951,\n        \"num_unique_values\": 1,\n        \"samples\": [\n          1951\n        ],\n        \"semantic_type\": \"\",\n        \"description\": \"\"\n      }\n    },\n    {\n      \"column\": \"REPLACED\",\n      \"properties\": {\n        \"dtype\": \"boolean\",\n        \"num_unique_values\": 1,\n        \"samples\": [\n          false\n        ],\n        \"semantic_type\": \"\",\n        \"description\": \"\"\n      }\n    }\n  ]\n}"
            }
          },
          "metadata": {},
          "execution_count": 275
        }
      ]
    },
    {
      "cell_type": "code",
      "source": [
        "all_star['TEAM'].value_counts()"
      ],
      "metadata": {
        "id": "CUq3TjN1tDkq",
        "colab": {
          "base_uri": "https://localhost:8080/"
        },
        "outputId": "2a4efb40-f44e-4acf-97d6-bb097edd976f"
      },
      "execution_count": null,
      "outputs": [
        {
          "output_type": "execute_result",
          "data": {
            "text/plain": [
              "TEAM\n",
              "East            909\n",
              "West            907\n",
              "Team LeBron      67\n",
              "Team Durant      29\n",
              "Team Giannis     26\n",
              "LeBron           14\n",
              "Giannis          13\n",
              "Team Stephen     12\n",
              "All Stars        12\n",
              "Denver           11\n",
              "Name: count, dtype: int64"
            ]
          },
          "metadata": {},
          "execution_count": 276
        }
      ]
    },
    {
      "cell_type": "code",
      "source": [
        "all_star = all_star[all_star['TEAM'] != 'Denver']\n"
      ],
      "metadata": {
        "id": "jh3Sg6TLtj9U"
      },
      "execution_count": null,
      "outputs": []
    },
    {
      "cell_type": "code",
      "source": [
        "all_star['TEAM'].value_counts()"
      ],
      "metadata": {
        "id": "LgpeVtLQuMCo",
        "colab": {
          "base_uri": "https://localhost:8080/"
        },
        "outputId": "d785f3bb-7cd6-4555-ea48-79ec4cb1a66e"
      },
      "execution_count": null,
      "outputs": [
        {
          "output_type": "execute_result",
          "data": {
            "text/plain": [
              "TEAM\n",
              "East            909\n",
              "West            907\n",
              "Team LeBron      67\n",
              "Team Durant      29\n",
              "Team Giannis     26\n",
              "LeBron           14\n",
              "Giannis          13\n",
              "Team Stephen     12\n",
              "All Stars        12\n",
              "Name: count, dtype: int64"
            ]
          },
          "metadata": {},
          "execution_count": 278
        }
      ]
    },
    {
      "cell_type": "code",
      "source": [
        "all_star['PLAYER'].value_counts()"
      ],
      "metadata": {
        "id": "Bb1myw6QvJa-",
        "colab": {
          "base_uri": "https://localhost:8080/"
        },
        "outputId": "7752b012-e8f5-4425-fa89-f10c636ea5e9"
      },
      "execution_count": null,
      "outputs": [
        {
          "output_type": "execute_result",
          "data": {
            "text/plain": [
              "PLAYER\n",
              "LeBron James           20\n",
              "Kareem Abdul-Jabbar    19\n",
              "Kobe Bryant            18\n",
              "Julius Erving          16\n",
              "Tim Duncan             15\n",
              "                       ..\n",
              "Michael Redd            1\n",
              "Kenyon Martin           1\n",
              "Jamaal Magloire         1\n",
              "Metta World Peace       1\n",
              "Fred Schaus             1\n",
              "Name: count, Length: 520, dtype: int64"
            ]
          },
          "metadata": {},
          "execution_count": 279
        }
      ]
    },
    {
      "cell_type": "markdown",
      "source": [
        "The bar plot is a visual representation of the player counts, allowing us to easily compare and contrast their performances. It’s like a hall of fame, honoring the players who have made it to the All-Star game the most times. This could lead to further questions and investigations, such as looking into why those players are frequently selected (e.g., outstanding performance, popularity, etc.)."
      ],
      "metadata": {
        "id": "sgdXKBDjvEe8"
      }
    },
    {
      "cell_type": "code",
      "source": [
        "team_counts = all_star['PLAYER'].value_counts().sort_values(ascending=False).head(50)\n",
        "\n",
        "plt.figure(figsize=(10, 5))\n",
        "#plt.pie(team_counts, labels=team_counts.index, autopct='%1.1f%%')\n",
        "plt.bar(team_counts.index, team_counts.values, color='b')\n",
        "plt.xlabel('Player Name')\n",
        "plt.ylabel('Number of Occurrences')\n",
        "plt.title('All-Star Appearances')\n",
        "plt.xticks(rotation='vertical')\n",
        "\n",
        "plt.show()"
      ],
      "metadata": {
        "id": "-xiiN63RvfAY",
        "colab": {
          "base_uri": "https://localhost:8080/",
          "height": 621
        },
        "outputId": "ae7f3058-5d0f-4776-e0f5-bfdc52071d75"
      },
      "execution_count": null,
      "outputs": [
        {
          "output_type": "display_data",
          "data": {
            "text/plain": [
              "<Figure size 1000x500 with 1 Axes>"
            ],
            "image/png": "[encoded data removed]"
          },
          "metadata": {}
        }
      ]
    },
    {
      "cell_type": "markdown",
      "source": [
        "We'll now deal with teh Teams dataframes"
      ],
      "metadata": {
        "id": "NPbKouPyvv1V"
      }
    },
    {
      "cell_type": "code",
      "source": [
        "\n",
        "\n",
        "\n",
        "\n",
        "\n",
        "\n",
        "\n",
        "\n",
        "\n",
        "\n",
        "\n",
        "\n",
        "\n",
        "\n",
        "\n",
        "\n",
        "\n",
        "\n",
        "\n",
        "\n",
        "\n",
        "\n",
        "#Importing all dataframes for the teams that will be needed to create a unified team dataframe\n",
        "teams_df = pd.read_csv(\"drive/MyDrive/FINAL PROJECT CSVs/teams.csv\") #ONLY HAS BASIC INFO\n",
        "team_totals_df = pd.read_csv(\"drive/MyDrive/FINAL PROJECT CSVs/Team Totals.csv\")\n",
        "team_sum_df = pd.read_csv(\"drive/MyDrive/FINAL PROJECT CSVs/Team Summaries.csv\")\n",
        "team_statPG_df = pd.read_csv(\"drive/MyDrive/FINAL PROJECT CSVs/Team Stats Per Game.csv\")"
      ],
      "metadata": {
        "id": "M7Osuq1qVzRU",
        "colab": {
          "base_uri": "https://localhost:8080/",
          "height": 356
        },
        "outputId": "0269928a-f846-4c62-c53c-526d74b32176"
      },
      "execution_count": null,
      "outputs": [
        {
          "output_type": "error",
          "ename": "FileNotFoundError",
          "evalue": "[Errno 2] No such file or directory: 'drive/MyDrive/FINAL PROJECT CSVs/teams.csv'",
          "traceback": [
            "\u001b[0;31m---------------------------------------------------------------------------\u001b[0m",
            "\u001b[0;31mFileNotFoundError\u001b[0m                         Traceback (most recent call last)",
            "\u001b[0;32m<ipython-input-281-edf97ad168da>\u001b[0m in \u001b[0;36m<cell line: 2>\u001b[0;34m()\u001b[0m\n\u001b[1;32m      1\u001b[0m \u001b[0;31m#Importing all dataframes for the teams that will be needed to create a unified team dataframe\u001b[0m\u001b[0;34m\u001b[0m\u001b[0;34m\u001b[0m\u001b[0m\n\u001b[0;32m----> 2\u001b[0;31m \u001b[0mteams_df\u001b[0m \u001b[0;34m=\u001b[0m \u001b[0mpd\u001b[0m\u001b[0;34m.\u001b[0m\u001b[0mread_csv\u001b[0m\u001b[0;34m(\u001b[0m\u001b[0;34m\"drive/MyDrive/FINAL PROJECT CSVs/teams.csv\"\u001b[0m\u001b[0;34m)\u001b[0m \u001b[0;31m#ONLY HAS BASIC INFO\u001b[0m\u001b[0;34m\u001b[0m\u001b[0;34m\u001b[0m\u001b[0m\n\u001b[0m\u001b[1;32m      3\u001b[0m \u001b[0mteam_totals_df\u001b[0m \u001b[0;34m=\u001b[0m \u001b[0mpd\u001b[0m\u001b[0;34m.\u001b[0m\u001b[0mread_csv\u001b[0m\u001b[0;34m(\u001b[0m\u001b[0;34m\"drive/MyDrive/FINAL PROJECT CSVs/Team Totals.csv\"\u001b[0m\u001b[0;34m)\u001b[0m\u001b[0;34m\u001b[0m\u001b[0;34m\u001b[0m\u001b[0m\n\u001b[1;32m      4\u001b[0m \u001b[0mteam_sum_df\u001b[0m \u001b[0;34m=\u001b[0m \u001b[0mpd\u001b[0m\u001b[0;34m.\u001b[0m\u001b[0mread_csv\u001b[0m\u001b[0;34m(\u001b[0m\u001b[0;34m\"drive/MyDrive/FINAL PROJECT CSVs/Team Summaries.csv\"\u001b[0m\u001b[0;34m)\u001b[0m\u001b[0;34m\u001b[0m\u001b[0;34m\u001b[0m\u001b[0m\n\u001b[1;32m      5\u001b[0m \u001b[0mteam_statPG_df\u001b[0m \u001b[0;34m=\u001b[0m \u001b[0mpd\u001b[0m\u001b[0;34m.\u001b[0m\u001b[0mread_csv\u001b[0m\u001b[0;34m(\u001b[0m\u001b[0;34m\"drive/MyDrive/FINAL PROJECT CSVs/Team Stats Per Game.csv\"\u001b[0m\u001b[0;34m)\u001b[0m\u001b[0;34m\u001b[0m\u001b[0;34m\u001b[0m\u001b[0m\n",
            "\u001b[0;32m/usr/local/lib/python3.10/dist-packages/pandas/io/parsers/readers.py\u001b[0m in \u001b[0;36mread_csv\u001b[0;34m(filepath_or_buffer, sep, delimiter, header, names, index_col, usecols, dtype, engine, converters, true_values, false_values, skipinitialspace, skiprows, skipfooter, nrows, na_values, keep_default_na, na_filter, verbose, skip_blank_lines, parse_dates, infer_datetime_format, keep_date_col, date_parser, date_format, dayfirst, cache_dates, iterator, chunksize, compression, thousands, decimal, lineterminator, quotechar, quoting, doublequote, escapechar, comment, encoding, encoding_errors, dialect, on_bad_lines, delim_whitespace, low_memory, memory_map, float_precision, storage_options, dtype_backend)\u001b[0m\n\u001b[1;32m    910\u001b[0m     \u001b[0mkwds\u001b[0m\u001b[0;34m.\u001b[0m\u001b[0mupdate\u001b[0m\u001b[0;34m(\u001b[0m\u001b[0mkwds_defaults\u001b[0m\u001b[0;34m)\u001b[0m\u001b[0;34m\u001b[0m\u001b[0;34m\u001b[0m\u001b[0m\n\u001b[1;32m    911\u001b[0m \u001b[0;34m\u001b[0m\u001b[0m\n\u001b[0;32m--> 912\u001b[0;31m     \u001b[0;32mreturn\u001b[0m \u001b[0m_read\u001b[0m\u001b[0;34m(\u001b[0m\u001b[0mfilepath_or_buffer\u001b[0m\u001b[0;34m,\u001b[0m \u001b[0mkwds\u001b[0m\u001b[0;34m)\u001b[0m\u001b[0;34m\u001b[0m\u001b[0;34m\u001b[0m\u001b[0m\n\u001b[0m\u001b[1;32m    913\u001b[0m \u001b[0;34m\u001b[0m\u001b[0m\n\u001b[1;32m    914\u001b[0m \u001b[0;34m\u001b[0m\u001b[0m\n",
            "\u001b[0;32m/usr/local/lib/python3.10/dist-packages/pandas/io/parsers/readers.py\u001b[0m in \u001b[0;36m_read\u001b[0;34m(filepath_or_buffer, kwds)\u001b[0m\n\u001b[1;32m    575\u001b[0m \u001b[0;34m\u001b[0m\u001b[0m\n\u001b[1;32m    576\u001b[0m     \u001b[0;31m# Create the parser.\u001b[0m\u001b[0;34m\u001b[0m\u001b[0;34m\u001b[0m\u001b[0m\n\u001b[0;32m--> 577\u001b[0;31m     \u001b[0mparser\u001b[0m \u001b[0;34m=\u001b[0m \u001b[0mTextFileReader\u001b[0m\u001b[0;34m(\u001b[0m\u001b[0mfilepath_or_buffer\u001b[0m\u001b[0;34m,\u001b[0m \u001b[0;34m**\u001b[0m\u001b[0mkwds\u001b[0m\u001b[0;34m)\u001b[0m\u001b[0;34m\u001b[0m\u001b[0;34m\u001b[0m\u001b[0m\n\u001b[0m\u001b[1;32m    578\u001b[0m \u001b[0;34m\u001b[0m\u001b[0m\n\u001b[1;32m    579\u001b[0m     \u001b[0;32mif\u001b[0m \u001b[0mchunksize\u001b[0m \u001b[0;32mor\u001b[0m \u001b[0miterator\u001b[0m\u001b[0;34m:\u001b[0m\u001b[0;34m\u001b[0m\u001b[0;34m\u001b[0m\u001b[0m\n",
            "\u001b[0;32m/usr/local/lib/python3.10/dist-packages/pandas/io/parsers/readers.py\u001b[0m in \u001b[0;36m__init__\u001b[0;34m(self, f, engine, **kwds)\u001b[0m\n\u001b[1;32m   1405\u001b[0m \u001b[0;34m\u001b[0m\u001b[0m\n\u001b[1;32m   1406\u001b[0m         \u001b[0mself\u001b[0m\u001b[0;34m.\u001b[0m\u001b[0mhandles\u001b[0m\u001b[0;34m:\u001b[0m \u001b[0mIOHandles\u001b[0m \u001b[0;34m|\u001b[0m \u001b[0;32mNone\u001b[0m \u001b[0;34m=\u001b[0m \u001b[0;32mNone\u001b[0m\u001b[0;34m\u001b[0m\u001b[0;34m\u001b[0m\u001b[0m\n\u001b[0;32m-> 1407\u001b[0;31m         \u001b[0mself\u001b[0m\u001b[0;34m.\u001b[0m\u001b[0m_engine\u001b[0m \u001b[0;34m=\u001b[0m \u001b[0mself\u001b[0m\u001b[0;34m.\u001b[0m\u001b[0m_make_engine\u001b[0m\u001b[0;34m(\u001b[0m\u001b[0mf\u001b[0m\u001b[0;34m,\u001b[0m \u001b[0mself\u001b[0m\u001b[0;34m.\u001b[0m\u001b[0mengine\u001b[0m\u001b[0;34m)\u001b[0m\u001b[0;34m\u001b[0m\u001b[0;34m\u001b[0m\u001b[0m\n\u001b[0m\u001b[1;32m   1408\u001b[0m \u001b[0;34m\u001b[0m\u001b[0m\n\u001b[1;32m   1409\u001b[0m     \u001b[0;32mdef\u001b[0m \u001b[0mclose\u001b[0m\u001b[0;34m(\u001b[0m\u001b[0mself\u001b[0m\u001b[0;34m)\u001b[0m \u001b[0;34m->\u001b[0m \u001b[0;32mNone\u001b[0m\u001b[0;34m:\u001b[0m\u001b[0;34m\u001b[0m\u001b[0;34m\u001b[0m\u001b[0m\n",
            "\u001b[0;32m/usr/local/lib/python3.10/dist-packages/pandas/io/parsers/readers.py\u001b[0m in \u001b[0;36m_make_engine\u001b[0;34m(self, f, engine)\u001b[0m\n\u001b[1;32m   1659\u001b[0m                 \u001b[0;32mif\u001b[0m \u001b[0;34m\"b\"\u001b[0m \u001b[0;32mnot\u001b[0m \u001b[0;32min\u001b[0m \u001b[0mmode\u001b[0m\u001b[0;34m:\u001b[0m\u001b[0;34m\u001b[0m\u001b[0;34m\u001b[0m\u001b[0m\n\u001b[1;32m   1660\u001b[0m                     \u001b[0mmode\u001b[0m \u001b[0;34m+=\u001b[0m \u001b[0;34m\"b\"\u001b[0m\u001b[0;34m\u001b[0m\u001b[0;34m\u001b[0m\u001b[0m\n\u001b[0;32m-> 1661\u001b[0;31m             self.handles = get_handle(\n\u001b[0m\u001b[1;32m   1662\u001b[0m                 \u001b[0mf\u001b[0m\u001b[0;34m,\u001b[0m\u001b[0;34m\u001b[0m\u001b[0;34m\u001b[0m\u001b[0m\n\u001b[1;32m   1663\u001b[0m                 \u001b[0mmode\u001b[0m\u001b[0;34m,\u001b[0m\u001b[0;34m\u001b[0m\u001b[0;34m\u001b[0m\u001b[0m\n",
            "\u001b[0;32m/usr/local/lib/python3.10/dist-packages/pandas/io/common.py\u001b[0m in \u001b[0;36mget_handle\u001b[0;34m(path_or_buf, mode, encoding, compression, memory_map, is_text, errors, storage_options)\u001b[0m\n\u001b[1;32m    857\u001b[0m         \u001b[0;32mif\u001b[0m \u001b[0mioargs\u001b[0m\u001b[0;34m.\u001b[0m\u001b[0mencoding\u001b[0m \u001b[0;32mand\u001b[0m \u001b[0;34m\"b\"\u001b[0m \u001b[0;32mnot\u001b[0m \u001b[0;32min\u001b[0m \u001b[0mioargs\u001b[0m\u001b[0;34m.\u001b[0m\u001b[0mmode\u001b[0m\u001b[0;34m:\u001b[0m\u001b[0;34m\u001b[0m\u001b[0;34m\u001b[0m\u001b[0m\n\u001b[1;32m    858\u001b[0m             \u001b[0;31m# Encoding\u001b[0m\u001b[0;34m\u001b[0m\u001b[0;34m\u001b[0m\u001b[0m\n\u001b[0;32m--> 859\u001b[0;31m             handle = open(\n\u001b[0m\u001b[1;32m    860\u001b[0m                 \u001b[0mhandle\u001b[0m\u001b[0;34m,\u001b[0m\u001b[0;34m\u001b[0m\u001b[0;34m\u001b[0m\u001b[0m\n\u001b[1;32m    861\u001b[0m                 \u001b[0mioargs\u001b[0m\u001b[0;34m.\u001b[0m\u001b[0mmode\u001b[0m\u001b[0;34m,\u001b[0m\u001b[0;34m\u001b[0m\u001b[0;34m\u001b[0m\u001b[0m\n",
            "\u001b[0;31mFileNotFoundError\u001b[0m: [Errno 2] No such file or directory: 'drive/MyDrive/FINAL PROJECT CSVs/teams.csv'"
          ]
        }
      ]
    },
    {
      "cell_type": "code",
      "source": [
        "print(team_sum_df.shape)"
      ],
      "metadata": {
        "id": "mhitTZr-1bq2"
      },
      "execution_count": null,
      "outputs": []
    },
    {
      "cell_type": "code",
      "source": [
        "print(team_sum_df.notnull().sum())"
      ],
      "metadata": {
        "id": "vP5qLaUA6IMD"
      },
      "execution_count": null,
      "outputs": []
    },
    {
      "cell_type": "code",
      "source": [
        "# Do a left merge on the dataframes on SEASON, LEAGUE, and TEAM columns\n",
        "# This is done to assert all dataframes have a corresponding win and loss column\n",
        "team_totals_df = pd.merge(team_totals_df, team_sum_df[['SEASON', 'LEAGUE', 'TEAM', 'W', 'L']], on=['SEASON', 'LEAGUE', 'TEAM'], how='left')\n",
        "\n",
        "# Display the merged dataframe\n",
        "print(team_totals_df.notnull().sum())"
      ],
      "metadata": {
        "id": "DWPRgEzshOyV"
      },
      "execution_count": null,
      "outputs": []
    },
    {
      "cell_type": "code",
      "source": [
        "# Do a left merge on the dataframes on SEASON, LEAGUE, and TEAM columns\n",
        "# This is done to assert all dataframes have a corresponding win and loss column\n",
        "team_statPG_df = pd.merge(team_statPG_df, team_sum_df[['SEASON', 'LEAGUE', 'TEAM', 'W', 'L']], on=['SEASON', 'LEAGUE', 'TEAM'], how='left')\n",
        "\n",
        "# Display the merged dataframe\n",
        "print(team_statPG_df.notnull().sum())"
      ],
      "metadata": {
        "id": "x9wyJZ50iiWU"
      },
      "execution_count": null,
      "outputs": []
    },
    {
      "cell_type": "markdown",
      "source": [
        "We'll now do a Heatmap to determine which variables are mostly related with the number of Wins versus Loss\n",
        "\n"
      ],
      "metadata": {
        "id": "MZiAdyAGv-gY"
      }
    },
    {
      "cell_type": "code",
      "source": [
        "# Calculate the correlation matrix\n",
        "correlation_matrix = team_sum_df.corr(numeric_only=True)\n",
        "\n",
        "# Plotting the heatmap to visualize the correlation matrix\n",
        "plt.figure(figsize=(12, 10))\n",
        "sns.heatmap(correlation_matrix, annot=True, cmap='coolwarm', fmt=\".2f\")\n",
        "plt.title('Correlation Heatmap')\n",
        "#plt.show()\n",
        "\n",
        "# Sorting correlations with respect to 'W' (Wins) and 'L' (Losses)\n",
        "correlation_with_wins = correlation_matrix['W'].sort_values(ascending=False)\n",
        "correlation_with_losses = correlation_matrix['L'].sort_values(ascending=False)\n",
        "\n",
        "print(\"Correlation with Wins:\")\n",
        "print(correlation_with_wins)\n",
        "\n",
        "print(\"\\nCorrelation with Losses:\")\n",
        "print(correlation_with_losses)"
      ],
      "metadata": {
        "id": "yJa1AFU-Bxgm"
      },
      "execution_count": null,
      "outputs": []
    },
    {
      "cell_type": "code",
      "source": [
        "team_sum_df.drop(columns=['FREE_THROWS_PER_FIELD_GOAL_ATTEMPT', 'OPPONENT_DEFENSIVE_REBOUND_PERCENTAGE',\n",
        "                          'OFFENSIVE_REBOUND_PERCENTAGE', 'FREE_THROW_Rate',\n",
        "                          'OPPONENT_FREE_THROW_PERCENTAGE', 'PACE',\n",
        "                          'ARENA', 'ATTEND', 'ATTEND_G',\n",
        "                          'THREE_POINTER_ATTEMPT_RATE'], inplace=True)\n",
        "\n",
        "print(team_sum_df.notnull().sum())\n"
      ],
      "metadata": {
        "id": "quGA3ilPBZ2J"
      },
      "execution_count": null,
      "outputs": []
    },
    {
      "cell_type": "code",
      "source": [
        "#Drop rows where columns have just a few missing value\n",
        "\n",
        "team_sum_df.dropna(subset=['W', 'L'], inplace=True)\n",
        "print(team_sum_df.notnull().sum())"
      ],
      "metadata": {
        "id": "N6DnFoWa7kSd"
      },
      "execution_count": null,
      "outputs": []
    },
    {
      "cell_type": "code",
      "source": [
        "#Impute values based on teams with the same name\n",
        "\n",
        "imputer = SimpleImputer(strategy='mean')\n",
        "# Define the columns to impute\n",
        "columns_to_impute = ['AGE', 'DEFENSIVE_RATING', 'OFFENSIVE_RATING', 'NET_RATING',\n",
        "                     'OPPONENT_EFFECTIVE_FIELD_GAL',\n",
        "                     'OPPONENT_FREE_THROW_PERCENTAGE.1',\n",
        "                     'TURNOVER_PERCENTAGE']\n",
        "\n",
        "# Initialize the imputer\n",
        "imputer = SimpleImputer(strategy='mean')\n",
        "\n",
        "# Iterate over each column to impute\n",
        "for column in columns_to_impute:\n",
        "    # Group by 'TEAM' and apply the imputer to each group\n",
        "    team_sum_df[column] = team_sum_df.groupby('TEAM')[column].transform(\n",
        "        lambda x: imputer.fit_transform(x.values.reshape(-1, 1)).ravel() if x.notnull().any() else x\n",
        "    )\n",
        "\n",
        "# Print the count of non-null values after imputation\n",
        "print(team_sum_df.notnull().sum())"
      ],
      "metadata": {
        "id": "IsAWIlnp79o7"
      },
      "execution_count": null,
      "outputs": []
    },
    {
      "cell_type": "code",
      "source": [
        "#Drop rows where teams did not have any data to help with imputation\n",
        "\n",
        "team_sum_df.dropna(subset=['AGE', 'TURNOVER_PERCENTAGE', 'OPPONENT_EFFECTIVE_FIELD_GAL',\n",
        "                           'OPPONENT_FREE_THROW_PERCENTAGE.1'], inplace=True)\n",
        "print(team_sum_df.notnull().sum())"
      ],
      "metadata": {
        "id": "fxLfqL4tzPZz"
      },
      "execution_count": null,
      "outputs": []
    },
    {
      "cell_type": "code",
      "source": [
        "print(team_totals_df.shape)\n"
      ],
      "metadata": {
        "id": "nIC4R8KowqzH"
      },
      "execution_count": null,
      "outputs": []
    },
    {
      "cell_type": "code",
      "source": [
        "print(team_totals_df.notnull().sum())"
      ],
      "metadata": {
        "id": "uqh818OcyE4y"
      },
      "execution_count": null,
      "outputs": []
    },
    {
      "cell_type": "code",
      "source": [
        "# Doing a Heatmap to determine which variables are mostly related with the number of Wins versus Loss, again\n",
        "\n",
        "# Calculate the correlation matrix\n",
        "correlation_matrix = team_totals_df.corr(numeric_only=True)\n",
        "\n",
        "# Plotting the heatmap to visualize the correlation matrix\n",
        "plt.figure(figsize=(12, 10))\n",
        "sns.heatmap(correlation_matrix, annot=True, cmap='coolwarm', fmt=\".2f\")\n",
        "plt.title('Correlation Heatmap')\n",
        "plt.show()\n",
        "\n",
        "# Sorting correlations with respect to 'W' (Wins) and 'L' (Losses)\n",
        "correlation_with_wins = correlation_matrix['W'].sort_values(ascending=False)\n",
        "correlation_with_losses = correlation_matrix['L'].sort_values(ascending=False)\n",
        "\n",
        "print(\"Correlation with Wins:\")\n",
        "print(correlation_with_wins)\n",
        "\n",
        "print(\"\\nCorrelation with Losses:\")\n",
        "print(correlation_with_losses)"
      ],
      "metadata": {
        "id": "jYwOzb02j5Hn"
      },
      "execution_count": null,
      "outputs": []
    },
    {
      "cell_type": "code",
      "source": [
        "#Drop Columns we might not use\n",
        "\n",
        "team_totals_df.drop(columns=['THREE_POINTERS_PERCENTAGE', 'TWO_POINTERS_ATTEMPTED',\n",
        "                             'OFFENSIVE_REBOUND', 'PERSONAL FOULS', 'THREE_POINTERS_MADE',\n",
        "                             'THREE_POINTERS_ATTEMPTED',\n",
        "                          ], inplace=True)\n",
        "\n",
        "print(team_totals_df.notnull().sum())\n"
      ],
      "metadata": {
        "id": "ghUz2_MAkKa9"
      },
      "execution_count": null,
      "outputs": []
    },
    {
      "cell_type": "code",
      "source": [
        "#Drop rows where columns have just a few missing value\n",
        "team_totals_df.dropna(subset=['W', 'L'], inplace=True)\n",
        "\n",
        "print(team_totals_df.notnull().sum())"
      ],
      "metadata": {
        "id": "qSCxApJD2hRJ"
      },
      "execution_count": null,
      "outputs": []
    },
    {
      "cell_type": "code",
      "source": [
        "#Impute values based on teams with the same name, and in the same season\n",
        "\n",
        "#Impute values based on teams with the same name\n",
        "imputer = SimpleImputer(strategy='mean')\n",
        "\n",
        "# Define the columns to impute\n",
        "columns_to_impute = ['MINUTES_PLAYED', 'DEFENSIVE_REBOUND', 'TOTAL_REBOUNDS', 'STEALS', 'BLOCKS', 'TURNOVERS']\n",
        "\n",
        "# Initialize the imputer\n",
        "imputer = SimpleImputer(strategy='mean')\n",
        "\n",
        "# Iterate over each column to impute\n",
        "for column in columns_to_impute:\n",
        "    # Group by 'TEAM' and apply the imputer to each group\n",
        "    team_totals_df[column] = team_totals_df.groupby('TEAM')[column].transform(\n",
        "        lambda x: imputer.fit_transform(x.values.reshape(-1, 1)).ravel() if x.notnull().any() else x\n",
        "    )\n",
        "\n",
        "# Print the count of non-null values after imputation\n",
        "print(team_totals_df.notnull().sum())"
      ],
      "metadata": {
        "id": "R_-J7BECpaA5"
      },
      "execution_count": null,
      "outputs": []
    },
    {
      "cell_type": "code",
      "source": [
        "#Drop rows where teams did not have any data to help with imputation\n",
        "\n",
        "team_totals_df.dropna(subset=['MINUTES_PLAYED', 'DEFENSIVE_REBOUND', 'TOTAL_REBOUNDS'], inplace=True)\n",
        "print(team_totals_df.notnull().sum())"
      ],
      "metadata": {
        "id": "bN9PttB41OjM"
      },
      "execution_count": null,
      "outputs": []
    },
    {
      "cell_type": "code",
      "source": [
        "# Fill null values in 'STEALS' and 'BLOCKS' columns with zero\n",
        "team_totals_df['STEALS'].fillna(0, inplace=True)\n",
        "team_totals_df['BLOCKS'].fillna(0, inplace=True)\n",
        "\n",
        "# Check the count of non-null values after filling null values\n",
        "print(team_totals_df.notnull().sum())"
      ],
      "metadata": {
        "id": "9o4i78RZ2CTx"
      },
      "execution_count": null,
      "outputs": []
    },
    {
      "cell_type": "code",
      "source": [
        "#Dealing with the team_Stats_Per_Game\n",
        "print(team_statPG_df.shape)"
      ],
      "metadata": {
        "id": "o7OuB-zPFYzl"
      },
      "execution_count": null,
      "outputs": []
    },
    {
      "cell_type": "code",
      "source": [
        "print(team_statPG_df.notnull().sum())"
      ],
      "metadata": {
        "id": "-06x6u4aFuIK"
      },
      "execution_count": null,
      "outputs": []
    },
    {
      "cell_type": "code",
      "source": [
        "# Doing a Heatmap to determine which variables are mostly related with the number of\n",
        "# Wins versus teh number of Loss\n",
        "\n",
        "\n",
        "# Calculate the correlation matrix\n",
        "correlation_matrix = team_statPG_df.corr(numeric_only=True)\n",
        "\n",
        "# Plotting the heatmap to visualize the correlation matrix\n",
        "plt.figure(figsize=(12, 10))\n",
        "sns.heatmap(correlation_matrix, annot=True, cmap='coolwarm', fmt=\".2f\")\n",
        "plt.title('Correlation Heatmap')\n",
        "#plt.show()\n",
        "\n",
        "# Sorting correlations with respect to 'W' (Wins) and 'L' (Losses)\n",
        "correlation_with_wins = correlation_matrix['W'].sort_values(ascending=False)\n",
        "correlation_with_losses = correlation_matrix['L'].sort_values(ascending=False)\n",
        "\n",
        "print(\"Correlation with Wins:\")\n",
        "print(correlation_with_wins)\n",
        "\n",
        "print(\"\\nCorrelation with Losses:\")\n",
        "print(correlation_with_losses)"
      ],
      "metadata": {
        "id": "HKCY1N-gmyPD"
      },
      "execution_count": null,
      "outputs": []
    },
    {
      "cell_type": "code",
      "source": [
        "team_statPG_df.dropna(subset=['W', 'L'], inplace=True)\n",
        "print(team_statPG_df.notnull().sum())\n"
      ],
      "metadata": {
        "id": "z_a0Uw0lGNcj"
      },
      "execution_count": null,
      "outputs": []
    },
    {
      "cell_type": "code",
      "source": [
        "#Drop columns with low correlation\n",
        "team_statPG_df.drop(columns=['TWO_POINTERS_PER_GAME', 'STEALS_PER_GAME',\n",
        "                          'THREE_POINTER_POSITION', 'FREE_THROW_PER_GAME', 'FREE_THROW_AGAINST_PER_GAME',\n",
        "                          'TOTAL_REBOUND_PER_GAME', 'THREE_POINTERS_PER_GAME',\n",
        "                          'mp_per_game', 'FIELD_GOAL_AGAINST_PER_GAME', 'THREE_POINTERS_AGAINST_PER_GAME',\n",
        "                          'TWO_POINTER_AGAINST_PER_GAME', 'OFFENSIVE_Rebound_per_game', 'TURNOVER_PER_GAME',\n",
        "                          'PERSONAL_FOULS_PER_GAME'], inplace=True)\n",
        "\n",
        "print(team_statPG_df.notnull().sum())\n"
      ],
      "metadata": {
        "id": "awKcFw9LRH5P"
      },
      "execution_count": null,
      "outputs": []
    },
    {
      "cell_type": "markdown",
      "source": [
        "Here we are imputing using the mean not of teh entire dataframe but for each missing value, we impute with the mean of the corresponding team name."
      ],
      "metadata": {
        "id": "u_R_PJZlwWcA"
      }
    },
    {
      "cell_type": "code",
      "source": [
        "#Impute values based on teams with the same name\n",
        "imputer = SimpleImputer(strategy='mean')\n",
        "\n",
        "# Define the columns to impute\n",
        "columns_to_impute = ['DEFENSIVE_REBOUND_PER_GAME', 'BLOCKS_PER_GAME']\n",
        "\n",
        "# Initialize the imputer\n",
        "imputer = SimpleImputer(strategy='mean')\n",
        "\n",
        "# Iterate over each column to impute\n",
        "for column in columns_to_impute:\n",
        "    # Group by 'TEAM' and apply the imputer to each group\n",
        "    team_statPG_df[column] = team_statPG_df.groupby('TEAM')[column].transform(\n",
        "        lambda x: imputer.fit_transform(x.values.reshape(-1, 1)).ravel() if x.notnull().any() else x\n",
        "    )\n",
        "\n",
        "# Print the count of non-null values after imputation\n",
        "print(team_statPG_df.notnull().sum())"
      ],
      "metadata": {
        "id": "obLHa1PmZ22f"
      },
      "execution_count": null,
      "outputs": []
    },
    {
      "cell_type": "code",
      "source": [
        "#Drop rows where teams did not have any data to help with imputation\n",
        "\n",
        "team_statPG_df.dropna(subset=['DEFENSIVE_REBOUND_PER_GAME'], inplace=True)\n",
        "print(team_statPG_df.notnull().sum())"
      ],
      "metadata": {
        "id": "dpvo0kDJ3Wlv"
      },
      "execution_count": null,
      "outputs": []
    },
    {
      "cell_type": "code",
      "source": [
        "#Drop Columns Blocks_per_game as we already have Blocks in the team_summary df\n",
        "\n",
        "team_statPG_df.drop(columns=['BLOCKS_PER_GAME'], inplace=True)\n",
        "\n",
        "print(team_statPG_df.notnull().sum())\n"
      ],
      "metadata": {
        "id": "dwSSvF0G3uU4"
      },
      "execution_count": null,
      "outputs": []
    },
    {
      "cell_type": "markdown",
      "source": [
        "Merging the teams CSVs based on the year and teh team name (team_id is unfortunately not on all CSVs)"
      ],
      "metadata": {
        "id": "QTEyvS-idOJ1"
      }
    },
    {
      "cell_type": "code",
      "source": [
        "# Initial merge (full outer join) between teams_df and team_totals_df\n",
        "merged_team_df = pd.merge(team_totals_df, team_sum_df, on=['TEAM', 'SEASON'], how='outer')\n",
        "merged_team_df = pd.merge(merged_team_df, team_statPG_df, on=['TEAM', 'SEASON'], how='outer')\n",
        "merged_team_df.head(10)\n"
      ],
      "metadata": {
        "id": "0zJzV63beEbU"
      },
      "execution_count": null,
      "outputs": []
    },
    {
      "cell_type": "code",
      "source": [
        "#Just sanity checking\n",
        "print(team_totals_df.shape)\n",
        "print(team_sum_df.shape)\n",
        "print(team_statPG_df.shape)\n",
        "print(merged_team_df.shape)"
      ],
      "metadata": {
        "id": "iVLdu25bgZD9"
      },
      "execution_count": null,
      "outputs": []
    },
    {
      "cell_type": "code",
      "source": [
        "merged_team_columns = merged_team_df.columns.tolist()\n",
        "print(merged_team_columns)"
      ],
      "metadata": {
        "id": "9TiaswjPhkTn"
      },
      "execution_count": null,
      "outputs": []
    },
    {
      "cell_type": "code",
      "source": [
        "print(merged_team_df.notnull().sum())"
      ],
      "metadata": {
        "id": "uI_fPzbRc0Sr"
      },
      "execution_count": null,
      "outputs": []
    },
    {
      "cell_type": "code",
      "source": [
        "merged_team_df.dropna(subset=['W_x', 'L_x'], inplace=True)\n",
        "print(merged_team_df.notnull().sum())"
      ],
      "metadata": {
        "id": "ULjq6hJncbMu"
      },
      "execution_count": null,
      "outputs": []
    },
    {
      "cell_type": "code",
      "source": [
        "#Drop repeating columns\n",
        "merged_team_df.drop(columns=['W_x', 'W_x',\n",
        "                          'W_y', 'L_y', 'FREE_THROW_PERCENTAGE_y', 'GAMES_y', 'LEAGUE_y',\n",
        "                             'ABBREVIATION_y'], inplace=True)\n",
        "\n",
        "print(merged_team_df.notnull().sum())"
      ],
      "metadata": {
        "id": "omI6_R4S8JNR"
      },
      "execution_count": null,
      "outputs": []
    },
    {
      "cell_type": "code",
      "source": [
        "# Doing a Heatmap to determine which variables are mostly related with the number of\n",
        "# Wins versus teh number of Loss\n",
        "\n",
        "# Calculate the correlation matrix\n",
        "correlation_matrix = merged_team_df.corr(numeric_only=True)\n",
        "\n",
        "\n",
        "# Plotting the heatmap to visualize the correlation matrix\n",
        "plt.figure(figsize=(12, 10))\n",
        "sns.heatmap(correlation_matrix, annot=True, cmap='coolwarm', fmt=\".2f\")\n",
        "plt.title('Correlation Heatmap')\n",
        "plt.show()\n",
        "\n",
        "\n",
        "# Sorting correlations with respect to 'W' (Wins) and 'L' (Losses)\n",
        "correlation_with_wins = correlation_matrix['W'].sort_values(ascending=False)\n",
        "correlation_with_losses = correlation_matrix['L'].sort_values(ascending=False)\n",
        "\n",
        "\n",
        "print(\"Correlation with Wins:\")\n",
        "print(correlation_with_wins)\n",
        "\n",
        "\n",
        "print(\"\\nCorrelation with Losses:\")\n",
        "print(correlation_with_losses)\n",
        "\n",
        "#Might still wanna drop TURNOVER_PERCENTAGE and FREE_THROW_PERCENTAGE_x"
      ],
      "metadata": {
        "id": "WbGWYZeYBXob"
      },
      "execution_count": null,
      "outputs": []
    },
    {
      "cell_type": "code",
      "source": [
        "merged_team_df.columns.tolist()"
      ],
      "metadata": {
        "id": "itm4Yvut-BJj"
      },
      "execution_count": null,
      "outputs": []
    },
    {
      "cell_type": "code",
      "source": [
        "#Working with the games CSVs\n",
        "\n",
        "game_df = pd.read_csv(\"drive/MyDrive/FINAL PROJECT CSVs/game.csv\")\n",
        "games_df = pd.read_csv(\"drive/MyDrive/FINAL PROJECT CSVs/games.csv\")\n",
        "# upon examining the heatmap of teh relatioon between this datasets' columns and\n",
        "# the team wins is very low. We will thus not be using it.\n",
        "games_details_df = pd.read_csv(\"drive/MyDrive/FINAL PROJECT CSVs/games_details.csv\")\n",
        "\n"
      ],
      "metadata": {
        "id": "aWyCPbU4iLdh"
      },
      "execution_count": null,
      "outputs": []
    },
    {
      "cell_type": "code",
      "source": [
        "print(games_details_df.dtypes)"
      ],
      "metadata": {
        "id": "XWkojve0u6aH"
      },
      "execution_count": null,
      "outputs": []
    },
    {
      "cell_type": "code",
      "source": [
        "#There are irregularities in the minutes format.\n",
        "\n",
        "def convert_to_mmss(time_str):\n",
        "    # Check if the value is NaN\n",
        "    if pd.isna(time_str):\n",
        "        return None  # Return None for missing values\n",
        "\n",
        "    # Split time string into hours, minutes, and seconds\n",
        "    parts = time_str.split(':')\n",
        "\n",
        "    # Check if the parts list has only one element (minutes)\n",
        "    if len(parts) == 1:\n",
        "        minutes = parts[0]\n",
        "        seconds = '00'  # Set seconds to '00'\n",
        "    elif len(parts) >= 2:\n",
        "        minutes = parts[-2]\n",
        "        seconds = parts[-1]\n",
        "    else:\n",
        "        return None  # Return None if the format is not as expected\n",
        "\n",
        "    # Concatenate minutes and seconds with a colon separator\n",
        "    mm_ss_format = f\"{minutes}:{seconds}\"\n",
        "\n",
        "    return mm_ss_format\n",
        "\n",
        "# Apply the function to the 'MINUTES' column\n",
        "games_details_df['MINUTES'] = games_details_df['MINUTES'].apply(convert_to_mmss)\n",
        "\n",
        "print(games_details_df.dtypes)"
      ],
      "metadata": {
        "id": "Yegl7dgWhTXa"
      },
      "execution_count": null,
      "outputs": []
    },
    {
      "cell_type": "code",
      "source": [
        "print(games_df.dtypes)"
      ],
      "metadata": {
        "id": "ALzHUYRW9WG6"
      },
      "execution_count": null,
      "outputs": []
    },
    {
      "cell_type": "code",
      "source": [
        "print(game_df.dtypes)"
      ],
      "metadata": {
        "id": "3fbIebIW-mGm"
      },
      "execution_count": null,
      "outputs": []
    },
    {
      "cell_type": "code",
      "source": [
        "# Do a left merge on the dataframes on GAME_ID\n",
        "# This is done to assert all dataframes have a corresponding win and loss column\n",
        "game_df = pd.merge(game_df, games_df[['GAME_ID', 'HOME_TEAM_WINS']], on=['GAME_ID'], how='left')\n",
        "\n",
        "# Display the merged dataframe\n",
        "print(game_df.notnull().sum())\n",
        "\n",
        "#For some reason, game has only a few matches for home team wins"
      ],
      "metadata": {
        "id": "f6ZT8AUSAfTr"
      },
      "execution_count": null,
      "outputs": []
    },
    {
      "cell_type": "code",
      "source": [
        "#This dataframe has been dropped\n",
        "# Do a left merge on the dataframes on GAME_ID\n",
        "# This is done to assert all dataframes have a corresponding win and loss column\n",
        "games_details_df = pd.merge(games_details_df, games_df[['GAME_ID', 'HOME_TEAM_WINS']], on=['GAME_ID'], how='left')\n",
        "\n",
        "# Display the merged dataframe\n",
        "print(games_details_df.notnull().sum())"
      ],
      "metadata": {
        "id": "Q2QVbCIiE4az"
      },
      "execution_count": null,
      "outputs": []
    },
    {
      "cell_type": "code",
      "source": [
        "# Doing a Heatmap to determine which variables are mostly related with the number of\n",
        "# Home wins\n",
        "\n",
        "# Calculate the correlation matrix\n",
        "correlation_matrix = games_df.corr(numeric_only=True)\n",
        "\n",
        "\n",
        "# Plotting the heatmap to visualize the correlation matrix\n",
        "plt.figure(figsize=(12, 10))\n",
        "sns.heatmap(correlation_matrix, annot=True, cmap='coolwarm', fmt=\".2f\")\n",
        "plt.title('Correlation Heatmap')\n",
        "plt.show()\n",
        "\n",
        "\n",
        "# Sorting correlations with respect to HOME_TEAM_WINS\n",
        "correlation_with_wins = correlation_matrix['HOME_TEAM_WINS'].sort_values(ascending=False)\n",
        "\n",
        "\n",
        "print(\"Correlation with HOME_TEAM_WINS:\")\n",
        "print(correlation_with_wins)\n"
      ],
      "metadata": {
        "id": "2_jMvi2HQ1C_"
      },
      "execution_count": null,
      "outputs": []
    },
    {
      "cell_type": "code",
      "source": [
        "#drop columns with a low correlation coefficient that is neither very positive nor very negative\n",
        "games_df.drop(columns=['FREE_THROWS_PERCENTAGE_HOME', 'VISITOR_TEAM_ID',\n",
        "                               'TEAM_ID_AWAY', 'FREE_THROWS_PERCENTAGE_AWAY',\n",
        "                               ], inplace=True)\n",
        "print(games_details_df.dtypes)"
      ],
      "metadata": {
        "id": "zpZHs2AEi58S"
      },
      "execution_count": null,
      "outputs": []
    },
    {
      "cell_type": "code",
      "source": [
        "print(games_df.notnull().sum())"
      ],
      "metadata": {
        "id": "h8k06Spblwxc"
      },
      "execution_count": null,
      "outputs": []
    },
    {
      "cell_type": "code",
      "source": [
        "#Drop rows with no data\n",
        "\n",
        "games_df.dropna(subset=['HOME_TEAM_WINS'], inplace=True)\n",
        "print(games_df.notnull().sum())"
      ],
      "metadata": {
        "id": "7dF28Hi1WORw"
      },
      "execution_count": null,
      "outputs": []
    },
    {
      "cell_type": "code",
      "source": [
        "#Dealing with game_df\n",
        "# Calculate the correlation between each independent variable and the dependent variable\n",
        "correlation = game_df.corr(numeric_only=True)['HOME_TEAM_WINS'].abs().sort_values(ascending=False)\n",
        "\n",
        "print(correlation)"
      ],
      "metadata": {
        "id": "OEie5vn5mpWC"
      },
      "execution_count": null,
      "outputs": []
    },
    {
      "cell_type": "code",
      "source": [
        "game_df.columns.tolist()"
      ],
      "metadata": {
        "id": "dR8wDa6FO48e"
      },
      "execution_count": null,
      "outputs": []
    },
    {
      "cell_type": "markdown",
      "source": [
        "Finding the correlation when home win is positive (W). We are doing this given that game_df has more data (rows) than we have for the WIN_LOSS_HOME. Thus assuming based on just that correlation might be father from accurate"
      ],
      "metadata": {
        "id": "C2J9D8mldjqQ"
      }
    },
    {
      "cell_type": "code",
      "source": [
        "# Replace 'W' with 1 and 'F' with 0 in the 'WIN_LOSS_HOME' column\n",
        "game_df['WIN_LOSS_HOME'] = game_df['WIN_LOSS_HOME'].replace({'W': 1, 'L': 0})\n",
        "\n",
        "# Drop rows where 'WIN_LOSS_HOME' is NaN\n",
        "game_df = game_df.dropna(subset=['WIN_LOSS_HOME'])\n",
        "\n",
        "# Convert the column to integer type\n",
        "game_df['WIN_LOSS_HOME'] = game_df['WIN_LOSS_HOME'].astype(int)\n",
        "\n",
        "# Calculate the correlation between 'WIN_LOSS_HOME' and each other column\n",
        "#correlation_with_win = game_df.corr()['WIN_LOSS_HOME'].abs().sort_values(ascending=False)\n",
        "\n",
        "# Display the correlation coefficients\n",
        "game_df.head(10)\n"
      ],
      "metadata": {
        "id": "394zx8LSXgIV"
      },
      "execution_count": null,
      "outputs": []
    },
    {
      "cell_type": "code",
      "source": [
        "# Calculate the correlation between 'WIN_LOSS_HOME' and each other column\n",
        "correlation_with_win = game_df.corr(numeric_only=True)['WIN_LOSS_HOME'].abs().sort_values(ascending=False)\n",
        "\n",
        "# Display the correlation coefficients\n",
        "print(correlation_with_win)\n"
      ],
      "metadata": {
        "id": "u_TR3VnRRCoP"
      },
      "execution_count": null,
      "outputs": []
    },
    {
      "cell_type": "code",
      "source": [
        "#Drop columns that might not help us as much\n",
        "\n",
        "game_df.drop(columns=['OFFENSIVE_REBOUND_HOME', 'TEAM_ID_HOME',\n",
        "                               'TEAM_ID_AWAY', 'THREE_POINTERS_WAY',\n",
        "                      'FIELD_GOALS_ATTEMPTED_HOME', 'PLUS_MINUS_AWAY',\n",
        "                      'MINUTES', 'THREE_POINTERS_HOME', 'FIELD_GOALS_MADE_AWAY',\n",
        "                      'THREE_POINTERS_ATTEMPTED_HOME', 'FREE_THROWS_PERCENTAGE_AWAY',\n",
        "                      'TURNOVERS_HOME', 'PERSONAL_FOULS_HOME', 'FREE_THROWS_PERCENTAGE_HOME',\n",
        "                      'FREE_THROWS_MADE_HOME', 'STEALS_HOME', 'BLOCKS_HOME',\n",
        "                      'FREE_THROWS_ATTEMPTED_HOME', 'FIELD_GOALS_PERCENTAGE_AWAY',\n",
        "                      'THREE_POINTERS_PERCENTAGE_AWAY', 'STEALS_AWAY', 'TURNOVERS_AWAY',\n",
        "                      'BLOCKS_AWAY', 'ASSISTS_AWAY', 'FREE_THROWS_ATTEMPTED_AWAY',\n",
        "                      'FREE_THROWS_MADE_AWAY'], inplace=True)\n",
        "print(game_df.notnull().sum())"
      ],
      "metadata": {
        "id": "1lK1H8GzQrU8"
      },
      "execution_count": null,
      "outputs": []
    },
    {
      "cell_type": "code",
      "source": [
        "#Impute values based on teams with the same name, and in the same season\n",
        "\n",
        "#Impute values based on teams with the same name\n",
        "imputer = SimpleImputer(strategy='mean')\n",
        "\n",
        "# Define the columns to impute\n",
        "columns_to_impute = ['FIELD_GOALS_PERCENTAGE_HOME', 'THREE_POINTERS_PERCENTAGE_HOME',\n",
        "                     'DEFENSIVE_REBOUND_HOME', 'TOTAL_REBOUNDS_HOME', 'ASSISTS_HOME',\n",
        "                     'MINUTES.1', 'FIELD_GOALS_ATTEMPTED_AWAY', 'THREE_POINTERS_ATTEMPTED_AWAY',\n",
        "                     'OFFENSIVE_REBOUND_AWAY', 'DEFENSIVE_REBOUND_AWAY', 'TOTAL_REBOUNDS_AWAY']\n",
        "\n",
        "# Initialize the imputer\n",
        "imputer = SimpleImputer(strategy='mean')\n",
        "\n",
        "# Iterate over each column to impute\n",
        "for column in columns_to_impute:\n",
        "    # Group by 'TEAM' and apply the imputer to each group\n",
        "    game_df[column] = game_df.groupby('TEAM_NAME_HOME')[column].transform(\n",
        "        lambda x: imputer.fit_transform(x.values.reshape(-1, 1)).ravel() if x.notnull().any() else x\n",
        "    )\n",
        "\n",
        "# Print the count of non-null values after imputation\n",
        "print(game_df.notnull().sum())"
      ],
      "metadata": {
        "id": "cJplMVUoJFEZ"
      },
      "execution_count": null,
      "outputs": []
    },
    {
      "cell_type": "code",
      "source": [
        "#dropping all rows where some values are null and also dropping teh home_team_win\n",
        "# colukn as it migt not be too beneficial\n",
        "\n",
        "# Define the list of columns to check for null values\n",
        "columns_to_check = ['OFFENSIVE_REBOUND_AWAY', 'DEFENSIVE_REBOUND_HOME',\n",
        "                    'FIELD_GOALS_PERCENTAGE_HOME']\n",
        "\n",
        "# Drop rows where any of the specified columns have null values\n",
        "game_df.dropna(subset=columns_to_check, inplace=True)\n",
        "\n",
        "print(game_df.notnull().sum())"
      ],
      "metadata": {
        "id": "22LLH9dTVlQG"
      },
      "execution_count": null,
      "outputs": []
    },
    {
      "cell_type": "markdown",
      "source": [
        "We will now move forward with the Data exploration and Summary Statistics"
      ],
      "metadata": {
        "id": "ZnVjQvoEib5c"
      }
    },
    {
      "cell_type": "markdown",
      "source": [
        "## **IV - Exploratory Data Analysis**"
      ],
      "metadata": {
        "id": "r1ilLp4FnGcq"
      }
    },
    {
      "cell_type": "markdown",
      "source": [
        "**Creating a Composite Score and Utilizing Linear Regression for NBA Championship Prediction**\n",
        "\n",
        "In the pursuit of accurately predicting the next NBA championship winner, a crucial step involved the creation of a composite score derived from columns that exhibited the highest correlation with a team's success. This approach aimed to distill the multifaceted dynamics of basketball into a singular metric, facilitating a more comprehensive assessment of team performance. By amalgamating key indicators such as points per game, field goal percentage, defensive rebounds, and turnovers, among others, into a unified composite score, the model could encapsulate the essence of team proficiency across various facets of the game.\n",
        "\n",
        "The rationale behind employing linear regression with this newly constructed composite score lies in its ability to delineate and quantify the relationship between predictor variables and the target variable – in this case, the likelihood of a team clinching the NBA championship. Linear regression offered a structured framework to analyze how changes in the composite score corresponded to variations in championship success probabilities. Leveraging this statistical technique allowed for the identification of patterns and trends within the data, enabling more informed predictions regarding potential championship outcomes. Moreover, the simplicity and interpretability of linear regression facilitated clear insights into the relative significance of different components comprising the composite score, aiding in the refinement and optimization of the prediction model.\n",
        "\n",
        "In essence, the integration of a composite score and the application of linear regression represent a strategic approach to enhance the predictive efficacy of the NBA championship forecasting model. By amalgamating relevant metrics and employing a robust statistical methodology, the endeavor seeks to unravel the intricacies of basketball dynamics and furnish valuable insights into the determinants of championship success."
      ],
      "metadata": {
        "id": "jPe74YOvpD5h"
      }
    },
    {
      "cell_type": "markdown",
      "source": [
        "> Note: For all Linear regression, the Null Hypothesis (H0): The coefficient of 'Combined_Metric' is equal to zero. There is no linear relationship between 'Combined_Metric' and the number of wins ('W')."
      ],
      "metadata": {
        "id": "mHSEJeiuyHuR"
      }
    },
    {
      "cell_type": "code",
      "source": [
        "# Select only numeric columns, excluding 'W' and 'L' for correlation calculation\n",
        "numeric_cols = merged_team_df.select_dtypes(include=np.number).drop(['W', 'L'], axis=1)\n",
        "\n",
        "# Calculate correlation with 'W'\n",
        "correlation_with_w = numeric_cols.apply(lambda x: x.corr(merged_team_df['W']))\n",
        "\n",
        "# Standardize numeric variables\n",
        "normalized_variables = (numeric_cols - numeric_cols.mean()) / numeric_cols.std()\n",
        "\n",
        "# Calculate the composite score, taking into account the direction of correlation\n",
        "merged_team_df['Composite Score'] = normalized_variables.multiply(correlation_with_w, axis=1).sum(axis=1)"
      ],
      "metadata": {
        "id": "Y4YeDv97mJOh"
      },
      "execution_count": null,
      "outputs": []
    },
    {
      "cell_type": "code",
      "source": [
        "merged_team_df['Composite Score']"
      ],
      "metadata": {
        "id": "H14nq8w3qEj1"
      },
      "execution_count": null,
      "outputs": []
    },
    {
      "cell_type": "markdown",
      "source": [
        "We will now be using linear regrsesion to undestand te realtionship between the \"Combined Metric\" and the number of wins in the 'W'column"
      ],
      "metadata": {
        "id": "cgoni0fVwcYL"
      }
    },
    {
      "cell_type": "code",
      "source": [
        "X = merged_team_df['Composite Score']  # Independent variable\n",
        "y = merged_team_df['W']  # Dependent variable"
      ],
      "metadata": {
        "id": "8G0aI58xuJ3W"
      },
      "execution_count": null,
      "outputs": []
    },
    {
      "cell_type": "code",
      "source": [
        "# Add a constant term to the independent variable. This is necessary for\n",
        "# estimating the intercept (the value of 'y' when 'x' is zero) in the linear regression model.\n",
        "\n",
        "X = sm.add_constant(X)"
      ],
      "metadata": {
        "id": "ZsMDEJ26uHtE"
      },
      "execution_count": null,
      "outputs": []
    },
    {
      "cell_type": "code",
      "source": [
        "#fit the linear regression model using the OLS (ordinary least squares) method from statsmodels.\n",
        "\n",
        "model = sm.OLS(y, X).fit()"
      ],
      "metadata": {
        "id": "Tm4m0RTuxlox"
      },
      "execution_count": null,
      "outputs": []
    },
    {
      "cell_type": "code",
      "source": [
        "print(model.summary())"
      ],
      "metadata": {
        "id": "mv5OtTAXxsWk"
      },
      "execution_count": null,
      "outputs": []
    },
    {
      "cell_type": "markdown",
      "source": [
        "### **Interpretation and Conclusion:**\n",
        "The new linear regression analysis with the updated combined metric ('Composite Score') yielded the following results:\n",
        "\n",
        "- **R-squared (R²):** The R-squared value is 0.850, indicating that approximately 85.0% of the variance in the number of wins ('W') can be explained by the 'Composite Score'. This suggests a strong relationship between the combined metric and team success.\n",
        "\n",
        "- **Coefficient (coef) and its p-value:** The coefficient of the 'Composite Score' is 1.3485, indicating that for each one-unit increase in the 'Composite Score', there is an expected increase of approximately 1.3485 units in the number of wins ('W'). The p-value associated with this coefficient is very small (p < 0.001), indicating that the coefficient is statistically significant.\n",
        "\n",
        "- **Intercept (const) and its p-value:** The intercept term is 39.9745, representing the expected number of wins when the 'Composite Score' is zero. The intercept is also statistically significant with a p-value of 0.000.\n",
        "\n",
        "- **F-statistic and its p-value:** The F-statistic tests the overall significance of the regression model. The probability associated with the F-statistic is 0.00, indicating that the regression model as a whole is statistically significant.\n",
        "\n",
        "### Conclusion:\n",
        "\n",
        "The results of the linear regression analysis indicate that the 'Composite Score' is a highly significant predictor of the number of wins ('W'). The strong R-squared value suggests that the 'Composite Score' explains a substantial portion of the variability in team success. Each unit increase in the 'Composite Score' is associated with a significant increase in the number of wins.\n",
        "\n",
        "Therefore, based on this analysis, it can be concluded that the 'Composite Score' derived from the combination of metrics provides a robust and effective measure of team performance, with a strong predictive relationship with the number of wins. This underscores the importance of considering multiple performance indicators and refining the combined metric to better capture the factors driving team success."
      ],
      "metadata": {
        "id": "0tXzZHYH1K8T"
      }
    },
    {
      "cell_type": "code",
      "source": [
        "# Scatter plot with regression line\n",
        "plt.figure(figsize=(10, 6))\n",
        "sns.scatterplot(data=merged_team_df, x='Composite Score', y='W', color='blue', alpha=0.5)\n",
        "sns.regplot(data=merged_team_df, x='Composite Score', y='W', scatter=False, color='red', line_kws={'linewidth': 2})\n",
        "plt.title('Relationship between Composite Score and Number of Wins')\n",
        "plt.xlabel('Composite Score')\n",
        "plt.ylabel('Number of Wins')\n",
        "plt.grid(True)\n",
        "plt.show()"
      ],
      "metadata": {
        "id": "mtBBQ8EB1Rfm"
      },
      "execution_count": null,
      "outputs": []
    },
    {
      "cell_type": "markdown",
      "source": [
        "We will now be doing descriptive statistics on the 'Total Points Home' column from the game_df"
      ],
      "metadata": {
        "id": "qyDjHjRv-ICZ"
      }
    },
    {
      "cell_type": "code",
      "source": [
        "\n",
        "column_name = 'TOTAL_POINTS_HOME'\n",
        "\n",
        "# Calculate descriptive statistics\n",
        "mean_value = game_df[column_name].mean()\n",
        "median_value = game_df[column_name].median()\n",
        "std_dev = game_df[column_name].std()\n",
        "min_value = game_df[column_name].min()\n",
        "max_value = game_df[column_name].max()\n",
        "\n",
        "# Print descriptive statistics\n",
        "print(\"Descriptive Statistics for\", column_name)\n",
        "print(\"Mean:\", mean_value)\n",
        "print(\"Median:\", median_value)\n",
        "print(\"Standard Deviation:\", std_dev)\n",
        "print(\"Minimum:\", min_value)\n",
        "print(\"Maximum:\", max_value)\n"
      ],
      "metadata": {
        "id": "JSOt6ltw-GQ8"
      },
      "execution_count": null,
      "outputs": []
    },
    {
      "cell_type": "markdown",
      "source": [
        "Based on the descriptive statistics for the variable 'TOTAL_POINTS_HOME' in the `game_df` dataframe:\n",
        "\n",
        "1. **Mean (Average):** The mean total points scored by the home teams is approximately 105.23 points per game. This value represents the central tendency of the data and gives an indication of the typical scoring performance of home teams.\n",
        "\n",
        "2. **Median:** The median total points scored by the home teams is 105.0 points per game. Since the median is close to the mean, it suggests that the distribution of total points scored by home teams is approximately symmetrical.\n",
        "\n",
        "3. **Standard Deviation:** The standard deviation of approximately 14.06 indicates the average amount of variability or dispersion in the total points scored by home teams around the mean. A higher standard deviation suggests greater variability in scoring performance among home teams.\n",
        "\n",
        "4. **Minimum and Maximum:** The minimum total points scored by a home team in a game is 45, while the maximum total points scored is 192. This range of 147 points reflects the variability in scoring performances observed across different games.\n",
        "\n",
        "**Conclusion:**\n",
        "Based on these descriptive statistics, we can conclude that home teams in the dataset tend to score an average of around 105 points per game, with a moderate level of variability around this average. The distribution of total points scored appears to be relatively symmetrical, as indicated by the similarity between the mean and median values. However, the variability in scoring performances among home teams, as evidenced by the standard deviation and range, suggests that some games may have significantly higher or lower scoring outcomes compared to the average."
      ],
      "metadata": {
        "id": "XOvZtX6v_xhs"
      }
    },
    {
      "cell_type": "code",
      "source": [
        "total_points_home = game_df['TOTAL_POINTS_HOME']\n",
        "\n",
        "# Plot histogram\n",
        "plt.figure(figsize=(10, 6))\n",
        "plt.hist(total_points_home, bins=20, color='skyblue', edgecolor='black', alpha=0.7)\n",
        "\n",
        "# Add mean, median, and standard deviation error bars\n",
        "mean_value = total_points_home.mean()\n",
        "median_value = total_points_home.median()\n",
        "std_dev = total_points_home.std()\n",
        "\n",
        "plt.axvline(mean_value, color='red', linestyle='dashed', linewidth=1, label=f'Mean: {mean_value:.2f}')\n",
        "plt.axvline(median_value, color='green', linestyle='dashed', linewidth=1, label=f'Median: {median_value:.2f}')\n",
        "plt.errorbar(mean_value, 500, xerr=std_dev, fmt='o', color='red', label=f'Standard Deviation: {std_dev:.2f}')\n",
        "\n",
        "# Add labels and title\n",
        "plt.xlabel('Total Points Scored by Home Teams')\n",
        "plt.ylabel('Frequency')\n",
        "plt.title('Distribution of Total Points Scored by Home Teams')\n",
        "plt.legend()\n",
        "\n",
        "# Show plot\n",
        "plt.grid(True)\n",
        "plt.show()\n"
      ],
      "metadata": {
        "id": "BGYem6uc_42k"
      },
      "execution_count": null,
      "outputs": []
    },
    {
      "cell_type": "markdown",
      "source": [
        "In the competitive world of basketball, understanding the factors that contribute to a team’s success is crucial. One such factor that often comes under scrutiny is the efficiency rating of players. The player efficiency rating is a comprehensive metric that encapsulates a player’s contributions to the game, both positive and negative. In this report, we will delve into an analysis of how the player efficiency rating impacts a team’s wins. We will test the hypothesis that the player efficiency rating has a significant effect on a team’s wins. Our analysis will be based on data from various teams and players, and we will use statistical methods to draw meaningful conclusions. Let’s dive into the details.\n",
        "\n",
        "The Efficiency Rating is a comprehensive metric that attempts to measure a player’s productivity or efficiency in the game.\n",
        "Here’s how it works:\n",
        "\n",
        "PTS: Points scored by the opponent team.\n",
        "ORB: Offensive rebounds by the opponent team.\n",
        "DRB: Defensive rebounds by the opponent team.\n",
        "STL: Steals by the opponent team.\n",
        "BLK: Blocks by the opponent team.\n",
        "FGmissed: Field goals missed by the opponent team.\n",
        "FTmissed: Free throws missed by the opponent team.\n",
        "TO: Turnovers by the opponent team.\n",
        "\n",
        "The Efficiency Rating is calculated using the formula:\n",
        "Efficiency Rating=PTS+3∗ORB+2∗DRB+STL+1.5∗BLK−FGmissed−FTmissed−TO​ / MINUTES_PLAYED\n",
        "This formula takes into account both the positive contributions (points, rebounds, steals, blocks) and the negative contributions (missed shots, turnovers) of the opponent team. The result is then normalized by the total minutes played.\n",
        "This metric can be very helpful in analyzing the performance of the opponent teams. A higher Efficiency Rating indicates a more productive or efficient performance. By comparing the Efficiency Ratings of different teams, you can gain insights into their relative strengths and weaknesses. This can be particularly useful in strategic planning and decision-making for future games. For example, if a team has a high Efficiency Rating, it might be beneficial to study their strategies and adapt your team’s defense accordingly. Similarly, if a team has a low Efficiency Rating, it might indicate areas where another team can take advantage.\n"
      ],
      "metadata": {
        "id": "Zd6IdZ2_xyAk"
      }
    },
    {
      "cell_type": "code",
      "source": [
        "player_df['Points'] = player_df['TOTAL_POINTS']\n",
        "player_df['Offensive Rebounds'] = player_df['OFFENSIVE_REBOUND']\n",
        "player_df['Defensive Rebounds'] = player_df['DEFENSIVE_REBOUND']\n",
        "player_df['Steals'] = player_df['STEALS']\n",
        "player_df['Blocks'] = player_df['BLOCK']\n",
        "player_df['Field Goals Missed'] = player_df['FIELD_GOAL_ATTEMPTED'] - player_df['FIELD_GOALS_MADE']\n",
        "player_df['Free Throws Missed'] = player_df['FREE_THROW_ATTEMPTED'] - player_df['FREE_THROWS_MADE']\n",
        "player_df['Turnovers'] = player_df['TURNOVER']\n",
        "\n",
        "player_df['Player Efficiency Rating'] = (player_df['Points'] + 3 * player_df['Offensive Rebounds'] + 2 * player_df['Defensive Rebounds'] + player_df['Steals'] + 1.5 * player_df['Blocks'] - player_df['Field Goals Missed'] - player_df['Free Throws Missed'] - player_df['Turnovers']) / player_df['MINUTES_PLAYED']\n",
        "\n",
        "print(player_df['Player Efficiency Rating'])"
      ],
      "metadata": {
        "id": "WJyo0GPgiaiF"
      },
      "execution_count": null,
      "outputs": []
    },
    {
      "cell_type": "code",
      "source": [
        "player_df['Player Efficiency Rating'].isna().sum()"
      ],
      "metadata": {
        "id": "igZxuxn6oE4S"
      },
      "execution_count": null,
      "outputs": []
    },
    {
      "cell_type": "code",
      "source": [
        "player_df.columns.to_list()"
      ],
      "metadata": {
        "id": "WFY9H2ooJuPf"
      },
      "execution_count": null,
      "outputs": []
    },
    {
      "cell_type": "code",
      "source": [
        "player_df = player_df.dropna(subset=['Player Efficiency Rating'])"
      ],
      "metadata": {
        "id": "j03ELJ2ptynN"
      },
      "execution_count": null,
      "outputs": []
    },
    {
      "cell_type": "code",
      "source": [
        "player_df['Player Efficiency Rating'].isna().sum()"
      ],
      "metadata": {
        "id": "fgd9UE96uRF0"
      },
      "execution_count": null,
      "outputs": []
    },
    {
      "cell_type": "markdown",
      "source": [
        "*Calculating the efficiency rating of all opponents against each team*"
      ],
      "metadata": {
        "id": "0BDZBAhmtzpt"
      }
    },
    {
      "cell_type": "code",
      "source": [
        "opponent_team_df['PTS'] = opponent_team_df['OPPONENTS_POINTS']\n",
        "opponent_team_df['ORB'] = opponent_team_df['OPPONENTS_OFFENSIVE_REBOUND']\n",
        "opponent_team_df['DRB'] = opponent_team_df['OPPONENTS_DEFENSIVE_REBOUND']\n",
        "opponent_team_df['STL'] = opponent_team_df['OPPONENTS_STEALS']\n",
        "opponent_team_df['BLK'] = opponent_team_df['OPPONENTS_BLOCKS']\n",
        "opponent_team_df['FGmissed'] = opponent_team_df['OPPONENT_FIELD_GOALS_ATTEMPTED'] - opponent_team_df['OPPONENT_FIELD_GOALS']\n",
        "opponent_team_df['FTmissed'] = opponent_team_df['OPPONENT_FREE_THROWS_ATTEMPTED'] - opponent_team_df['OPPONENT_FREE_THROWS']\n",
        "opponent_team_df['TO'] = opponent_team_df['OPPONENTS_TURNOVERS']\n",
        "\n",
        "opponent_team_df['Efficiency Rating'] = (opponent_team_df['PTS'] + 3*opponent_team_df['ORB'] + 2*opponent_team_df['DRB'] + opponent_team_df['STL'] + 1.5*opponent_team_df['BLK'] - opponent_team_df['FGmissed'] - opponent_team_df['FTmissed'] - opponent_team_df['TO']) / opponent_team_df['MINUTES_PLAYED']\n",
        "\n",
        "print(opponent_team_df['Efficiency Rating'])"
      ],
      "metadata": {
        "id": "LNLmB3xapBme"
      },
      "execution_count": null,
      "outputs": []
    },
    {
      "cell_type": "code",
      "source": [
        "print(opponent_team_df['Efficiency Rating'].isna().sum())"
      ],
      "metadata": {
        "id": "nZegPUUqwq59"
      },
      "execution_count": null,
      "outputs": []
    },
    {
      "cell_type": "markdown",
      "source": [
        "Ho: The player efficiency rating has no effect on a team's wins\n",
        "\n",
        "Ha: The player efficiency rating has an effect on a team's wins"
      ],
      "metadata": {
        "id": "CBhglSFPx76I"
      }
    },
    {
      "cell_type": "code",
      "source": [
        "# Merge games_df and player_df on 'TEAM_NAME' instead of 'TEAM'\n",
        "merged_df = pd.merge(merged_team_df, player_df, on='TEAM')\n",
        "\n",
        "average_efficiency = merged_df.groupby('TEAM')['Player Efficiency Rating'].mean()\n",
        "\n",
        "winning_teams = average_efficiency[merged_team_df['W'] == 1]\n",
        "losing_teams = average_efficiency[merged_team_df['L'] == 0]\n",
        "\n",
        "t_stat, p_value = stats.ttest_ind(winning_teams, losing_teams)\n"
      ],
      "metadata": {
        "id": "ATRaVsaxwzEK"
      },
      "execution_count": null,
      "outputs": []
    },
    {
      "cell_type": "code",
      "source": [
        "alpha = 0.05\n",
        "if p_value < alpha:\n",
        "    print(\"We reject the null hypothesis and conclude that the player efficiency rating does have an effect on a team's wins.\")\n",
        "else:\n",
        "    print(\"We fail to reject the null hypothesis and conclude that the player efficiency rating does not have an effect on a team's wins.\")\n"
      ],
      "metadata": {
        "id": "8cIBZYSv6xX_"
      },
      "execution_count": null,
      "outputs": []
    },
    {
      "cell_type": "markdown",
      "source": [
        "### **Insights:**\n",
        "Based on the Ordinary Least Squares (OLS) regression results and hypothesis testing, we can conclude that the player efficiency rating significantly impacts a team’s wins. The model, with an R-squared value of 0.850, explains a substantial portion of the variance in wins. The coefficient of the Composite Score is 1.3485, indicating a positive relationship with wins. However, the p-value from the hypothesis test, although greater than alpha, is not convincingly significant, suggesting the need for further investigation. This analysis provides a solid foundation for understanding the dynamics of team wins in NBA games, but additional research is necessary to confirm these findings."
      ],
      "metadata": {
        "id": "qo147qBF03BJ"
      }
    },
    {
      "cell_type": "markdown",
      "source": [
        "## **V - Primary Analysis**"
      ],
      "metadata": {
        "id": "JFE3obrA0su4"
      }
    },
    {
      "cell_type": "markdown",
      "source": [
        "In the following part of this project we will walk through the comprehensive process of our data analysis and machine learning model implementation. We start by preprocessing our data, which includes reading the data, calculating unique values, converting to lowercase for consistency,merging datasets, and creating new informative columns. We then move on to calculation of information gain and appliication of label encoding to categorical column. Missing values are handled appropriately to ensure the integrity of our dataset. We also perform feature selection leading to columns being dropped.\n",
        "After preparing our data we split it into training and testing stes and apply a Random Forest Classifier to make predictions. We evaluate our model using accuracy, confusion matrix, cross-validation scores, and generate a classification report.\n",
        "Furthermore, we visualize the feature importance to understand which features are driving the predictions of our model. Lastly, we introduce regularization to out model to prevent overfitting and improve its generalizability.\n",
        "\n",
        "It should be noted that we decided not to consider \"Player Efficiency Rating as we realized that while its p-value from our hypothesis testing above was greater than the alpha value, it wasn't convincing enough to be used in our final calculations for the model. We thus decided to work solely with the Team dataframe \"merged_team_df\" as we found that our composite score which has a pretty high information gain value (as you will se below), makes use of columns from the team dataframe. It is also worth noting that the R-squared value we got from the linear Regression using composite score is pretty high(0.85)\n",
        "\n",
        "Let's delve into it!"
      ],
      "metadata": {
        "id": "dgPINjJ-5hPK"
      }
    },
    {
      "cell_type": "code",
      "source": [
        "championsdf = pd.read_csv(\"/content/drive/MyDrive/FINAL PROJECT CSVs/Champions and Year.csv\")"
      ],
      "metadata": {
        "id": "7LowDHJUUUfr"
      },
      "execution_count": null,
      "outputs": []
    },
    {
      "cell_type": "code",
      "source": [
        "championsdf.head()"
      ],
      "metadata": {
        "id": "ai14NFqXxWSq"
      },
      "execution_count": null,
      "outputs": []
    },
    {
      "cell_type": "code",
      "source": [
        "# Assuming df is your DataFrame and 'column_name' is the column you're interested in\n",
        "num_unique_values = championsdf['YEAR'].nunique()\n",
        "\n",
        "print(f\"The number of unique years in the column is: {num_unique_values}\")\n"
      ],
      "metadata": {
        "id": "EPxzw7EcZ0tN"
      },
      "execution_count": null,
      "outputs": []
    },
    {
      "cell_type": "code",
      "source": [
        "# Convert the 'team' and 'CHAMPIONSHIP_TEAM' columns to lower case\n",
        "championsdf['CHAMPIONSHIP_TEAM'] = championsdf['CHAMPIONSHIP_TEAM'].str.lower()\n",
        "merged_team_df['TEAM'] = merged_team_df['TEAM'].str.lower()\n",
        "\n",
        "# Merge the dataframes\n",
        "final_team_df = pd.merge(merged_team_df, championsdf, how='left', left_on=['SEASON', 'TEAM'], right_on=['YEAR', 'CHAMPIONSHIP_TEAM'])\n",
        "\n",
        "# Create a new column 'champion'\n",
        "final_team_df['CHAMPION'] = final_team_df['YEAR'].apply(lambda x: 'yes' if pd.notnull(x) else 'no')\n"
      ],
      "metadata": {
        "id": "-bcToC7Pxq6V"
      },
      "execution_count": null,
      "outputs": []
    },
    {
      "cell_type": "code",
      "source": [
        "num_unique_values = final_team_df['SEASON'].nunique()\n",
        "\n",
        "print(f\"The number of seasons values in the dataframe: {num_unique_values}\")\n"
      ],
      "metadata": {
        "id": "3ZYafEu-Z9v_"
      },
      "execution_count": null,
      "outputs": []
    },
    {
      "cell_type": "code",
      "source": [
        "count_of_value = final_team_df['CHAMPION'].value_counts()['yes']\n",
        "\n",
        "print(f\"The count of 'yes' is: {count_of_value}\")\n"
      ],
      "metadata": {
        "id": "X99jlNKvaeyf"
      },
      "execution_count": null,
      "outputs": []
    },
    {
      "cell_type": "code",
      "source": [
        "final_team_df.head(50)"
      ],
      "metadata": {
        "id": "dZSqtT-a2141"
      },
      "execution_count": null,
      "outputs": []
    },
    {
      "cell_type": "code",
      "source": [
        "final_team_df.columns.tolist()"
      ],
      "metadata": {
        "id": "uvb5NIjt2600"
      },
      "execution_count": null,
      "outputs": []
    },
    {
      "cell_type": "markdown",
      "source": [
        "Dropping some columns that might not be relevant\n",
        "\n"
      ],
      "metadata": {
        "id": "w9RYExEksgwT"
      }
    },
    {
      "cell_type": "code",
      "source": [
        "final_team_df.drop('LEAGUE', axis=1, inplace=True)\n",
        "final_team_df.drop('LEAGUE_x', axis=1, inplace=True)\n",
        "final_team_df.drop('ABBREVIATION', axis=1, inplace=True)\n",
        "final_team_df.drop('ABBREVIATION_x', axis=1, inplace=True)\n",
        "final_team_df.drop('PLAYOFFS_x', axis=1, inplace=True)\n",
        "final_team_df.drop('PLAYOFFS_y', axis=1, inplace=True)"
      ],
      "metadata": {
        "id": "Eq3DQYu47oxU"
      },
      "execution_count": null,
      "outputs": []
    },
    {
      "cell_type": "code",
      "source": [
        "final_team_df.dtypes"
      ],
      "metadata": {
        "id": "4GYty7H8EB60"
      },
      "execution_count": null,
      "outputs": []
    },
    {
      "cell_type": "markdown",
      "source": [
        "We will be applying One Hot Encoding to categorical data to make sure our dataframe is mainly numeric."
      ],
      "metadata": {
        "id": "BCqEr6oLvCiN"
      }
    },
    {
      "cell_type": "code",
      "source": [
        "encoded_final_team_df = pd.get_dummies(final_team_df, columns=['PLAYOFFS', 'CHAMPION'], drop_first= True)\n",
        "encoded_final_team_df.rename(columns={'PLAYOFFS_True': 'PLAYOFFS', 'CHAMPION_yes' : 'CHAMPION'}, inplace=True)\n",
        "# Convert boolean columns to integer (0 and 1)\n",
        "encoded_final_team_df['PLAYOFFS'] = encoded_final_team_df['PLAYOFFS'].astype(int)\n",
        "encoded_final_team_df['CHAMPION'] = encoded_final_team_df['CHAMPION'].astype(int)\n",
        "\n",
        "encoded_final_team_df\n"
      ],
      "metadata": {
        "id": "_X1TAqqXDrlN"
      },
      "execution_count": null,
      "outputs": []
    },
    {
      "cell_type": "markdown",
      "source": [
        "We removed all rows for 2024 as taht were concerned with data from 2024 as this is the year we will be predicting at the end of this project."
      ],
      "metadata": {
        "id": "CMw1bg7KvSQF"
      }
    },
    {
      "cell_type": "code",
      "source": [
        "encoded_final_team_df = encoded_final_team_df[encoded_final_team_df['SEASON'] != 2024]"
      ],
      "metadata": {
        "id": "eV_3jDW6cG4J"
      },
      "execution_count": null,
      "outputs": []
    },
    {
      "cell_type": "code",
      "source": [
        "encoded_final_team_df.columns.tolist()"
      ],
      "metadata": {
        "id": "YRhIbqZQH1Q5"
      },
      "execution_count": null,
      "outputs": []
    },
    {
      "cell_type": "markdown",
      "source": [
        "Calculating Information Gain to find which values are more likely to be related to a team's win of the championship."
      ],
      "metadata": {
        "id": "mVUfKmOVsKIz"
      }
    },
    {
      "cell_type": "code",
      "source": [
        "def information_gain(data, feature, target):\n",
        "    # Calculate the entropy of the data before the split\n",
        "    entropy_before = entropy(data[target])\n",
        "\n",
        "    # Calculate the entropy of the data after the split\n",
        "    grouped_entropy = data.groupby(feature)[target].apply(entropy)\n",
        "    entropy_after = (data.groupby(feature).size() / len(data)) @ grouped_entropy\n",
        "\n",
        "    # Calculate the information gain\n",
        "    information_gain = entropy_before - entropy_after\n",
        "    return information_gain\n",
        "\n",
        "def entropy(data):\n",
        "    # Calculate the probability of each class\n",
        "    probabilities = data.value_counts(normalize=True)\n",
        "\n",
        "    # Calculate the entropy\n",
        "    entropy = - (probabilities * probabilities.apply(math.log2)).sum()\n",
        "    return entropy\n",
        "\n",
        "# Example DataFrame\n",
        "encoded_final_team_df = pd.DataFrame(encoded_final_team_df)  # Your DataFrame here\n",
        "\n",
        "# Calculate the information gain for each column against 'CHAMPION'\n",
        "target_feature = 'CHAMPION'\n",
        "information_gains = {}\n",
        "for column in encoded_final_team_df.columns:\n",
        "    if column != target_feature:  # Skip the target feature itself\n",
        "        information_gains[column] = information_gain(encoded_final_team_df, column, target_feature)\n",
        "\n",
        "# Print the information gains\n",
        "for column, information_gain in information_gains.items():\n",
        "    print(f\"Information gain for '{column}' against '{target_feature}': {information_gain}\")\n"
      ],
      "metadata": {
        "id": "RzTwbw5HcTm_"
      },
      "execution_count": null,
      "outputs": []
    },
    {
      "cell_type": "markdown",
      "source": [
        "By scaling the information gain values, we mitigate the potential dominance of features with larger scales, allowing for a more balanced evaluation of each feature's importance in predicting championship outcomes. This normalization process enhances the robustness and interpretability of our model, enabling us to make informed decisions about which features to include in our regression analysis for more reliable championship predictions."
      ],
      "metadata": {
        "id": "D_dBzHkesGeB"
      }
    },
    {
      "cell_type": "code",
      "source": [
        "encoded_final_team_df.head(50)"
      ],
      "metadata": {
        "id": "DdrzuKrNfF7j"
      },
      "execution_count": null,
      "outputs": []
    },
    {
      "cell_type": "markdown",
      "source": [
        "We used a Label Encoder to make our Team and Championship Team columns to be numerical. Note that we didn't use regular One Hot Encoding here as there are way more than 2 categories for each of these columns."
      ],
      "metadata": {
        "id": "_OjQBxp2vudz"
      }
    },
    {
      "cell_type": "code",
      "source": [
        "# Initialize LabelEncoder\n",
        "le = LabelEncoder()\n",
        "\n",
        "# Fit and transform the 'TEAM' and 'CHAMPIONSHIP_TEAM' columns\n",
        "encoded_final_team_df['TEAM'] = le.fit_transform(encoded_final_team_df['TEAM'])\n",
        "encoded_final_team_df['CHAMPIONSHIP_TEAM'] = le.fit_transform(encoded_final_team_df['CHAMPIONSHIP_TEAM'])\n",
        "\n",
        "# Print the first 50 rows of the dataframe\n",
        "encoded_final_team_df.head(50)\n",
        "\n"
      ],
      "metadata": {
        "id": "Do9kb0QR4iJI"
      },
      "execution_count": null,
      "outputs": []
    },
    {
      "cell_type": "markdown",
      "source": [
        "Here we decide to fill in null or absent values with the mean for those values within that given year and for the specific team the value falls under. This is to avoid mixing up from other teams."
      ],
      "metadata": {
        "id": "WkjfPlJix0rM"
      }
    },
    {
      "cell_type": "code",
      "source": [
        "cols_to_fill = encoded_final_team_df.columns.tolist()\n",
        "\n",
        "for col in cols_to_fill:\n",
        "    encoded_final_team_df[col] = encoded_final_team_df.groupby(['TEAM', 'SEASON'])[col].transform(lambda x: x.fillna(x.mean()))\n",
        "encoded_final_team_df"
      ],
      "metadata": {
        "id": "iao-o6BOOSIV"
      },
      "execution_count": null,
      "outputs": []
    },
    {
      "cell_type": "code",
      "source": [
        "encoded_final_team_df['CHAMPION'].value_counts()[1]\n"
      ],
      "metadata": {
        "id": "_ybbQX59HyFa"
      },
      "execution_count": null,
      "outputs": []
    },
    {
      "cell_type": "markdown",
      "source": [
        "We use feature bagging, such as considering the square root of the total number of features, to determine the number of features to use in Random Forests. This technique involves randomly selecting a subset of features at each split, which helps prevent overfitting and increases the diversity among the trees in the ensemble. By dropping some columns based on their low information gain score relative to other columns, we prioritize the inclusion of features that contribute the most to the predictive power of the model while efficiently managing computational resources and reducing the risk of overfitting."
      ],
      "metadata": {
        "id": "yCBegSC9ycNW"
      }
    },
    {
      "cell_type": "code",
      "source": [
        "columns_to_drop = [\n",
        "# 'SEASON',\n",
        "#  'TEAM',\n",
        " 'GAMES_x',\n",
        " 'MINUTES_PLAYED',\n",
        "#  'FIELD_GOALS_MADE',\n",
        "#  'FIELD_GOALS_ATTEMPTED',\n",
        " 'FIELD_GOALS_PERCENTAGE',\n",
        "#  'TWO_POINTERS_MADE',\n",
        " 'TWO_POINTERS_PERCENTAGE',\n",
        " 'FREE_THROWS_MADE',\n",
        "#  'FREE_THROWS_ATTEMPTED',\n",
        " 'FREE_THROW_PERCENTAGE_x',\n",
        " 'DEFENSIVE_REBOUND',\n",
        "#  'TOTAL_REBOUNDS',\n",
        " 'ASSISTS',\n",
        " 'STEALS',\n",
        " 'BLOCKS',\n",
        " 'TURNOVERS',\n",
        " 'POINTS',\n",
        " 'L_x',\n",
        " 'AGE',\n",
        " 'PW',\n",
        " 'PL',\n",
        "#  'MARGIN_OF_VICTORY',\n",
        " 'STRENGTH_OF_SCHEDULE',\n",
        "#  'SIMPLE_RATING_SYSTEM',\n",
        " 'OFFENSIVE_RATING',\n",
        " 'DEFENSIVE_RATING',\n",
        " 'NET_RATING',\n",
        " 'TRUE_SHOOTING_PERCENTAGE',\n",
        " 'EFFECTIEV_FIELD_GOAL_PERCENTAGE',\n",
        " 'TURNOVER_PERCENTAGE',\n",
        " 'OPPONENT_EFFECTIVE_FIELD_GAL',\n",
        " 'OPPONENT_FREE_THROW_PERCENTAGE.1',\n",
        " 'fg_per_game',\n",
        " 'FIELD_GOAL_PERCENTAGE',\n",
        " 'TWO_POINTER_PERCENTAGE',\n",
        " 'DEFENSIVE_REBOUND_PER_GAME',\n",
        " 'ASSIST_PER_GAME',\n",
        " 'POINTS_PER_GAME',\n",
        " 'W',\n",
        " 'L',\n",
        "#  'Composite Score',\n",
        " 'YEAR',\n",
        " 'CHAMPIONSHIP_TEAM',\n",
        " 'PLAYOFFS',\n",
        "#  'CHAMPION'\n",
        "]\n",
        "\n",
        "encoded_final_team_df.drop(columns_to_drop, axis=1, inplace=True)"
      ],
      "metadata": {
        "id": "gshCJ-ZvUj64"
      },
      "execution_count": null,
      "outputs": []
    },
    {
      "cell_type": "markdown",
      "source": [
        "Here we obtain the X (features) and y (target) variables necessary in our random forest classifier. Since Champion is the dependent variable we drop it from the dataframe before passing it to X. On the other hand it is the only column considered when submitting to the y variable."
      ],
      "metadata": {
        "id": "1em-Remy-3y0"
      }
    },
    {
      "cell_type": "code",
      "source": [
        "#X = encoded_final_team_df.drop('CHAMPION', axis=1)\n",
        "\n",
        "X = encoded_final_team_df.drop(\n",
        " 'CHAMPION', axis=1)\n",
        "y = encoded_final_team_df['CHAMPION']"
      ],
      "metadata": {
        "id": "ldaiNXlX6NcJ"
      },
      "execution_count": null,
      "outputs": []
    },
    {
      "cell_type": "markdown",
      "source": [
        "The dataset is then split into training and testing sets, 20% of the dataset is used as the testing set and 80% as the training set then we make 100 trees in our forest."
      ],
      "metadata": {
        "id": "uYB6A-TD_rR0"
      }
    },
    {
      "cell_type": "code",
      "source": [
        "X_train, X_test, y_train, y_test = train_test_split(X, y, test_size=0.2, random_state=55)"
      ],
      "metadata": {
        "id": "q1JnhXf87UrS"
      },
      "execution_count": null,
      "outputs": []
    },
    {
      "cell_type": "code",
      "source": [
        "modelF = RandomForestClassifier(n_estimators=100, random_state=55)\n",
        "modelF.fit(X_train, y_train)"
      ],
      "metadata": {
        "id": "78vq1jiZ7YJG"
      },
      "execution_count": null,
      "outputs": []
    },
    {
      "cell_type": "markdown",
      "source": [
        "The accuracy and confusion matrix are obtained."
      ],
      "metadata": {
        "id": "q_Z_B5neAM9D"
      }
    },
    {
      "cell_type": "code",
      "source": [
        "y_pred = modelF.predict(X_test)\n",
        "print(\"Accuracy:\", accuracy_score(y_test, y_pred))\n",
        "print(\"Confusion Matrix:\\n\", confusion_matrix(y_test, y_pred))\n"
      ],
      "metadata": {
        "id": "y6ZSYm-g7a__"
      },
      "execution_count": null,
      "outputs": []
    },
    {
      "cell_type": "markdown",
      "source": [
        "A 5-fold cross validation is performed on our model, this is to provide a more reliable assessment on how our model performed then the cross-validation scores and the average cross-validation score are obtained."
      ],
      "metadata": {
        "id": "h-P8-ktdAUOY"
      }
    },
    {
      "cell_type": "code",
      "source": [
        "from sklearn.model_selection import cross_val_score\n",
        "\n",
        "# Perform 5-fold cross validation\n",
        "scores = cross_val_score(modelF, X, y, cv=5)\n",
        "\n",
        "# Print cross-validation scores\n",
        "print('Cross-validation scores: ', scores)\n",
        "\n",
        "# Print average cross-validation score\n",
        "print('Average cross-validation score: ', scores.mean())\n"
      ],
      "metadata": {
        "id": "Wzh19oIw_Kji"
      },
      "execution_count": null,
      "outputs": []
    },
    {
      "cell_type": "markdown",
      "source": [
        "A classification report is obtained.\n",
        "\n",
        "Let's break it down below:\n",
        "\n",
        "1. **Precision**: Precision measures how many of the positive predictions made by the classifier are actually correct. It is calculated as the ratio of true positive predictions to the total number of positive predictions. In our case, the precision for class 1 (the positive class) is 0.40, which means that only 40% of the positive predictions were accurate.\n",
        "\n",
        "2. **Recall (Sensitivity)**: Recall, also known as sensitivity or true positive rate, measures how many of the actual positive instances were correctly predicted by the classifier. It is calculated as the ratio of true positive predictions to the total number of actual positive instances. In our case, the recall for class 1 is 0.18, indicating that only 18% of the actual positive instances were correctly identified.\n",
        "\n",
        "3. **F1-Score**: The F1-score is the harmonic mean of precision and recall. It provides a single metric that balances both precision and recall. It is especially useful for imbalanced datasets where precision and recall may be skewed. The F1-score is calculated as follows:\n",
        "\n",
        "   $$ F1 = \\frac{2 \\cdot \\text{Precision} \\cdot \\text{Recall}}{\\text{Precision} + \\text{Recall}} $$\n",
        "\n",
        "   For class 1, the F1-score is 0.25, which reflects the trade-off between precision and recall.\n",
        "\n",
        "4. **Support**: The support represents the number of actual instances in each class. In your case, there are 11 instances of class 1.\n",
        "\n",
        "In summary, our classifier performs well in terms of precision for class 0 (negative class), but its recall and F1-score for class 1 (positive class) are relatively low.\n",
        "\n"
      ],
      "metadata": {
        "id": "xq4rA1S0BRy3"
      }
    },
    {
      "cell_type": "markdown",
      "source": [
        "The low support (number of actual instances) can certainly impacts the recall.\n",
        "\n",
        "When dealing with a small number of instances in the positive class (class 1), the classifier has fewer opportunities to correctly predict them.\n",
        "If the model misclassifies even a few instances, it significantly affects the recall because the denominator (total actual positive instances) is small.\n",
        "In our case, with only 11 instances of class 1, the model’s ability to capture them accurately is limited.\n",
        "\n",
        "Imbalanced datasets (where one class has significantly fewer instances than the other) can lead to biased performance metrics.\n",
        "In such cases, the model may prioritize the majority class (class 0) due to its higher prevalence, resulting in lower recall for the minority class (class 1).\n"
      ],
      "metadata": {
        "id": "8jSl3Yn_DKiC"
      }
    },
    {
      "cell_type": "code",
      "source": [
        "from sklearn.metrics import classification_report\n",
        "\n",
        "# Get predictions\n",
        "y_pred = modelF.predict(X_test)\n",
        "\n",
        "# Print classification report\n",
        "print(classification_report(y_test, y_pred))\n"
      ],
      "metadata": {
        "id": "lNsunOD6_zzw"
      },
      "execution_count": null,
      "outputs": []
    },
    {
      "cell_type": "markdown",
      "source": [
        "We create a bar plot of the feature importances as determined by your Random Forest model. Feature importance gives a score for each feature of our data, the higher the score more important or relevant is the feature towards your output variable.\n",
        "This visualization helps us understand which features are driving the predictions of your model, which can be very useful in understanding the underlying processes that the model is using to make predictions."
      ],
      "metadata": {
        "id": "rLLGOH4PEK_G"
      }
    },
    {
      "cell_type": "code",
      "source": [
        "importances = modelF.feature_importances_\n",
        "# Get the index of importances from greatest importance to least\n",
        "sorted_index = np.argsort(importances)[::-1]\n",
        "x = range(len(sorted_index))\n",
        "\n",
        "# Create tick labels\n",
        "labels = np.array(X.columns)[sorted_index]\n",
        "plt.bar(x, importances[sorted_index], tick_label=labels)\n",
        "\n",
        "# Rotate tick labels to vertical\n",
        "plt.xticks(rotation=90)\n",
        "plt.show()\n"
      ],
      "metadata": {
        "id": "FRnH6GgF_5oQ"
      },
      "execution_count": null,
      "outputs": []
    },
    {
      "cell_type": "markdown",
      "source": [
        "\n",
        "From the outset, our goal was clear and ambitious: predict the NBA champion for the upcoming year. Armed with data science tools and fueled by our passion for basketball, we embarked on this exhilarating journey.\n",
        "\n",
        "\n",
        "We navigated the vast landscape of our dataset, delving into player statistics and team performance. Our journey led us through intricate details, where we wrangled and transformed raw data into a format our machine learning model could comprehend. Irrelevant noise was discarded, and significant patterns emerged from the numbers.\n",
        "\n",
        "\n",
        "Now, standing at the precipice of discovery, we've completed rigorous data preprocessing, meticulous feature selection, and model training. The anticipation builds as we feed our processed data into our finely tuned model. This moment represents the culmination of our efforts—a transformation from raw data to a prediction for the future.\n",
        "\n",
        "\n",
        "Without further ado, let the power of machine learning guide us.\n"
      ],
      "metadata": {
        "id": "mNMFKw_8804_"
      }
    },
    {
      "cell_type": "code",
      "source": [
        "present_Advanced = pd.read_csv(\"/content/drive/MyDrive/FINAL PROJECT CSVs/2024 Advanced.csv\")\n",
        "present_Total = pd.read_csv(\"/content/drive/MyDrive/FINAL PROJECT CSVs/2024 Total.csv\")"
      ],
      "metadata": {
        "id": "Hs6kYoCKcWFZ"
      },
      "execution_count": null,
      "outputs": []
    },
    {
      "cell_type": "code",
      "source": [
        "present_Advanced.columns.tolist()"
      ],
      "metadata": {
        "id": "40TawyBuwoM1"
      },
      "execution_count": null,
      "outputs": []
    },
    {
      "cell_type": "code",
      "source": [
        "present_Advanced = present_Advanced.drop(['Rk',\n",
        " 'Unnamed: 18',\n",
        " 'Unnamed: 23',\n",
        " 'eFG%',\n",
        " 'TURNOVER_PERCENTAGE.1',\n",
        " 'DEFENSIVE_REBOUND_PERCENTAGE',\n",
        " 'FT/FGA',\n",
        " 'Unnamed: 28',\n",
        " 'Arena',\n",
        " 'Attend.',\n",
        " 'Attend./G'],  axis = 1)"
      ],
      "metadata": {
        "id": "LbdoTCAXxkI8"
      },
      "execution_count": null,
      "outputs": []
    },
    {
      "cell_type": "code",
      "source": [
        "present_Total.columns.tolist()"
      ],
      "metadata": {
        "id": "MIZi_d5wxYUS"
      },
      "execution_count": null,
      "outputs": []
    },
    {
      "cell_type": "code",
      "source": [
        "present_Total = present_Total.drop('Rk', axis=1)"
      ],
      "metadata": {
        "id": "UwFTf2DCxiw_"
      },
      "execution_count": null,
      "outputs": []
    },
    {
      "cell_type": "markdown",
      "source": [
        "Our validation df is created by merging both 2024 dataframe the total dataframe and the advanced dataframe, this is done on the TEAM column."
      ],
      "metadata": {
        "id": "yOD1tF_GKF6f"
      }
    },
    {
      "cell_type": "code",
      "source": [
        "Testing_df =  present_Total.merge(present_Advanced, on='TEAM')\n"
      ],
      "metadata": {
        "id": "RlKo0VRUPnwA"
      },
      "execution_count": null,
      "outputs": []
    },
    {
      "cell_type": "code",
      "source": [
        "Testing_df.columns.tolist()"
      ],
      "metadata": {
        "id": "Y2JGGt8A-MVv"
      },
      "execution_count": null,
      "outputs": []
    },
    {
      "cell_type": "markdown",
      "source": [
        "Calculating the composite score for the data we are about to test"
      ],
      "metadata": {
        "id": "Ugj0WpZCJXcu"
      }
    },
    {
      "cell_type": "code",
      "source": [
        "numeric_cols = Testing_df.select_dtypes(include=np.number)\n",
        "\n",
        "# Calculate correlation with a win\n",
        "correlation_with_w = numeric_cols.apply(lambda x: x.corr(Testing_df['W']))\n",
        "\n",
        "\n",
        "# Standardize numeric variables\n",
        "normalized_variables = (numeric_cols - numeric_cols.mean()) / numeric_cols.std()\n",
        "\n",
        "\n",
        "# Calculate the composite score, taking into account the direction of correlation\n",
        "Testing_df['Composite Score'] = normalized_variables.multiply(correlation_with_w, axis=1).sum(axis=1)\n",
        "\n"
      ],
      "metadata": {
        "id": "LY-lzVlNJTD4"
      },
      "execution_count": null,
      "outputs": []
    },
    {
      "cell_type": "markdown",
      "source": [
        "We drop the columns that have the columns that dont match what was previously used to train our ML model above. This makes sure the features used in our random forest classification model match and we are able to pass it in for prediction."
      ],
      "metadata": {
        "id": "tfbes1B4Ki6J"
      }
    },
    {
      "cell_type": "code",
      "source": [
        "Testing_df = Testing_df.drop([#'TEAM',\n",
        " 'PLAYOFFS_x',\n",
        " 'GAMES',\n",
        " 'MINUTES_PLAYED',\n",
        " #'FIELD_GOALS_MADE',\n",
        "#  'FIELD_GOALS_ATTEMPTED',\n",
        " 'FIELD_GOALS_PERCENTAGE',\n",
        " 'THREE_POINTERS_MADE',\n",
        " 'THREE_POINTERS_ATTEMPTED',\n",
        " 'THREE_POINTERS_PERCENTAGE',\n",
        "#  'TWO_POINTERS_MADE',\n",
        " 'TWO_POINTERS_ATTEMPTED',\n",
        " 'TWO_POINTERS_PERCENTAGE',\n",
        " 'FREE_THROWS_MADE',\n",
        "#  'FREE_THROWS_ATTEMPTED',\n",
        " 'FREE_THROWS_PERCENTAGE',\n",
        " 'OFFENSIVE_REBOUNDS',\n",
        " 'DEFENSIVE_REBOUNDS',\n",
        " #'TOTAL_REBOUNDS',\n",
        " 'ASSISTS',\n",
        " 'STEALS',\n",
        " 'BLOCKS',\n",
        " 'TURNOVERS',\n",
        " 'PERSONAL_FOULS',\n",
        " 'POINTS',\n",
        " 'PLAYOFFS_y',\n",
        " 'AGE',\n",
        " 'W',\n",
        " 'L',\n",
        " 'PW',\n",
        " 'PL',\n",
        " #'MARGIN_OF_VICTORY',\n",
        " 'STRENGTH_OF_SCHEDULE',\n",
        " #'SIMPLE_RATING_SYSTEM',\n",
        " 'OFFENSIVE_RATING',\n",
        " 'DEFENSIVE_RATING',\n",
        " 'NET_RATING',\n",
        "  #'Composite Score',\n",
        " 'PACE',\n",
        " 'FREE_THROW_ATTEMPT_RATE',\n",
        " 'THREE_POINT_ATTEMPT_RATE',\n",
        " 'TRUE_SHOOTING_PERCENTAGE',\n",
        " 'EFFECTIVE_FIELD_GOAL_PERCENTAGE',\n",
        " 'TURNOVER_PERCENTAGE',\n",
        " 'OFFENSIVE_REBOUND_PERCENTAGE',\n",
        " 'FREE_THROWS_PER_FIELD_GOAL_ATTEMPT'], axis = 1)"
      ],
      "metadata": {
        "id": "Qss5KwBr-9J0"
      },
      "execution_count": null,
      "outputs": []
    },
    {
      "cell_type": "markdown",
      "source": [
        "A season column is added and filled up with the value 2024 representing the year."
      ],
      "metadata": {
        "id": "N_CrBS4xK7Oy"
      }
    },
    {
      "cell_type": "code",
      "source": [
        "Testing_df ['SEASON'] = 2024\n"
      ],
      "metadata": {
        "id": "O-vPcAlD_h3j"
      },
      "execution_count": null,
      "outputs": []
    },
    {
      "cell_type": "code",
      "source": [
        "Testing_df"
      ],
      "metadata": {
        "id": "86UDJ7obAGxP"
      },
      "execution_count": null,
      "outputs": []
    },
    {
      "cell_type": "code",
      "source": [
        "encoded_final_team_df.columns.tolist()"
      ],
      "metadata": {
        "id": "BJJ8W3hmDVKM"
      },
      "execution_count": null,
      "outputs": []
    },
    {
      "cell_type": "code",
      "source": [
        "Testing_df.columns.tolist()"
      ],
      "metadata": {
        "id": "1hcqj--bDboQ"
      },
      "execution_count": null,
      "outputs": []
    },
    {
      "cell_type": "markdown",
      "source": [
        "Here we make the SEASON column the first column so that it matches the order our features occured in the training model."
      ],
      "metadata": {
        "id": "dQP6SaHkLGVM"
      }
    },
    {
      "cell_type": "code",
      "source": [
        "cols = ['SEASON'] + [col for col in Testing_df.columns if col != 'SEASON']\n",
        "Testing_df = Testing_df[cols]\n"
      ],
      "metadata": {
        "id": "ml2JP8FJD2Zv"
      },
      "execution_count": null,
      "outputs": []
    },
    {
      "cell_type": "markdown",
      "source": [
        "Label encoding is applied to our TEAM column, this turns the values found in this column into a format that can be processed by our ML model."
      ],
      "metadata": {
        "id": "twgzczLnLjp-"
      }
    },
    {
      "cell_type": "code",
      "source": [
        "#le = LabelEncoder()\n",
        "Testing_df['TEAM'] = le.fit_transform(Testing_df['TEAM'])\n",
        "Testing_df.head(50)"
      ],
      "metadata": {
        "id": "e31dr7UPEOyv"
      },
      "execution_count": null,
      "outputs": []
    },
    {
      "cell_type": "markdown",
      "source": [
        "Our trained model is used for the long waited prediction we pass our dataframe \"testing_df\" into it."
      ],
      "metadata": {
        "id": "rZisI-BPLbLd"
      }
    },
    {
      "cell_type": "code",
      "source": [
        "encoded_final_team_df.columns.tolist()"
      ],
      "metadata": {
        "id": "ia3Aw8zhX0dO"
      },
      "execution_count": null,
      "outputs": []
    },
    {
      "cell_type": "code",
      "source": [
        "Testing_df.columns.tolist()"
      ],
      "metadata": {
        "id": "vAmzF7W-XtY6"
      },
      "execution_count": null,
      "outputs": []
    },
    {
      "cell_type": "code",
      "source": [
        "predictions = modelF.predict(Testing_df)\n"
      ],
      "metadata": {
        "id": "U3d_RmSJCAyl"
      },
      "execution_count": null,
      "outputs": []
    },
    {
      "cell_type": "markdown",
      "source": [
        "We then observe that only one array index has value 1. This is a positive result. This 1 value indicates the team at that index is going to be the champion, and the others with 0 values are unfortunately not going to be able to get the long desired prize."
      ],
      "metadata": {
        "id": "1SzQM4INMDhL"
      }
    },
    {
      "cell_type": "code",
      "source": [
        "predictions"
      ],
      "metadata": {
        "id": "sbbhqDd_DKCE"
      },
      "execution_count": null,
      "outputs": []
    },
    {
      "cell_type": "code",
      "source": [
        "# Add the predictions as a new column to the DataFrame\n",
        "Testing_df['predictions'] = predictions\n",
        "\n",
        "Testing_df"
      ],
      "metadata": {
        "id": "TzwHJfssEcQk"
      },
      "execution_count": null,
      "outputs": []
    },
    {
      "cell_type": "markdown",
      "source": [
        "When we filter our testing_df based on the prediction we can see that the winner is **Team 1**. Team 1 before we label encoded happens to be the **Boston Celtics**"
      ],
      "metadata": {
        "id": "Gup9YOtCMkMh"
      }
    },
    {
      "cell_type": "code",
      "source": [
        "# Filter the DataFrame where 'predictions' is 'yes'\n",
        "filtered_df = Testing_df[Testing_df['predictions'] == 1]\n",
        "\n",
        "# # Get the 'TEAM' value\n",
        "team_value = filtered_df['TEAM'].values[0]\n",
        "\n",
        "# Retrieve the original team name using the mapping dictionary\n",
        "original_team_name = le.inverse_transform([team_value])\n",
        "\n",
        "# Print the original team name\n",
        "print(\"And our predicted winner is:\", original_team_name)\n"
      ],
      "metadata": {
        "id": "y-yk1KgXFwvN"
      },
      "execution_count": null,
      "outputs": []
    },
    {
      "cell_type": "markdown",
      "source": [
        "### **The Boston Celtics!!**"
      ],
      "metadata": {
        "id": "UM3etUp7Nkmt"
      }
    },
    {
      "cell_type": "markdown",
      "source": [
        "## **VI - Visualization**"
      ],
      "metadata": {
        "id": "MaUG4VSa9Ghc"
      }
    },
    {
      "cell_type": "code",
      "source": [
        "# Export the first three decision trees from the forest\n",
        "\n",
        "import graphviz\n",
        "from sklearn.tree import export_graphviz\n",
        "\n",
        "for i in range(3):\n",
        "    tree = modelF.estimators_[i]\n",
        "    dot_data = export_graphviz(tree,\n",
        "                               feature_names=X_train.columns,\n",
        "                               filled=True,\n",
        "                               max_depth=2,\n",
        "                               impurity=False,\n",
        "                               proportion=True)\n",
        "    graph = graphviz.Source(dot_data)\n",
        "    graph.render(f'tree_{i}', format='png')\n",
        "    display(graph)\n",
        "\n"
      ],
      "metadata": {
        "id": "HQ-ZyZRq9FZ2",
        "colab": {
          "base_uri": "https://localhost:8080/",
          "height": 1000
        },
        "outputId": "6c97c0db-f00c-4704-a5bf-d1f1e690da40"
      },
      "execution_count": null,
      "outputs": [
        {
          "output_type": "display_data",
          "data": {
            "image/svg+xml": "<?xml version=\"1.0\" encoding=\"UTF-8\" standalone=\"no\"?>\n<!DOCTYPE svg PUBLIC \"-//W3C//DTD SVG 1.1//EN\"\n \"http://www.w3.org/Graphics/SVG/1.1/DTD/svg11.dtd\">\n<!-- Generated by graphviz version 2.43.0 (0)\n -->\n<!-- Title: Tree Pages: 1 -->\n<svg width=\"856pt\" height=\"311pt\"\n viewBox=\"0.00 0.00 856.00 311.00\" xmlns=\"http://www.w3.org/2000/svg\" xmlns:xlink=\"http://www.w3.org/1999/xlink\">\n<g id=\"graph0\" class=\"graph\" transform=\"scale(1 1) rotate(0) translate(4 307)\">\n<title>Tree</title>\n<polygon fill=\"white\" stroke=\"transparent\" points=\"-4,4 -4,-307 852,-307 852,4 -4,4\"/>\n<!-- 0 -->\n<g id=\"node1\" class=\"node\">\n<title>0</title>\n<polygon fill=\"#e68742\" stroke=\"black\" points=\"542.5,-303 332.5,-303 332.5,-250 542.5,-250 542.5,-303\"/>\n<text text-anchor=\"middle\" x=\"437.5\" y=\"-287.8\" font-family=\"Helvetica,sans-Serif\" font-size=\"14.00\">MARGIN_OF_VICTORY &lt;= 5.3</text>\n<text text-anchor=\"middle\" x=\"437.5\" y=\"-272.8\" font-family=\"Helvetica,sans-Serif\" font-size=\"14.00\">samples = 100.0%</text>\n<text text-anchor=\"middle\" x=\"437.5\" y=\"-257.8\" font-family=\"Helvetica,sans-Serif\" font-size=\"14.00\">value = [0.955, 0.045]</text>\n</g>\n<!-- 1 -->\n<g id=\"node2\" class=\"node\">\n<title>1</title>\n<polygon fill=\"#e5833d\" stroke=\"black\" points=\"393,-214 214,-214 214,-161 393,-161 393,-214\"/>\n<text text-anchor=\"middle\" x=\"303.5\" y=\"-198.8\" font-family=\"Helvetica,sans-Serif\" font-size=\"14.00\">Composite Score &lt;= 5.537</text>\n<text text-anchor=\"middle\" x=\"303.5\" y=\"-183.8\" font-family=\"Helvetica,sans-Serif\" font-size=\"14.00\">samples = 87.7%</text>\n<text text-anchor=\"middle\" x=\"303.5\" y=\"-168.8\" font-family=\"Helvetica,sans-Serif\" font-size=\"14.00\">value = [0.982, 0.018]</text>\n</g>\n<!-- 0&#45;&gt;1 -->\n<g id=\"edge1\" class=\"edge\">\n<title>0&#45;&gt;1</title>\n<path fill=\"none\" stroke=\"black\" d=\"M398.02,-249.87C383.56,-240.48 367.04,-229.75 351.89,-219.92\"/>\n<polygon fill=\"black\" stroke=\"black\" points=\"353.45,-216.76 343.16,-214.25 349.64,-222.63 353.45,-216.76\"/>\n<text text-anchor=\"middle\" x=\"348.36\" y=\"-235\" font-family=\"Helvetica,sans-Serif\" font-size=\"14.00\">True</text>\n</g>\n<!-- 42 -->\n<g id=\"node9\" class=\"node\">\n<title>42</title>\n<polygon fill=\"#eca571\" stroke=\"black\" points=\"695,-214 448,-214 448,-161 695,-161 695,-214\"/>\n<text text-anchor=\"middle\" x=\"571.5\" y=\"-198.8\" font-family=\"Helvetica,sans-Serif\" font-size=\"14.00\">SIMPLE_RATING_SYSTEM &lt;= 5.545</text>\n<text text-anchor=\"middle\" x=\"571.5\" y=\"-183.8\" font-family=\"Helvetica,sans-Serif\" font-size=\"14.00\">samples = 12.3%</text>\n<text text-anchor=\"middle\" x=\"571.5\" y=\"-168.8\" font-family=\"Helvetica,sans-Serif\" font-size=\"14.00\">value = [0.778, 0.222]</text>\n</g>\n<!-- 0&#45;&gt;42 -->\n<g id=\"edge8\" class=\"edge\">\n<title>0&#45;&gt;42</title>\n<path fill=\"none\" stroke=\"black\" d=\"M476.98,-249.87C491.44,-240.48 507.96,-229.75 523.11,-219.92\"/>\n<polygon fill=\"black\" stroke=\"black\" points=\"525.36,-222.63 531.84,-214.25 521.55,-216.76 525.36,-222.63\"/>\n<text text-anchor=\"middle\" x=\"526.64\" y=\"-235\" font-family=\"Helvetica,sans-Serif\" font-size=\"14.00\">False</text>\n</g>\n<!-- 2 -->\n<g id=\"node3\" class=\"node\">\n<title>2</title>\n<polygon fill=\"#e58139\" stroke=\"black\" points=\"147,-125 0,-125 0,-72 147,-72 147,-125\"/>\n<text text-anchor=\"middle\" x=\"73.5\" y=\"-109.8\" font-family=\"Helvetica,sans-Serif\" font-size=\"14.00\">SEASON &lt;= 1968.5</text>\n<text text-anchor=\"middle\" x=\"73.5\" y=\"-94.8\" font-family=\"Helvetica,sans-Serif\" font-size=\"14.00\">samples = 72.1%</text>\n<text text-anchor=\"middle\" x=\"73.5\" y=\"-79.8\" font-family=\"Helvetica,sans-Serif\" font-size=\"14.00\">value = [0.999, 0.001]</text>\n</g>\n<!-- 1&#45;&gt;2 -->\n<g id=\"edge2\" class=\"edge\">\n<title>1&#45;&gt;2</title>\n<path fill=\"none\" stroke=\"black\" d=\"M236.05,-160.98C209.25,-150.85 178.27,-139.13 150.59,-128.66\"/>\n<polygon fill=\"black\" stroke=\"black\" points=\"151.54,-125.28 140.95,-125.01 149.07,-131.83 151.54,-125.28\"/>\n</g>\n<!-- 9 -->\n<g id=\"node6\" class=\"node\">\n<title>9</title>\n<polygon fill=\"#e88e4e\" stroke=\"black\" points=\"441.5,-125 165.5,-125 165.5,-72 441.5,-72 441.5,-125\"/>\n<text text-anchor=\"middle\" x=\"303.5\" y=\"-109.8\" font-family=\"Helvetica,sans-Serif\" font-size=\"14.00\">FREE_THROWS_ATTEMPTED &lt;= 2334.0</text>\n<text text-anchor=\"middle\" x=\"303.5\" y=\"-94.8\" font-family=\"Helvetica,sans-Serif\" font-size=\"14.00\">samples = 15.6%</text>\n<text text-anchor=\"middle\" x=\"303.5\" y=\"-79.8\" font-family=\"Helvetica,sans-Serif\" font-size=\"14.00\">value = [0.906, 0.094]</text>\n</g>\n<!-- 1&#45;&gt;9 -->\n<g id=\"edge5\" class=\"edge\">\n<title>1&#45;&gt;9</title>\n<path fill=\"none\" stroke=\"black\" d=\"M303.5,-160.87C303.5,-152.89 303.5,-143.93 303.5,-135.38\"/>\n<polygon fill=\"black\" stroke=\"black\" points=\"307,-135.25 303.5,-125.25 300,-135.25 307,-135.25\"/>\n</g>\n<!-- 3 -->\n<g id=\"node4\" class=\"node\">\n<title>3</title>\n<polygon fill=\"#c0c0c0\" stroke=\"black\" points=\"64.5,-36 10.5,-36 10.5,0 64.5,0 64.5,-36\"/>\n<text text-anchor=\"middle\" x=\"37.5\" y=\"-14.3\" font-family=\"Helvetica,sans-Serif\" font-size=\"14.00\">(...)</text>\n</g>\n<!-- 2&#45;&gt;3 -->\n<g id=\"edge3\" class=\"edge\">\n<title>2&#45;&gt;3</title>\n<path fill=\"none\" stroke=\"black\" d=\"M61.71,-71.8C57.84,-63.35 53.53,-53.95 49.63,-45.45\"/>\n<polygon fill=\"black\" stroke=\"black\" points=\"52.8,-43.96 45.45,-36.33 46.43,-46.88 52.8,-43.96\"/>\n</g>\n<!-- 8 -->\n<g id=\"node5\" class=\"node\">\n<title>8</title>\n<polygon fill=\"#c0c0c0\" stroke=\"black\" points=\"136.5,-36 82.5,-36 82.5,0 136.5,0 136.5,-36\"/>\n<text text-anchor=\"middle\" x=\"109.5\" y=\"-14.3\" font-family=\"Helvetica,sans-Serif\" font-size=\"14.00\">(...)</text>\n</g>\n<!-- 2&#45;&gt;8 -->\n<g id=\"edge4\" class=\"edge\">\n<title>2&#45;&gt;8</title>\n<path fill=\"none\" stroke=\"black\" d=\"M85.29,-71.8C89.16,-63.35 93.47,-53.95 97.37,-45.45\"/>\n<polygon fill=\"black\" stroke=\"black\" points=\"100.57,-46.88 101.55,-36.33 94.2,-43.96 100.57,-46.88\"/>\n</g>\n<!-- 10 -->\n<g id=\"node7\" class=\"node\">\n<title>10</title>\n<polygon fill=\"#c0c0c0\" stroke=\"black\" points=\"294.5,-36 240.5,-36 240.5,0 294.5,0 294.5,-36\"/>\n<text text-anchor=\"middle\" x=\"267.5\" y=\"-14.3\" font-family=\"Helvetica,sans-Serif\" font-size=\"14.00\">(...)</text>\n</g>\n<!-- 9&#45;&gt;10 -->\n<g id=\"edge6\" class=\"edge\">\n<title>9&#45;&gt;10</title>\n<path fill=\"none\" stroke=\"black\" d=\"M291.71,-71.8C287.84,-63.35 283.53,-53.95 279.63,-45.45\"/>\n<polygon fill=\"black\" stroke=\"black\" points=\"282.8,-43.96 275.45,-36.33 276.43,-46.88 282.8,-43.96\"/>\n</g>\n<!-- 37 -->\n<g id=\"node8\" class=\"node\">\n<title>37</title>\n<polygon fill=\"#c0c0c0\" stroke=\"black\" points=\"366.5,-36 312.5,-36 312.5,0 366.5,0 366.5,-36\"/>\n<text text-anchor=\"middle\" x=\"339.5\" y=\"-14.3\" font-family=\"Helvetica,sans-Serif\" font-size=\"14.00\">(...)</text>\n</g>\n<!-- 9&#45;&gt;37 -->\n<g id=\"edge7\" class=\"edge\">\n<title>9&#45;&gt;37</title>\n<path fill=\"none\" stroke=\"black\" d=\"M315.29,-71.8C319.16,-63.35 323.47,-53.95 327.37,-45.45\"/>\n<polygon fill=\"black\" stroke=\"black\" points=\"330.57,-46.88 331.55,-36.33 324.2,-43.96 330.57,-46.88\"/>\n</g>\n<!-- 43 -->\n<g id=\"node10\" class=\"node\">\n<title>43</title>\n<polygon fill=\"#b7dbf6\" stroke=\"black\" points=\"683,-125 460,-125 460,-72 683,-72 683,-125\"/>\n<text text-anchor=\"middle\" x=\"571.5\" y=\"-109.8\" font-family=\"Helvetica,sans-Serif\" font-size=\"14.00\">FIELD_GOALS_MADE &lt;= 3585.0</text>\n<text text-anchor=\"middle\" x=\"571.5\" y=\"-94.8\" font-family=\"Helvetica,sans-Serif\" font-size=\"14.00\">samples = 2.1%</text>\n<text text-anchor=\"middle\" x=\"571.5\" y=\"-79.8\" font-family=\"Helvetica,sans-Serif\" font-size=\"14.00\">value = [0.389, 0.611]</text>\n</g>\n<!-- 42&#45;&gt;43 -->\n<g id=\"edge9\" class=\"edge\">\n<title>42&#45;&gt;43</title>\n<path fill=\"none\" stroke=\"black\" d=\"M571.5,-160.87C571.5,-152.89 571.5,-143.93 571.5,-135.38\"/>\n<polygon fill=\"black\" stroke=\"black\" points=\"575,-135.25 571.5,-125.25 568,-135.25 575,-135.25\"/>\n</g>\n<!-- 56 -->\n<g id=\"node13\" class=\"node\">\n<title>56</title>\n<polygon fill=\"#e89153\" stroke=\"black\" points=\"848,-125 701,-125 701,-72 848,-72 848,-125\"/>\n<text text-anchor=\"middle\" x=\"774.5\" y=\"-109.8\" font-family=\"Helvetica,sans-Serif\" font-size=\"14.00\">TEAM &lt;= 32.0</text>\n<text text-anchor=\"middle\" x=\"774.5\" y=\"-94.8\" font-family=\"Helvetica,sans-Serif\" font-size=\"14.00\">samples = 10.2%</text>\n<text text-anchor=\"middle\" x=\"774.5\" y=\"-79.8\" font-family=\"Helvetica,sans-Serif\" font-size=\"14.00\">value = [0.885, 0.115]</text>\n</g>\n<!-- 42&#45;&gt;56 -->\n<g id=\"edge12\" class=\"edge\">\n<title>42&#45;&gt;56</title>\n<path fill=\"none\" stroke=\"black\" d=\"M631.04,-160.98C654.38,-150.98 681.31,-139.44 705.5,-129.07\"/>\n<polygon fill=\"black\" stroke=\"black\" points=\"707.15,-132.17 714.97,-125.01 704.4,-125.74 707.15,-132.17\"/>\n</g>\n<!-- 44 -->\n<g id=\"node11\" class=\"node\">\n<title>44</title>\n<polygon fill=\"#c0c0c0\" stroke=\"black\" points=\"562.5,-36 508.5,-36 508.5,0 562.5,0 562.5,-36\"/>\n<text text-anchor=\"middle\" x=\"535.5\" y=\"-14.3\" font-family=\"Helvetica,sans-Serif\" font-size=\"14.00\">(...)</text>\n</g>\n<!-- 43&#45;&gt;44 -->\n<g id=\"edge10\" class=\"edge\">\n<title>43&#45;&gt;44</title>\n<path fill=\"none\" stroke=\"black\" d=\"M559.71,-71.8C555.84,-63.35 551.53,-53.95 547.63,-45.45\"/>\n<polygon fill=\"black\" stroke=\"black\" points=\"550.8,-43.96 543.45,-36.33 544.43,-46.88 550.8,-43.96\"/>\n</g>\n<!-- 51 -->\n<g id=\"node12\" class=\"node\">\n<title>51</title>\n<polygon fill=\"#c0c0c0\" stroke=\"black\" points=\"634.5,-36 580.5,-36 580.5,0 634.5,0 634.5,-36\"/>\n<text text-anchor=\"middle\" x=\"607.5\" y=\"-14.3\" font-family=\"Helvetica,sans-Serif\" font-size=\"14.00\">(...)</text>\n</g>\n<!-- 43&#45;&gt;51 -->\n<g id=\"edge11\" class=\"edge\">\n<title>43&#45;&gt;51</title>\n<path fill=\"none\" stroke=\"black\" d=\"M583.29,-71.8C587.16,-63.35 591.47,-53.95 595.37,-45.45\"/>\n<polygon fill=\"black\" stroke=\"black\" points=\"598.57,-46.88 599.55,-36.33 592.2,-43.96 598.57,-46.88\"/>\n</g>\n<!-- 57 -->\n<g id=\"node14\" class=\"node\">\n<title>57</title>\n<polygon fill=\"#c0c0c0\" stroke=\"black\" points=\"765.5,-36 711.5,-36 711.5,0 765.5,0 765.5,-36\"/>\n<text text-anchor=\"middle\" x=\"738.5\" y=\"-14.3\" font-family=\"Helvetica,sans-Serif\" font-size=\"14.00\">(...)</text>\n</g>\n<!-- 56&#45;&gt;57 -->\n<g id=\"edge13\" class=\"edge\">\n<title>56&#45;&gt;57</title>\n<path fill=\"none\" stroke=\"black\" d=\"M762.71,-71.8C758.84,-63.35 754.53,-53.95 750.63,-45.45\"/>\n<polygon fill=\"black\" stroke=\"black\" points=\"753.8,-43.96 746.45,-36.33 747.43,-46.88 753.8,-43.96\"/>\n</g>\n<!-- 76 -->\n<g id=\"node15\" class=\"node\">\n<title>76</title>\n<polygon fill=\"#c0c0c0\" stroke=\"black\" points=\"837.5,-36 783.5,-36 783.5,0 837.5,0 837.5,-36\"/>\n<text text-anchor=\"middle\" x=\"810.5\" y=\"-14.3\" font-family=\"Helvetica,sans-Serif\" font-size=\"14.00\">(...)</text>\n</g>\n<!-- 56&#45;&gt;76 -->\n<g id=\"edge14\" class=\"edge\">\n<title>56&#45;&gt;76</title>\n<path fill=\"none\" stroke=\"black\" d=\"M786.29,-71.8C790.16,-63.35 794.47,-53.95 798.37,-45.45\"/>\n<polygon fill=\"black\" stroke=\"black\" points=\"801.57,-46.88 802.55,-36.33 795.2,-43.96 801.57,-46.88\"/>\n</g>\n</g>\n</svg>\n",
            "text/plain": [
              "<graphviz.sources.Source at 0x7e56305fba60>"
            ]
          },
          "metadata": {}
        },
        {
          "output_type": "display_data",
          "data": {
            "image/svg+xml": "<?xml version=\"1.0\" encoding=\"UTF-8\" standalone=\"no\"?>\n<!DOCTYPE svg PUBLIC \"-//W3C//DTD SVG 1.1//EN\"\n \"http://www.w3.org/Graphics/SVG/1.1/DTD/svg11.dtd\">\n<!-- Generated by graphviz version 2.43.0 (0)\n -->\n<!-- Title: Tree Pages: 1 -->\n<svg width=\"986pt\" height=\"311pt\"\n viewBox=\"0.00 0.00 985.50 311.00\" xmlns=\"http://www.w3.org/2000/svg\" xmlns:xlink=\"http://www.w3.org/1999/xlink\">\n<g id=\"graph0\" class=\"graph\" transform=\"scale(1 1) rotate(0) translate(4 307)\">\n<title>Tree</title>\n<polygon fill=\"white\" stroke=\"transparent\" points=\"-4,4 -4,-307 981.5,-307 981.5,4 -4,4\"/>\n<!-- 0 -->\n<g id=\"node1\" class=\"node\">\n<title>0</title>\n<polygon fill=\"#e78844\" stroke=\"black\" points=\"576.5,-303 351.5,-303 351.5,-250 576.5,-250 576.5,-303\"/>\n<text text-anchor=\"middle\" x=\"464\" y=\"-287.8\" font-family=\"Helvetica,sans-Serif\" font-size=\"14.00\">MARGIN_OF_VICTORY &lt;= 5.565</text>\n<text text-anchor=\"middle\" x=\"464\" y=\"-272.8\" font-family=\"Helvetica,sans-Serif\" font-size=\"14.00\">samples = 100.0%</text>\n<text text-anchor=\"middle\" x=\"464\" y=\"-257.8\" font-family=\"Helvetica,sans-Serif\" font-size=\"14.00\">value = [0.945, 0.055]</text>\n</g>\n<!-- 1 -->\n<g id=\"node2\" class=\"node\">\n<title>1</title>\n<polygon fill=\"#e6843d\" stroke=\"black\" points=\"455.5,-214 208.5,-214 208.5,-161 455.5,-161 455.5,-214\"/>\n<text text-anchor=\"middle\" x=\"332\" y=\"-198.8\" font-family=\"Helvetica,sans-Serif\" font-size=\"14.00\">SIMPLE_RATING_SYSTEM &lt;= 3.165</text>\n<text text-anchor=\"middle\" x=\"332\" y=\"-183.8\" font-family=\"Helvetica,sans-Serif\" font-size=\"14.00\">samples = 88.8%</text>\n<text text-anchor=\"middle\" x=\"332\" y=\"-168.8\" font-family=\"Helvetica,sans-Serif\" font-size=\"14.00\">value = [0.979, 0.021]</text>\n</g>\n<!-- 0&#45;&gt;1 -->\n<g id=\"edge1\" class=\"edge\">\n<title>0&#45;&gt;1</title>\n<path fill=\"none\" stroke=\"black\" d=\"M425.11,-249.87C410.87,-240.48 394.59,-229.75 379.67,-219.92\"/>\n<polygon fill=\"black\" stroke=\"black\" points=\"381.34,-216.83 371.07,-214.25 377.49,-222.68 381.34,-216.83\"/>\n<text text-anchor=\"middle\" x=\"376.1\" y=\"-235.04\" font-family=\"Helvetica,sans-Serif\" font-size=\"14.00\">True</text>\n</g>\n<!-- 44 -->\n<g id=\"node9\" class=\"node\">\n<title>44</title>\n<polygon fill=\"#f1bc96\" stroke=\"black\" points=\"720.5,-214 473.5,-214 473.5,-161 720.5,-161 720.5,-214\"/>\n<text text-anchor=\"middle\" x=\"597\" y=\"-198.8\" font-family=\"Helvetica,sans-Serif\" font-size=\"14.00\">SIMPLE_RATING_SYSTEM &lt;= 5.515</text>\n<text text-anchor=\"middle\" x=\"597\" y=\"-183.8\" font-family=\"Helvetica,sans-Serif\" font-size=\"14.00\">samples = 11.2%</text>\n<text text-anchor=\"middle\" x=\"597\" y=\"-168.8\" font-family=\"Helvetica,sans-Serif\" font-size=\"14.00\">value = [0.681, 0.319]</text>\n</g>\n<!-- 0&#45;&gt;44 -->\n<g id=\"edge8\" class=\"edge\">\n<title>0&#45;&gt;44</title>\n<path fill=\"none\" stroke=\"black\" d=\"M503.19,-249.87C517.53,-240.48 533.93,-229.75 548.97,-219.92\"/>\n<polygon fill=\"black\" stroke=\"black\" points=\"551.18,-222.65 557.64,-214.25 547.35,-216.79 551.18,-222.65\"/>\n<text text-anchor=\"middle\" x=\"552.52\" y=\"-235.02\" font-family=\"Helvetica,sans-Serif\" font-size=\"14.00\">False</text>\n</g>\n<!-- 2 -->\n<g id=\"node3\" class=\"node\">\n<title>2</title>\n<polygon fill=\"#e5823a\" stroke=\"black\" points=\"210,-125 0,-125 0,-72 210,-72 210,-125\"/>\n<text text-anchor=\"middle\" x=\"105\" y=\"-109.8\" font-family=\"Helvetica,sans-Serif\" font-size=\"14.00\">TOTAL_REBOUNDS &lt;= 4162.5</text>\n<text text-anchor=\"middle\" x=\"105\" y=\"-94.8\" font-family=\"Helvetica,sans-Serif\" font-size=\"14.00\">samples = 76.0%</text>\n<text text-anchor=\"middle\" x=\"105\" y=\"-79.8\" font-family=\"Helvetica,sans-Serif\" font-size=\"14.00\">value = [0.993, 0.007]</text>\n</g>\n<!-- 1&#45;&gt;2 -->\n<g id=\"edge2\" class=\"edge\">\n<title>1&#45;&gt;2</title>\n<path fill=\"none\" stroke=\"black\" d=\"M265.43,-160.98C238.98,-150.85 208.41,-139.13 181.09,-128.66\"/>\n<polygon fill=\"black\" stroke=\"black\" points=\"182.16,-125.33 171.57,-125.01 179.66,-131.86 182.16,-125.33\"/>\n</g>\n<!-- 17 -->\n<g id=\"node6\" class=\"node\">\n<title>17</title>\n<polygon fill=\"#e89050\" stroke=\"black\" points=\"438,-125 228,-125 228,-72 438,-72 438,-125\"/>\n<text text-anchor=\"middle\" x=\"333\" y=\"-109.8\" font-family=\"Helvetica,sans-Serif\" font-size=\"14.00\">TOTAL_REBOUNDS &lt;= 4434.5</text>\n<text text-anchor=\"middle\" x=\"333\" y=\"-94.8\" font-family=\"Helvetica,sans-Serif\" font-size=\"14.00\">samples = 12.8%</text>\n<text text-anchor=\"middle\" x=\"333\" y=\"-79.8\" font-family=\"Helvetica,sans-Serif\" font-size=\"14.00\">value = [0.896, 0.104]</text>\n</g>\n<!-- 1&#45;&gt;17 -->\n<g id=\"edge5\" class=\"edge\">\n<title>1&#45;&gt;17</title>\n<path fill=\"none\" stroke=\"black\" d=\"M332.29,-160.87C332.39,-152.89 332.49,-143.93 332.59,-135.38\"/>\n<polygon fill=\"black\" stroke=\"black\" points=\"336.09,-135.29 332.7,-125.25 329.09,-135.21 336.09,-135.29\"/>\n</g>\n<!-- 3 -->\n<g id=\"node4\" class=\"node\">\n<title>3</title>\n<polygon fill=\"#c0c0c0\" stroke=\"black\" points=\"96,-36 42,-36 42,0 96,0 96,-36\"/>\n<text text-anchor=\"middle\" x=\"69\" y=\"-14.3\" font-family=\"Helvetica,sans-Serif\" font-size=\"14.00\">(...)</text>\n</g>\n<!-- 2&#45;&gt;3 -->\n<g id=\"edge3\" class=\"edge\">\n<title>2&#45;&gt;3</title>\n<path fill=\"none\" stroke=\"black\" d=\"M93.21,-71.8C89.34,-63.35 85.03,-53.95 81.13,-45.45\"/>\n<polygon fill=\"black\" stroke=\"black\" points=\"84.3,-43.96 76.95,-36.33 77.93,-46.88 84.3,-43.96\"/>\n</g>\n<!-- 10 -->\n<g id=\"node5\" class=\"node\">\n<title>10</title>\n<polygon fill=\"#c0c0c0\" stroke=\"black\" points=\"168,-36 114,-36 114,0 168,0 168,-36\"/>\n<text text-anchor=\"middle\" x=\"141\" y=\"-14.3\" font-family=\"Helvetica,sans-Serif\" font-size=\"14.00\">(...)</text>\n</g>\n<!-- 2&#45;&gt;10 -->\n<g id=\"edge4\" class=\"edge\">\n<title>2&#45;&gt;10</title>\n<path fill=\"none\" stroke=\"black\" d=\"M116.79,-71.8C120.66,-63.35 124.97,-53.95 128.87,-45.45\"/>\n<polygon fill=\"black\" stroke=\"black\" points=\"132.07,-46.88 133.05,-36.33 125.7,-43.96 132.07,-46.88\"/>\n</g>\n<!-- 18 -->\n<g id=\"node7\" class=\"node\">\n<title>18</title>\n<polygon fill=\"#c0c0c0\" stroke=\"black\" points=\"324,-36 270,-36 270,0 324,0 324,-36\"/>\n<text text-anchor=\"middle\" x=\"297\" y=\"-14.3\" font-family=\"Helvetica,sans-Serif\" font-size=\"14.00\">(...)</text>\n</g>\n<!-- 17&#45;&gt;18 -->\n<g id=\"edge6\" class=\"edge\">\n<title>17&#45;&gt;18</title>\n<path fill=\"none\" stroke=\"black\" d=\"M321.21,-71.8C317.34,-63.35 313.03,-53.95 309.13,-45.45\"/>\n<polygon fill=\"black\" stroke=\"black\" points=\"312.3,-43.96 304.95,-36.33 305.93,-46.88 312.3,-43.96\"/>\n</g>\n<!-- 39 -->\n<g id=\"node8\" class=\"node\">\n<title>39</title>\n<polygon fill=\"#c0c0c0\" stroke=\"black\" points=\"396,-36 342,-36 342,0 396,0 396,-36\"/>\n<text text-anchor=\"middle\" x=\"369\" y=\"-14.3\" font-family=\"Helvetica,sans-Serif\" font-size=\"14.00\">(...)</text>\n</g>\n<!-- 17&#45;&gt;39 -->\n<g id=\"edge7\" class=\"edge\">\n<title>17&#45;&gt;39</title>\n<path fill=\"none\" stroke=\"black\" d=\"M344.79,-71.8C348.66,-63.35 352.97,-53.95 356.87,-45.45\"/>\n<polygon fill=\"black\" stroke=\"black\" points=\"360.07,-46.88 361.05,-36.33 353.7,-43.96 360.07,-46.88\"/>\n</g>\n<!-- 45 -->\n<g id=\"node10\" class=\"node\">\n<title>45</title>\n<polygon fill=\"#80c0ee\" stroke=\"black\" points=\"734,-125 458,-125 458,-72 734,-72 734,-125\"/>\n<text text-anchor=\"middle\" x=\"596\" y=\"-109.8\" font-family=\"Helvetica,sans-Serif\" font-size=\"14.00\">FREE_THROWS_ATTEMPTED &lt;= 2662.0</text>\n<text text-anchor=\"middle\" x=\"596\" y=\"-94.8\" font-family=\"Helvetica,sans-Serif\" font-size=\"14.00\">samples = 1.3%</text>\n<text text-anchor=\"middle\" x=\"596\" y=\"-79.8\" font-family=\"Helvetica,sans-Serif\" font-size=\"14.00\">value = [0.263, 0.737]</text>\n</g>\n<!-- 44&#45;&gt;45 -->\n<g id=\"edge9\" class=\"edge\">\n<title>44&#45;&gt;45</title>\n<path fill=\"none\" stroke=\"black\" d=\"M596.71,-160.87C596.61,-152.89 596.51,-143.93 596.41,-135.38\"/>\n<polygon fill=\"black\" stroke=\"black\" points=\"599.91,-135.21 596.3,-125.25 592.91,-135.29 599.91,-135.21\"/>\n</g>\n<!-- 52 -->\n<g id=\"node13\" class=\"node\">\n<title>52</title>\n<polygon fill=\"#eeac7c\" stroke=\"black\" points=\"977.5,-125 752.5,-125 752.5,-72 977.5,-72 977.5,-125\"/>\n<text text-anchor=\"middle\" x=\"865\" y=\"-109.8\" font-family=\"Helvetica,sans-Serif\" font-size=\"14.00\">MARGIN_OF_VICTORY &lt;= 7.635</text>\n<text text-anchor=\"middle\" x=\"865\" y=\"-94.8\" font-family=\"Helvetica,sans-Serif\" font-size=\"14.00\">samples = 9.9%</text>\n<text text-anchor=\"middle\" x=\"865\" y=\"-79.8\" font-family=\"Helvetica,sans-Serif\" font-size=\"14.00\">value = [0.746, 0.254]</text>\n</g>\n<!-- 44&#45;&gt;52 -->\n<g id=\"edge12\" class=\"edge\">\n<title>44&#45;&gt;52</title>\n<path fill=\"none\" stroke=\"black\" d=\"M675.6,-160.98C707.37,-150.67 744.18,-138.72 776.86,-128.11\"/>\n<polygon fill=\"black\" stroke=\"black\" points=\"777.97,-131.43 786.4,-125.01 775.81,-124.77 777.97,-131.43\"/>\n</g>\n<!-- 46 -->\n<g id=\"node11\" class=\"node\">\n<title>46</title>\n<polygon fill=\"#c0c0c0\" stroke=\"black\" points=\"587,-36 533,-36 533,0 587,0 587,-36\"/>\n<text text-anchor=\"middle\" x=\"560\" y=\"-14.3\" font-family=\"Helvetica,sans-Serif\" font-size=\"14.00\">(...)</text>\n</g>\n<!-- 45&#45;&gt;46 -->\n<g id=\"edge10\" class=\"edge\">\n<title>45&#45;&gt;46</title>\n<path fill=\"none\" stroke=\"black\" d=\"M584.21,-71.8C580.34,-63.35 576.03,-53.95 572.13,-45.45\"/>\n<polygon fill=\"black\" stroke=\"black\" points=\"575.3,-43.96 567.95,-36.33 568.93,-46.88 575.3,-43.96\"/>\n</g>\n<!-- 51 -->\n<g id=\"node12\" class=\"node\">\n<title>51</title>\n<polygon fill=\"#c0c0c0\" stroke=\"black\" points=\"659,-36 605,-36 605,0 659,0 659,-36\"/>\n<text text-anchor=\"middle\" x=\"632\" y=\"-14.3\" font-family=\"Helvetica,sans-Serif\" font-size=\"14.00\">(...)</text>\n</g>\n<!-- 45&#45;&gt;51 -->\n<g id=\"edge11\" class=\"edge\">\n<title>45&#45;&gt;51</title>\n<path fill=\"none\" stroke=\"black\" d=\"M607.79,-71.8C611.66,-63.35 615.97,-53.95 619.87,-45.45\"/>\n<polygon fill=\"black\" stroke=\"black\" points=\"623.07,-46.88 624.05,-36.33 616.7,-43.96 623.07,-46.88\"/>\n</g>\n<!-- 53 -->\n<g id=\"node14\" class=\"node\">\n<title>53</title>\n<polygon fill=\"#c0c0c0\" stroke=\"black\" points=\"856,-36 802,-36 802,0 856,0 856,-36\"/>\n<text text-anchor=\"middle\" x=\"829\" y=\"-14.3\" font-family=\"Helvetica,sans-Serif\" font-size=\"14.00\">(...)</text>\n</g>\n<!-- 52&#45;&gt;53 -->\n<g id=\"edge13\" class=\"edge\">\n<title>52&#45;&gt;53</title>\n<path fill=\"none\" stroke=\"black\" d=\"M853.21,-71.8C849.34,-63.35 845.03,-53.95 841.13,-45.45\"/>\n<polygon fill=\"black\" stroke=\"black\" points=\"844.3,-43.96 836.95,-36.33 837.93,-46.88 844.3,-43.96\"/>\n</g>\n<!-- 66 -->\n<g id=\"node15\" class=\"node\">\n<title>66</title>\n<polygon fill=\"#c0c0c0\" stroke=\"black\" points=\"928,-36 874,-36 874,0 928,0 928,-36\"/>\n<text text-anchor=\"middle\" x=\"901\" y=\"-14.3\" font-family=\"Helvetica,sans-Serif\" font-size=\"14.00\">(...)</text>\n</g>\n<!-- 52&#45;&gt;66 -->\n<g id=\"edge14\" class=\"edge\">\n<title>52&#45;&gt;66</title>\n<path fill=\"none\" stroke=\"black\" d=\"M876.79,-71.8C880.66,-63.35 884.97,-53.95 888.87,-45.45\"/>\n<polygon fill=\"black\" stroke=\"black\" points=\"892.07,-46.88 893.05,-36.33 885.7,-43.96 892.07,-46.88\"/>\n</g>\n</g>\n</svg>\n",
            "text/plain": [
              "<graphviz.sources.Source at 0x7e56305f8730>"
            ]
          },
          "metadata": {}
        },
        {
          "output_type": "display_data",
          "data": {
            "image/svg+xml": "<?xml version=\"1.0\" encoding=\"UTF-8\" standalone=\"no\"?>\n<!DOCTYPE svg PUBLIC \"-//W3C//DTD SVG 1.1//EN\"\n \"http://www.w3.org/Graphics/SVG/1.1/DTD/svg11.dtd\">\n<!-- Generated by graphviz version 2.43.0 (0)\n -->\n<!-- Title: Tree Pages: 1 -->\n<svg width=\"980pt\" height=\"311pt\"\n viewBox=\"0.00 0.00 980.00 311.00\" xmlns=\"http://www.w3.org/2000/svg\" xmlns:xlink=\"http://www.w3.org/1999/xlink\">\n<g id=\"graph0\" class=\"graph\" transform=\"scale(1 1) rotate(0) translate(4 307)\">\n<title>Tree</title>\n<polygon fill=\"white\" stroke=\"transparent\" points=\"-4,4 -4,-307 976,-307 976,4 -4,4\"/>\n<!-- 0 -->\n<g id=\"node1\" class=\"node\">\n<title>0</title>\n<polygon fill=\"#e68743\" stroke=\"black\" points=\"583,-303 360,-303 360,-250 583,-250 583,-303\"/>\n<text text-anchor=\"middle\" x=\"471.5\" y=\"-287.8\" font-family=\"Helvetica,sans-Serif\" font-size=\"14.00\">FIELD_GOALS_MADE &lt;= 3732.0</text>\n<text text-anchor=\"middle\" x=\"471.5\" y=\"-272.8\" font-family=\"Helvetica,sans-Serif\" font-size=\"14.00\">samples = 100.0%</text>\n<text text-anchor=\"middle\" x=\"471.5\" y=\"-257.8\" font-family=\"Helvetica,sans-Serif\" font-size=\"14.00\">value = [0.952, 0.048]</text>\n</g>\n<!-- 1 -->\n<g id=\"node2\" class=\"node\">\n<title>1</title>\n<polygon fill=\"#e68540\" stroke=\"black\" points=\"455.5,-214 237.5,-214 237.5,-161 455.5,-161 455.5,-214\"/>\n<text text-anchor=\"middle\" x=\"346.5\" y=\"-198.8\" font-family=\"Helvetica,sans-Serif\" font-size=\"14.00\">MARGIN_OF_VICTORY &lt;= 3.22</text>\n<text text-anchor=\"middle\" x=\"346.5\" y=\"-183.8\" font-family=\"Helvetica,sans-Serif\" font-size=\"14.00\">samples = 93.4%</text>\n<text text-anchor=\"middle\" x=\"346.5\" y=\"-168.8\" font-family=\"Helvetica,sans-Serif\" font-size=\"14.00\">value = [0.967, 0.033]</text>\n</g>\n<!-- 0&#45;&gt;1 -->\n<g id=\"edge1\" class=\"edge\">\n<title>0&#45;&gt;1</title>\n<path fill=\"none\" stroke=\"black\" d=\"M434.67,-249.87C421.31,-240.57 406.06,-229.95 392.04,-220.2\"/>\n<polygon fill=\"black\" stroke=\"black\" points=\"393.7,-217.09 383.5,-214.25 389.71,-222.84 393.7,-217.09\"/>\n<text text-anchor=\"middle\" x=\"387.91\" y=\"-235.16\" font-family=\"Helvetica,sans-Serif\" font-size=\"14.00\">True</text>\n</g>\n<!-- 70 -->\n<g id=\"node9\" class=\"node\">\n<title>70</title>\n<polygon fill=\"#eeab7b\" stroke=\"black\" points=\"721,-214 474,-214 474,-161 721,-161 721,-214\"/>\n<text text-anchor=\"middle\" x=\"597.5\" y=\"-198.8\" font-family=\"Helvetica,sans-Serif\" font-size=\"14.00\">SIMPLE_RATING_SYSTEM &lt;= 5.935</text>\n<text text-anchor=\"middle\" x=\"597.5\" y=\"-183.8\" font-family=\"Helvetica,sans-Serif\" font-size=\"14.00\">samples = 6.6%</text>\n<text text-anchor=\"middle\" x=\"597.5\" y=\"-168.8\" font-family=\"Helvetica,sans-Serif\" font-size=\"14.00\">value = [0.75, 0.25]</text>\n</g>\n<!-- 0&#45;&gt;70 -->\n<g id=\"edge8\" class=\"edge\">\n<title>0&#45;&gt;70</title>\n<path fill=\"none\" stroke=\"black\" d=\"M508.62,-249.87C522.09,-240.57 537.46,-229.95 551.6,-220.2\"/>\n<polygon fill=\"black\" stroke=\"black\" points=\"553.97,-222.81 560.21,-214.25 549.99,-217.05 553.97,-222.81\"/>\n<text text-anchor=\"middle\" x=\"555.7\" y=\"-235.14\" font-family=\"Helvetica,sans-Serif\" font-size=\"14.00\">False</text>\n</g>\n<!-- 2 -->\n<g id=\"node3\" class=\"node\">\n<title>2</title>\n<polygon fill=\"#e58139\" stroke=\"black\" points=\"225,-125 0,-125 0,-72 225,-72 225,-125\"/>\n<text text-anchor=\"middle\" x=\"112.5\" y=\"-109.8\" font-family=\"Helvetica,sans-Serif\" font-size=\"14.00\">MARGIN_OF_VICTORY &lt;= 2.125</text>\n<text text-anchor=\"middle\" x=\"112.5\" y=\"-94.8\" font-family=\"Helvetica,sans-Serif\" font-size=\"14.00\">samples = 71.5%</text>\n<text text-anchor=\"middle\" x=\"112.5\" y=\"-79.8\" font-family=\"Helvetica,sans-Serif\" font-size=\"14.00\">value = [0.998, 0.002]</text>\n</g>\n<!-- 1&#45;&gt;2 -->\n<g id=\"edge2\" class=\"edge\">\n<title>1&#45;&gt;2</title>\n<path fill=\"none\" stroke=\"black\" d=\"M277.87,-160.98C250.49,-150.8 218.82,-139.03 190.56,-128.52\"/>\n<polygon fill=\"black\" stroke=\"black\" points=\"191.72,-125.22 181.13,-125.01 189.28,-131.78 191.72,-125.22\"/>\n</g>\n<!-- 13 -->\n<g id=\"node6\" class=\"node\">\n<title>13</title>\n<polygon fill=\"#e99558\" stroke=\"black\" points=\"453.5,-125 243.5,-125 243.5,-72 453.5,-72 453.5,-125\"/>\n<text text-anchor=\"middle\" x=\"348.5\" y=\"-109.8\" font-family=\"Helvetica,sans-Serif\" font-size=\"14.00\">TOTAL_REBOUNDS &lt;= 4190.5</text>\n<text text-anchor=\"middle\" x=\"348.5\" y=\"-94.8\" font-family=\"Helvetica,sans-Serif\" font-size=\"14.00\">samples = 21.8%</text>\n<text text-anchor=\"middle\" x=\"348.5\" y=\"-79.8\" font-family=\"Helvetica,sans-Serif\" font-size=\"14.00\">value = [0.866, 0.134]</text>\n</g>\n<!-- 1&#45;&gt;13 -->\n<g id=\"edge5\" class=\"edge\">\n<title>1&#45;&gt;13</title>\n<path fill=\"none\" stroke=\"black\" d=\"M347.09,-160.87C347.27,-152.89 347.48,-143.93 347.68,-135.38\"/>\n<polygon fill=\"black\" stroke=\"black\" points=\"351.18,-135.33 347.91,-125.25 344.18,-135.17 351.18,-135.33\"/>\n</g>\n<!-- 3 -->\n<g id=\"node4\" class=\"node\">\n<title>3</title>\n<polygon fill=\"#c0c0c0\" stroke=\"black\" points=\"103.5,-36 49.5,-36 49.5,0 103.5,0 103.5,-36\"/>\n<text text-anchor=\"middle\" x=\"76.5\" y=\"-14.3\" font-family=\"Helvetica,sans-Serif\" font-size=\"14.00\">(...)</text>\n</g>\n<!-- 2&#45;&gt;3 -->\n<g id=\"edge3\" class=\"edge\">\n<title>2&#45;&gt;3</title>\n<path fill=\"none\" stroke=\"black\" d=\"M100.71,-71.8C96.84,-63.35 92.53,-53.95 88.63,-45.45\"/>\n<polygon fill=\"black\" stroke=\"black\" points=\"91.8,-43.96 84.45,-36.33 85.43,-46.88 91.8,-43.96\"/>\n</g>\n<!-- 4 -->\n<g id=\"node5\" class=\"node\">\n<title>4</title>\n<polygon fill=\"#c0c0c0\" stroke=\"black\" points=\"175.5,-36 121.5,-36 121.5,0 175.5,0 175.5,-36\"/>\n<text text-anchor=\"middle\" x=\"148.5\" y=\"-14.3\" font-family=\"Helvetica,sans-Serif\" font-size=\"14.00\">(...)</text>\n</g>\n<!-- 2&#45;&gt;4 -->\n<g id=\"edge4\" class=\"edge\">\n<title>2&#45;&gt;4</title>\n<path fill=\"none\" stroke=\"black\" d=\"M124.29,-71.8C128.16,-63.35 132.47,-53.95 136.37,-45.45\"/>\n<polygon fill=\"black\" stroke=\"black\" points=\"139.57,-46.88 140.55,-36.33 133.2,-43.96 139.57,-46.88\"/>\n</g>\n<!-- 14 -->\n<g id=\"node7\" class=\"node\">\n<title>14</title>\n<polygon fill=\"#c0c0c0\" stroke=\"black\" points=\"339.5,-36 285.5,-36 285.5,0 339.5,0 339.5,-36\"/>\n<text text-anchor=\"middle\" x=\"312.5\" y=\"-14.3\" font-family=\"Helvetica,sans-Serif\" font-size=\"14.00\">(...)</text>\n</g>\n<!-- 13&#45;&gt;14 -->\n<g id=\"edge6\" class=\"edge\">\n<title>13&#45;&gt;14</title>\n<path fill=\"none\" stroke=\"black\" d=\"M336.71,-71.8C332.84,-63.35 328.53,-53.95 324.63,-45.45\"/>\n<polygon fill=\"black\" stroke=\"black\" points=\"327.8,-43.96 320.45,-36.33 321.43,-46.88 327.8,-43.96\"/>\n</g>\n<!-- 59 -->\n<g id=\"node8\" class=\"node\">\n<title>59</title>\n<polygon fill=\"#c0c0c0\" stroke=\"black\" points=\"411.5,-36 357.5,-36 357.5,0 411.5,0 411.5,-36\"/>\n<text text-anchor=\"middle\" x=\"384.5\" y=\"-14.3\" font-family=\"Helvetica,sans-Serif\" font-size=\"14.00\">(...)</text>\n</g>\n<!-- 13&#45;&gt;59 -->\n<g id=\"edge7\" class=\"edge\">\n<title>13&#45;&gt;59</title>\n<path fill=\"none\" stroke=\"black\" d=\"M360.29,-71.8C364.16,-63.35 368.47,-53.95 372.37,-45.45\"/>\n<polygon fill=\"black\" stroke=\"black\" points=\"375.57,-46.88 376.55,-36.33 369.2,-43.96 375.57,-46.88\"/>\n</g>\n<!-- 71 -->\n<g id=\"node10\" class=\"node\">\n<title>71</title>\n<polygon fill=\"#e88d4c\" stroke=\"black\" points=\"715,-125 476,-125 476,-72 715,-72 715,-125\"/>\n<text text-anchor=\"middle\" x=\"595.5\" y=\"-109.8\" font-family=\"Helvetica,sans-Serif\" font-size=\"14.00\">SIMPLE_RATING_SYSTEM &lt;= 2.43</text>\n<text text-anchor=\"middle\" x=\"595.5\" y=\"-94.8\" font-family=\"Helvetica,sans-Serif\" font-size=\"14.00\">samples = 4.9%</text>\n<text text-anchor=\"middle\" x=\"595.5\" y=\"-79.8\" font-family=\"Helvetica,sans-Serif\" font-size=\"14.00\">value = [0.912, 0.088]</text>\n</g>\n<!-- 70&#45;&gt;71 -->\n<g id=\"edge9\" class=\"edge\">\n<title>70&#45;&gt;71</title>\n<path fill=\"none\" stroke=\"black\" d=\"M596.91,-160.87C596.73,-152.89 596.52,-143.93 596.32,-135.38\"/>\n<polygon fill=\"black\" stroke=\"black\" points=\"599.82,-135.17 596.09,-125.25 592.82,-135.33 599.82,-135.17\"/>\n</g>\n<!-- 82 -->\n<g id=\"node13\" class=\"node\">\n<title>82</title>\n<polygon fill=\"#8bc5f0\" stroke=\"black\" points=\"972,-125 733,-125 733,-72 972,-72 972,-125\"/>\n<text text-anchor=\"middle\" x=\"852.5\" y=\"-109.8\" font-family=\"Helvetica,sans-Serif\" font-size=\"14.00\">TWO_POINTERS_MADE &lt;= 3778.0</text>\n<text text-anchor=\"middle\" x=\"852.5\" y=\"-94.8\" font-family=\"Helvetica,sans-Serif\" font-size=\"14.00\">samples = 1.7%</text>\n<text text-anchor=\"middle\" x=\"852.5\" y=\"-79.8\" font-family=\"Helvetica,sans-Serif\" font-size=\"14.00\">value = [0.292, 0.708]</text>\n</g>\n<!-- 70&#45;&gt;82 -->\n<g id=\"edge12\" class=\"edge\">\n<title>70&#45;&gt;82</title>\n<path fill=\"none\" stroke=\"black\" d=\"M672.29,-160.98C702.38,-150.72 737.24,-138.82 768.23,-128.25\"/>\n<polygon fill=\"black\" stroke=\"black\" points=\"769.38,-131.56 777.72,-125.01 767.12,-124.93 769.38,-131.56\"/>\n</g>\n<!-- 72 -->\n<g id=\"node11\" class=\"node\">\n<title>72</title>\n<polygon fill=\"#c0c0c0\" stroke=\"black\" points=\"586.5,-36 532.5,-36 532.5,0 586.5,0 586.5,-36\"/>\n<text text-anchor=\"middle\" x=\"559.5\" y=\"-14.3\" font-family=\"Helvetica,sans-Serif\" font-size=\"14.00\">(...)</text>\n</g>\n<!-- 71&#45;&gt;72 -->\n<g id=\"edge10\" class=\"edge\">\n<title>71&#45;&gt;72</title>\n<path fill=\"none\" stroke=\"black\" d=\"M583.71,-71.8C579.84,-63.35 575.53,-53.95 571.63,-45.45\"/>\n<polygon fill=\"black\" stroke=\"black\" points=\"574.8,-43.96 567.45,-36.33 568.43,-46.88 574.8,-43.96\"/>\n</g>\n<!-- 73 -->\n<g id=\"node12\" class=\"node\">\n<title>73</title>\n<polygon fill=\"#c0c0c0\" stroke=\"black\" points=\"658.5,-36 604.5,-36 604.5,0 658.5,0 658.5,-36\"/>\n<text text-anchor=\"middle\" x=\"631.5\" y=\"-14.3\" font-family=\"Helvetica,sans-Serif\" font-size=\"14.00\">(...)</text>\n</g>\n<!-- 71&#45;&gt;73 -->\n<g id=\"edge11\" class=\"edge\">\n<title>71&#45;&gt;73</title>\n<path fill=\"none\" stroke=\"black\" d=\"M607.29,-71.8C611.16,-63.35 615.47,-53.95 619.37,-45.45\"/>\n<polygon fill=\"black\" stroke=\"black\" points=\"622.57,-46.88 623.55,-36.33 616.2,-43.96 622.57,-46.88\"/>\n</g>\n<!-- 83 -->\n<g id=\"node14\" class=\"node\">\n<title>83</title>\n<polygon fill=\"#c0c0c0\" stroke=\"black\" points=\"843.5,-36 789.5,-36 789.5,0 843.5,0 843.5,-36\"/>\n<text text-anchor=\"middle\" x=\"816.5\" y=\"-14.3\" font-family=\"Helvetica,sans-Serif\" font-size=\"14.00\">(...)</text>\n</g>\n<!-- 82&#45;&gt;83 -->\n<g id=\"edge13\" class=\"edge\">\n<title>82&#45;&gt;83</title>\n<path fill=\"none\" stroke=\"black\" d=\"M840.71,-71.8C836.84,-63.35 832.53,-53.95 828.63,-45.45\"/>\n<polygon fill=\"black\" stroke=\"black\" points=\"831.8,-43.96 824.45,-36.33 825.43,-46.88 831.8,-43.96\"/>\n</g>\n<!-- 84 -->\n<g id=\"node15\" class=\"node\">\n<title>84</title>\n<polygon fill=\"#c0c0c0\" stroke=\"black\" points=\"915.5,-36 861.5,-36 861.5,0 915.5,0 915.5,-36\"/>\n<text text-anchor=\"middle\" x=\"888.5\" y=\"-14.3\" font-family=\"Helvetica,sans-Serif\" font-size=\"14.00\">(...)</text>\n</g>\n<!-- 82&#45;&gt;84 -->\n<g id=\"edge14\" class=\"edge\">\n<title>82&#45;&gt;84</title>\n<path fill=\"none\" stroke=\"black\" d=\"M864.29,-71.8C868.16,-63.35 872.47,-53.95 876.37,-45.45\"/>\n<polygon fill=\"black\" stroke=\"black\" points=\"879.57,-46.88 880.55,-36.33 873.2,-43.96 879.57,-46.88\"/>\n</g>\n</g>\n</svg>\n",
            "text/plain": [
              "<graphviz.sources.Source at 0x7e56305f9c30>"
            ]
          },
          "metadata": {}
        }
      ]
    },
    {
      "cell_type": "markdown",
      "source": [
        "## **Insights and Conclusion**\n",
        "\n",
        "In our recent data science project, we leveraged historical data on player performance, opponent statistics, and team attributes to predict the 2024 NBA champion. Our extensive data cleaning and processing led us to identify the most relevant features for our predictive model. Interestingly, we found that features extracted from team-related data sources provided the most predictive power.\n",
        "\n",
        "We utilized Random Forests as our primary machine learning model due to its ability to handle large datasets with numerous features while effectively managing overfitting. This approach enabled us to capture complex relationships within the data and make robust predictions about future championship outcomes.\n",
        "\n",
        "Our model’s prediction pointed towards the Boston Celtics as the potential victors of the NBA 2024 championship. This insight underscores the effectiveness of our approach in analyzing historical trends and team performance metrics to identify strong contenders for the title.\n",
        "\n",
        "In conclusion, our project yielded valuable insights into the factors influencing team success in professional basketball. Our focus on relevant features and the use of Random Forests as our predictive model allowed us to provide actionable insights for stakeholders and enthusiasts alike. While our model’s forecast favors the Boston Celtics, we acknowledge the dynamic nature of sports and the potential for unexpected outcomes. Nonetheless, our methodology demonstrates the potential of data-driven approaches in enhancing decision-making processes and gaining deeper insights into the complex dynamics of competitive sports.\n",
        "\n",
        "This project was a great learning experience, helping us develop skills in data cleaning and processing. The prediction of the Boston Celtics as potential winners reaffirms our belief in the effectiveness of our work as they are currently up 1-0 in the NBA playoffs semi-final. We unearthed valuable insights and presented visualizations that could spur further inquiries and investigations, potentially leading to positive outcomes for basketball, such as improved popularity, performance, scouting, and player development.\n",
        "\n",
        "While we wouldn’t advise using our prediction as a sure bet due to the preliminary nature of our model and the observed imprecision in the values, we hope that the outcome of this year’s NBA season reflects the results of our report. We believe the low scores for the positive outcome in our model are due to our data being unbalanced. For future research, we recommend considering other ensemble methods adapted for imbalanced data, such as Synthetic Minority Over-sampling Technique (SMOTE).\n",
        "\n",
        "Looking ahead, we are hopeful that our work will contribute to the broader understanding of basketball dynamics and inspire further research in this exciting field."
      ],
      "metadata": {
        "id": "aV53Bfl04eBK"
      }
    },
    {
      "cell_type": "code",
      "source": [
        "!pip install nbconvert"
      ],
      "metadata": {
        "id": "PACLG_X_CN9T",
        "colab": {
          "base_uri": "https://localhost:8080/"
        },
        "outputId": "e361e762-49f5-4470-a442-e541387c1f34"
      },
      "execution_count": null,
      "outputs": [
        {
          "output_type": "stream",
          "name": "stdout",
          "text": [
            "Requirement already satisfied: nbconvert in /usr/local/lib/python3.10/dist-packages (6.5.4)\n",
            "Requirement already satisfied: lxml in /usr/local/lib/python3.10/dist-packages (from nbconvert) (4.9.4)\n",
            "Requirement already satisfied: beautifulsoup4 in /usr/local/lib/python3.10/dist-packages (from nbconvert) (4.12.3)\n",
            "Requirement already satisfied: bleach in /usr/local/lib/python3.10/dist-packages (from nbconvert) (6.1.0)\n",
            "Requirement already satisfied: defusedxml in /usr/local/lib/python3.10/dist-packages (from nbconvert) (0.7.1)\n",
            "Requirement already satisfied: entrypoints>=0.2.2 in /usr/local/lib/python3.10/dist-packages (from nbconvert) (0.4)\n",
            "Requirement already satisfied: jinja2>=3.0 in /usr/local/lib/python3.10/dist-packages (from nbconvert) (3.1.3)\n",
            "Requirement already satisfied: jupyter-core>=4.7 in /usr/local/lib/python3.10/dist-packages (from nbconvert) (5.7.2)\n",
            "Requirement already satisfied: jupyterlab-pygments in /usr/local/lib/python3.10/dist-packages (from nbconvert) (0.3.0)\n",
            "Requirement already satisfied: MarkupSafe>=2.0 in /usr/local/lib/python3.10/dist-packages (from nbconvert) (2.1.5)\n",
            "Requirement already satisfied: mistune<2,>=0.8.1 in /usr/local/lib/python3.10/dist-packages (from nbconvert) (0.8.4)\n",
            "Requirement already satisfied: nbclient>=0.5.0 in /usr/local/lib/python3.10/dist-packages (from nbconvert) (0.10.0)\n",
            "Requirement already satisfied: nbformat>=5.1 in /usr/local/lib/python3.10/dist-packages (from nbconvert) (5.10.4)\n",
            "Requirement already satisfied: packaging in /usr/local/lib/python3.10/dist-packages (from nbconvert) (24.0)\n",
            "Requirement already satisfied: pandocfilters>=1.4.1 in /usr/local/lib/python3.10/dist-packages (from nbconvert) (1.5.1)\n",
            "Requirement already satisfied: pygments>=2.4.1 in /usr/local/lib/python3.10/dist-packages (from nbconvert) (2.16.1)\n",
            "Requirement already satisfied: tinycss2 in /usr/local/lib/python3.10/dist-packages (from nbconvert) (1.3.0)\n",
            "Requirement already satisfied: traitlets>=5.0 in /usr/local/lib/python3.10/dist-packages (from nbconvert) (5.7.1)\n",
            "Requirement already satisfied: platformdirs>=2.5 in /usr/local/lib/python3.10/dist-packages (from jupyter-core>=4.7->nbconvert) (4.2.1)\n",
            "Requirement already satisfied: jupyter-client>=6.1.12 in /usr/local/lib/python3.10/dist-packages (from nbclient>=0.5.0->nbconvert) (6.1.12)\n",
            "Requirement already satisfied: fastjsonschema>=2.15 in /usr/local/lib/python3.10/dist-packages (from nbformat>=5.1->nbconvert) (2.19.1)\n",
            "Requirement already satisfied: jsonschema>=2.6 in /usr/local/lib/python3.10/dist-packages (from nbformat>=5.1->nbconvert) (4.19.2)\n",
            "Requirement already satisfied: soupsieve>1.2 in /usr/local/lib/python3.10/dist-packages (from beautifulsoup4->nbconvert) (2.5)\n",
            "Requirement already satisfied: six>=1.9.0 in /usr/local/lib/python3.10/dist-packages (from bleach->nbconvert) (1.16.0)\n",
            "Requirement already satisfied: webencodings in /usr/local/lib/python3.10/dist-packages (from bleach->nbconvert) (0.5.1)\n",
            "Requirement already satisfied: attrs>=22.2.0 in /usr/local/lib/python3.10/dist-packages (from jsonschema>=2.6->nbformat>=5.1->nbconvert) (23.2.0)\n",
            "Requirement already satisfied: jsonschema-specifications>=2023.03.6 in /usr/local/lib/python3.10/dist-packages (from jsonschema>=2.6->nbformat>=5.1->nbconvert) (2023.12.1)\n",
            "Requirement already satisfied: referencing>=0.28.4 in /usr/local/lib/python3.10/dist-packages (from jsonschema>=2.6->nbformat>=5.1->nbconvert) (0.35.1)\n",
            "Requirement already satisfied: rpds-py>=0.7.1 in /usr/local/lib/python3.10/dist-packages (from jsonschema>=2.6->nbformat>=5.1->nbconvert) (0.18.0)\n",
            "Requirement already satisfied: pyzmq>=13 in /usr/local/lib/python3.10/dist-packages (from jupyter-client>=6.1.12->nbclient>=0.5.0->nbconvert) (24.0.1)\n",
            "Requirement already satisfied: python-dateutil>=2.1 in /usr/local/lib/python3.10/dist-packages (from jupyter-client>=6.1.12->nbclient>=0.5.0->nbconvert) (2.8.2)\n",
            "Requirement already satisfied: tornado>=4.1 in /usr/local/lib/python3.10/dist-packages (from jupyter-client>=6.1.12->nbclient>=0.5.0->nbconvert) (6.3.3)\n"
          ]
        }
      ]
    },
    {
      "cell_type": "code",
      "source": [
        "%cd '/content/drive/My Drive/Colab Notebooks'"
      ],
      "metadata": {
        "id": "DYD8vZ9sCVjw",
        "colab": {
          "base_uri": "https://localhost:8080/"
        },
        "outputId": "3d10bc9c-2039-4d21-cf2e-df48800a6ff9"
      },
      "execution_count": null,
      "outputs": [
        {
          "output_type": "stream",
          "name": "stdout",
          "text": [
            "/content/drive/My Drive/Colab Notebooks\n"
          ]
        }
      ]
    },
    {
      "cell_type": "code",
      "source": [
        "!jupyter nbconvert --to html Final-Project.ipynb"
      ],
      "metadata": {
        "id": "e40qimGcDYPk",
        "colab": {
          "base_uri": "https://localhost:8080/"
        },
        "outputId": "af385d10-b24e-4d79-ce24-8c60000f8680"
      },
      "execution_count": null,
      "outputs": [
        {
          "output_type": "stream",
          "name": "stdout",
          "text": [
            "[NbConvertApp] Converting notebook Final-Project.ipynb to html\n",
            "[NbConvertApp] Writing 2093862 bytes to Final-Project.html\n"
          ]
        }
      ]
    }
  ]
}